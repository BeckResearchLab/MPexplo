{
 "cells": [
  {
   "cell_type": "code",
   "execution_count": 1,
   "metadata": {
    "collapsed": false
   },
   "outputs": [],
   "source": [
    "import pandas as pd\n",
    "import numpy as np\n",
    "from pandas import DataFrame\n",
    "from sklearn.preprocessing import StandardScaler\n",
    "from sklearn.metrics import r2_score\n",
    "from sklearn.linear_model import SGDRegressor\n",
    "from sklearn import linear_model\n",
    "import matplotlib.pyplot as plt"
   ]
  },
  {
   "cell_type": "code",
   "execution_count": 2,
   "metadata": {
    "collapsed": false
   },
   "outputs": [
    {
     "data": {
      "text/html": [
       "<div>\n",
       "<table border=\"1\" class=\"dataframe\">\n",
       "  <thead>\n",
       "    <tr style=\"text-align: right;\">\n",
       "      <th></th>\n",
       "      <th>test_train</th>\n",
       "    </tr>\n",
       "  </thead>\n",
       "  <tbody>\n",
       "    <tr>\n",
       "      <th>0</th>\n",
       "      <td>Train</td>\n",
       "    </tr>\n",
       "    <tr>\n",
       "      <th>1</th>\n",
       "      <td>Train</td>\n",
       "    </tr>\n",
       "    <tr>\n",
       "      <th>2</th>\n",
       "      <td>Train</td>\n",
       "    </tr>\n",
       "    <tr>\n",
       "      <th>3</th>\n",
       "      <td>Train</td>\n",
       "    </tr>\n",
       "    <tr>\n",
       "      <th>4</th>\n",
       "      <td>Train</td>\n",
       "    </tr>\n",
       "  </tbody>\n",
       "</table>\n",
       "</div>"
      ],
      "text/plain": [
       "  test_train\n",
       "0      Train\n",
       "1      Train\n",
       "2      Train\n",
       "3      Train\n",
       "4      Train"
      ]
     },
     "execution_count": 2,
     "metadata": {},
     "output_type": "execute_result"
    }
   ],
   "source": [
    "df=pd.read_csv(\"MP_Data.tsv\", sep='\\t', index_col=False)\n",
    "tt_df=df.rename(columns={'x':'test_train'})\n",
    "tt_df.head()"
   ]
  },
  {
   "cell_type": "code",
   "execution_count": 3,
   "metadata": {
    "collapsed": false
   },
   "outputs": [
    {
     "data": {
      "text/html": [
       "<div>\n",
       "<table border=\"1\" class=\"dataframe\">\n",
       "  <thead>\n",
       "    <tr style=\"text-align: right;\">\n",
       "      <th></th>\n",
       "      <th>diameter</th>\n",
       "      <th>petitjean</th>\n",
       "      <th>petitjeanSC</th>\n",
       "      <th>radius</th>\n",
       "      <th>VDistEq</th>\n",
       "      <th>VDistMa</th>\n",
       "      <th>weinerPath</th>\n",
       "      <th>weinerPol</th>\n",
       "      <th>a_aro</th>\n",
       "      <th>a_count</th>\n",
       "      <th>...</th>\n",
       "      <th>FASA_P</th>\n",
       "      <th>FCASA.</th>\n",
       "      <th>FCASA..1</th>\n",
       "      <th>VSA</th>\n",
       "      <th>dens</th>\n",
       "      <th>glob</th>\n",
       "      <th>std_dim1</th>\n",
       "      <th>std_dim2</th>\n",
       "      <th>std_dim3</th>\n",
       "      <th>vol</th>\n",
       "    </tr>\n",
       "  </thead>\n",
       "  <tbody>\n",
       "    <tr>\n",
       "      <th>0</th>\n",
       "      <td>5</td>\n",
       "      <td>0.400000</td>\n",
       "      <td>0.666667</td>\n",
       "      <td>3</td>\n",
       "      <td>2.037476</td>\n",
       "      <td>6.011166</td>\n",
       "      <td>82</td>\n",
       "      <td>9</td>\n",
       "      <td>6</td>\n",
       "      <td>15</td>\n",
       "      <td>...</td>\n",
       "      <td>0.129128</td>\n",
       "      <td>0.326050</td>\n",
       "      <td>0.224950</td>\n",
       "      <td>138.13699</td>\n",
       "      <td>0.958985</td>\n",
       "      <td>0.031032</td>\n",
       "      <td>1.853123</td>\n",
       "      <td>1.382682</td>\n",
       "      <td>0.326444</td>\n",
       "      <td>123.18750</td>\n",
       "    </tr>\n",
       "    <tr>\n",
       "      <th>1</th>\n",
       "      <td>9</td>\n",
       "      <td>0.444444</td>\n",
       "      <td>0.800000</td>\n",
       "      <td>5</td>\n",
       "      <td>2.954872</td>\n",
       "      <td>8.805204</td>\n",
       "      <td>1046</td>\n",
       "      <td>40</td>\n",
       "      <td>11</td>\n",
       "      <td>31</td>\n",
       "      <td>...</td>\n",
       "      <td>0.059026</td>\n",
       "      <td>0.847237</td>\n",
       "      <td>1.136764</td>\n",
       "      <td>296.30197</td>\n",
       "      <td>1.296254</td>\n",
       "      <td>0.258447</td>\n",
       "      <td>2.394159</td>\n",
       "      <td>1.966377</td>\n",
       "      <td>1.217135</td>\n",
       "      <td>262.82812</td>\n",
       "    </tr>\n",
       "    <tr>\n",
       "      <th>2</th>\n",
       "      <td>10</td>\n",
       "      <td>0.500000</td>\n",
       "      <td>1.000000</td>\n",
       "      <td>5</td>\n",
       "      <td>3.083532</td>\n",
       "      <td>8.211762</td>\n",
       "      <td>742</td>\n",
       "      <td>24</td>\n",
       "      <td>12</td>\n",
       "      <td>35</td>\n",
       "      <td>...</td>\n",
       "      <td>0.046707</td>\n",
       "      <td>0.817581</td>\n",
       "      <td>0.464419</td>\n",
       "      <td>296.54431</td>\n",
       "      <td>0.946322</td>\n",
       "      <td>0.162139</td>\n",
       "      <td>3.164745</td>\n",
       "      <td>1.552043</td>\n",
       "      <td>1.274330</td>\n",
       "      <td>266.62500</td>\n",
       "    </tr>\n",
       "    <tr>\n",
       "      <th>3</th>\n",
       "      <td>7</td>\n",
       "      <td>0.428571</td>\n",
       "      <td>0.750000</td>\n",
       "      <td>4</td>\n",
       "      <td>2.616827</td>\n",
       "      <td>7.313269</td>\n",
       "      <td>288</td>\n",
       "      <td>20</td>\n",
       "      <td>10</td>\n",
       "      <td>20</td>\n",
       "      <td>...</td>\n",
       "      <td>0.044688</td>\n",
       "      <td>0.417896</td>\n",
       "      <td>0.574827</td>\n",
       "      <td>187.43799</td>\n",
       "      <td>1.195242</td>\n",
       "      <td>0.018573</td>\n",
       "      <td>2.524826</td>\n",
       "      <td>1.446899</td>\n",
       "      <td>0.344087</td>\n",
       "      <td>164.95312</td>\n",
       "    </tr>\n",
       "    <tr>\n",
       "      <th>4</th>\n",
       "      <td>7</td>\n",
       "      <td>0.428571</td>\n",
       "      <td>0.750000</td>\n",
       "      <td>4</td>\n",
       "      <td>2.609669</td>\n",
       "      <td>6.833154</td>\n",
       "      <td>203</td>\n",
       "      <td>13</td>\n",
       "      <td>6</td>\n",
       "      <td>22</td>\n",
       "      <td>...</td>\n",
       "      <td>0.103925</td>\n",
       "      <td>0.595412</td>\n",
       "      <td>0.267278</td>\n",
       "      <td>193.42802</td>\n",
       "      <td>0.978233</td>\n",
       "      <td>0.088156</td>\n",
       "      <td>2.550456</td>\n",
       "      <td>1.430062</td>\n",
       "      <td>0.757260</td>\n",
       "      <td>165.79688</td>\n",
       "    </tr>\n",
       "  </tbody>\n",
       "</table>\n",
       "<p>5 rows × 202 columns</p>\n",
       "</div>"
      ],
      "text/plain": [
       "   diameter  petitjean  petitjeanSC  radius   VDistEq   VDistMa  weinerPath  \\\n",
       "0         5   0.400000     0.666667       3  2.037476  6.011166          82   \n",
       "1         9   0.444444     0.800000       5  2.954872  8.805204        1046   \n",
       "2        10   0.500000     1.000000       5  3.083532  8.211762         742   \n",
       "3         7   0.428571     0.750000       4  2.616827  7.313269         288   \n",
       "4         7   0.428571     0.750000       4  2.609669  6.833154         203   \n",
       "\n",
       "   weinerPol  a_aro  a_count    ...        FASA_P    FCASA.  FCASA..1  \\\n",
       "0          9      6       15    ...      0.129128  0.326050  0.224950   \n",
       "1         40     11       31    ...      0.059026  0.847237  1.136764   \n",
       "2         24     12       35    ...      0.046707  0.817581  0.464419   \n",
       "3         20     10       20    ...      0.044688  0.417896  0.574827   \n",
       "4         13      6       22    ...      0.103925  0.595412  0.267278   \n",
       "\n",
       "         VSA      dens      glob  std_dim1  std_dim2  std_dim3        vol  \n",
       "0  138.13699  0.958985  0.031032  1.853123  1.382682  0.326444  123.18750  \n",
       "1  296.30197  1.296254  0.258447  2.394159  1.966377  1.217135  262.82812  \n",
       "2  296.54431  0.946322  0.162139  3.164745  1.552043  1.274330  266.62500  \n",
       "3  187.43799  1.195242  0.018573  2.524826  1.446899  0.344087  164.95312  \n",
       "4  193.42802  0.978233  0.088156  2.550456  1.430062  0.757260  165.79688  \n",
       "\n",
       "[5 rows x 202 columns]"
      ]
     },
     "execution_count": 3,
     "metadata": {},
     "output_type": "execute_result"
    }
   ],
   "source": [
    "x_df=pd.read_csv(\"MP_Descriptors.tsv\", sep='\\t', index_col=False)\n",
    "x_df.head()"
   ]
  },
  {
   "cell_type": "code",
   "execution_count": 4,
   "metadata": {
    "collapsed": false
   },
   "outputs": [
    {
     "data": {
      "text/html": [
       "<div>\n",
       "<table border=\"1\" class=\"dataframe\">\n",
       "  <thead>\n",
       "    <tr style=\"text-align: right;\">\n",
       "      <th></th>\n",
       "      <th>outcome</th>\n",
       "    </tr>\n",
       "  </thead>\n",
       "  <tbody>\n",
       "    <tr>\n",
       "      <th>0</th>\n",
       "      <td>14.0</td>\n",
       "    </tr>\n",
       "    <tr>\n",
       "      <th>1</th>\n",
       "      <td>20.5</td>\n",
       "    </tr>\n",
       "    <tr>\n",
       "      <th>2</th>\n",
       "      <td>27.5</td>\n",
       "    </tr>\n",
       "    <tr>\n",
       "      <th>3</th>\n",
       "      <td>30.5</td>\n",
       "    </tr>\n",
       "    <tr>\n",
       "      <th>4</th>\n",
       "      <td>31.0</td>\n",
       "    </tr>\n",
       "  </tbody>\n",
       "</table>\n",
       "</div>"
      ],
      "text/plain": [
       "   outcome\n",
       "0     14.0\n",
       "1     20.5\n",
       "2     27.5\n",
       "3     30.5\n",
       "4     31.0"
      ]
     },
     "execution_count": 4,
     "metadata": {},
     "output_type": "execute_result"
    }
   ],
   "source": [
    "df=pd.read_csv(\"MP_Outcome.tsv\", sep='\\t')\n",
    "y_df=df.rename(columns={'x':'outcome'})\n",
    "y_df.head()"
   ]
  },
  {
   "cell_type": "code",
   "execution_count": 5,
   "metadata": {
    "collapsed": false
   },
   "outputs": [],
   "source": [
    "x_train_df = x_df[tt_df['test_train'] == 'Train']\n",
    "x_test_df = x_df[tt_df['test_train'] == 'Test']\n",
    "y_train_df = y_df[tt_df['test_train'] == 'Train']\n",
    "y_test_df = y_df[tt_df['test_train'] == 'Test']"
   ]
  },
  {
   "cell_type": "code",
   "execution_count": 6,
   "metadata": {
    "collapsed": false
   },
   "outputs": [
    {
     "data": {
      "text/plain": [
       "((4126, 202), (275, 202))"
      ]
     },
     "execution_count": 6,
     "metadata": {},
     "output_type": "execute_result"
    }
   ],
   "source": [
    "#def generate_dataset(X_train,X_test, n_features, noise=0.1):\n",
    "x_scaler = StandardScaler()\n",
    "x_train = x_scaler.fit_transform(x_train_df)\n",
    "x_test = x_scaler.transform(x_test_df)\n",
    "x_train.shape, x_test.shape"
   ]
  },
  {
   "cell_type": "code",
   "execution_count": 7,
   "metadata": {
    "collapsed": false
   },
   "outputs": [
    {
     "data": {
      "text/plain": [
       "((4126, 1), (275, 1))"
      ]
     },
     "execution_count": 7,
     "metadata": {},
     "output_type": "execute_result"
    }
   ],
   "source": [
    "y_scaler= StandardScaler()\n",
    "y_train = y_scaler.fit_transform(y_train_df)\n",
    "y_test = y_scaler.transform(y_test_df)\n",
    "y_train.shape, y_test.shape"
   ]
  },
  {
   "cell_type": "code",
   "execution_count": 8,
   "metadata": {
    "collapsed": false
   },
   "outputs": [
    {
     "name": "stdout",
     "output_type": "stream",
     "text": [
      "Mean squared error: 0.72\n",
      "Variance score: 0.01\n",
      "-0.00589535723226\n"
     ]
    }
   ],
   "source": [
    "from sklearn import datasets, linear_model\n",
    "\n",
    "\n",
    "\n",
    "# Create linear regression object\n",
    "regr = linear_model.LinearRegression()\n",
    "\n",
    "# Train the model using the training sets\n",
    "regr.fit(x_train, y_train)\n",
    "\n",
    "# mske predictions from model\n",
    "y_predict = regr.predict(x_test)\n",
    "# The coefficients\n",
    "#print('Coefficients: \\n', regr.coef_)\n",
    "# The mean squared error\n",
    "print(\"Mean squared error: %.2f\"\n",
    "      % np.mean((y_predict - y_test) ** 2))\n",
    "# Explained variance score: 1 is perfect prediction\n",
    "print('Variance score: %.2f' % regr.score(x_test, y_test))\n",
    "R_linear=r2_score(y_predict, y_test)\n",
    "print(R_linear)\n",
    "#r_2=regr.score(y_predict, y_test)"
   ]
  },
  {
   "cell_type": "code",
   "execution_count": 9,
   "metadata": {
    "collapsed": false
   },
   "outputs": [],
   "source": [
    "#Lasso(alpha=0.1, copy_X=True, fit_intercept=True, max_iter=1000,\n",
    "  # normalize=False, positive=False, precompute=False, random_state=None,\n",
    " #  selection='cyclic', tol=0.0001, warm_start=False)\n",
    "#reg.predict([[1, 1]])"
   ]
  },
  {
   "cell_type": "code",
   "execution_count": 10,
   "metadata": {
    "collapsed": false
   },
   "outputs": [
    {
     "name": "stdout",
     "output_type": "stream",
     "text": [
      "Mean squared error: 0.85\n",
      "Variance score: 0.01\n",
      "-5.7607431508\n"
     ]
    }
   ],
   "source": [
    "from sklearn import datasets, linear_model\n",
    "\n",
    "# Create linear regression object\n",
    "reg = linear_model.Lasso(alpha=0.1)\n",
    "\n",
    "# Train the model using the training sets\n",
    "reg.fit(x_train, y_train)\n",
    "\n",
    "# mske predictions from model\n",
    "y_predict = reg.predict(x_test)\n",
    "# The coefficients\n",
    "#print('Coefficients: \\n', regr.coef_)\n",
    "# The mean squared error\n",
    "print(\"Mean squared error: %.2f\"\n",
    "      % np.mean((y_predict - y_test) ** 2))\n",
    "# Explained variance score: 1 is perfect prediction\n",
    "print('Variance score: %.2f' % regr.score(x_test, y_test))\n",
    "R_Lasso=r2_score(y_predict, y_test)\n",
    "print(R_Lasso)"
   ]
  },
  {
   "cell_type": "code",
   "execution_count": 11,
   "metadata": {
    "collapsed": false
   },
   "outputs": [
    {
     "name": "stderr",
     "output_type": "stream",
     "text": [
      "C:\\Users\\saiva\\Miniconda3\\lib\\site-packages\\sklearn\\linear_model\\coordinate_descent.py:1082: DataConversionWarning: A column-vector y was passed when a 1d array was expected. Please change the shape of y to (n_samples, ), for example using ravel().\n",
      "  y = column_or_1d(y, warn=True)\n",
      "C:\\Users\\saiva\\Miniconda3\\lib\\site-packages\\sklearn\\linear_model\\coordinate_descent.py:484: ConvergenceWarning: Objective did not converge. You might want to increase the number of iterations. Fitting data with very small alpha may cause precision problems.\n",
      "  ConvergenceWarning)\n"
     ]
    },
    {
     "name": "stdout",
     "output_type": "stream",
     "text": [
      "0.0991865285005\n"
     ]
    },
    {
     "name": "stderr",
     "output_type": "stream",
     "text": [
      "C:\\Users\\saiva\\Miniconda3\\lib\\site-packages\\sklearn\\linear_model\\coordinate_descent.py:484: ConvergenceWarning: Objective did not converge. You might want to increase the number of iterations. Fitting data with very small alpha may cause precision problems.\n",
      "  ConvergenceWarning)\n"
     ]
    }
   ],
   "source": [
    "from sklearn.linear_model import LassoCV, LassoLarsCV, LassoLarsIC\n",
    "\n",
    "model = LassoCV(cv=20).fit(x_train, y_train)\n",
    "y_predict = model.predict(x_test)\n",
    "\n",
    "Lasso_CV=r2_score(y_predict, y_test)\n",
    "print(Lasso_CV)"
   ]
  },
  {
   "cell_type": "code",
   "execution_count": 12,
   "metadata": {
    "collapsed": false
   },
   "outputs": [
    {
     "name": "stderr",
     "output_type": "stream",
     "text": [
      "C:\\Users\\saiva\\Miniconda3\\lib\\site-packages\\sklearn\\utils\\validation.py:526: DataConversionWarning: A column-vector y was passed when a 1d array was expected. Please change the shape of y to (n_samples, ), for example using ravel().\n",
      "  y = column_or_1d(y, warn=True)\n",
      "C:\\Users\\saiva\\Miniconda3\\lib\\site-packages\\sklearn\\linear_model\\least_angle.py:309: ConvergenceWarning: Regressors in active set degenerate. Dropping a regressor, after 22 iterations, i.e. alpha=8.021e-04, with an active set of 22 regressors, and the smallest cholesky pivot element being 1.490e-08\n",
      "  ConvergenceWarning)\n",
      "C:\\Users\\saiva\\Miniconda3\\lib\\site-packages\\sklearn\\linear_model\\least_angle.py:381: RuntimeWarning: overflow encountered in true_divide\n",
      "  g2 = arrayfuncs.min_pos((C + Cov) / (AA + corr_eq_dir + tiny))\n",
      "C:\\Users\\saiva\\Miniconda3\\lib\\site-packages\\sklearn\\linear_model\\least_angle.py:309: ConvergenceWarning: Regressors in active set degenerate. Dropping a regressor, after 30 iterations, i.e. alpha=6.080e-04, with an active set of 30 regressors, and the smallest cholesky pivot element being 2.220e-16\n",
      "  ConvergenceWarning)\n",
      "C:\\Users\\saiva\\Miniconda3\\lib\\site-packages\\sklearn\\linear_model\\least_angle.py:309: ConvergenceWarning: Regressors in active set degenerate. Dropping a regressor, after 46 iterations, i.e. alpha=4.226e-04, with an active set of 38 regressors, and the smallest cholesky pivot element being 2.220e-16\n",
      "  ConvergenceWarning)\n",
      "C:\\Users\\saiva\\Miniconda3\\lib\\site-packages\\sklearn\\linear_model\\least_angle.py:309: ConvergenceWarning: Regressors in active set degenerate. Dropping a regressor, after 56 iterations, i.e. alpha=2.976e-04, with an active set of 44 regressors, and the smallest cholesky pivot element being 2.107e-08\n",
      "  ConvergenceWarning)\n",
      "C:\\Users\\saiva\\Miniconda3\\lib\\site-packages\\sklearn\\linear_model\\least_angle.py:334: ConvergenceWarning: Early stopping the lars path, as the residues are small and the current value of alpha is no longer well controlled. 213 iterations, alpha=1.439e-04, previous alpha=1.429e-04, with an active set of 92 regressors.\n",
      "  ConvergenceWarning)\n",
      "C:\\Users\\saiva\\Miniconda3\\lib\\site-packages\\sklearn\\linear_model\\least_angle.py:309: ConvergenceWarning: Regressors in active set degenerate. Dropping a regressor, after 19 iterations, i.e. alpha=1.233e-03, with an active set of 15 regressors, and the smallest cholesky pivot element being 1.054e-08\n",
      "  ConvergenceWarning)\n",
      "C:\\Users\\saiva\\Miniconda3\\lib\\site-packages\\sklearn\\linear_model\\least_angle.py:309: ConvergenceWarning: Regressors in active set degenerate. Dropping a regressor, after 31 iterations, i.e. alpha=8.064e-04, with an active set of 27 regressors, and the smallest cholesky pivot element being 2.220e-16\n",
      "  ConvergenceWarning)\n",
      "C:\\Users\\saiva\\Miniconda3\\lib\\site-packages\\sklearn\\linear_model\\least_angle.py:309: ConvergenceWarning: Regressors in active set degenerate. Dropping a regressor, after 39 iterations, i.e. alpha=6.502e-04, with an active set of 31 regressors, and the smallest cholesky pivot element being 2.220e-16\n",
      "  ConvergenceWarning)\n",
      "C:\\Users\\saiva\\Miniconda3\\lib\\site-packages\\sklearn\\linear_model\\least_angle.py:309: ConvergenceWarning: Regressors in active set degenerate. Dropping a regressor, after 46 iterations, i.e. alpha=5.339e-04, with an active set of 36 regressors, and the smallest cholesky pivot element being 1.825e-08\n",
      "  ConvergenceWarning)\n",
      "C:\\Users\\saiva\\Miniconda3\\lib\\site-packages\\sklearn\\linear_model\\least_angle.py:334: ConvergenceWarning: Early stopping the lars path, as the residues are small and the current value of alpha is no longer well controlled. 47 iterations, alpha=5.339e-04, previous alpha=5.303e-04, with an active set of 36 regressors.\n",
      "  ConvergenceWarning)\n",
      "C:\\Users\\saiva\\Miniconda3\\lib\\site-packages\\sklearn\\linear_model\\least_angle.py:309: ConvergenceWarning: Regressors in active set degenerate. Dropping a regressor, after 24 iterations, i.e. alpha=1.062e-03, with an active set of 20 regressors, and the smallest cholesky pivot element being 2.356e-08\n",
      "  ConvergenceWarning)\n",
      "C:\\Users\\saiva\\Miniconda3\\lib\\site-packages\\sklearn\\linear_model\\least_angle.py:309: ConvergenceWarning: Regressors in active set degenerate. Dropping a regressor, after 39 iterations, i.e. alpha=5.332e-04, with an active set of 35 regressors, and the smallest cholesky pivot element being 1.825e-08\n",
      "  ConvergenceWarning)\n",
      "C:\\Users\\saiva\\Miniconda3\\lib\\site-packages\\sklearn\\linear_model\\least_angle.py:334: ConvergenceWarning: Early stopping the lars path, as the residues are small and the current value of alpha is no longer well controlled. 207 iterations, alpha=3.246e-04, previous alpha=7.451e-05, with an active set of 90 regressors.\n",
      "  ConvergenceWarning)\n",
      "C:\\Users\\saiva\\Miniconda3\\lib\\site-packages\\sklearn\\linear_model\\least_angle.py:309: ConvergenceWarning: Regressors in active set degenerate. Dropping a regressor, after 17 iterations, i.e. alpha=1.496e-03, with an active set of 13 regressors, and the smallest cholesky pivot element being 1.490e-08\n",
      "  ConvergenceWarning)\n",
      "C:\\Users\\saiva\\Miniconda3\\lib\\site-packages\\sklearn\\linear_model\\least_angle.py:309: ConvergenceWarning: Regressors in active set degenerate. Dropping a regressor, after 25 iterations, i.e. alpha=1.126e-03, with an active set of 21 regressors, and the smallest cholesky pivot element being 2.220e-16\n",
      "  ConvergenceWarning)\n",
      "C:\\Users\\saiva\\Miniconda3\\lib\\site-packages\\sklearn\\linear_model\\least_angle.py:309: ConvergenceWarning: Regressors in active set degenerate. Dropping a regressor, after 29 iterations, i.e. alpha=9.258e-04, with an active set of 25 regressors, and the smallest cholesky pivot element being 1.490e-08\n",
      "  ConvergenceWarning)\n",
      "C:\\Users\\saiva\\Miniconda3\\lib\\site-packages\\sklearn\\linear_model\\least_angle.py:309: ConvergenceWarning: Regressors in active set degenerate. Dropping a regressor, after 40 iterations, i.e. alpha=5.597e-04, with an active set of 34 regressors, and the smallest cholesky pivot element being 2.220e-16\n",
      "  ConvergenceWarning)\n",
      "C:\\Users\\saiva\\Miniconda3\\lib\\site-packages\\sklearn\\linear_model\\least_angle.py:309: ConvergenceWarning: Regressors in active set degenerate. Dropping a regressor, after 56 iterations, i.e. alpha=4.048e-04, with an active set of 40 regressors, and the smallest cholesky pivot element being 1.490e-08\n",
      "  ConvergenceWarning)\n",
      "C:\\Users\\saiva\\Miniconda3\\lib\\site-packages\\sklearn\\linear_model\\least_angle.py:309: ConvergenceWarning: Regressors in active set degenerate. Dropping a regressor, after 127 iterations, i.e. alpha=1.971e-04, with an active set of 71 regressors, and the smallest cholesky pivot element being 1.490e-08\n",
      "  ConvergenceWarning)\n",
      "C:\\Users\\saiva\\Miniconda3\\lib\\site-packages\\sklearn\\linear_model\\least_angle.py:334: ConvergenceWarning: Early stopping the lars path, as the residues are small and the current value of alpha is no longer well controlled. 210 iterations, alpha=3.776e-04, previous alpha=7.260e-05, with an active set of 107 regressors.\n",
      "  ConvergenceWarning)\n",
      "C:\\Users\\saiva\\Miniconda3\\lib\\site-packages\\sklearn\\linear_model\\least_angle.py:309: ConvergenceWarning: Regressors in active set degenerate. Dropping a regressor, after 24 iterations, i.e. alpha=1.134e-03, with an active set of 20 regressors, and the smallest cholesky pivot element being 1.490e-08\n",
      "  ConvergenceWarning)\n",
      "C:\\Users\\saiva\\Miniconda3\\lib\\site-packages\\sklearn\\linear_model\\least_angle.py:309: ConvergenceWarning: Regressors in active set degenerate. Dropping a regressor, after 41 iterations, i.e. alpha=5.893e-04, with an active set of 29 regressors, and the smallest cholesky pivot element being 1.490e-08\n",
      "  ConvergenceWarning)\n",
      "C:\\Users\\saiva\\Miniconda3\\lib\\site-packages\\sklearn\\linear_model\\least_angle.py:309: ConvergenceWarning: Regressors in active set degenerate. Dropping a regressor, after 43 iterations, i.e. alpha=5.888e-04, with an active set of 29 regressors, and the smallest cholesky pivot element being 1.490e-08\n",
      "  ConvergenceWarning)\n",
      "C:\\Users\\saiva\\Miniconda3\\lib\\site-packages\\sklearn\\linear_model\\least_angle.py:309: ConvergenceWarning: Regressors in active set degenerate. Dropping a regressor, after 62 iterations, i.e. alpha=2.944e-04, with an active set of 46 regressors, and the smallest cholesky pivot element being 2.220e-16\n",
      "  ConvergenceWarning)\n",
      "C:\\Users\\saiva\\Miniconda3\\lib\\site-packages\\sklearn\\linear_model\\least_angle.py:334: ConvergenceWarning: Early stopping the lars path, as the residues are small and the current value of alpha is no longer well controlled. 64 iterations, alpha=2.944e-04, previous alpha=2.944e-04, with an active set of 47 regressors.\n",
      "  ConvergenceWarning)\n",
      "C:\\Users\\saiva\\Miniconda3\\lib\\site-packages\\sklearn\\linear_model\\least_angle.py:309: ConvergenceWarning: Regressors in active set degenerate. Dropping a regressor, after 22 iterations, i.e. alpha=1.266e-03, with an active set of 18 regressors, and the smallest cholesky pivot element being 2.220e-16\n",
      "  ConvergenceWarning)\n",
      "C:\\Users\\saiva\\Miniconda3\\lib\\site-packages\\sklearn\\linear_model\\least_angle.py:309: ConvergenceWarning: Regressors in active set degenerate. Dropping a regressor, after 84 iterations, i.e. alpha=2.276e-04, with an active set of 56 regressors, and the smallest cholesky pivot element being 2.220e-16\n",
      "  ConvergenceWarning)\n",
      "C:\\Users\\saiva\\Miniconda3\\lib\\site-packages\\sklearn\\linear_model\\least_angle.py:309: ConvergenceWarning: Regressors in active set degenerate. Dropping a regressor, after 87 iterations, i.e. alpha=2.182e-04, with an active set of 57 regressors, and the smallest cholesky pivot element being 1.825e-08\n",
      "  ConvergenceWarning)\n",
      "C:\\Users\\saiva\\Miniconda3\\lib\\site-packages\\sklearn\\linear_model\\least_angle.py:309: ConvergenceWarning: Regressors in active set degenerate. Dropping a regressor, after 151 iterations, i.e. alpha=9.541e-05, with an active set of 87 regressors, and the smallest cholesky pivot element being 2.220e-16\n",
      "  ConvergenceWarning)\n",
      "C:\\Users\\saiva\\Miniconda3\\lib\\site-packages\\sklearn\\linear_model\\least_angle.py:309: ConvergenceWarning: Regressors in active set degenerate. Dropping a regressor, after 159 iterations, i.e. alpha=9.059e-05, with an active set of 89 regressors, and the smallest cholesky pivot element being 1.490e-08\n",
      "  ConvergenceWarning)\n",
      "C:\\Users\\saiva\\Miniconda3\\lib\\site-packages\\sklearn\\linear_model\\least_angle.py:309: ConvergenceWarning: Regressors in active set degenerate. Dropping a regressor, after 160 iterations, i.e. alpha=8.841e-05, with an active set of 90 regressors, and the smallest cholesky pivot element being 1.490e-08\n",
      "  ConvergenceWarning)\n",
      "C:\\Users\\saiva\\Miniconda3\\lib\\site-packages\\sklearn\\linear_model\\least_angle.py:309: ConvergenceWarning: Regressors in active set degenerate. Dropping a regressor, after 175 iterations, i.e. alpha=6.839e-05, with an active set of 105 regressors, and the smallest cholesky pivot element being 1.490e-08\n",
      "  ConvergenceWarning)\n",
      "C:\\Users\\saiva\\Miniconda3\\lib\\site-packages\\sklearn\\linear_model\\least_angle.py:334: ConvergenceWarning: Early stopping the lars path, as the residues are small and the current value of alpha is no longer well controlled. 176 iterations, alpha=7.049e-05, previous alpha=6.676e-05, with an active set of 105 regressors.\n",
      "  ConvergenceWarning)\n",
      "C:\\Users\\saiva\\Miniconda3\\lib\\site-packages\\sklearn\\linear_model\\least_angle.py:309: ConvergenceWarning: Regressors in active set degenerate. Dropping a regressor, after 21 iterations, i.e. alpha=1.350e-03, with an active set of 17 regressors, and the smallest cholesky pivot element being 2.220e-16\n",
      "  ConvergenceWarning)\n",
      "C:\\Users\\saiva\\Miniconda3\\lib\\site-packages\\sklearn\\linear_model\\least_angle.py:309: ConvergenceWarning: Regressors in active set degenerate. Dropping a regressor, after 24 iterations, i.e. alpha=1.173e-03, with an active set of 20 regressors, and the smallest cholesky pivot element being 2.220e-16\n",
      "  ConvergenceWarning)\n",
      "C:\\Users\\saiva\\Miniconda3\\lib\\site-packages\\sklearn\\linear_model\\least_angle.py:309: ConvergenceWarning: Regressors in active set degenerate. Dropping a regressor, after 46 iterations, i.e. alpha=5.975e-04, with an active set of 32 regressors, and the smallest cholesky pivot element being 2.220e-16\n",
      "  ConvergenceWarning)\n",
      "C:\\Users\\saiva\\Miniconda3\\lib\\site-packages\\sklearn\\linear_model\\least_angle.py:334: ConvergenceWarning: Early stopping the lars path, as the residues are small and the current value of alpha is no longer well controlled. 208 iterations, alpha=2.468e-04, previous alpha=7.647e-05, with an active set of 85 regressors.\n",
      "  ConvergenceWarning)\n",
      "C:\\Users\\saiva\\Miniconda3\\lib\\site-packages\\sklearn\\linear_model\\least_angle.py:309: ConvergenceWarning: Regressors in active set degenerate. Dropping a regressor, after 25 iterations, i.e. alpha=1.150e-03, with an active set of 21 regressors, and the smallest cholesky pivot element being 2.220e-16\n",
      "  ConvergenceWarning)\n",
      "C:\\Users\\saiva\\Miniconda3\\lib\\site-packages\\sklearn\\linear_model\\least_angle.py:309: ConvergenceWarning: Regressors in active set degenerate. Dropping a regressor, after 27 iterations, i.e. alpha=9.443e-04, with an active set of 23 regressors, and the smallest cholesky pivot element being 2.220e-16\n",
      "  ConvergenceWarning)\n",
      "C:\\Users\\saiva\\Miniconda3\\lib\\site-packages\\sklearn\\linear_model\\least_angle.py:309: ConvergenceWarning: Regressors in active set degenerate. Dropping a regressor, after 37 iterations, i.e. alpha=6.272e-04, with an active set of 29 regressors, and the smallest cholesky pivot element being 2.220e-16\n",
      "  ConvergenceWarning)\n",
      "C:\\Users\\saiva\\Miniconda3\\lib\\site-packages\\sklearn\\linear_model\\least_angle.py:309: ConvergenceWarning: Regressors in active set degenerate. Dropping a regressor, after 42 iterations, i.e. alpha=5.805e-04, with an active set of 32 regressors, and the smallest cholesky pivot element being 2.220e-16\n",
      "  ConvergenceWarning)\n",
      "C:\\Users\\saiva\\Miniconda3\\lib\\site-packages\\sklearn\\linear_model\\least_angle.py:334: ConvergenceWarning: Early stopping the lars path, as the residues are small and the current value of alpha is no longer well controlled. 43 iterations, alpha=5.805e-04, previous alpha=5.801e-04, with an active set of 32 regressors.\n",
      "  ConvergenceWarning)\n",
      "C:\\Users\\saiva\\Miniconda3\\lib\\site-packages\\sklearn\\linear_model\\least_angle.py:309: ConvergenceWarning: Regressors in active set degenerate. Dropping a regressor, after 24 iterations, i.e. alpha=1.141e-03, with an active set of 20 regressors, and the smallest cholesky pivot element being 1.825e-08\n",
      "  ConvergenceWarning)\n",
      "C:\\Users\\saiva\\Miniconda3\\lib\\site-packages\\sklearn\\linear_model\\least_angle.py:309: ConvergenceWarning: Regressors in active set degenerate. Dropping a regressor, after 41 iterations, i.e. alpha=5.905e-04, with an active set of 33 regressors, and the smallest cholesky pivot element being 2.220e-16\n",
      "  ConvergenceWarning)\n",
      "C:\\Users\\saiva\\Miniconda3\\lib\\site-packages\\sklearn\\linear_model\\least_angle.py:309: ConvergenceWarning: Regressors in active set degenerate. Dropping a regressor, after 42 iterations, i.e. alpha=5.458e-04, with an active set of 34 regressors, and the smallest cholesky pivot element being 2.220e-16\n",
      "  ConvergenceWarning)\n",
      "C:\\Users\\saiva\\Miniconda3\\lib\\site-packages\\sklearn\\linear_model\\least_angle.py:309: ConvergenceWarning: Regressors in active set degenerate. Dropping a regressor, after 49 iterations, i.e. alpha=4.335e-04, with an active set of 41 regressors, and the smallest cholesky pivot element being 2.220e-16\n",
      "  ConvergenceWarning)\n",
      "C:\\Users\\saiva\\Miniconda3\\lib\\site-packages\\sklearn\\linear_model\\least_angle.py:309: ConvergenceWarning: Regressors in active set degenerate. Dropping a regressor, after 63 iterations, i.e. alpha=2.629e-04, with an active set of 49 regressors, and the smallest cholesky pivot element being 2.220e-16\n",
      "  ConvergenceWarning)\n",
      "C:\\Users\\saiva\\Miniconda3\\lib\\site-packages\\sklearn\\linear_model\\least_angle.py:309: ConvergenceWarning: Regressors in active set degenerate. Dropping a regressor, after 77 iterations, i.e. alpha=1.655e-04, with an active set of 63 regressors, and the smallest cholesky pivot element being 2.220e-16\n",
      "  ConvergenceWarning)\n",
      "C:\\Users\\saiva\\Miniconda3\\lib\\site-packages\\sklearn\\linear_model\\least_angle.py:334: ConvergenceWarning: Early stopping the lars path, as the residues are small and the current value of alpha is no longer well controlled. 136 iterations, alpha=5.904e-05, previous alpha=5.874e-05, with an active set of 89 regressors.\n",
      "  ConvergenceWarning)\n",
      "C:\\Users\\saiva\\Miniconda3\\lib\\site-packages\\sklearn\\linear_model\\least_angle.py:309: ConvergenceWarning: Regressors in active set degenerate. Dropping a regressor, after 26 iterations, i.e. alpha=1.160e-03, with an active set of 22 regressors, and the smallest cholesky pivot element being 2.220e-16\n",
      "  ConvergenceWarning)\n",
      "C:\\Users\\saiva\\Miniconda3\\lib\\site-packages\\sklearn\\linear_model\\least_angle.py:309: ConvergenceWarning: Regressors in active set degenerate. Dropping a regressor, after 28 iterations, i.e. alpha=9.543e-04, with an active set of 24 regressors, and the smallest cholesky pivot element being 1.054e-08\n",
      "  ConvergenceWarning)\n",
      "C:\\Users\\saiva\\Miniconda3\\lib\\site-packages\\sklearn\\linear_model\\least_angle.py:309: ConvergenceWarning: Regressors in active set degenerate. Dropping a regressor, after 38 iterations, i.e. alpha=7.113e-04, with an active set of 28 regressors, and the smallest cholesky pivot element being 1.490e-08\n",
      "  ConvergenceWarning)\n",
      "C:\\Users\\saiva\\Miniconda3\\lib\\site-packages\\sklearn\\linear_model\\least_angle.py:334: ConvergenceWarning: Early stopping the lars path, as the residues are small and the current value of alpha is no longer well controlled. 67 iterations, alpha=3.885e-04, previous alpha=3.882e-04, with an active set of 46 regressors.\n",
      "  ConvergenceWarning)\n",
      "C:\\Users\\saiva\\Miniconda3\\lib\\site-packages\\sklearn\\linear_model\\least_angle.py:309: ConvergenceWarning: Regressors in active set degenerate. Dropping a regressor, after 24 iterations, i.e. alpha=1.238e-03, with an active set of 20 regressors, and the smallest cholesky pivot element being 2.220e-16\n",
      "  ConvergenceWarning)\n",
      "C:\\Users\\saiva\\Miniconda3\\lib\\site-packages\\sklearn\\linear_model\\least_angle.py:309: ConvergenceWarning: Regressors in active set degenerate. Dropping a regressor, after 37 iterations, i.e. alpha=6.343e-04, with an active set of 29 regressors, and the smallest cholesky pivot element being 2.220e-16\n",
      "  ConvergenceWarning)\n",
      "C:\\Users\\saiva\\Miniconda3\\lib\\site-packages\\sklearn\\linear_model\\least_angle.py:309: ConvergenceWarning: Regressors in active set degenerate. Dropping a regressor, after 39 iterations, i.e. alpha=6.339e-04, with an active set of 29 regressors, and the smallest cholesky pivot element being 2.220e-16\n",
      "  ConvergenceWarning)\n",
      "C:\\Users\\saiva\\Miniconda3\\lib\\site-packages\\sklearn\\linear_model\\least_angle.py:309: ConvergenceWarning: Regressors in active set degenerate. Dropping a regressor, after 61 iterations, i.e. alpha=3.161e-04, with an active set of 45 regressors, and the smallest cholesky pivot element being 2.220e-16\n",
      "  ConvergenceWarning)\n",
      "C:\\Users\\saiva\\Miniconda3\\lib\\site-packages\\sklearn\\linear_model\\least_angle.py:334: ConvergenceWarning: Early stopping the lars path, as the residues are small and the current value of alpha is no longer well controlled. 62 iterations, alpha=3.177e-04, previous alpha=3.161e-04, with an active set of 45 regressors.\n",
      "  ConvergenceWarning)\n",
      "C:\\Users\\saiva\\Miniconda3\\lib\\site-packages\\sklearn\\linear_model\\least_angle.py:309: ConvergenceWarning: Regressors in active set degenerate. Dropping a regressor, after 24 iterations, i.e. alpha=1.164e-03, with an active set of 20 regressors, and the smallest cholesky pivot element being 2.220e-16\n",
      "  ConvergenceWarning)\n",
      "C:\\Users\\saiva\\Miniconda3\\lib\\site-packages\\sklearn\\linear_model\\least_angle.py:309: ConvergenceWarning: Regressors in active set degenerate. Dropping a regressor, after 37 iterations, i.e. alpha=5.894e-04, with an active set of 29 regressors, and the smallest cholesky pivot element being 1.490e-08\n",
      "  ConvergenceWarning)\n",
      "C:\\Users\\saiva\\Miniconda3\\lib\\site-packages\\sklearn\\linear_model\\least_angle.py:309: ConvergenceWarning: Regressors in active set degenerate. Dropping a regressor, after 39 iterations, i.e. alpha=5.871e-04, with an active set of 29 regressors, and the smallest cholesky pivot element being 2.107e-08\n",
      "  ConvergenceWarning)\n",
      "C:\\Users\\saiva\\Miniconda3\\lib\\site-packages\\sklearn\\linear_model\\least_angle.py:309: ConvergenceWarning: Regressors in active set degenerate. Dropping a regressor, after 59 iterations, i.e. alpha=2.933e-04, with an active set of 47 regressors, and the smallest cholesky pivot element being 2.107e-08\n",
      "  ConvergenceWarning)\n",
      "C:\\Users\\saiva\\Miniconda3\\lib\\site-packages\\sklearn\\linear_model\\least_angle.py:334: ConvergenceWarning: Early stopping the lars path, as the residues are small and the current value of alpha is no longer well controlled. 64 iterations, alpha=2.938e-04, previous alpha=2.933e-04, with an active set of 47 regressors.\n",
      "  ConvergenceWarning)\n",
      "C:\\Users\\saiva\\Miniconda3\\lib\\site-packages\\sklearn\\linear_model\\least_angle.py:309: ConvergenceWarning: Regressors in active set degenerate. Dropping a regressor, after 24 iterations, i.e. alpha=1.157e-03, with an active set of 20 regressors, and the smallest cholesky pivot element being 1.490e-08\n",
      "  ConvergenceWarning)\n",
      "C:\\Users\\saiva\\Miniconda3\\lib\\site-packages\\sklearn\\linear_model\\least_angle.py:309: ConvergenceWarning: Regressors in active set degenerate. Dropping a regressor, after 38 iterations, i.e. alpha=5.893e-04, with an active set of 32 regressors, and the smallest cholesky pivot element being 1.490e-08\n",
      "  ConvergenceWarning)\n",
      "C:\\Users\\saiva\\Miniconda3\\lib\\site-packages\\sklearn\\linear_model\\least_angle.py:334: ConvergenceWarning: Early stopping the lars path, as the residues are small and the current value of alpha is no longer well controlled. 213 iterations, alpha=2.234e-04, previous alpha=7.596e-05, with an active set of 84 regressors.\n",
      "  ConvergenceWarning)\n",
      "C:\\Users\\saiva\\Miniconda3\\lib\\site-packages\\sklearn\\linear_model\\least_angle.py:309: ConvergenceWarning: Regressors in active set degenerate. Dropping a regressor, after 27 iterations, i.e. alpha=1.002e-03, with an active set of 23 regressors, and the smallest cholesky pivot element being 1.490e-08\n",
      "  ConvergenceWarning)\n",
      "C:\\Users\\saiva\\Miniconda3\\lib\\site-packages\\sklearn\\linear_model\\least_angle.py:309: ConvergenceWarning: Regressors in active set degenerate. Dropping a regressor, after 35 iterations, i.e. alpha=6.571e-04, with an active set of 31 regressors, and the smallest cholesky pivot element being 2.220e-16\n",
      "  ConvergenceWarning)\n",
      "C:\\Users\\saiva\\Miniconda3\\lib\\site-packages\\sklearn\\linear_model\\least_angle.py:309: ConvergenceWarning: Regressors in active set degenerate. Dropping a regressor, after 41 iterations, i.e. alpha=5.430e-04, with an active set of 35 regressors, and the smallest cholesky pivot element being 1.490e-08\n",
      "  ConvergenceWarning)\n",
      "C:\\Users\\saiva\\Miniconda3\\lib\\site-packages\\sklearn\\linear_model\\least_angle.py:334: ConvergenceWarning: Early stopping the lars path, as the residues are small and the current value of alpha is no longer well controlled. 210 iterations, alpha=3.889e-04, previous alpha=9.147e-05, with an active set of 93 regressors.\n",
      "  ConvergenceWarning)\n",
      "C:\\Users\\saiva\\Miniconda3\\lib\\site-packages\\sklearn\\linear_model\\least_angle.py:309: ConvergenceWarning: Regressors in active set degenerate. Dropping a regressor, after 22 iterations, i.e. alpha=1.187e-03, with an active set of 18 regressors, and the smallest cholesky pivot element being 1.490e-08\n",
      "  ConvergenceWarning)\n",
      "C:\\Users\\saiva\\Miniconda3\\lib\\site-packages\\sklearn\\linear_model\\least_angle.py:309: ConvergenceWarning: Regressors in active set degenerate. Dropping a regressor, after 80 iterations, i.e. alpha=2.450e-04, with an active set of 56 regressors, and the smallest cholesky pivot element being 1.490e-08\n",
      "  ConvergenceWarning)\n",
      "C:\\Users\\saiva\\Miniconda3\\lib\\site-packages\\sklearn\\linear_model\\least_angle.py:309: ConvergenceWarning: Regressors in active set degenerate. Dropping a regressor, after 103 iterations, i.e. alpha=1.824e-04, with an active set of 61 regressors, and the smallest cholesky pivot element being 1.054e-08\n",
      "  ConvergenceWarning)\n",
      "C:\\Users\\saiva\\Miniconda3\\lib\\site-packages\\sklearn\\linear_model\\least_angle.py:309: ConvergenceWarning: Regressors in active set degenerate. Dropping a regressor, after 106 iterations, i.e. alpha=1.791e-04, with an active set of 62 regressors, and the smallest cholesky pivot element being 1.054e-08\n",
      "  ConvergenceWarning)\n",
      "C:\\Users\\saiva\\Miniconda3\\lib\\site-packages\\sklearn\\linear_model\\least_angle.py:309: ConvergenceWarning: Regressors in active set degenerate. Dropping a regressor, after 107 iterations, i.e. alpha=1.769e-04, with an active set of 63 regressors, and the smallest cholesky pivot element being 1.054e-08\n",
      "  ConvergenceWarning)\n",
      "C:\\Users\\saiva\\Miniconda3\\lib\\site-packages\\sklearn\\linear_model\\least_angle.py:309: ConvergenceWarning: Regressors in active set degenerate. Dropping a regressor, after 142 iterations, i.e. alpha=1.094e-04, with an active set of 86 regressors, and the smallest cholesky pivot element being 2.220e-16\n",
      "  ConvergenceWarning)\n",
      "C:\\Users\\saiva\\Miniconda3\\lib\\site-packages\\sklearn\\linear_model\\least_angle.py:309: ConvergenceWarning: Regressors in active set degenerate. Dropping a regressor, after 151 iterations, i.e. alpha=9.916e-05, with an active set of 95 regressors, and the smallest cholesky pivot element being 1.054e-08\n",
      "  ConvergenceWarning)\n",
      "C:\\Users\\saiva\\Miniconda3\\lib\\site-packages\\sklearn\\linear_model\\least_angle.py:309: ConvergenceWarning: Regressors in active set degenerate. Dropping a regressor, after 162 iterations, i.e. alpha=8.285e-05, with an active set of 100 regressors, and the smallest cholesky pivot element being 2.107e-08\n",
      "  ConvergenceWarning)\n",
      "C:\\Users\\saiva\\Miniconda3\\lib\\site-packages\\sklearn\\linear_model\\least_angle.py:309: ConvergenceWarning: Regressors in active set degenerate. Dropping a regressor, after 164 iterations, i.e. alpha=7.748e-05, with an active set of 102 regressors, and the smallest cholesky pivot element being 1.054e-08\n",
      "  ConvergenceWarning)\n",
      "C:\\Users\\saiva\\Miniconda3\\lib\\site-packages\\sklearn\\linear_model\\least_angle.py:334: ConvergenceWarning: Early stopping the lars path, as the residues are small and the current value of alpha is no longer well controlled. 166 iterations, alpha=7.823e-05, previous alpha=7.227e-05, with an active set of 103 regressors.\n",
      "  ConvergenceWarning)\n",
      "C:\\Users\\saiva\\Miniconda3\\lib\\site-packages\\sklearn\\linear_model\\least_angle.py:309: ConvergenceWarning: Regressors in active set degenerate. Dropping a regressor, after 24 iterations, i.e. alpha=1.197e-03, with an active set of 20 regressors, and the smallest cholesky pivot element being 2.107e-08\n",
      "  ConvergenceWarning)\n",
      "C:\\Users\\saiva\\Miniconda3\\lib\\site-packages\\sklearn\\linear_model\\least_angle.py:309: ConvergenceWarning: Regressors in active set degenerate. Dropping a regressor, after 38 iterations, i.e. alpha=5.953e-04, with an active set of 30 regressors, and the smallest cholesky pivot element being 1.825e-08\n",
      "  ConvergenceWarning)\n",
      "C:\\Users\\saiva\\Miniconda3\\lib\\site-packages\\sklearn\\linear_model\\least_angle.py:309: ConvergenceWarning: Regressors in active set degenerate. Dropping a regressor, after 48 iterations, i.e. alpha=4.261e-04, with an active set of 36 regressors, and the smallest cholesky pivot element being 2.356e-08\n",
      "  ConvergenceWarning)\n",
      "C:\\Users\\saiva\\Miniconda3\\lib\\site-packages\\sklearn\\linear_model\\least_angle.py:309: ConvergenceWarning: Regressors in active set degenerate. Dropping a regressor, after 50 iterations, i.e. alpha=4.119e-04, with an active set of 38 regressors, and the smallest cholesky pivot element being 1.825e-08\n",
      "  ConvergenceWarning)\n",
      "C:\\Users\\saiva\\Miniconda3\\lib\\site-packages\\sklearn\\linear_model\\least_angle.py:309: ConvergenceWarning: Regressors in active set degenerate. Dropping a regressor, after 58 iterations, i.e. alpha=2.903e-04, with an active set of 44 regressors, and the smallest cholesky pivot element being 2.356e-08\n",
      "  ConvergenceWarning)\n",
      "C:\\Users\\saiva\\Miniconda3\\lib\\site-packages\\sklearn\\linear_model\\least_angle.py:334: ConvergenceWarning: Early stopping the lars path, as the residues are small and the current value of alpha is no longer well controlled. 98 iterations, alpha=1.179e-04, previous alpha=1.176e-04, with an active set of 63 regressors.\n",
      "  ConvergenceWarning)\n",
      "C:\\Users\\saiva\\Miniconda3\\lib\\site-packages\\sklearn\\linear_model\\least_angle.py:309: ConvergenceWarning: Regressors in active set degenerate. Dropping a regressor, after 27 iterations, i.e. alpha=1.086e-03, with an active set of 23 regressors, and the smallest cholesky pivot element being 2.220e-16\n",
      "  ConvergenceWarning)\n",
      "C:\\Users\\saiva\\Miniconda3\\lib\\site-packages\\sklearn\\linear_model\\least_angle.py:309: ConvergenceWarning: Regressors in active set degenerate. Dropping a regressor, after 35 iterations, i.e. alpha=7.101e-04, with an active set of 31 regressors, and the smallest cholesky pivot element being 2.220e-16\n",
      "  ConvergenceWarning)\n",
      "C:\\Users\\saiva\\Miniconda3\\lib\\site-packages\\sklearn\\linear_model\\least_angle.py:309: ConvergenceWarning: Regressors in active set degenerate. Dropping a regressor, after 39 iterations, i.e. alpha=6.182e-04, with an active set of 31 regressors, and the smallest cholesky pivot element being 1.490e-08\n",
      "  ConvergenceWarning)\n",
      "C:\\Users\\saiva\\Miniconda3\\lib\\site-packages\\sklearn\\linear_model\\least_angle.py:309: ConvergenceWarning: Regressors in active set degenerate. Dropping a regressor, after 40 iterations, i.e. alpha=6.155e-04, with an active set of 32 regressors, and the smallest cholesky pivot element being 1.490e-08\n",
      "  ConvergenceWarning)\n",
      "C:\\Users\\saiva\\Miniconda3\\lib\\site-packages\\sklearn\\linear_model\\least_angle.py:334: ConvergenceWarning: Early stopping the lars path, as the residues are small and the current value of alpha is no longer well controlled. 209 iterations, alpha=2.428e-04, previous alpha=1.004e-04, with an active set of 104 regressors.\n",
      "  ConvergenceWarning)\n",
      "C:\\Users\\saiva\\Miniconda3\\lib\\site-packages\\sklearn\\linear_model\\least_angle.py:309: ConvergenceWarning: Regressors in active set degenerate. Dropping a regressor, after 21 iterations, i.e. alpha=1.083e-03, with an active set of 19 regressors, and the smallest cholesky pivot element being 2.220e-16\n",
      "  ConvergenceWarning)\n",
      "C:\\Users\\saiva\\Miniconda3\\lib\\site-packages\\sklearn\\linear_model\\least_angle.py:309: ConvergenceWarning: Regressors in active set degenerate. Dropping a regressor, after 89 iterations, i.e. alpha=1.480e-04, with an active set of 55 regressors, and the smallest cholesky pivot element being 2.220e-16\n",
      "  ConvergenceWarning)\n",
      "C:\\Users\\saiva\\Miniconda3\\lib\\site-packages\\sklearn\\linear_model\\least_angle.py:309: ConvergenceWarning: Regressors in active set degenerate. Dropping a regressor, after 91 iterations, i.e. alpha=1.479e-04, with an active set of 55 regressors, and the smallest cholesky pivot element being 2.220e-16\n",
      "  ConvergenceWarning)\n",
      "C:\\Users\\saiva\\Miniconda3\\lib\\site-packages\\sklearn\\linear_model\\least_angle.py:309: ConvergenceWarning: Regressors in active set degenerate. Dropping a regressor, after 149 iterations, i.e. alpha=7.394e-05, with an active set of 77 regressors, and the smallest cholesky pivot element being 1.054e-08\n",
      "  ConvergenceWarning)\n",
      "C:\\Users\\saiva\\Miniconda3\\lib\\site-packages\\sklearn\\linear_model\\least_angle.py:334: ConvergenceWarning: Early stopping the lars path, as the residues are small and the current value of alpha is no longer well controlled. 173 iterations, alpha=7.394e-05, previous alpha=7.394e-05, with an active set of 84 regressors.\n",
      "  ConvergenceWarning)\n",
      "C:\\Users\\saiva\\Miniconda3\\lib\\site-packages\\sklearn\\linear_model\\least_angle.py:309: ConvergenceWarning: Regressors in active set degenerate. Dropping a regressor, after 21 iterations, i.e. alpha=9.645e-04, with an active set of 19 regressors, and the smallest cholesky pivot element being 2.220e-16\n",
      "  ConvergenceWarning)\n",
      "C:\\Users\\saiva\\Miniconda3\\lib\\site-packages\\sklearn\\linear_model\\least_angle.py:309: ConvergenceWarning: Regressors in active set degenerate. Dropping a regressor, after 84 iterations, i.e. alpha=1.324e-04, with an active set of 60 regressors, and the smallest cholesky pivot element being 1.490e-08\n",
      "  ConvergenceWarning)\n",
      "C:\\Users\\saiva\\Miniconda3\\lib\\site-packages\\sklearn\\linear_model\\least_angle.py:309: ConvergenceWarning: Regressors in active set degenerate. Dropping a regressor, after 95 iterations, i.e. alpha=1.188e-04, with an active set of 57 regressors, and the smallest cholesky pivot element being 1.490e-08\n",
      "  ConvergenceWarning)\n",
      "C:\\Users\\saiva\\Miniconda3\\lib\\site-packages\\sklearn\\linear_model\\least_angle.py:309: ConvergenceWarning: Regressors in active set degenerate. Dropping a regressor, after 186 iterations, i.e. alpha=4.147e-05, with an active set of 102 regressors, and the smallest cholesky pivot element being 2.220e-16\n",
      "  ConvergenceWarning)\n",
      "C:\\Users\\saiva\\Miniconda3\\lib\\site-packages\\sklearn\\linear_model\\least_angle.py:334: ConvergenceWarning: Early stopping the lars path, as the residues are small and the current value of alpha is no longer well controlled. 208 iterations, alpha=5.524e-05, previous alpha=3.197e-05, with an active set of 109 regressors.\n",
      "  ConvergenceWarning)\n",
      "C:\\Users\\saiva\\Miniconda3\\lib\\site-packages\\sklearn\\linear_model\\least_angle.py:309: ConvergenceWarning: Regressors in active set degenerate. Dropping a regressor, after 34 iterations, i.e. alpha=5.419e-04, with an active set of 30 regressors, and the smallest cholesky pivot element being 2.220e-16\n",
      "  ConvergenceWarning)\n",
      "C:\\Users\\saiva\\Miniconda3\\lib\\site-packages\\sklearn\\linear_model\\least_angle.py:309: ConvergenceWarning: Regressors in active set degenerate. Dropping a regressor, after 44 iterations, i.e. alpha=3.714e-04, with an active set of 40 regressors, and the smallest cholesky pivot element being 2.220e-16\n",
      "  ConvergenceWarning)\n",
      "C:\\Users\\saiva\\Miniconda3\\lib\\site-packages\\sklearn\\linear_model\\least_angle.py:309: ConvergenceWarning: Regressors in active set degenerate. Dropping a regressor, after 51 iterations, i.e. alpha=2.454e-04, with an active set of 45 regressors, and the smallest cholesky pivot element being 2.220e-16\n",
      "  ConvergenceWarning)\n",
      "C:\\Users\\saiva\\Miniconda3\\lib\\site-packages\\sklearn\\linear_model\\least_angle.py:309: ConvergenceWarning: Regressors in active set degenerate. Dropping a regressor, after 55 iterations, i.e. alpha=2.021e-04, with an active set of 49 regressors, and the smallest cholesky pivot element being 2.220e-16\n",
      "  ConvergenceWarning)\n",
      "C:\\Users\\saiva\\Miniconda3\\lib\\site-packages\\sklearn\\linear_model\\least_angle.py:334: ConvergenceWarning: Early stopping the lars path, as the residues are small and the current value of alpha is no longer well controlled. 70 iterations, alpha=1.339e-04, previous alpha=1.320e-04, with an active set of 63 regressors.\n",
      "  ConvergenceWarning)\n"
     ]
    },
    {
     "name": "stdout",
     "output_type": "stream",
     "text": [
      "-0.0115075663367\n"
     ]
    },
    {
     "name": "stderr",
     "output_type": "stream",
     "text": [
      "C:\\Users\\saiva\\Miniconda3\\lib\\site-packages\\sklearn\\linear_model\\least_angle.py:309: ConvergenceWarning: Regressors in active set degenerate. Dropping a regressor, after 25 iterations, i.e. alpha=1.085e-03, with an active set of 21 regressors, and the smallest cholesky pivot element being 2.220e-16\n",
      "  ConvergenceWarning)\n",
      "C:\\Users\\saiva\\Miniconda3\\lib\\site-packages\\sklearn\\linear_model\\least_angle.py:309: ConvergenceWarning: Regressors in active set degenerate. Dropping a regressor, after 29 iterations, i.e. alpha=8.990e-04, with an active set of 25 regressors, and the smallest cholesky pivot element being 2.220e-16\n",
      "  ConvergenceWarning)\n",
      "C:\\Users\\saiva\\Miniconda3\\lib\\site-packages\\sklearn\\linear_model\\least_angle.py:309: ConvergenceWarning: Regressors in active set degenerate. Dropping a regressor, after 40 iterations, i.e. alpha=5.366e-04, with an active set of 34 regressors, and the smallest cholesky pivot element being 2.220e-16\n",
      "  ConvergenceWarning)\n",
      "C:\\Users\\saiva\\Miniconda3\\lib\\site-packages\\sklearn\\linear_model\\least_angle.py:309: ConvergenceWarning: Regressors in active set degenerate. Dropping a regressor, after 47 iterations, i.e. alpha=4.154e-04, with an active set of 41 regressors, and the smallest cholesky pivot element being 2.220e-16\n",
      "  ConvergenceWarning)\n",
      "C:\\Users\\saiva\\Miniconda3\\lib\\site-packages\\sklearn\\linear_model\\least_angle.py:309: ConvergenceWarning: Regressors in active set degenerate. Dropping a regressor, after 61 iterations, i.e. alpha=2.510e-04, with an active set of 51 regressors, and the smallest cholesky pivot element being 2.220e-16\n",
      "  ConvergenceWarning)\n"
     ]
    }
   ],
   "source": [
    "model = LassoLarsCV(cv=20).fit(x_train, y_train)\n",
    "y_predict = model.predict(x_test)\n",
    "\n",
    "R_LassoLarsCV=r2_score(y_predict, y_test)\n",
    "print(R_LassoLarsCV)"
   ]
  },
  {
   "cell_type": "code",
   "execution_count": 13,
   "metadata": {
    "collapsed": false
   },
   "outputs": [],
   "source": [
    "#model = LassoLarsIC(cv=20).fit(x_train, y_train)\n",
    "#y_predict = model.predict(x_test)\n",
    "\n",
    "#print(r2_score(y_predict, y_test))"
   ]
  },
  {
   "cell_type": "code",
   "execution_count": 14,
   "metadata": {
    "collapsed": false
   },
   "outputs": [
    {
     "name": "stderr",
     "output_type": "stream",
     "text": [
      "C:\\Users\\saiva\\Miniconda3\\lib\\site-packages\\sklearn\\utils\\validation.py:526: DataConversionWarning: A column-vector y was passed when a 1d array was expected. Please change the shape of y to (n_samples, ), for example using ravel().\n",
      "  y = column_or_1d(y, warn=True)\n"
     ]
    },
    {
     "name": "stdout",
     "output_type": "stream",
     "text": [
      "-0.0115075663367\n"
     ]
    }
   ],
   "source": [
    "reg_b =linear_model.BayesianRidge()\n",
    "model1=reg_b.fit(x_train, y_train)\n",
    "reg_b.predict = model1.predict(x_test)\n",
    "\n",
    "R_Bayesian=r2_score(y_predict, y_test)\n",
    "print(R_Bayesian)"
   ]
  },
  {
   "cell_type": "code",
   "execution_count": 80,
   "metadata": {
    "collapsed": false,
    "scrolled": false
   },
   "outputs": [],
   "source": [
    "#from sklearn.linear_model import ARDRegression\n",
    "#reg_ARD=linear_model.ARDRegression()\n",
    "#model2=reg_ARD.fit(x_train, y_train)\n",
    "#reg_ARD.predict=model2.predict(x_test)\n",
    "\n",
    "#print(r2_score(y_predict, y_test))"
   ]
  },
  {
   "cell_type": "code",
   "execution_count": 81,
   "metadata": {
    "collapsed": false
   },
   "outputs": [
    {
     "data": {
      "text/plain": [
       "array([-0.00589536, -5.76074315,  0.09918653, -0.01150757, -0.01150757])"
      ]
     },
     "execution_count": 81,
     "metadata": {},
     "output_type": "execute_result"
    }
   ],
   "source": [
    "A=np.array([R_linear, R_Lasso, Lasso_CV, R_LassoLarsCV, R_Bayesian])\n",
    "A"
   ]
  },
  {
   "cell_type": "code",
   "execution_count": 82,
   "metadata": {
    "collapsed": false
   },
   "outputs": [
    {
     "data": {
      "text/plain": [
       "array([ 1.,  2.,  3.,  4.,  5.])"
      ]
     },
     "execution_count": 82,
     "metadata": {},
     "output_type": "execute_result"
    }
   ],
   "source": [
    "B=np.array(np.arange(1,6.0,1))\n",
    "B"
   ]
  },
  {
   "cell_type": "code",
   "execution_count": 83,
   "metadata": {
    "collapsed": false
   },
   "outputs": [
    {
     "data": {
      "image/png": "[encoded data removed]",
      "text/plain": [
       "<matplotlib.figure.Figure at 0x2289385ec50>"
      ]
     },
     "metadata": {},
     "output_type": "display_data"
    }
   ],
   "source": [
    "plt.scatter(B[0],A[0], color='r',marker='^', alpha=1)\n",
    "plt.scatter(B[1],A[1], color='b',marker='p', alpha=1)\n",
    "plt.scatter(B[2],A[2], color='g',marker='o', alpha=1)\n",
    "plt.scatter(B[3],A[3], color='m',marker='H', alpha=1)\n",
    "plt.scatter(B[4],A[4], color='c',marker='s', alpha=1)\n",
    "#plt.show()\n",
    "n=['Linear','Lasso','LassoCV','La_LarsCV','Bayesian_Ridge']\n",
    "#l=['-0.00589536','-5.76074315','0.09918653','-0.01150757','-0.01150757']\n",
    "for i, txt in enumerate(n):\n",
    "    plt.annotate(txt, (B[i],A[i]))\n",
    "plt.ylabel('R square statistic')\n",
    "plt.show()"
   ]
  },
  {
   "cell_type": "code",
   "execution_count": null,
   "metadata": {
    "collapsed": false
   },
   "outputs": [],
   "source": []
  },
  {
   "cell_type": "code",
   "execution_count": 84,
   "metadata": {
    "collapsed": false
   },
   "outputs": [],
   "source": [
    "#x_train=np.ravel(x_train)\n",
    "#from sklearn.svm import SVR\n",
    "#svr_lin = SVR(kernel='linear', C=1e3)\n",
    "#y_lin = svr_lin.fit(x_train, y_train)"
   ]
  },
  {
   "cell_type": "code",
   "execution_count": 85,
   "metadata": {
    "collapsed": false
   },
   "outputs": [
    {
     "name": "stdout",
     "output_type": "stream",
     "text": [
      "0.286818348546\n"
     ]
    },
    {
     "name": "stderr",
     "output_type": "stream",
     "text": [
      "C:\\Users\\saiva\\Miniconda3\\lib\\site-packages\\sklearn\\utils\\validation.py:526: DataConversionWarning: A column-vector y was passed when a 1d array was expected. Please change the shape of y to (n_samples, ), for example using ravel().\n",
      "  y = column_or_1d(y, warn=True)\n"
     ]
    }
   ],
   "source": [
    "clf=linear_model.SGDRegressor(loss='squared_loss', penalty='none', alpha=0.0001, epsilon=0.0001)\n",
    "model2=clf.fit(x_train, y_train)\n",
    "y_predict1=model2.predict(x_test)\n",
    "R_SGD=r2_score(y_predict1, y_test)\n",
    "print(R_SGD)"
   ]
  },
  {
   "cell_type": "code",
   "execution_count": 86,
   "metadata": {
    "collapsed": false
   },
   "outputs": [
    {
     "name": "stdout",
     "output_type": "stream",
     "text": [
      "0.1882446836\n"
     ]
    },
    {
     "name": "stderr",
     "output_type": "stream",
     "text": [
      "C:\\Users\\saiva\\Miniconda3\\lib\\site-packages\\sklearn\\utils\\validation.py:526: DataConversionWarning: A column-vector y was passed when a 1d array was expected. Please change the shape of y to (n_samples, ), for example using ravel().\n",
      "  y = column_or_1d(y, warn=True)\n"
     ]
    }
   ],
   "source": [
    "clf=linear_model.SGDRegressor(loss='huber', alpha=0.0001)\n",
    "model3=clf.fit(x_train, y_train)\n",
    "y_predict2=model3.predict(x_test)\n",
    "R_SGD_h=r2_score(y_predict2, y_test)\n",
    "print(R_SGD_h)"
   ]
  },
  {
   "cell_type": "code",
   "execution_count": 87,
   "metadata": {
    "collapsed": false,
    "scrolled": true
   },
   "outputs": [
    {
     "name": "stdout",
     "output_type": "stream",
     "text": [
      "0.326342946481\n"
     ]
    },
    {
     "name": "stderr",
     "output_type": "stream",
     "text": [
      "C:\\Users\\saiva\\Miniconda3\\lib\\site-packages\\sklearn\\utils\\validation.py:526: DataConversionWarning: A column-vector y was passed when a 1d array was expected. Please change the shape of y to (n_samples, ), for example using ravel().\n",
      "  y = column_or_1d(y, warn=True)\n"
     ]
    }
   ],
   "source": [
    "clf=linear_model.SGDRegressor(loss='epsilon_insensitive', penalty='none', alpha=0.0001)\n",
    "model4=clf.fit(x_train, y_train)\n",
    "y_predict3=model4.predict(x_test)\n",
    "R_SGD_ep=r2_score(y_predict3, y_test)\n",
    "print(R_SGD_ep)"
   ]
  },
  {
   "cell_type": "code",
   "execution_count": 88,
   "metadata": {
    "collapsed": false
   },
   "outputs": [
    {
     "name": "stdout",
     "output_type": "stream",
     "text": [
      "-0.393680463619\n"
     ]
    }
   ],
   "source": [
    "from sklearn import tree\n",
    "regr_1=tree.DecisionTreeRegressor()\n",
    "model5=regr_1.fit(x_train, y_train)\n",
    "y_predict4=model5.predict(x_test)\n",
    "#y_1=regr_1.predict(x_test)\n",
    "R_tree=r2_score(y_predict4, y_test)\n",
    "print(R_tree)\n",
    "#x_train.size, y_train.size, x_test.size, y_test.size"
   ]
  },
  {
   "cell_type": "code",
   "execution_count": 89,
   "metadata": {
    "collapsed": false
   },
   "outputs": [],
   "source": [
    "#x_train1=np.array(x_train)\n",
    "#x_train1=np.resize(x_train1, (4126))\n",
    "#x_train1.size\n",
    "\n",
    "#plt.scatter(x_train1, y_train, color='darkorange')\n",
    "#plt.plot(x_test, y_1, color='cornflowerblue')\n",
    "#plt.show()"
   ]
  },
  {
   "cell_type": "code",
   "execution_count": 90,
   "metadata": {
    "collapsed": false
   },
   "outputs": [
    {
     "name": "stdout",
     "output_type": "stream",
     "text": [
      "0.0513537691532\n"
     ]
    }
   ],
   "source": [
    "reg=linear_model.Ridge(alpha=0.5)\n",
    "model6=reg.fit(x_train, y_train)\n",
    "y_predict5=model6.predict(x_test)\n",
    "R_Ridge=r2_score(y_predict5, y_test)\n",
    "print(R_Ridge)"
   ]
  },
  {
   "cell_type": "code",
   "execution_count": 91,
   "metadata": {
    "collapsed": false
   },
   "outputs": [
    {
     "name": "stdout",
     "output_type": "stream",
     "text": [
      "0.0640647203179\n"
     ]
    }
   ],
   "source": [
    "from sklearn.kernel_ridge import KernelRidge\n",
    "clf_1=KernelRidge(alpha=1.0)\n",
    "model7=clf_1.fit(x_train, y_train)\n",
    "y_predict6=model7.predict(x_test)\n",
    "R_KernelRidge=r2_score(y_predict6, y_test)\n",
    "print(R_KernelRidge)"
   ]
  },
  {
   "cell_type": "code",
   "execution_count": 92,
   "metadata": {
    "collapsed": false
   },
   "outputs": [
    {
     "name": "stderr",
     "output_type": "stream",
     "text": [
      "C:\\Users\\saiva\\Miniconda3\\lib\\site-packages\\sklearn\\utils\\validation.py:526: DataConversionWarning: A column-vector y was passed when a 1d array was expected. Please change the shape of y to (n_samples, ), for example using ravel().\n",
      "  y = column_or_1d(y, warn=True)\n"
     ]
    },
    {
     "name": "stdout",
     "output_type": "stream",
     "text": [
      "-1.09780887561\n"
     ]
    }
   ],
   "source": [
    "from sklearn.svm import SVR\n",
    "svr_lin=SVR(kernel='rbf', C=1e3)\n",
    "model8=svr_lin.fit(x_train, y_train)\n",
    "y_predict7=model8.predict(x_test)\n",
    "R_svr_rbf=r2_score(y_predict7, y_test)\n",
    "print(R_svr_rbf)\n"
   ]
  },
  {
   "cell_type": "code",
   "execution_count": 93,
   "metadata": {
    "collapsed": false
   },
   "outputs": [
    {
     "name": "stderr",
     "output_type": "stream",
     "text": [
      "C:\\Users\\saiva\\Miniconda3\\lib\\site-packages\\sklearn\\utils\\validation.py:526: DataConversionWarning: A column-vector y was passed when a 1d array was expected. Please change the shape of y to (n_samples, ), for example using ravel().\n",
      "  y = column_or_1d(y, warn=True)\n"
     ]
    },
    {
     "name": "stdout",
     "output_type": "stream",
     "text": [
      "0.0311309451067\n"
     ]
    }
   ],
   "source": [
    "from sklearn.svm import SVR\n",
    "svr_lin=SVR(kernel='poly', C=1e3)\n",
    "model8=svr_lin.fit(x_train, y_train)\n",
    "y_predict8=model8.predict(x_test)\n",
    "R_svr_poly=r2_score(y_predict8, y_test)\n",
    "print(R_svr_poly)"
   ]
  },
  {
   "cell_type": "code",
   "execution_count": 94,
   "metadata": {
    "collapsed": false
   },
   "outputs": [
    {
     "name": "stderr",
     "output_type": "stream",
     "text": [
      "C:\\Users\\saiva\\Miniconda3\\lib\\site-packages\\sklearn\\utils\\validation.py:526: DataConversionWarning: A column-vector y was passed when a 1d array was expected. Please change the shape of y to (n_samples, ), for example using ravel().\n",
      "  y = column_or_1d(y, warn=True)\n"
     ]
    },
    {
     "name": "stdout",
     "output_type": "stream",
     "text": [
      "-0.000473169651765\n"
     ]
    }
   ],
   "source": [
    "from sklearn.svm import SVR\n",
    "svr_lin=SVR(kernel='sigmoid', C=1e3)\n",
    "model8=svr_lin.fit(x_train, y_train)\n",
    "y_predict9=model8.predict(x_test)\n",
    "R_svr_sig=r2_score(y_predict9, y_test)\n",
    "print(R_svr_sig)"
   ]
  },
  {
   "cell_type": "code",
   "execution_count": 95,
   "metadata": {
    "collapsed": false
   },
   "outputs": [],
   "source": [
    "#from sklearn.linear_model import Perceptron\n",
    "#perp=Perceptron()\n",
    "#model9=perp.fit(x_train, y_train)\n",
    "#y_predict=model9.predict(x_test)\n",
    "#R_perp=r2_score(y_predict, y_test)\n",
    "#print(R_perp)\n"
   ]
  },
  {
   "cell_type": "code",
   "execution_count": 96,
   "metadata": {
    "collapsed": false
   },
   "outputs": [
    {
     "data": {
      "text/plain": [
       "array([  2.86818349e-01,   1.88244684e-01,   3.26342946e-01,\n",
       "        -3.93680464e-01,   5.13537692e-02,   6.40647203e-02,\n",
       "        -1.09780888e+00,   3.11309451e-02,  -4.73169652e-04])"
      ]
     },
     "execution_count": 96,
     "metadata": {},
     "output_type": "execute_result"
    }
   ],
   "source": [
    "C=np.array([R_SGD, R_SGD_h, R_SGD_ep, R_tree, R_Ridge, R_KernelRidge, R_svr_rbf, R_svr_poly, R_svr_sig])\n",
    "C"
   ]
  },
  {
   "cell_type": "code",
   "execution_count": 97,
   "metadata": {
    "collapsed": false
   },
   "outputs": [
    {
     "data": {
      "text/plain": [
       "array([ 1.,  2.,  3.,  4.,  5.,  6.,  7.,  8.,  9.])"
      ]
     },
     "execution_count": 97,
     "metadata": {},
     "output_type": "execute_result"
    }
   ],
   "source": [
    "D=np.array(np.arange(1, 10.0, 1))\n",
    "D"
   ]
  },
  {
   "cell_type": "code",
   "execution_count": 98,
   "metadata": {
    "collapsed": false
   },
   "outputs": [
    {
     "data": {
      "image/png": "[encoded data removed]",
      "text/plain": [
       "<matplotlib.figure.Figure at 0x228938c8c50>"
      ]
     },
     "metadata": {},
     "output_type": "display_data"
    }
   ],
   "source": [
    "plt.scatter(D[0],C[0], color='r',marker='^', alpha=1)\n",
    "plt.scatter(D[1],C[1], color='b',marker='p', alpha=1)\n",
    "plt.scatter(D[2],C[2], color='g',marker='o', alpha=1)\n",
    "plt.scatter(D[3],C[3], color='m',marker='H', alpha=1)\n",
    "plt.scatter(D[4],C[4], color='c',marker='s', alpha=1)\n",
    "plt.scatter(D[5],C[5], color='r',marker='^', alpha=1)\n",
    "plt.scatter(D[6],C[6], color='b',marker='p', alpha=1)\n",
    "plt.scatter(D[7],C[7], color='g',marker='o', alpha=1)\n",
    "plt.scatter(D[8],C[8], color='m',marker='H', alpha=1)\n",
    "#plt.scatter(C[4],D[4], color='c',marker='s', alpha=1)\n",
    "#plt.show()\n",
    "n=['SGD_squaredloss','SGD_huber','SGD_epsilon_insensitive','tree','Ridge','Kernel_Ridge','svr_rbf','svr_poly','svr_sig']\n",
    "#l=['-0.00589536','-5.76074315','0.09918653','-0.01150757','-0.01150757']\n",
    "for i, txt in enumerate(n):\n",
    "    plt.annotate(txt, (D[i],C[i]))\n",
    "plt.ylabel('R square statistic')\n",
    "plt.show()"
   ]
  },
  {
   "cell_type": "code",
   "execution_count": null,
   "metadata": {
    "collapsed": true
   },
   "outputs": [],
   "source": []
  }
 ],
 "metadata": {
  "anaconda-cloud": {},
  "kernelspec": {
   "display_name": "Python [conda root]",
   "language": "python",
   "name": "conda-root-py"
  },
  "language_info": {
   "codemirror_mode": {
    "name": "ipython",
    "version": 3
   },
   "file_extension": ".py",
   "mimetype": "text/x-python",
   "name": "python",
   "nbconvert_exporter": "python",
   "pygments_lexer": "ipython3",
   "version": "3.5.2"
  }
 },
 "nbformat": 4,
 "nbformat_minor": 2
}
