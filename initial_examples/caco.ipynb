{
 "cells": [
  {
   "cell_type": "code",
   "execution_count": 39,
   "metadata": {
    "collapsed": false
   },
   "outputs": [],
   "source": [
    "import pandas as pd\n",
    "import numpy as np\n",
    "import matplotlib.pyplot as plt\n",
    "from sklearn.preprocessing import StandardScaler\n",
    "from sklearn.model_selection import train_test_split"
   ]
  },
  {
   "cell_type": "code",
   "execution_count": 40,
   "metadata": {
    "collapsed": false
   },
   "outputs": [
    {
     "data": {
      "text/html": [
       "<div>\n",
       "<table border=\"1\" class=\"dataframe\">\n",
       "  <thead>\n",
       "    <tr style=\"text-align: right;\">\n",
       "      <th></th>\n",
       "      <th>Molecule</th>\n",
       "      <th>AP_FP_2</th>\n",
       "      <th>AP_FP_3</th>\n",
       "      <th>AP_FP_4</th>\n",
       "      <th>AP_FP_5</th>\n",
       "      <th>AP_FP_6</th>\n",
       "      <th>AP_FP_460</th>\n",
       "      <th>AP_FP_1700</th>\n",
       "      <th>AP_FP_480</th>\n",
       "      <th>AP_FP_8</th>\n",
       "      <th>...</th>\n",
       "      <th>AP_FP_1787</th>\n",
       "      <th>AP_FP_2233</th>\n",
       "      <th>AP_FP_1542</th>\n",
       "      <th>AP_FP_3736</th>\n",
       "      <th>AP_FP_2696</th>\n",
       "      <th>AP_FP_130</th>\n",
       "      <th>AP_FP_4243</th>\n",
       "      <th>AP_FP_4314</th>\n",
       "      <th>AP_FP_4050</th>\n",
       "      <th>AP_FP_6622</th>\n",
       "    </tr>\n",
       "  </thead>\n",
       "  <tbody>\n",
       "    <tr>\n",
       "      <th>0</th>\n",
       "      <td>Compound0001</td>\n",
       "      <td>0</td>\n",
       "      <td>0</td>\n",
       "      <td>0</td>\n",
       "      <td>0</td>\n",
       "      <td>0</td>\n",
       "      <td>0</td>\n",
       "      <td>0</td>\n",
       "      <td>0</td>\n",
       "      <td>0</td>\n",
       "      <td>...</td>\n",
       "      <td>0</td>\n",
       "      <td>0</td>\n",
       "      <td>0</td>\n",
       "      <td>0</td>\n",
       "      <td>0</td>\n",
       "      <td>0</td>\n",
       "      <td>0</td>\n",
       "      <td>0</td>\n",
       "      <td>0</td>\n",
       "      <td>0</td>\n",
       "    </tr>\n",
       "    <tr>\n",
       "      <th>1</th>\n",
       "      <td>Compound0002</td>\n",
       "      <td>0</td>\n",
       "      <td>0</td>\n",
       "      <td>0</td>\n",
       "      <td>0</td>\n",
       "      <td>0</td>\n",
       "      <td>0</td>\n",
       "      <td>0</td>\n",
       "      <td>0</td>\n",
       "      <td>0</td>\n",
       "      <td>...</td>\n",
       "      <td>0</td>\n",
       "      <td>0</td>\n",
       "      <td>0</td>\n",
       "      <td>0</td>\n",
       "      <td>0</td>\n",
       "      <td>0</td>\n",
       "      <td>0</td>\n",
       "      <td>0</td>\n",
       "      <td>0</td>\n",
       "      <td>0</td>\n",
       "    </tr>\n",
       "    <tr>\n",
       "      <th>2</th>\n",
       "      <td>Compound0003</td>\n",
       "      <td>0</td>\n",
       "      <td>0</td>\n",
       "      <td>1</td>\n",
       "      <td>0</td>\n",
       "      <td>0</td>\n",
       "      <td>0</td>\n",
       "      <td>0</td>\n",
       "      <td>0</td>\n",
       "      <td>0</td>\n",
       "      <td>...</td>\n",
       "      <td>1</td>\n",
       "      <td>0</td>\n",
       "      <td>0</td>\n",
       "      <td>0</td>\n",
       "      <td>0</td>\n",
       "      <td>0</td>\n",
       "      <td>1</td>\n",
       "      <td>3</td>\n",
       "      <td>0</td>\n",
       "      <td>0</td>\n",
       "    </tr>\n",
       "    <tr>\n",
       "      <th>3</th>\n",
       "      <td>Compound0004</td>\n",
       "      <td>0</td>\n",
       "      <td>0</td>\n",
       "      <td>1</td>\n",
       "      <td>0</td>\n",
       "      <td>0</td>\n",
       "      <td>0</td>\n",
       "      <td>0</td>\n",
       "      <td>0</td>\n",
       "      <td>0</td>\n",
       "      <td>...</td>\n",
       "      <td>1</td>\n",
       "      <td>0</td>\n",
       "      <td>0</td>\n",
       "      <td>0</td>\n",
       "      <td>0</td>\n",
       "      <td>0</td>\n",
       "      <td>1</td>\n",
       "      <td>3</td>\n",
       "      <td>0</td>\n",
       "      <td>0</td>\n",
       "    </tr>\n",
       "    <tr>\n",
       "      <th>4</th>\n",
       "      <td>Compound0005</td>\n",
       "      <td>0</td>\n",
       "      <td>0</td>\n",
       "      <td>1</td>\n",
       "      <td>0</td>\n",
       "      <td>0</td>\n",
       "      <td>0</td>\n",
       "      <td>0</td>\n",
       "      <td>0</td>\n",
       "      <td>0</td>\n",
       "      <td>...</td>\n",
       "      <td>0</td>\n",
       "      <td>0</td>\n",
       "      <td>0</td>\n",
       "      <td>0</td>\n",
       "      <td>0</td>\n",
       "      <td>0</td>\n",
       "      <td>1</td>\n",
       "      <td>3</td>\n",
       "      <td>0</td>\n",
       "      <td>0</td>\n",
       "    </tr>\n",
       "  </tbody>\n",
       "</table>\n",
       "<p>5 rows × 997 columns</p>\n",
       "</div>"
      ],
      "text/plain": [
       "       Molecule  AP_FP_2  AP_FP_3  AP_FP_4  AP_FP_5  AP_FP_6  AP_FP_460  \\\n",
       "0  Compound0001        0        0        0        0        0          0   \n",
       "1  Compound0002        0        0        0        0        0          0   \n",
       "2  Compound0003        0        0        1        0        0          0   \n",
       "3  Compound0004        0        0        1        0        0          0   \n",
       "4  Compound0005        0        0        1        0        0          0   \n",
       "\n",
       "   AP_FP_1700  AP_FP_480  AP_FP_8     ...      AP_FP_1787  AP_FP_2233  \\\n",
       "0           0          0        0     ...               0           0   \n",
       "1           0          0        0     ...               0           0   \n",
       "2           0          0        0     ...               1           0   \n",
       "3           0          0        0     ...               1           0   \n",
       "4           0          0        0     ...               0           0   \n",
       "\n",
       "   AP_FP_1542  AP_FP_3736  AP_FP_2696  AP_FP_130  AP_FP_4243  AP_FP_4314  \\\n",
       "0           0           0           0          0           0           0   \n",
       "1           0           0           0          0           0           0   \n",
       "2           0           0           0          0           1           3   \n",
       "3           0           0           0          0           1           3   \n",
       "4           0           0           0          0           1           3   \n",
       "\n",
       "   AP_FP_4050  AP_FP_6622  \n",
       "0           0           0  \n",
       "1           0           0  \n",
       "2           0           0  \n",
       "3           0           0  \n",
       "4           0           0  \n",
       "\n",
       "[5 rows x 997 columns]"
      ]
     },
     "execution_count": 40,
     "metadata": {},
     "output_type": "execute_result"
    }
   ],
   "source": [
    "df_atom=pd.read_csv('caco_AtomPair.tsv', sep='\\t', index_col=False)\n",
    "df_atom.head()"
   ]
  },
  {
   "cell_type": "code",
   "execution_count": 41,
   "metadata": {
    "collapsed": false
   },
   "outputs": [],
   "source": [
    "df_dragon=pd.read_csv('caco_Dragon.tsv', sep='\\t', index_col=False)\n",
    "#df_dragon.head()"
   ]
  },
  {
   "cell_type": "code",
   "execution_count": 42,
   "metadata": {
    "collapsed": false
   },
   "outputs": [
    {
     "data": {
      "text/html": [
       "<div>\n",
       "<table border=\"1\" class=\"dataframe\">\n",
       "  <thead>\n",
       "    <tr style=\"text-align: right;\">\n",
       "      <th></th>\n",
       "      <th>Molecule</th>\n",
       "      <th>QikProp_.stars</th>\n",
       "      <th>QikProp_.amine</th>\n",
       "      <th>QikProp_.amidine</th>\n",
       "      <th>QikProp_.acid</th>\n",
       "      <th>QikProp_.amide</th>\n",
       "      <th>QikProp_.rotor</th>\n",
       "      <th>QikProp_.rtvFG</th>\n",
       "      <th>QikProp_CNS</th>\n",
       "      <th>QikProp_mol_MW</th>\n",
       "      <th>...</th>\n",
       "      <th>QikProp_PSA</th>\n",
       "      <th>QikProp_.NandO</th>\n",
       "      <th>QikProp_RuleOfFive</th>\n",
       "      <th>QikProp_.ringatoms</th>\n",
       "      <th>QikProp_.in34</th>\n",
       "      <th>QikProp_.in56</th>\n",
       "      <th>QikProp_.noncon</th>\n",
       "      <th>QikProp_.nonHatm</th>\n",
       "      <th>QikProp_RuleOfThree</th>\n",
       "      <th>QikProp_ACxDN..5.SAxSASA.MW</th>\n",
       "    </tr>\n",
       "  </thead>\n",
       "  <tbody>\n",
       "    <tr>\n",
       "      <th>0</th>\n",
       "      <td>Compound0001</td>\n",
       "      <td>5</td>\n",
       "      <td>0</td>\n",
       "      <td>0</td>\n",
       "      <td>1</td>\n",
       "      <td>0</td>\n",
       "      <td>1</td>\n",
       "      <td>0</td>\n",
       "      <td>-1</td>\n",
       "      <td>123.111</td>\n",
       "      <td>...</td>\n",
       "      <td>62.041</td>\n",
       "      <td>3</td>\n",
       "      <td>0</td>\n",
       "      <td>6</td>\n",
       "      <td>0</td>\n",
       "      <td>6</td>\n",
       "      <td>0</td>\n",
       "      <td>9</td>\n",
       "      <td>0</td>\n",
       "      <td>0.028430</td>\n",
       "    </tr>\n",
       "    <tr>\n",
       "      <th>1</th>\n",
       "      <td>Compound0002</td>\n",
       "      <td>0</td>\n",
       "      <td>0</td>\n",
       "      <td>0</td>\n",
       "      <td>0</td>\n",
       "      <td>0</td>\n",
       "      <td>5</td>\n",
       "      <td>0</td>\n",
       "      <td>-2</td>\n",
       "      <td>290.272</td>\n",
       "      <td>...</td>\n",
       "      <td>111.738</td>\n",
       "      <td>6</td>\n",
       "      <td>0</td>\n",
       "      <td>16</td>\n",
       "      <td>0</td>\n",
       "      <td>16</td>\n",
       "      <td>3</td>\n",
       "      <td>21</td>\n",
       "      <td>1</td>\n",
       "      <td>0.041983</td>\n",
       "    </tr>\n",
       "    <tr>\n",
       "      <th>2</th>\n",
       "      <td>Compound0003</td>\n",
       "      <td>0</td>\n",
       "      <td>2</td>\n",
       "      <td>0</td>\n",
       "      <td>1</td>\n",
       "      <td>0</td>\n",
       "      <td>5</td>\n",
       "      <td>0</td>\n",
       "      <td>-1</td>\n",
       "      <td>518.611</td>\n",
       "      <td>...</td>\n",
       "      <td>120.746</td>\n",
       "      <td>9</td>\n",
       "      <td>1</td>\n",
       "      <td>27</td>\n",
       "      <td>0</td>\n",
       "      <td>24</td>\n",
       "      <td>7</td>\n",
       "      <td>38</td>\n",
       "      <td>1</td>\n",
       "      <td>0.019764</td>\n",
       "    </tr>\n",
       "    <tr>\n",
       "      <th>3</th>\n",
       "      <td>Compound0004</td>\n",
       "      <td>0</td>\n",
       "      <td>2</td>\n",
       "      <td>0</td>\n",
       "      <td>1</td>\n",
       "      <td>0</td>\n",
       "      <td>5</td>\n",
       "      <td>0</td>\n",
       "      <td>-1</td>\n",
       "      <td>532.638</td>\n",
       "      <td>...</td>\n",
       "      <td>113.431</td>\n",
       "      <td>9</td>\n",
       "      <td>1</td>\n",
       "      <td>28</td>\n",
       "      <td>0</td>\n",
       "      <td>18</td>\n",
       "      <td>8</td>\n",
       "      <td>39</td>\n",
       "      <td>1</td>\n",
       "      <td>0.019244</td>\n",
       "    </tr>\n",
       "    <tr>\n",
       "      <th>4</th>\n",
       "      <td>Compound0005</td>\n",
       "      <td>0</td>\n",
       "      <td>2</td>\n",
       "      <td>0</td>\n",
       "      <td>1</td>\n",
       "      <td>0</td>\n",
       "      <td>4</td>\n",
       "      <td>0</td>\n",
       "      <td>-1</td>\n",
       "      <td>504.585</td>\n",
       "      <td>...</td>\n",
       "      <td>120.305</td>\n",
       "      <td>9</td>\n",
       "      <td>1</td>\n",
       "      <td>27</td>\n",
       "      <td>0</td>\n",
       "      <td>24</td>\n",
       "      <td>7</td>\n",
       "      <td>37</td>\n",
       "      <td>1</td>\n",
       "      <td>0.020314</td>\n",
       "    </tr>\n",
       "  </tbody>\n",
       "</table>\n",
       "<p>5 rows × 52 columns</p>\n",
       "</div>"
      ],
      "text/plain": [
       "       Molecule  QikProp_.stars  QikProp_.amine  QikProp_.amidine  \\\n",
       "0  Compound0001               5               0                 0   \n",
       "1  Compound0002               0               0                 0   \n",
       "2  Compound0003               0               2                 0   \n",
       "3  Compound0004               0               2                 0   \n",
       "4  Compound0005               0               2                 0   \n",
       "\n",
       "   QikProp_.acid  QikProp_.amide  QikProp_.rotor  QikProp_.rtvFG  QikProp_CNS  \\\n",
       "0              1               0               1               0           -1   \n",
       "1              0               0               5               0           -2   \n",
       "2              1               0               5               0           -1   \n",
       "3              1               0               5               0           -1   \n",
       "4              1               0               4               0           -1   \n",
       "\n",
       "   QikProp_mol_MW             ...               QikProp_PSA  QikProp_.NandO  \\\n",
       "0         123.111             ...                    62.041               3   \n",
       "1         290.272             ...                   111.738               6   \n",
       "2         518.611             ...                   120.746               9   \n",
       "3         532.638             ...                   113.431               9   \n",
       "4         504.585             ...                   120.305               9   \n",
       "\n",
       "   QikProp_RuleOfFive  QikProp_.ringatoms  QikProp_.in34  QikProp_.in56  \\\n",
       "0                   0                   6              0              6   \n",
       "1                   0                  16              0             16   \n",
       "2                   1                  27              0             24   \n",
       "3                   1                  28              0             18   \n",
       "4                   1                  27              0             24   \n",
       "\n",
       "   QikProp_.noncon  QikProp_.nonHatm  QikProp_RuleOfThree  \\\n",
       "0                0                 9                    0   \n",
       "1                3                21                    1   \n",
       "2                7                38                    1   \n",
       "3                8                39                    1   \n",
       "4                7                37                    1   \n",
       "\n",
       "   QikProp_ACxDN..5.SAxSASA.MW  \n",
       "0                     0.028430  \n",
       "1                     0.041983  \n",
       "2                     0.019764  \n",
       "3                     0.019244  \n",
       "4                     0.020314  \n",
       "\n",
       "[5 rows x 52 columns]"
      ]
     },
     "execution_count": 42,
     "metadata": {},
     "output_type": "execute_result"
    }
   ],
   "source": [
    "df_quick=pd.read_csv('caco_QuickProp.tsv', sep='\\t', index_col=False)\n",
    "df_quick.head()"
   ]
  },
  {
   "cell_type": "code",
   "execution_count": 43,
   "metadata": {
    "collapsed": false
   },
   "outputs": [
    {
     "data": {
      "text/html": [
       "<div>\n",
       "<table border=\"1\" class=\"dataframe\">\n",
       "  <thead>\n",
       "    <tr style=\"text-align: right;\">\n",
       "      <th></th>\n",
       "      <th>Molecule</th>\n",
       "      <th>PPFP_FCFP_0001</th>\n",
       "      <th>PPFP_FCFP_0002</th>\n",
       "      <th>PPFP_FCFP_0003</th>\n",
       "      <th>PPFP_FCFP_0004</th>\n",
       "      <th>PPFP_FCFP_0005</th>\n",
       "      <th>PPFP_FCFP_0006</th>\n",
       "      <th>PPFP_FCFP_0007</th>\n",
       "      <th>PPFP_FCFP_0008</th>\n",
       "      <th>PPFP_FCFP_0009</th>\n",
       "      <th>...</th>\n",
       "      <th>PPFP_ECFP_2991</th>\n",
       "      <th>PPFP_ECFP_2992</th>\n",
       "      <th>PPFP_ECFP_2993</th>\n",
       "      <th>PPFP_ECFP_2994</th>\n",
       "      <th>PPFP_ECFP_2995</th>\n",
       "      <th>PPFP_ECFP_2996</th>\n",
       "      <th>PPFP_ECFP_2997</th>\n",
       "      <th>PPFP_ECFP_2998</th>\n",
       "      <th>PPFP_ECFP_2999</th>\n",
       "      <th>PPFP_ECFP_3000</th>\n",
       "    </tr>\n",
       "  </thead>\n",
       "  <tbody>\n",
       "    <tr>\n",
       "      <th>0</th>\n",
       "      <td>Compound0001</td>\n",
       "      <td>0</td>\n",
       "      <td>0</td>\n",
       "      <td>0</td>\n",
       "      <td>0</td>\n",
       "      <td>0</td>\n",
       "      <td>0</td>\n",
       "      <td>0</td>\n",
       "      <td>1</td>\n",
       "      <td>0</td>\n",
       "      <td>...</td>\n",
       "      <td>0</td>\n",
       "      <td>0</td>\n",
       "      <td>0</td>\n",
       "      <td>0</td>\n",
       "      <td>0</td>\n",
       "      <td>0</td>\n",
       "      <td>0</td>\n",
       "      <td>0</td>\n",
       "      <td>0</td>\n",
       "      <td>0</td>\n",
       "    </tr>\n",
       "    <tr>\n",
       "      <th>1</th>\n",
       "      <td>Compound0002</td>\n",
       "      <td>0</td>\n",
       "      <td>0</td>\n",
       "      <td>1</td>\n",
       "      <td>0</td>\n",
       "      <td>1</td>\n",
       "      <td>0</td>\n",
       "      <td>1</td>\n",
       "      <td>1</td>\n",
       "      <td>0</td>\n",
       "      <td>...</td>\n",
       "      <td>0</td>\n",
       "      <td>0</td>\n",
       "      <td>0</td>\n",
       "      <td>0</td>\n",
       "      <td>0</td>\n",
       "      <td>0</td>\n",
       "      <td>0</td>\n",
       "      <td>0</td>\n",
       "      <td>0</td>\n",
       "      <td>0</td>\n",
       "    </tr>\n",
       "    <tr>\n",
       "      <th>2</th>\n",
       "      <td>Compound0003</td>\n",
       "      <td>1</td>\n",
       "      <td>0</td>\n",
       "      <td>0</td>\n",
       "      <td>0</td>\n",
       "      <td>1</td>\n",
       "      <td>0</td>\n",
       "      <td>0</td>\n",
       "      <td>1</td>\n",
       "      <td>0</td>\n",
       "      <td>...</td>\n",
       "      <td>1</td>\n",
       "      <td>0</td>\n",
       "      <td>0</td>\n",
       "      <td>0</td>\n",
       "      <td>0</td>\n",
       "      <td>0</td>\n",
       "      <td>0</td>\n",
       "      <td>0</td>\n",
       "      <td>1</td>\n",
       "      <td>1</td>\n",
       "    </tr>\n",
       "    <tr>\n",
       "      <th>3</th>\n",
       "      <td>Compound0004</td>\n",
       "      <td>1</td>\n",
       "      <td>0</td>\n",
       "      <td>0</td>\n",
       "      <td>0</td>\n",
       "      <td>1</td>\n",
       "      <td>0</td>\n",
       "      <td>0</td>\n",
       "      <td>1</td>\n",
       "      <td>0</td>\n",
       "      <td>...</td>\n",
       "      <td>1</td>\n",
       "      <td>0</td>\n",
       "      <td>0</td>\n",
       "      <td>0</td>\n",
       "      <td>0</td>\n",
       "      <td>0</td>\n",
       "      <td>0</td>\n",
       "      <td>0</td>\n",
       "      <td>1</td>\n",
       "      <td>1</td>\n",
       "    </tr>\n",
       "    <tr>\n",
       "      <th>4</th>\n",
       "      <td>Compound0005</td>\n",
       "      <td>1</td>\n",
       "      <td>0</td>\n",
       "      <td>0</td>\n",
       "      <td>0</td>\n",
       "      <td>1</td>\n",
       "      <td>0</td>\n",
       "      <td>0</td>\n",
       "      <td>1</td>\n",
       "      <td>0</td>\n",
       "      <td>...</td>\n",
       "      <td>1</td>\n",
       "      <td>0</td>\n",
       "      <td>0</td>\n",
       "      <td>0</td>\n",
       "      <td>0</td>\n",
       "      <td>0</td>\n",
       "      <td>0</td>\n",
       "      <td>0</td>\n",
       "      <td>0</td>\n",
       "      <td>1</td>\n",
       "    </tr>\n",
       "  </tbody>\n",
       "</table>\n",
       "<p>5 rows × 5402 columns</p>\n",
       "</div>"
      ],
      "text/plain": [
       "       Molecule  PPFP_FCFP_0001  PPFP_FCFP_0002  PPFP_FCFP_0003  \\\n",
       "0  Compound0001               0               0               0   \n",
       "1  Compound0002               0               0               1   \n",
       "2  Compound0003               1               0               0   \n",
       "3  Compound0004               1               0               0   \n",
       "4  Compound0005               1               0               0   \n",
       "\n",
       "   PPFP_FCFP_0004  PPFP_FCFP_0005  PPFP_FCFP_0006  PPFP_FCFP_0007  \\\n",
       "0               0               0               0               0   \n",
       "1               0               1               0               1   \n",
       "2               0               1               0               0   \n",
       "3               0               1               0               0   \n",
       "4               0               1               0               0   \n",
       "\n",
       "   PPFP_FCFP_0008  PPFP_FCFP_0009       ...        PPFP_ECFP_2991  \\\n",
       "0               1               0       ...                     0   \n",
       "1               1               0       ...                     0   \n",
       "2               1               0       ...                     1   \n",
       "3               1               0       ...                     1   \n",
       "4               1               0       ...                     1   \n",
       "\n",
       "   PPFP_ECFP_2992  PPFP_ECFP_2993  PPFP_ECFP_2994  PPFP_ECFP_2995  \\\n",
       "0               0               0               0               0   \n",
       "1               0               0               0               0   \n",
       "2               0               0               0               0   \n",
       "3               0               0               0               0   \n",
       "4               0               0               0               0   \n",
       "\n",
       "   PPFP_ECFP_2996  PPFP_ECFP_2997  PPFP_ECFP_2998  PPFP_ECFP_2999  \\\n",
       "0               0               0               0               0   \n",
       "1               0               0               0               0   \n",
       "2               0               0               0               1   \n",
       "3               0               0               0               1   \n",
       "4               0               0               0               0   \n",
       "\n",
       "   PPFP_ECFP_3000  \n",
       "0               0  \n",
       "1               0  \n",
       "2               1  \n",
       "3               1  \n",
       "4               1  \n",
       "\n",
       "[5 rows x 5402 columns]"
      ]
     },
     "execution_count": 43,
     "metadata": {},
     "output_type": "execute_result"
    }
   ],
   "source": [
    "df_pipe_FP=pd.read_csv('caco_PipelinePilot_FP.tsv', sep='\\t', index_col=False)\n",
    "df_pipe_FP.head()"
   ]
  },
  {
   "cell_type": "code",
   "execution_count": 44,
   "metadata": {
    "collapsed": false
   },
   "outputs": [
    {
     "data": {
      "text/html": [
       "<div>\n",
       "<table border=\"1\" class=\"dataframe\">\n",
       "  <thead>\n",
       "    <tr style=\"text-align: right;\">\n",
       "      <th></th>\n",
       "      <th>Molecule</th>\n",
       "      <th>Class</th>\n",
       "    </tr>\n",
       "  </thead>\n",
       "  <tbody>\n",
       "    <tr>\n",
       "      <th>0</th>\n",
       "      <td>Compound0001</td>\n",
       "      <td>0.5</td>\n",
       "    </tr>\n",
       "    <tr>\n",
       "      <th>1</th>\n",
       "      <td>Compound0002</td>\n",
       "      <td>0.0</td>\n",
       "    </tr>\n",
       "    <tr>\n",
       "      <th>2</th>\n",
       "      <td>Compound0003</td>\n",
       "      <td>0.5</td>\n",
       "    </tr>\n",
       "    <tr>\n",
       "      <th>3</th>\n",
       "      <td>Compound0004</td>\n",
       "      <td>0.5</td>\n",
       "    </tr>\n",
       "    <tr>\n",
       "      <th>4</th>\n",
       "      <td>Compound0005</td>\n",
       "      <td>0.5</td>\n",
       "    </tr>\n",
       "  </tbody>\n",
       "</table>\n",
       "</div>"
      ],
      "text/plain": [
       "       Molecule  Class\n",
       "0  Compound0001    0.5\n",
       "1  Compound0002    0.0\n",
       "2  Compound0003    0.5\n",
       "3  Compound0004    0.5\n",
       "4  Compound0005    0.5"
      ]
     },
     "execution_count": 44,
     "metadata": {},
     "output_type": "execute_result"
    }
   ],
   "source": [
    "df_out=pd.read_csv('caco_Outcome.tsv', sep='\\t', index_col=False)\n",
    "#df_out.head()\n",
    "df_out.replace({'M':0.5, 'L':0, 'H':1.0}, inplace=True)\n",
    "df_out.head()"
   ]
  },
  {
   "cell_type": "code",
   "execution_count": 45,
   "metadata": {
    "collapsed": true
   },
   "outputs": [],
   "source": [
    "x_df=df_atom"
   ]
  },
  {
   "cell_type": "code",
   "execution_count": 46,
   "metadata": {
    "collapsed": false
   },
   "outputs": [
    {
     "data": {
      "text/html": [
       "<div>\n",
       "<table border=\"1\" class=\"dataframe\">\n",
       "  <thead>\n",
       "    <tr style=\"text-align: right;\">\n",
       "      <th></th>\n",
       "      <th>AP_FP_2</th>\n",
       "      <th>AP_FP_3</th>\n",
       "      <th>AP_FP_4</th>\n",
       "      <th>AP_FP_5</th>\n",
       "      <th>AP_FP_6</th>\n",
       "      <th>AP_FP_460</th>\n",
       "      <th>AP_FP_1700</th>\n",
       "      <th>AP_FP_480</th>\n",
       "      <th>AP_FP_8</th>\n",
       "      <th>AP_FP_1600</th>\n",
       "      <th>...</th>\n",
       "      <th>AP_FP_1787</th>\n",
       "      <th>AP_FP_2233</th>\n",
       "      <th>AP_FP_1542</th>\n",
       "      <th>AP_FP_3736</th>\n",
       "      <th>AP_FP_2696</th>\n",
       "      <th>AP_FP_130</th>\n",
       "      <th>AP_FP_4243</th>\n",
       "      <th>AP_FP_4314</th>\n",
       "      <th>AP_FP_4050</th>\n",
       "      <th>AP_FP_6622</th>\n",
       "    </tr>\n",
       "    <tr>\n",
       "      <th>Molecule</th>\n",
       "      <th></th>\n",
       "      <th></th>\n",
       "      <th></th>\n",
       "      <th></th>\n",
       "      <th></th>\n",
       "      <th></th>\n",
       "      <th></th>\n",
       "      <th></th>\n",
       "      <th></th>\n",
       "      <th></th>\n",
       "      <th></th>\n",
       "      <th></th>\n",
       "      <th></th>\n",
       "      <th></th>\n",
       "      <th></th>\n",
       "      <th></th>\n",
       "      <th></th>\n",
       "      <th></th>\n",
       "      <th></th>\n",
       "      <th></th>\n",
       "      <th></th>\n",
       "    </tr>\n",
       "  </thead>\n",
       "  <tbody>\n",
       "    <tr>\n",
       "      <th>Compound0001</th>\n",
       "      <td>0</td>\n",
       "      <td>0</td>\n",
       "      <td>0</td>\n",
       "      <td>0</td>\n",
       "      <td>0</td>\n",
       "      <td>0</td>\n",
       "      <td>0</td>\n",
       "      <td>0</td>\n",
       "      <td>0</td>\n",
       "      <td>0</td>\n",
       "      <td>...</td>\n",
       "      <td>0</td>\n",
       "      <td>0</td>\n",
       "      <td>0</td>\n",
       "      <td>0</td>\n",
       "      <td>0</td>\n",
       "      <td>0</td>\n",
       "      <td>0</td>\n",
       "      <td>0</td>\n",
       "      <td>0</td>\n",
       "      <td>0</td>\n",
       "    </tr>\n",
       "    <tr>\n",
       "      <th>Compound0002</th>\n",
       "      <td>0</td>\n",
       "      <td>0</td>\n",
       "      <td>0</td>\n",
       "      <td>0</td>\n",
       "      <td>0</td>\n",
       "      <td>0</td>\n",
       "      <td>0</td>\n",
       "      <td>0</td>\n",
       "      <td>0</td>\n",
       "      <td>0</td>\n",
       "      <td>...</td>\n",
       "      <td>0</td>\n",
       "      <td>0</td>\n",
       "      <td>0</td>\n",
       "      <td>0</td>\n",
       "      <td>0</td>\n",
       "      <td>0</td>\n",
       "      <td>0</td>\n",
       "      <td>0</td>\n",
       "      <td>0</td>\n",
       "      <td>0</td>\n",
       "    </tr>\n",
       "    <tr>\n",
       "      <th>Compound0003</th>\n",
       "      <td>0</td>\n",
       "      <td>0</td>\n",
       "      <td>1</td>\n",
       "      <td>0</td>\n",
       "      <td>0</td>\n",
       "      <td>0</td>\n",
       "      <td>0</td>\n",
       "      <td>0</td>\n",
       "      <td>0</td>\n",
       "      <td>0</td>\n",
       "      <td>...</td>\n",
       "      <td>1</td>\n",
       "      <td>0</td>\n",
       "      <td>0</td>\n",
       "      <td>0</td>\n",
       "      <td>0</td>\n",
       "      <td>0</td>\n",
       "      <td>1</td>\n",
       "      <td>3</td>\n",
       "      <td>0</td>\n",
       "      <td>0</td>\n",
       "    </tr>\n",
       "    <tr>\n",
       "      <th>Compound0004</th>\n",
       "      <td>0</td>\n",
       "      <td>0</td>\n",
       "      <td>1</td>\n",
       "      <td>0</td>\n",
       "      <td>0</td>\n",
       "      <td>0</td>\n",
       "      <td>0</td>\n",
       "      <td>0</td>\n",
       "      <td>0</td>\n",
       "      <td>0</td>\n",
       "      <td>...</td>\n",
       "      <td>1</td>\n",
       "      <td>0</td>\n",
       "      <td>0</td>\n",
       "      <td>0</td>\n",
       "      <td>0</td>\n",
       "      <td>0</td>\n",
       "      <td>1</td>\n",
       "      <td>3</td>\n",
       "      <td>0</td>\n",
       "      <td>0</td>\n",
       "    </tr>\n",
       "    <tr>\n",
       "      <th>Compound0005</th>\n",
       "      <td>0</td>\n",
       "      <td>0</td>\n",
       "      <td>1</td>\n",
       "      <td>0</td>\n",
       "      <td>0</td>\n",
       "      <td>0</td>\n",
       "      <td>0</td>\n",
       "      <td>0</td>\n",
       "      <td>0</td>\n",
       "      <td>0</td>\n",
       "      <td>...</td>\n",
       "      <td>0</td>\n",
       "      <td>0</td>\n",
       "      <td>0</td>\n",
       "      <td>0</td>\n",
       "      <td>0</td>\n",
       "      <td>0</td>\n",
       "      <td>1</td>\n",
       "      <td>3</td>\n",
       "      <td>0</td>\n",
       "      <td>0</td>\n",
       "    </tr>\n",
       "  </tbody>\n",
       "</table>\n",
       "<p>5 rows × 996 columns</p>\n",
       "</div>"
      ],
      "text/plain": [
       "              AP_FP_2  AP_FP_3  AP_FP_4  AP_FP_5  AP_FP_6  AP_FP_460  \\\n",
       "Molecule                                                               \n",
       "Compound0001        0        0        0        0        0          0   \n",
       "Compound0002        0        0        0        0        0          0   \n",
       "Compound0003        0        0        1        0        0          0   \n",
       "Compound0004        0        0        1        0        0          0   \n",
       "Compound0005        0        0        1        0        0          0   \n",
       "\n",
       "              AP_FP_1700  AP_FP_480  AP_FP_8  AP_FP_1600     ...      \\\n",
       "Molecule                                                     ...       \n",
       "Compound0001           0          0        0           0     ...       \n",
       "Compound0002           0          0        0           0     ...       \n",
       "Compound0003           0          0        0           0     ...       \n",
       "Compound0004           0          0        0           0     ...       \n",
       "Compound0005           0          0        0           0     ...       \n",
       "\n",
       "              AP_FP_1787  AP_FP_2233  AP_FP_1542  AP_FP_3736  AP_FP_2696  \\\n",
       "Molecule                                                                   \n",
       "Compound0001           0           0           0           0           0   \n",
       "Compound0002           0           0           0           0           0   \n",
       "Compound0003           1           0           0           0           0   \n",
       "Compound0004           1           0           0           0           0   \n",
       "Compound0005           0           0           0           0           0   \n",
       "\n",
       "              AP_FP_130  AP_FP_4243  AP_FP_4314  AP_FP_4050  AP_FP_6622  \n",
       "Molecule                                                                 \n",
       "Compound0001          0           0           0           0           0  \n",
       "Compound0002          0           0           0           0           0  \n",
       "Compound0003          0           1           3           0           0  \n",
       "Compound0004          0           1           3           0           0  \n",
       "Compound0005          0           1           3           0           0  \n",
       "\n",
       "[5 rows x 996 columns]"
      ]
     },
     "execution_count": 46,
     "metadata": {},
     "output_type": "execute_result"
    }
   ],
   "source": [
    "#x_df.drop(x_df.columns[[1]], axis=1)\n",
    "#x_df\n",
    "x_df.set_index('Molecule', inplace=True)\n",
    "x_df.head()"
   ]
  },
  {
   "cell_type": "code",
   "execution_count": 47,
   "metadata": {
    "collapsed": false
   },
   "outputs": [],
   "source": [
    "x_train_df, x_test_df=train_test_split(x_df, test_size=0.2)\n",
    "#x_train_int=table.Columns.RemoveAt(0)"
   ]
  },
  {
   "cell_type": "code",
   "execution_count": 48,
   "metadata": {
    "collapsed": false
   },
   "outputs": [
    {
     "data": {
      "text/plain": [
       "((3036, 996), (760, 996))"
      ]
     },
     "execution_count": 48,
     "metadata": {},
     "output_type": "execute_result"
    }
   ],
   "source": [
    "x_scaler=StandardScaler()\n",
    "x_train=x_scaler.fit_transform(x_train_df)\n",
    "x_test=x_scaler.transform(x_test_df)\n",
    "x_train.shape, x_test.shape"
   ]
  },
  {
   "cell_type": "code",
   "execution_count": 49,
   "metadata": {
    "collapsed": false
   },
   "outputs": [
    {
     "data": {
      "text/html": [
       "<div>\n",
       "<table border=\"1\" class=\"dataframe\">\n",
       "  <thead>\n",
       "    <tr style=\"text-align: right;\">\n",
       "      <th></th>\n",
       "      <th>Molecule</th>\n",
       "      <th>Class</th>\n",
       "    </tr>\n",
       "  </thead>\n",
       "  <tbody>\n",
       "    <tr>\n",
       "      <th>0</th>\n",
       "      <td>Compound0001</td>\n",
       "      <td>0.5</td>\n",
       "    </tr>\n",
       "    <tr>\n",
       "      <th>1</th>\n",
       "      <td>Compound0002</td>\n",
       "      <td>0.0</td>\n",
       "    </tr>\n",
       "    <tr>\n",
       "      <th>2</th>\n",
       "      <td>Compound0003</td>\n",
       "      <td>0.5</td>\n",
       "    </tr>\n",
       "    <tr>\n",
       "      <th>3</th>\n",
       "      <td>Compound0004</td>\n",
       "      <td>0.5</td>\n",
       "    </tr>\n",
       "    <tr>\n",
       "      <th>4</th>\n",
       "      <td>Compound0005</td>\n",
       "      <td>0.5</td>\n",
       "    </tr>\n",
       "  </tbody>\n",
       "</table>\n",
       "</div>"
      ],
      "text/plain": [
       "       Molecule  Class\n",
       "0  Compound0001    0.5\n",
       "1  Compound0002    0.0\n",
       "2  Compound0003    0.5\n",
       "3  Compound0004    0.5\n",
       "4  Compound0005    0.5"
      ]
     },
     "execution_count": 49,
     "metadata": {},
     "output_type": "execute_result"
    }
   ],
   "source": [
    "y_df=df_out\n",
    "y_df.head()"
   ]
  },
  {
   "cell_type": "code",
   "execution_count": 64,
   "metadata": {
    "collapsed": false
   },
   "outputs": [
    {
     "data": {
      "text/html": [
       "<div>\n",
       "<table border=\"1\" class=\"dataframe\">\n",
       "  <thead>\n",
       "    <tr style=\"text-align: right;\">\n",
       "      <th></th>\n",
       "      <th>Class</th>\n",
       "    </tr>\n",
       "  </thead>\n",
       "  <tbody>\n",
       "    <tr>\n",
       "      <th>0</th>\n",
       "      <td>0.5</td>\n",
       "    </tr>\n",
       "    <tr>\n",
       "      <th>1</th>\n",
       "      <td>0.0</td>\n",
       "    </tr>\n",
       "    <tr>\n",
       "      <th>2</th>\n",
       "      <td>0.5</td>\n",
       "    </tr>\n",
       "    <tr>\n",
       "      <th>3</th>\n",
       "      <td>0.5</td>\n",
       "    </tr>\n",
       "    <tr>\n",
       "      <th>4</th>\n",
       "      <td>0.5</td>\n",
       "    </tr>\n",
       "  </tbody>\n",
       "</table>\n",
       "</div>"
      ],
      "text/plain": [
       "   Class\n",
       "0    0.5\n",
       "1    0.0\n",
       "2    0.5\n",
       "3    0.5\n",
       "4    0.5"
      ]
     },
     "execution_count": 64,
     "metadata": {},
     "output_type": "execute_result"
    }
   ],
   "source": [
    "y_final=y_df.drop('Molecule', axis=1)\n",
    "y_final.head()"
   ]
  },
  {
   "cell_type": "code",
   "execution_count": 51,
   "metadata": {
    "collapsed": false
   },
   "outputs": [],
   "source": [
    "#y_df=df_out\n",
    "y_train_df, y_test_df=train_test_split(y_final, test_size=0.2)"
   ]
  },
  {
   "cell_type": "code",
   "execution_count": 52,
   "metadata": {
    "collapsed": false
   },
   "outputs": [
    {
     "data": {
      "text/plain": [
       "(3036, 1)"
      ]
     },
     "execution_count": 52,
     "metadata": {},
     "output_type": "execute_result"
    }
   ],
   "source": [
    "y_scaler=StandardScaler()\n",
    "y_train=y_scaler.fit_transform(y_train_df)\n",
    "y_test=y_scaler.transform(y_test_df)\n",
    "y_train.shape\n",
    "#y_train.reshape((257,1))\n",
    "#y_test.reshape((65,1))"
   ]
  },
  {
   "cell_type": "code",
   "execution_count": 53,
   "metadata": {
    "collapsed": false
   },
   "outputs": [],
   "source": [
    "from sklearn import linear_model, metrics\n",
    "regr=linear_model.LinearRegression()\n",
    "model=regr.fit(x_train, y_train)"
   ]
  },
  {
   "cell_type": "code",
   "execution_count": 54,
   "metadata": {
    "collapsed": false
   },
   "outputs": [
    {
     "name": "stdout",
     "output_type": "stream",
     "text": [
      "-1.62324199726e-05\n"
     ]
    }
   ],
   "source": [
    "from sklearn.metrics import r2_score\n",
    "y_predict=model.predict(x_test)\n",
    "R_Linear=r2_score(y_predict, y_test)\n",
    "print(R_Linear)"
   ]
  },
  {
   "cell_type": "code",
   "execution_count": 55,
   "metadata": {
    "collapsed": false
   },
   "outputs": [
    {
     "name": "stdout",
     "output_type": "stream",
     "text": [
      "-0.000188442604365\n"
     ]
    },
    {
     "name": "stderr",
     "output_type": "stream",
     "text": [
      "C:\\Users\\saiva\\Miniconda3\\lib\\site-packages\\sklearn\\utils\\validation.py:526: DataConversionWarning: A column-vector y was passed when a 1d array was expected. Please change the shape of y to (n_samples, ), for example using ravel().\n",
      "  y = column_or_1d(y, warn=True)\n"
     ]
    }
   ],
   "source": [
    "clf=linear_model.SGDRegressor(loss='squared_loss', penalty='none', alpha=0.0001)\n",
    "model2=clf.fit(x_train, y_train)\n",
    "y_predict=model2.predict(x_test)\n",
    "R_SGD=r2_score(y_predict, y_test)\n",
    "print(R_SGD)"
   ]
  },
  {
   "cell_type": "code",
   "execution_count": 56,
   "metadata": {
    "collapsed": false
   },
   "outputs": [
    {
     "name": "stdout",
     "output_type": "stream",
     "text": [
      "-7.74242348124\n"
     ]
    },
    {
     "name": "stderr",
     "output_type": "stream",
     "text": [
      "C:\\Users\\saiva\\Miniconda3\\lib\\site-packages\\sklearn\\utils\\validation.py:526: DataConversionWarning: A column-vector y was passed when a 1d array was expected. Please change the shape of y to (n_samples, ), for example using ravel().\n",
      "  y = column_or_1d(y, warn=True)\n"
     ]
    }
   ],
   "source": [
    "clf=linear_model.SGDRegressor(loss='huber', alpha=0.0001)\n",
    "model3=clf.fit(x_train, y_train)\n",
    "y_predict=model3.predict(x_test)\n",
    "R_SGD_h=r2_score(y_predict, y_test)\n",
    "print(R_SGD_h)"
   ]
  },
  {
   "cell_type": "code",
   "execution_count": 57,
   "metadata": {
    "collapsed": false
   },
   "outputs": [
    {
     "name": "stdout",
     "output_type": "stream",
     "text": [
      "-0.0251502848647\n"
     ]
    },
    {
     "name": "stderr",
     "output_type": "stream",
     "text": [
      "C:\\Users\\saiva\\Miniconda3\\lib\\site-packages\\sklearn\\utils\\validation.py:526: DataConversionWarning: A column-vector y was passed when a 1d array was expected. Please change the shape of y to (n_samples, ), for example using ravel().\n",
      "  y = column_or_1d(y, warn=True)\n"
     ]
    }
   ],
   "source": [
    "clf=linear_model.SGDRegressor(loss='epsilon_insensitive', penalty='none', alpha=0.0001)\n",
    "model4=clf.fit(x_train, y_train)\n",
    "y_predict=model4.predict(x_test)\n",
    "R_SGD_ep=r2_score(y_predict, y_test)\n",
    "print(R_SGD_ep)"
   ]
  },
  {
   "cell_type": "code",
   "execution_count": 58,
   "metadata": {
    "collapsed": false
   },
   "outputs": [
    {
     "name": "stdout",
     "output_type": "stream",
     "text": [
      "-4.40791881264\n"
     ]
    }
   ],
   "source": [
    "from sklearn import tree\n",
    "regr_1=tree.DecisionTreeRegressor()\n",
    "model5=regr_1.fit(x_train, y_train)\n",
    "y_predict=model5.predict(x_test)\n",
    "#y_1=regr_1.predict(x_test)\n",
    "R_tree=r2_score(y_predict, y_test)\n",
    "print(R_tree)\n",
    "#x_train.size, y_train.size, x_test.size, y_test.size"
   ]
  },
  {
   "cell_type": "code",
   "execution_count": 59,
   "metadata": {
    "collapsed": false
   },
   "outputs": [
    {
     "name": "stdout",
     "output_type": "stream",
     "text": [
      "-0.128736427796\n"
     ]
    }
   ],
   "source": [
    "reg=linear_model.Ridge(alpha=0.5)\n",
    "model6=reg.fit(x_train, y_train)\n",
    "y_predict=model6.predict(x_test)\n",
    "R_Ridge=r2_score(y_predict, y_test)\n",
    "print(R_Ridge)"
   ]
  },
  {
   "cell_type": "code",
   "execution_count": 60,
   "metadata": {
    "collapsed": false
   },
   "outputs": [
    {
     "name": "stdout",
     "output_type": "stream",
     "text": [
      "-0.160416893275\n"
     ]
    }
   ],
   "source": [
    "from sklearn.kernel_ridge import KernelRidge\n",
    "clf_1=KernelRidge(alpha=1.0)\n",
    "model7=clf_1.fit(x_train, y_train)\n",
    "y_predict=model7.predict(x_test)\n",
    "R_KernelRidge=r2_score(y_predict, y_test)\n",
    "print(R_KernelRidge)"
   ]
  },
  {
   "cell_type": "code",
   "execution_count": 61,
   "metadata": {
    "collapsed": false
   },
   "outputs": [
    {
     "name": "stderr",
     "output_type": "stream",
     "text": [
      "C:\\Users\\saiva\\Miniconda3\\lib\\site-packages\\sklearn\\utils\\validation.py:526: DataConversionWarning: A column-vector y was passed when a 1d array was expected. Please change the shape of y to (n_samples, ), for example using ravel().\n",
      "  y = column_or_1d(y, warn=True)\n"
     ]
    },
    {
     "name": "stdout",
     "output_type": "stream",
     "text": [
      "-16.3085112249\n"
     ]
    }
   ],
   "source": [
    "from sklearn.svm import SVR\n",
    "svr_lin=SVR(kernel='rbf', C=1e3)\n",
    "model8=svr_lin.fit(x_train, y_train)\n",
    "y_predict=model8.predict(x_test)\n",
    "R_svr_rbf=r2_score(y_predict, y_test)\n",
    "print(R_svr_rbf)"
   ]
  },
  {
   "cell_type": "code",
   "execution_count": 62,
   "metadata": {
    "collapsed": false
   },
   "outputs": [
    {
     "name": "stderr",
     "output_type": "stream",
     "text": [
      "C:\\Users\\saiva\\Miniconda3\\lib\\site-packages\\sklearn\\utils\\validation.py:526: DataConversionWarning: A column-vector y was passed when a 1d array was expected. Please change the shape of y to (n_samples, ), for example using ravel().\n",
      "  y = column_or_1d(y, warn=True)\n"
     ]
    },
    {
     "name": "stdout",
     "output_type": "stream",
     "text": [
      "-0.00501645990194\n"
     ]
    }
   ],
   "source": [
    "from sklearn.svm import SVR\n",
    "svr_lin=SVR(kernel='poly', C=1e3)\n",
    "model8=svr_lin.fit(x_train, y_train)\n",
    "y_predict=model8.predict(x_test)\n",
    "R_svr_poly=r2_score(y_predict, y_test)\n",
    "print(R_svr_poly)"
   ]
  },
  {
   "cell_type": "code",
   "execution_count": 63,
   "metadata": {
    "collapsed": false
   },
   "outputs": [
    {
     "name": "stderr",
     "output_type": "stream",
     "text": [
      "C:\\Users\\saiva\\Miniconda3\\lib\\site-packages\\sklearn\\utils\\validation.py:526: DataConversionWarning: A column-vector y was passed when a 1d array was expected. Please change the shape of y to (n_samples, ), for example using ravel().\n",
      "  y = column_or_1d(y, warn=True)\n"
     ]
    },
    {
     "name": "stdout",
     "output_type": "stream",
     "text": [
      "-0.000985382690255\n"
     ]
    }
   ],
   "source": [
    "from sklearn.svm import SVR\n",
    "svr_lin=SVR(kernel='sigmoid', C=1e3)\n",
    "model8=svr_lin.fit(x_train, y_train)\n",
    "y_predict=model8.predict(x_test)\n",
    "R_svr_sig=r2_score(y_predict, y_test)\n",
    "print(R_svr_sig)"
   ]
  },
  {
   "cell_type": "code",
   "execution_count": null,
   "metadata": {
    "collapsed": true
   },
   "outputs": [],
   "source": []
  }
 ],
 "metadata": {
  "anaconda-cloud": {},
  "kernelspec": {
   "display_name": "Python [default]",
   "language": "python",
   "name": "python3"
  },
  "language_info": {
   "codemirror_mode": {
    "name": "ipython",
    "version": 3
   },
   "file_extension": ".py",
   "mimetype": "text/x-python",
   "name": "python",
   "nbconvert_exporter": "python",
   "pygments_lexer": "ipython3",
   "version": "3.5.2"
  }
 },
 "nbformat": 4,
 "nbformat_minor": 2
}
