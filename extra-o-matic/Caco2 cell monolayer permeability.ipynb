{
 "cells": [
  {
   "cell_type": "code",
   "execution_count": 1,
   "metadata": {
    "collapsed": false
   },
   "outputs": [
    {
     "name": "stderr",
     "output_type": "stream",
     "text": [
      "Using TensorFlow backend.\n"
     ]
    }
   ],
   "source": [
    "import pandas as pd\n",
    "import numpy as np\n",
    "import matplotlib.pyplot as plt\n",
    "from sklearn.preprocessing import StandardScaler, LabelEncoder\n",
    "from sklearn.model_selection import train_test_split\n",
    "from keras.utils import np_utils\n",
    "from sklearn.tree import *\n",
    "from sklearn.metrics import r2_score, matthews_corrcoef\n",
    "from sklearn import linear_model\n",
    "from sklearn.svm import SVC\n",
    "from sklearn.ensemble import RandomForestClassifier\n",
    "from sklearn.metrics import roc_curve, auc\n",
    "from sklearn.decomposition import PCA\n",
    "from keras.layers import Dense, Dropout\n",
    "from keras.models import Sequential\n",
    "from keras.wrappers.scikit_learn import KerasClassifier\n",
    "from sklearn.pipeline import Pipeline\n",
    "from sklearn.model_selection import KFold, cross_val_score\n",
    "from sklearn.metrics import confusion_matrix\n",
    "from sklearn import linear_model\n",
    "from sklearn.metrics import precision_recall_fscore_support\n",
    "from sklearn.preprocessing import label_binarize\n",
    "from sklearn.metrics import confusion_matrix, classification_report"
   ]
  },
  {
   "cell_type": "code",
   "execution_count": 2,
   "metadata": {
    "collapsed": false
   },
   "outputs": [
    {
     "data": {
      "text/plain": [
       "(3796, 997)"
      ]
     },
     "execution_count": 2,
     "metadata": {},
     "output_type": "execute_result"
    }
   ],
   "source": [
    "df_atom=pd.read_csv('caco_AtomPair.tsv', sep='\\t', index_col=False)\n",
    "df_atom.shape\n",
    "#df_atom.head()"
   ]
  },
  {
   "cell_type": "code",
   "execution_count": 3,
   "metadata": {
    "collapsed": false
   },
   "outputs": [
    {
     "data": {
      "text/html": [
       "<div>\n",
       "<table border=\"1\" class=\"dataframe\">\n",
       "  <thead>\n",
       "    <tr style=\"text-align: right;\">\n",
       "      <th></th>\n",
       "      <th>Molecule</th>\n",
       "      <th>ClogP</th>\n",
       "      <th>QikProp_.stars</th>\n",
       "      <th>QikProp_.amine</th>\n",
       "      <th>QikProp_.amidine</th>\n",
       "      <th>QikProp_.acid</th>\n",
       "      <th>QikProp_.amide</th>\n",
       "      <th>QikProp_.rotor</th>\n",
       "      <th>QikProp_.rtvFG</th>\n",
       "      <th>QikProp_CNS</th>\n",
       "      <th>...</th>\n",
       "      <th>QikProp_PSA</th>\n",
       "      <th>QikProp_.NandO</th>\n",
       "      <th>QikProp_RuleOfFive</th>\n",
       "      <th>QikProp_.ringatoms</th>\n",
       "      <th>QikProp_.in34</th>\n",
       "      <th>QikProp_.in56</th>\n",
       "      <th>QikProp_.noncon</th>\n",
       "      <th>QikProp_.nonHatm</th>\n",
       "      <th>QikProp_RuleOfThree</th>\n",
       "      <th>QikProp_ACxDN..5.SAxSASA.MW</th>\n",
       "    </tr>\n",
       "  </thead>\n",
       "  <tbody>\n",
       "    <tr>\n",
       "      <th>0</th>\n",
       "      <td>Compound0001</td>\n",
       "      <td>0.799</td>\n",
       "      <td>5</td>\n",
       "      <td>0</td>\n",
       "      <td>0</td>\n",
       "      <td>1</td>\n",
       "      <td>0</td>\n",
       "      <td>1</td>\n",
       "      <td>0</td>\n",
       "      <td>-1</td>\n",
       "      <td>...</td>\n",
       "      <td>62.041</td>\n",
       "      <td>3</td>\n",
       "      <td>0</td>\n",
       "      <td>6</td>\n",
       "      <td>0</td>\n",
       "      <td>6</td>\n",
       "      <td>0</td>\n",
       "      <td>9</td>\n",
       "      <td>0</td>\n",
       "      <td>0.028430</td>\n",
       "    </tr>\n",
       "    <tr>\n",
       "      <th>1</th>\n",
       "      <td>Compound0002</td>\n",
       "      <td>0.534</td>\n",
       "      <td>0</td>\n",
       "      <td>0</td>\n",
       "      <td>0</td>\n",
       "      <td>0</td>\n",
       "      <td>0</td>\n",
       "      <td>5</td>\n",
       "      <td>0</td>\n",
       "      <td>-2</td>\n",
       "      <td>...</td>\n",
       "      <td>111.738</td>\n",
       "      <td>6</td>\n",
       "      <td>0</td>\n",
       "      <td>16</td>\n",
       "      <td>0</td>\n",
       "      <td>16</td>\n",
       "      <td>3</td>\n",
       "      <td>21</td>\n",
       "      <td>1</td>\n",
       "      <td>0.041983</td>\n",
       "    </tr>\n",
       "    <tr>\n",
       "      <th>2</th>\n",
       "      <td>Compound0003</td>\n",
       "      <td>1.019</td>\n",
       "      <td>0</td>\n",
       "      <td>2</td>\n",
       "      <td>0</td>\n",
       "      <td>1</td>\n",
       "      <td>0</td>\n",
       "      <td>5</td>\n",
       "      <td>0</td>\n",
       "      <td>-1</td>\n",
       "      <td>...</td>\n",
       "      <td>120.746</td>\n",
       "      <td>9</td>\n",
       "      <td>1</td>\n",
       "      <td>27</td>\n",
       "      <td>0</td>\n",
       "      <td>24</td>\n",
       "      <td>7</td>\n",
       "      <td>38</td>\n",
       "      <td>1</td>\n",
       "      <td>0.019764</td>\n",
       "    </tr>\n",
       "    <tr>\n",
       "      <th>3</th>\n",
       "      <td>Compound0004</td>\n",
       "      <td>1.578</td>\n",
       "      <td>0</td>\n",
       "      <td>2</td>\n",
       "      <td>0</td>\n",
       "      <td>1</td>\n",
       "      <td>0</td>\n",
       "      <td>5</td>\n",
       "      <td>0</td>\n",
       "      <td>-1</td>\n",
       "      <td>...</td>\n",
       "      <td>113.431</td>\n",
       "      <td>9</td>\n",
       "      <td>1</td>\n",
       "      <td>28</td>\n",
       "      <td>0</td>\n",
       "      <td>18</td>\n",
       "      <td>8</td>\n",
       "      <td>39</td>\n",
       "      <td>1</td>\n",
       "      <td>0.019244</td>\n",
       "    </tr>\n",
       "    <tr>\n",
       "      <th>4</th>\n",
       "      <td>Compound0005</td>\n",
       "      <td>1.709</td>\n",
       "      <td>0</td>\n",
       "      <td>2</td>\n",
       "      <td>0</td>\n",
       "      <td>1</td>\n",
       "      <td>0</td>\n",
       "      <td>4</td>\n",
       "      <td>0</td>\n",
       "      <td>-1</td>\n",
       "      <td>...</td>\n",
       "      <td>120.305</td>\n",
       "      <td>9</td>\n",
       "      <td>1</td>\n",
       "      <td>27</td>\n",
       "      <td>0</td>\n",
       "      <td>24</td>\n",
       "      <td>7</td>\n",
       "      <td>37</td>\n",
       "      <td>1</td>\n",
       "      <td>0.020314</td>\n",
       "    </tr>\n",
       "  </tbody>\n",
       "</table>\n",
       "<p>5 rows × 53 columns</p>\n",
       "</div>"
      ],
      "text/plain": [
       "       Molecule  ClogP  QikProp_.stars  QikProp_.amine  QikProp_.amidine  \\\n",
       "0  Compound0001  0.799               5               0                 0   \n",
       "1  Compound0002  0.534               0               0                 0   \n",
       "2  Compound0003  1.019               0               2                 0   \n",
       "3  Compound0004  1.578               0               2                 0   \n",
       "4  Compound0005  1.709               0               2                 0   \n",
       "\n",
       "   QikProp_.acid  QikProp_.amide  QikProp_.rotor  QikProp_.rtvFG  QikProp_CNS  \\\n",
       "0              1               0               1               0           -1   \n",
       "1              0               0               5               0           -2   \n",
       "2              1               0               5               0           -1   \n",
       "3              1               0               5               0           -1   \n",
       "4              1               0               4               0           -1   \n",
       "\n",
       "              ...               QikProp_PSA  QikProp_.NandO  \\\n",
       "0             ...                    62.041               3   \n",
       "1             ...                   111.738               6   \n",
       "2             ...                   120.746               9   \n",
       "3             ...                   113.431               9   \n",
       "4             ...                   120.305               9   \n",
       "\n",
       "   QikProp_RuleOfFive  QikProp_.ringatoms  QikProp_.in34  QikProp_.in56  \\\n",
       "0                   0                   6              0              6   \n",
       "1                   0                  16              0             16   \n",
       "2                   1                  27              0             24   \n",
       "3                   1                  28              0             18   \n",
       "4                   1                  27              0             24   \n",
       "\n",
       "   QikProp_.noncon  QikProp_.nonHatm  QikProp_RuleOfThree  \\\n",
       "0                0                 9                    0   \n",
       "1                3                21                    1   \n",
       "2                7                38                    1   \n",
       "3                8                39                    1   \n",
       "4                7                37                    1   \n",
       "\n",
       "   QikProp_ACxDN..5.SAxSASA.MW  \n",
       "0                     0.028430  \n",
       "1                     0.041983  \n",
       "2                     0.019764  \n",
       "3                     0.019244  \n",
       "4                     0.020314  \n",
       "\n",
       "[5 rows x 53 columns]"
      ]
     },
     "execution_count": 3,
     "metadata": {},
     "output_type": "execute_result"
    }
   ],
   "source": [
    "df_dragon=pd.read_csv('caco_Dragon.tsv', sep='\\t', index_col=False)\n",
    "df_dragon.head()\n",
    "#pd.DataFrame.to_csv(df_dragon)"
   ]
  },
  {
   "cell_type": "code",
   "execution_count": 4,
   "metadata": {
    "collapsed": false
   },
   "outputs": [
    {
     "data": {
      "text/plain": [
       "(3796, 52)"
      ]
     },
     "execution_count": 4,
     "metadata": {},
     "output_type": "execute_result"
    }
   ],
   "source": [
    "df_quick=pd.read_csv('caco_QuickProp.tsv', sep='\\t', index_col=False)\n",
    "df_quick.shape\n",
    "#list(df_quick)"
   ]
  },
  {
   "cell_type": "code",
   "execution_count": 5,
   "metadata": {
    "collapsed": false
   },
   "outputs": [
    {
     "data": {
      "text/plain": [
       "(3796, 5402)"
      ]
     },
     "execution_count": 5,
     "metadata": {},
     "output_type": "execute_result"
    }
   ],
   "source": [
    "df_pipe_FP=pd.read_csv('caco_PipelinePilot_FP.tsv', sep='\\t', index_col=False)\n",
    "df_pipe_FP.shape\n",
    "#list(df_pipe_FP)"
   ]
  },
  {
   "cell_type": "code",
   "execution_count": 6,
   "metadata": {
    "collapsed": false
   },
   "outputs": [
    {
     "data": {
      "text/plain": [
       "['Molecule', 'Class']"
      ]
     },
     "execution_count": 6,
     "metadata": {},
     "output_type": "execute_result"
    }
   ],
   "source": [
    "df_out=pd.read_csv('caco_Outcome.tsv', sep='\\t', index_col=False)\n",
    "list(df_out)"
   ]
  },
  {
   "cell_type": "code",
   "execution_count": 7,
   "metadata": {
    "collapsed": false
   },
   "outputs": [
    {
     "data": {
      "text/html": [
       "<div>\n",
       "<table border=\"1\" class=\"dataframe\">\n",
       "  <thead>\n",
       "    <tr style=\"text-align: right;\">\n",
       "      <th></th>\n",
       "      <th>Molecule</th>\n",
       "      <th>Class</th>\n",
       "    </tr>\n",
       "  </thead>\n",
       "  <tbody>\n",
       "    <tr>\n",
       "      <th>0</th>\n",
       "      <td>Compound0001</td>\n",
       "      <td>M</td>\n",
       "    </tr>\n",
       "    <tr>\n",
       "      <th>1</th>\n",
       "      <td>Compound0002</td>\n",
       "      <td>L</td>\n",
       "    </tr>\n",
       "    <tr>\n",
       "      <th>2</th>\n",
       "      <td>Compound0003</td>\n",
       "      <td>M</td>\n",
       "    </tr>\n",
       "    <tr>\n",
       "      <th>3</th>\n",
       "      <td>Compound0004</td>\n",
       "      <td>M</td>\n",
       "    </tr>\n",
       "    <tr>\n",
       "      <th>4</th>\n",
       "      <td>Compound0005</td>\n",
       "      <td>M</td>\n",
       "    </tr>\n",
       "  </tbody>\n",
       "</table>\n",
       "</div>"
      ],
      "text/plain": [
       "       Molecule Class\n",
       "0  Compound0001     M\n",
       "1  Compound0002     L\n",
       "2  Compound0003     M\n",
       "3  Compound0004     M\n",
       "4  Compound0005     M"
      ]
     },
     "execution_count": 7,
     "metadata": {},
     "output_type": "execute_result"
    }
   ],
   "source": [
    "df_out.head()"
   ]
  },
  {
   "cell_type": "code",
   "execution_count": 8,
   "metadata": {
    "collapsed": true
   },
   "outputs": [],
   "source": [
    "x_df=df_dragon"
   ]
  },
  {
   "cell_type": "code",
   "execution_count": 9,
   "metadata": {
    "collapsed": false
   },
   "outputs": [
    {
     "data": {
      "text/plain": [
       "(3796, 52)"
      ]
     },
     "execution_count": 9,
     "metadata": {},
     "output_type": "execute_result"
    }
   ],
   "source": [
    "#x_df.drop(x_df.columns[[1]], axis=1)\n",
    "#x_df\n",
    "x_df.set_index('Molecule', inplace=True)\n",
    "x_df.shape"
   ]
  },
  {
   "cell_type": "code",
   "execution_count": 10,
   "metadata": {
    "collapsed": false
   },
   "outputs": [
    {
     "data": {
      "image/png": "[encoded data removed]",
      "text/plain": [
       "<matplotlib.figure.Figure at 0x1fa8507a4a8>"
      ]
     },
     "metadata": {},
     "output_type": "display_data"
    }
   ],
   "source": [
    "pca=PCA().fit(x_df)\n",
    "plt.plot(np.cumsum(pca.explained_variance_ratio_))\n",
    "plt.xlabel(\"number of components\")\n",
    "plt.ylabel(\"variance\")\n",
    "plt.show()\n"
   ]
  },
  {
   "cell_type": "code",
   "execution_count": 11,
   "metadata": {
    "collapsed": false
   },
   "outputs": [
    {
     "data": {
      "text/plain": [
       "array([[ -1.40335006e+03,   7.01409152e+01,  -1.07842492e+03, ...,\n",
       "         -2.04727103e-05,   1.08159248e-05,  -4.20342238e-06],\n",
       "       [ -1.51819296e+03,   2.43823452e+01,  -5.84636651e+02, ...,\n",
       "         -1.60950841e-05,   1.40740739e-05,  -1.07600468e-06],\n",
       "       [ -1.62040783e+03,  -7.55738370e+01,   2.88863687e+02, ...,\n",
       "          1.94493486e-05,  -1.20254644e-05,  -1.92309046e-06],\n",
       "       ..., \n",
       "       [ -1.39892385e+03,  -5.47474795e+01,  -4.33796765e+02, ...,\n",
       "          2.74851986e-05,   7.33297167e-06,  -2.97213360e-06],\n",
       "       [  2.18144167e+03,  -9.08005200e+02,  -2.63321722e+02, ...,\n",
       "          7.65010026e-06,  -7.93342243e-06,  -6.69289111e-06],\n",
       "       [ -1.32946514e+03,   5.75405337e+01,  -4.97938366e+02, ...,\n",
       "          6.61600169e-06,  -2.42142725e-05,  -2.25425992e-06]])"
      ]
     },
     "execution_count": 11,
     "metadata": {},
     "output_type": "execute_result"
    }
   ],
   "source": [
    "pca=PCA(n_components=52)\n",
    "x_pca=pca.fit_transform(x_df)\n",
    "x_pca"
   ]
  },
  {
   "cell_type": "code",
   "execution_count": 12,
   "metadata": {
    "collapsed": false
   },
   "outputs": [
    {
     "data": {
      "text/html": [
       "<div>\n",
       "<table border=\"1\" class=\"dataframe\">\n",
       "  <thead>\n",
       "    <tr style=\"text-align: right;\">\n",
       "      <th></th>\n",
       "      <th>Molecule</th>\n",
       "      <th>Class</th>\n",
       "    </tr>\n",
       "  </thead>\n",
       "  <tbody>\n",
       "    <tr>\n",
       "      <th>0</th>\n",
       "      <td>Compound0001</td>\n",
       "      <td>M</td>\n",
       "    </tr>\n",
       "    <tr>\n",
       "      <th>1</th>\n",
       "      <td>Compound0002</td>\n",
       "      <td>L</td>\n",
       "    </tr>\n",
       "    <tr>\n",
       "      <th>2</th>\n",
       "      <td>Compound0003</td>\n",
       "      <td>M</td>\n",
       "    </tr>\n",
       "    <tr>\n",
       "      <th>3</th>\n",
       "      <td>Compound0004</td>\n",
       "      <td>M</td>\n",
       "    </tr>\n",
       "    <tr>\n",
       "      <th>4</th>\n",
       "      <td>Compound0005</td>\n",
       "      <td>M</td>\n",
       "    </tr>\n",
       "  </tbody>\n",
       "</table>\n",
       "</div>"
      ],
      "text/plain": [
       "       Molecule Class\n",
       "0  Compound0001     M\n",
       "1  Compound0002     L\n",
       "2  Compound0003     M\n",
       "3  Compound0004     M\n",
       "4  Compound0005     M"
      ]
     },
     "execution_count": 12,
     "metadata": {},
     "output_type": "execute_result"
    }
   ],
   "source": [
    "y_df=df_out\n",
    "y_df.head()"
   ]
  },
  {
   "cell_type": "code",
   "execution_count": 13,
   "metadata": {
    "collapsed": false
   },
   "outputs": [
    {
     "data": {
      "text/html": [
       "<div>\n",
       "<table border=\"1\" class=\"dataframe\">\n",
       "  <thead>\n",
       "    <tr style=\"text-align: right;\">\n",
       "      <th></th>\n",
       "      <th>Class</th>\n",
       "    </tr>\n",
       "  </thead>\n",
       "  <tbody>\n",
       "    <tr>\n",
       "      <th>0</th>\n",
       "      <td>M</td>\n",
       "    </tr>\n",
       "    <tr>\n",
       "      <th>1</th>\n",
       "      <td>L</td>\n",
       "    </tr>\n",
       "    <tr>\n",
       "      <th>2</th>\n",
       "      <td>M</td>\n",
       "    </tr>\n",
       "    <tr>\n",
       "      <th>3</th>\n",
       "      <td>M</td>\n",
       "    </tr>\n",
       "    <tr>\n",
       "      <th>4</th>\n",
       "      <td>M</td>\n",
       "    </tr>\n",
       "  </tbody>\n",
       "</table>\n",
       "</div>"
      ],
      "text/plain": [
       "  Class\n",
       "0     M\n",
       "1     L\n",
       "2     M\n",
       "3     M\n",
       "4     M"
      ]
     },
     "execution_count": 13,
     "metadata": {},
     "output_type": "execute_result"
    }
   ],
   "source": [
    "y_final=y_df.drop('Molecule', axis=1)\n",
    "y_final.head()\n"
   ]
  },
  {
   "cell_type": "code",
   "execution_count": 14,
   "metadata": {
    "collapsed": false
   },
   "outputs": [],
   "source": [
    "x_train_df, x_test_df, y_train_df, y_test_df=train_test_split(x_pca, y_final, test_size=0.2)\n",
    "#x_train_int=table.Columns.RemoveAt(0)"
   ]
  },
  {
   "cell_type": "code",
   "execution_count": 15,
   "metadata": {
    "collapsed": false
   },
   "outputs": [
    {
     "data": {
      "text/plain": [
       "{False: 683, True: 77}"
      ]
     },
     "execution_count": 15,
     "metadata": {},
     "output_type": "execute_result"
    }
   ],
   "source": [
    "count_L=np.array(y_test_df['Class']=='L')\n",
    "unique, counts= np.unique(count_L, return_counts=True)\n",
    "dict(zip(unique, counts))"
   ]
  },
  {
   "cell_type": "code",
   "execution_count": 16,
   "metadata": {
    "collapsed": false
   },
   "outputs": [
    {
     "data": {
      "text/plain": [
       "{False: 351, True: 409}"
      ]
     },
     "execution_count": 16,
     "metadata": {},
     "output_type": "execute_result"
    }
   ],
   "source": [
    "count_M=np.array(y_test_df['Class']=='M')\n",
    "unique, counts= np.unique(count_M, return_counts=True)\n",
    "dict(zip(unique, counts))"
   ]
  },
  {
   "cell_type": "code",
   "execution_count": 17,
   "metadata": {
    "collapsed": false
   },
   "outputs": [
    {
     "data": {
      "text/plain": [
       "{False: 486, True: 274}"
      ]
     },
     "execution_count": 17,
     "metadata": {},
     "output_type": "execute_result"
    }
   ],
   "source": [
    "count_H=np.array(y_test_df['Class']=='H')\n",
    "unique, counts = np.unique(count_H, return_counts=True)\n",
    "dict(zip(unique, counts))"
   ]
  },
  {
   "cell_type": "code",
   "execution_count": 18,
   "metadata": {
    "collapsed": false
   },
   "outputs": [
    {
     "data": {
      "text/plain": [
       "((3036, 52), (760, 52))"
      ]
     },
     "execution_count": 18,
     "metadata": {},
     "output_type": "execute_result"
    }
   ],
   "source": [
    "x_scaler=StandardScaler()\n",
    "clf_model=x_scaler.fit(x_train_df)\n",
    "x_train_norm=clf_model.transform(x_train_df)\n",
    "x_test_norm=clf_model.transform(x_test_df)\n",
    "x_train_norm.shape, x_test_norm.shape"
   ]
  },
  {
   "cell_type": "code",
   "execution_count": 19,
   "metadata": {
    "collapsed": false
   },
   "outputs": [
    {
     "name": "stderr",
     "output_type": "stream",
     "text": [
      "C:\\Users\\saiva\\Miniconda3\\lib\\site-packages\\sklearn\\preprocessing\\label.py:129: DataConversionWarning: A column-vector y was passed when a 1d array was expected. Please change the shape of y to (n_samples, ), for example using ravel().\n",
      "  y = column_or_1d(y, warn=True)\n"
     ]
    },
    {
     "data": {
      "text/plain": [
       "((3036, 3), (760, 3))"
      ]
     },
     "execution_count": 19,
     "metadata": {},
     "output_type": "execute_result"
    }
   ],
   "source": [
    "y_encoder=LabelEncoder()\n",
    "y_encoded_tr=y_encoder.fit_transform(y_train_df)\n",
    "y_enc_tr=np_utils.to_categorical(y_encoded_tr)\n",
    "y_enc_tr.shape\n",
    "y_encoded_test=y_encoder.fit_transform(y_test_df)\n",
    "y_enc_test=np_utils.to_categorical(y_encoded_test)\n",
    "y_enc_tr.shape,y_enc_test.shape"
   ]
  },
  {
   "cell_type": "code",
   "execution_count": 20,
   "metadata": {
    "collapsed": false
   },
   "outputs": [
    {
     "data": {
      "text/plain": [
       "(3036, 3)"
      ]
     },
     "execution_count": 20,
     "metadata": {},
     "output_type": "execute_result"
    }
   ],
   "source": [
    "y_enc_tr.shape[0], y_enc_tr.shape[1]"
   ]
  },
  {
   "cell_type": "code",
   "execution_count": 21,
   "metadata": {
    "collapsed": false
   },
   "outputs": [
    {
     "data": {
      "text/plain": [
       "(3036, 3)"
      ]
     },
     "execution_count": 21,
     "metadata": {},
     "output_type": "execute_result"
    }
   ],
   "source": [
    "y_scaler=StandardScaler()\n",
    "y_scaler.fit(y_enc_tr)\n",
    "y_train_norm=y_scaler.transform(y_enc_tr)\n",
    "y_test_norm=y_scaler.transform(y_enc_test)\n",
    "y_train_norm.shape"
   ]
  },
  {
   "cell_type": "markdown",
   "metadata": {},
   "source": [
    "**NEURAL NETWORK**"
   ]
  },
  {
   "cell_type": "code",
   "execution_count": 22,
   "metadata": {
    "collapsed": true
   },
   "outputs": [],
   "source": [
    "seed=7\n",
    "np.random.seed(seed)"
   ]
  },
  {
   "cell_type": "code",
   "execution_count": 23,
   "metadata": {
    "collapsed": false
   },
   "outputs": [],
   "source": [
    "def baseline_model():\n",
    "    model=Sequential()\n",
    "    model.add(Dense(5, input_dim=5,init='normal', activation='relu'))\n",
    "    model.add(Dropout(0.2))\n",
    "    model.add(Dense(4, init='normal', activation='relu'))\n",
    "    model.add(Dropout(0.2))\n",
    "    #model.add(Dense(75, init='normal', activation='relu'))\n",
    "    #model.add(Dropout(0.2))\n",
    "    #model.add(Dense(25, init='normal', activation='relu'))\n",
    "    #model.add(Dropout(0.2))   \n",
    "    #model.add(Dense(12, init='normal', activation='relu'))\n",
    "    #model.add(Dropout(0.2))\n",
    "    model.add(Dense(3, init='normal', activation='sigmoid'))\n",
    "    model.compile(loss='categorical_crossentropy', optimizer='adam', metrics=['accuracy'])\n",
    "    #print(model.summary())\n",
    "    return model"
   ]
  },
  {
   "cell_type": "code",
   "execution_count": 24,
   "metadata": {
    "collapsed": false
   },
   "outputs": [],
   "source": [
    "#fit and evaluate the model\n",
    "estimators=[]\n",
    "#estimators.append(('standardise',StandardScaler()))\n",
    "estimators.append(('mlp', KerasClassifier(build_fn=baseline_model, nb_epoch=100, batch_size=200, verbose=0)))\n",
    "pipeline=Pipeline(estimators)\n",
    "kfold=KFold(n_splits=10, shuffle=True, random_state=seed)\n",
    "#results=cross_val_score(pipeline, x_train_norm, y_train_norm, cv=kfold)\n",
    "#print('accuracy:', results.mean()*100)"
   ]
  },
  {
   "cell_type": "code",
   "execution_count": 25,
   "metadata": {
    "collapsed": false
   },
   "outputs": [
    {
     "data": {
      "text/plain": [
       "((3036, 52), (760, 52), (3036, 3), (760, 3))"
      ]
     },
     "execution_count": 25,
     "metadata": {},
     "output_type": "execute_result"
    }
   ],
   "source": [
    "x_train_norm.shape, x_test_norm.shape, y_train_norm.shape, y_test_norm.shape"
   ]
  },
  {
   "cell_type": "code",
   "execution_count": 26,
   "metadata": {
    "collapsed": false
   },
   "outputs": [
    {
     "data": {
      "text/plain": [
       "(3036, 1)"
      ]
     },
     "execution_count": 26,
     "metadata": {},
     "output_type": "execute_result"
    }
   ],
   "source": [
    "y_train_final, y_test_final=train_test_split(y_final, test_size=0.2)\n",
    "y_train_final.shape"
   ]
  },
  {
   "cell_type": "code",
   "execution_count": 27,
   "metadata": {
    "collapsed": false
   },
   "outputs": [
    {
     "name": "stderr",
     "output_type": "stream",
     "text": [
      "C:\\Users\\saiva\\Miniconda3\\lib\\site-packages\\sklearn\\utils\\validation.py:526: DataConversionWarning: A column-vector y was passed when a 1d array was expected. Please change the shape of y to (n_samples, ), for example using ravel().\n",
      "  y = column_or_1d(y, warn=True)\n"
     ]
    },
    {
     "data": {
      "text/plain": [
       "(0.37433063618142676, 0.51184210526315788, 0.39025631200514016, None)"
      ]
     },
     "execution_count": 27,
     "metadata": {},
     "output_type": "execute_result"
    }
   ],
   "source": [
    "clf_linear=linear_model.LogisticRegression()\n",
    "model_linear=clf_linear.fit(x_train_norm, y_train_final)\n",
    "predict_logit=clf_linear.predict(x_test_norm)\n",
    "acc_logit=model_linear.score(x_test_norm, y_test_final)\n",
    "precision_recall_fscore_support(y_test_final, predict_logit, average='weighted')\n",
    "\n",
    "#rint('accuracy:',acc_logit)"
   ]
  },
  {
   "cell_type": "code",
   "execution_count": 28,
   "metadata": {
    "collapsed": false
   },
   "outputs": [],
   "source": [
    "#predict_logit, y_test_final"
   ]
  },
  {
   "cell_type": "code",
   "execution_count": 29,
   "metadata": {
    "collapsed": false
   },
   "outputs": [
    {
     "data": {
      "text/plain": [
       "array([ 0.0433213,  0.       ,  0.9195122])"
      ]
     },
     "execution_count": 29,
     "metadata": {},
     "output_type": "execute_result"
    }
   ],
   "source": [
    "#calculation of the confusion matrix for Logistic\n",
    "clf_logit_predict=clf_linear.predict(x_test_norm)\n",
    "confusion_matrix(y_test_final, clf_logit_predict)\n",
    "\n",
    "cmatrix_logit=confusion_matrix(y_test_final, clf_logit_predict)\n",
    "cmatrix_logit.diagonal()/cmatrix_logit.sum(axis=1)"
   ]
  },
  {
   "cell_type": "code",
   "execution_count": 30,
   "metadata": {
    "collapsed": false
   },
   "outputs": [
    {
     "data": {
      "text/plain": [
       "(array([ 0.1       ,  0.54048964,  0.37899543]),\n",
       " array([ 0.01369863,  0.7       ,  0.29963899]),\n",
       " array([ 0.02409639,  0.60998937,  0.33467742]),\n",
       " array([ 73, 410, 277], dtype=int64))"
      ]
     },
     "execution_count": 30,
     "metadata": {},
     "output_type": "execute_result"
    }
   ],
   "source": [
    "tree_c=DecisionTreeClassifier(random_state=seed)#check this\n",
    "model_c=tree_c.fit(x_train_norm, y_train_final)\n",
    "predict_tree_d=model_c.predict(x_test_norm)\n",
    "acc_clf=model_c.score(x_test_norm, y_test_final)\n",
    "precision_recall_fscore_support(y_test_final, predict_tree_d, labels=['L', 'M',\"H\"])\n",
    "\n",
    "#print('predicted array:', predict_tree_d)\n",
    "#print('accuracy:', acc_clf )\n",
    "#model_c.classes_"
   ]
  },
  {
   "cell_type": "code",
   "execution_count": 31,
   "metadata": {
    "collapsed": false
   },
   "outputs": [
    {
     "data": {
      "text/plain": [
       "array([[  1,  54,  18],\n",
       "       [  5, 287, 118],\n",
       "       [  4, 190,  83]])"
      ]
     },
     "execution_count": 31,
     "metadata": {},
     "output_type": "execute_result"
    }
   ],
   "source": [
    "confusion_matrix(y_test_final, predict_tree_d, labels=[\"L\", \"M\", \"H\"])"
   ]
  },
  {
   "cell_type": "code",
   "execution_count": 32,
   "metadata": {
    "collapsed": false
   },
   "outputs": [
    {
     "name": "stdout",
     "output_type": "stream",
     "text": [
      "             precision    recall  f1-score   support\n",
      "\n",
      "          H       0.38      0.30      0.33       277\n",
      "          L       0.10      0.01      0.02        73\n",
      "          M       0.54      0.70      0.61       410\n",
      "\n",
      "avg / total       0.44      0.49      0.45       760\n",
      "\n"
     ]
    }
   ],
   "source": [
    "print(classification_report(y_test_final, predict_tree_d, target_names=['H','L','M']))"
   ]
  },
  {
   "cell_type": "code",
   "execution_count": 33,
   "metadata": {
    "collapsed": false
   },
   "outputs": [],
   "source": [
    "export_graphviz(tree_c, out_file='tree_clf.dot', rounded=True)#visualizing the decision tree"
   ]
  },
  {
   "cell_type": "code",
   "execution_count": 34,
   "metadata": {
    "collapsed": false
   },
   "outputs": [
    {
     "name": "stdout",
     "output_type": "stream",
     "text": [
      "accuracy of SGD: 0.365789473684\n"
     ]
    },
    {
     "name": "stderr",
     "output_type": "stream",
     "text": [
      "C:\\Users\\saiva\\Miniconda3\\lib\\site-packages\\sklearn\\utils\\validation.py:526: DataConversionWarning: A column-vector y was passed when a 1d array was expected. Please change the shape of y to (n_samples, ), for example using ravel().\n",
      "  y = column_or_1d(y, warn=True)\n"
     ]
    }
   ],
   "source": [
    "clf_SGD=linear_model.SGDClassifier(loss='epsilon_insensitive', penalty='none', alpha=0.0001)\n",
    "clf_SGD.fit(x_train_norm, y_train_final)\n",
    "y_predict_SGD=clf_SGD.predict(x_test_norm)\n",
    "acc_SGD=clf_SGD.score(x_test_norm, y_test_final)\n",
    "print('accuracy of SGD:', acc_SGD)"
   ]
  },
  {
   "cell_type": "code",
   "execution_count": 35,
   "metadata": {
    "collapsed": false
   },
   "outputs": [
    {
     "name": "stderr",
     "output_type": "stream",
     "text": [
      "C:\\Users\\saiva\\Miniconda3\\lib\\site-packages\\sklearn\\utils\\validation.py:526: DataConversionWarning: A column-vector y was passed when a 1d array was expected. Please change the shape of y to (n_samples, ), for example using ravel().\n",
      "  y = column_or_1d(y, warn=True)\n"
     ]
    },
    {
     "name": "stdout",
     "output_type": "stream",
     "text": [
      "accuracy of svc: 0.517105263158\n"
     ]
    }
   ],
   "source": [
    "clf_svc=SVC(kernel='rbf', C=1e3)\n",
    "clf_svc.fit(x_train_norm, y_train_final)\n",
    "y_predict_svc=clf_svc.predict(x_test_norm)\n",
    "acc_svc=clf_svc.score(x_test_norm, y_test_final)\n",
    "\n",
    "print(\"accuracy of svc:\", acc_svc)"
   ]
  },
  {
   "cell_type": "code",
   "execution_count": 36,
   "metadata": {
    "collapsed": false
   },
   "outputs": [
    {
     "data": {
      "text/plain": [
       "array([[  2,  59,  12],\n",
       "       [  0, 334,  76],\n",
       "       [  2, 218,  57]])"
      ]
     },
     "execution_count": 36,
     "metadata": {},
     "output_type": "execute_result"
    }
   ],
   "source": [
    "confusion_matrix(y_test_final, y_predict_svc, labels=['L', 'M', 'H'])"
   ]
  },
  {
   "cell_type": "code",
   "execution_count": 37,
   "metadata": {
    "collapsed": false
   },
   "outputs": [
    {
     "data": {
      "text/plain": [
       "array([ 0.02739726,  0.81463415,  0.20577617])"
      ]
     },
     "execution_count": 37,
     "metadata": {},
     "output_type": "execute_result"
    }
   ],
   "source": [
    "cmatrix_rf=confusion_matrix(y_test_final, y_predict_svc, labels=[\"L\", 'M',\"H\"])\n",
    "cmatrix_rf.diagonal()/cmatrix_rf.sum(axis=1)"
   ]
  },
  {
   "cell_type": "code",
   "execution_count": 38,
   "metadata": {
    "collapsed": false
   },
   "outputs": [
    {
     "name": "stderr",
     "output_type": "stream",
     "text": [
      "C:\\Users\\saiva\\Miniconda3\\lib\\site-packages\\ipykernel\\__main__.py:2: DataConversionWarning: A column-vector y was passed when a 1d array was expected. Please change the shape of y to (n_samples,), for example using ravel().\n",
      "  from ipykernel import kernelapp as app\n"
     ]
    },
    {
     "name": "stdout",
     "output_type": "stream",
     "text": [
      "accuracy of randomforest: 0.503947368421\n",
      "order of classes ['H' 'L' 'M']\n"
     ]
    }
   ],
   "source": [
    "rf=RandomForestClassifier(n_estimators=70)\n",
    "rf.fit(x_train_norm, y_train_final)\n",
    "rf_predict_norm=rf.predict(x_test_norm)\n",
    "acc_rf=rf.score(x_test_norm, y_test_final)\n",
    "print('accuracy of randomforest:', acc_rf)\n",
    "print('order of classes', rf.classes_)"
   ]
  },
  {
   "cell_type": "code",
   "execution_count": 39,
   "metadata": {
    "collapsed": false
   },
   "outputs": [
    {
     "data": {
      "text/plain": [
       "array([[  0,  61,  12],\n",
       "       [  2, 328,  80],\n",
       "       [  2, 220,  55]])"
      ]
     },
     "execution_count": 39,
     "metadata": {},
     "output_type": "execute_result"
    }
   ],
   "source": [
    "#calculating the confusion matrix\n",
    "confusion_matrix(y_test_final, rf_predict_norm, labels=['L', 'M', 'H'])"
   ]
  },
  {
   "cell_type": "code",
   "execution_count": 40,
   "metadata": {
    "collapsed": false
   },
   "outputs": [
    {
     "data": {
      "text/plain": [
       "array([ 0.        ,  0.8       ,  0.19855596])"
      ]
     },
     "execution_count": 40,
     "metadata": {},
     "output_type": "execute_result"
    }
   ],
   "source": [
    "cmatrix_rf=confusion_matrix(y_test_final, rf_predict_norm, labels=[\"L\", 'M',\"H\"])\n",
    "cmatrix_rf.diagonal()/cmatrix_rf.sum(axis=1)"
   ]
  },
  {
   "cell_type": "code",
   "execution_count": 41,
   "metadata": {
    "collapsed": false
   },
   "outputs": [
    {
     "data": {
      "text/plain": [
       "((760, 1), (760, 1))"
      ]
     },
     "execution_count": 41,
     "metadata": {},
     "output_type": "execute_result"
    }
   ],
   "source": [
    "y_test_final=np.array(y_test_final)\n",
    "y_test_final.shape, rf_predict_norm[:, None].shape"
   ]
  },
  {
   "cell_type": "markdown",
   "metadata": {},
   "source": [
    "**Binary class modelling**"
   ]
  },
  {
   "cell_type": "code",
   "execution_count": 42,
   "metadata": {
    "collapsed": false
   },
   "outputs": [],
   "source": [
    "#list(df_dragon), list(df_out)"
   ]
  },
  {
   "cell_type": "code",
   "execution_count": 43,
   "metadata": {
    "collapsed": false
   },
   "outputs": [],
   "source": [
    "df_dragon_mrg=pd.merge(df_quick, df_out)"
   ]
  },
  {
   "cell_type": "code",
   "execution_count": 44,
   "metadata": {
    "collapsed": false
   },
   "outputs": [],
   "source": [
    "#df_dragon_mrg"
   ]
  },
  {
   "cell_type": "code",
   "execution_count": 45,
   "metadata": {
    "collapsed": false
   },
   "outputs": [],
   "source": [
    "#HM model\n",
    "a=df_dragon_mrg[df_out['Class']=='H']\n",
    "b=df_dragon_mrg[df_out['Class']=='M']\n",
    "frames_hm=[a, b]\n",
    "HM=pd.concat(frames_hm)"
   ]
  },
  {
   "cell_type": "code",
   "execution_count": 46,
   "metadata": {
    "collapsed": false
   },
   "outputs": [
    {
     "data": {
      "text/plain": [
       "((3419, 53), (1390, 53), (2029, 53))"
      ]
     },
     "execution_count": 46,
     "metadata": {},
     "output_type": "execute_result"
    }
   ],
   "source": [
    "HM.shape, a.shape, b.shape"
   ]
  },
  {
   "cell_type": "code",
   "execution_count": 47,
   "metadata": {
    "collapsed": true
   },
   "outputs": [],
   "source": [
    "#ML model\n",
    "c=df_dragon_mrg[df_out['Class']=='M']\n",
    "d=df_dragon_mrg[df_out['Class']=='L']\n",
    "frames_ml=[c,d]\n",
    "ML=pd.concat(frames_ml)"
   ]
  },
  {
   "cell_type": "code",
   "execution_count": 48,
   "metadata": {
    "collapsed": false
   },
   "outputs": [
    {
     "data": {
      "text/plain": [
       "((2406, 53), (2029, 53), (377, 53))"
      ]
     },
     "execution_count": 48,
     "metadata": {},
     "output_type": "execute_result"
    }
   ],
   "source": [
    "ML.shape, c.shape, d.shape"
   ]
  },
  {
   "cell_type": "code",
   "execution_count": 49,
   "metadata": {
    "collapsed": false
   },
   "outputs": [
    {
     "data": {
      "text/plain": [
       "array([[5, 0, 0, ..., 0, 9, 0],\n",
       "       [0, 2, 0, ..., 7, 38, 1],\n",
       "       [0, 2, 0, ..., 8, 39, 1],\n",
       "       ..., \n",
       "       [19, 1, 1, ..., 4, 72, 2],\n",
       "       [0, 0, 0, ..., 4, 19, 0],\n",
       "       [0, 1, 0, ..., 4, 24, 0]], dtype=object)"
      ]
     },
     "execution_count": 49,
     "metadata": {},
     "output_type": "execute_result"
    }
   ],
   "source": [
    "x_ML=ML.values[:, 1:51]\n",
    "x_ML"
   ]
  },
  {
   "cell_type": "code",
   "execution_count": 50,
   "metadata": {
    "collapsed": false
   },
   "outputs": [
    {
     "data": {
      "text/plain": [
       "array(['M', 'M', 'M', ..., 'L', 'L', 'L'], dtype=object)"
      ]
     },
     "execution_count": 50,
     "metadata": {},
     "output_type": "execute_result"
    }
   ],
   "source": [
    "y_ML=ML.values[:, 52]\n",
    "y_ML"
   ]
  },
  {
   "cell_type": "code",
   "execution_count": 51,
   "metadata": {
    "collapsed": true
   },
   "outputs": [],
   "source": [
    "ML_x_train, ML_x_test, ML_y_train, ML_y_test = train_test_split(x_ML, y_ML, test_size=0.2)"
   ]
  },
  {
   "cell_type": "code",
   "execution_count": 52,
   "metadata": {
    "collapsed": false
   },
   "outputs": [],
   "source": [
    "#HL model\n",
    "e=df_dragon_mrg[df_out['Class']=='H']\n",
    "f=df_dragon_mrg[df_out['Class']=='L']\n",
    "frames_hl=[e,f]\n",
    "HL=pd.concat(frames_hl)\n",
    "#HL"
   ]
  },
  {
   "cell_type": "code",
   "execution_count": 53,
   "metadata": {
    "collapsed": false
   },
   "outputs": [
    {
     "data": {
      "text/plain": [
       "((1767, 53), (1390, 53), (377, 53))"
      ]
     },
     "execution_count": 53,
     "metadata": {},
     "output_type": "execute_result"
    }
   ],
   "source": [
    "HL.shape, e.shape, f.shape"
   ]
  },
  {
   "cell_type": "code",
   "execution_count": 54,
   "metadata": {
    "collapsed": false
   },
   "outputs": [],
   "source": [
    "x_HL=HL.values[:,1:51]\n",
    "y_HL=HL.values[:, 52]\n"
   ]
  },
  {
   "cell_type": "code",
   "execution_count": 55,
   "metadata": {
    "collapsed": true
   },
   "outputs": [],
   "source": [
    "HL_x_train, HL_x_test, HL_y_train, HL_y_test=train_test_split(x_HL, y_HL, test_size=0.2)"
   ]
  },
  {
   "cell_type": "code",
   "execution_count": 56,
   "metadata": {
    "collapsed": false
   },
   "outputs": [
    {
     "name": "stdout",
     "output_type": "stream",
     "text": [
      "[[  2.   0.   0. ...,   0.  11.   0.]\n",
      " [  0.   0.   0. ...,   0.  11.   0.]\n",
      " [  1.   1.   0. ...,   9.  41.   0.]\n",
      " ..., \n",
      " [  0.   0.   0. ...,   7.  23.   0.]\n",
      " [  0.   1.   0. ...,   5.  28.   0.]\n",
      " [  0.   1.   0. ...,   2.  21.   0.]]\n"
     ]
    }
   ],
   "source": [
    "x_HM=HM.values[:, 1:51].astype('float32')\n",
    "print(x_HM)"
   ]
  },
  {
   "cell_type": "code",
   "execution_count": 57,
   "metadata": {
    "collapsed": false
   },
   "outputs": [
    {
     "data": {
      "text/plain": [
       "array(['H', 'H', 'H', ..., 'M', 'M', 'M'], dtype=object)"
      ]
     },
     "execution_count": 57,
     "metadata": {},
     "output_type": "execute_result"
    }
   ],
   "source": [
    "y_HM=HM.values[:, 52]\n",
    "y_HM"
   ]
  },
  {
   "cell_type": "code",
   "execution_count": 58,
   "metadata": {
    "collapsed": false
   },
   "outputs": [],
   "source": [
    "HM_x_train, HM_x_test, HM_y_train, HM_y_test=train_test_split(x_HM,y_HM, test_size=0.2)"
   ]
  },
  {
   "cell_type": "code",
   "execution_count": 59,
   "metadata": {
    "collapsed": false
   },
   "outputs": [
    {
     "data": {
      "text/plain": [
       "((2735, 50), (684, 50), (2735,), (684,))"
      ]
     },
     "execution_count": 59,
     "metadata": {},
     "output_type": "execute_result"
    }
   ],
   "source": [
    "HM_x_train.shape, HM_x_test.shape, HM_y_train.shape, HM_y_test.shape"
   ]
  },
  {
   "cell_type": "code",
   "execution_count": 60,
   "metadata": {
    "collapsed": false
   },
   "outputs": [
    {
     "data": {
      "text/plain": [
       "((1924, 50), (482, 50), (1924,), (482,))"
      ]
     },
     "execution_count": 60,
     "metadata": {},
     "output_type": "execute_result"
    }
   ],
   "source": [
    "ML_x_train.shape, ML_x_test.shape, ML_y_train.shape, ML_y_test.shape"
   ]
  },
  {
   "cell_type": "code",
   "execution_count": 61,
   "metadata": {
    "collapsed": false
   },
   "outputs": [
    {
     "data": {
      "text/plain": [
       "((1413, 50), (354, 50), (1413,), (354,))"
      ]
     },
     "execution_count": 61,
     "metadata": {},
     "output_type": "execute_result"
    }
   ],
   "source": [
    "HL_x_train.shape, HL_x_test.shape, HL_y_train.shape, HL_y_test.shape"
   ]
  },
  {
   "cell_type": "markdown",
   "metadata": {},
   "source": [
    "** Decision tree model for HM class**"
   ]
  },
  {
   "cell_type": "code",
   "execution_count": 62,
   "metadata": {
    "collapsed": false
   },
   "outputs": [
    {
     "name": "stdout",
     "output_type": "stream",
     "text": [
      "['H' 'M']\n",
      "[[ 0.09677419  0.90322581]\n",
      " [ 0.0741688   0.9258312 ]\n",
      " [ 0.01538462  0.98461538]\n",
      " ..., \n",
      " [ 0.87961477  0.12038523]\n",
      " [ 0.92929293  0.07070707]\n",
      " [ 0.09677419  0.90322581]]\n",
      "accuracy for HM model: 0.883040935673\n",
      "mcc for the CART for HM: 0.750730128958\n"
     ]
    }
   ],
   "source": [
    "tree_hm=DecisionTreeClassifier(min_weight_fraction_leaf=0.13, max_leaf_nodes=12)\n",
    "tree_hm.fit(HM_x_train, HM_y_train)\n",
    "acc_hm=tree_hm.score(HM_x_test, HM_y_test)\n",
    "tree_hm_predict=tree_hm.predict(HM_x_test)\n",
    "\n",
    "#matthews correlation coefficient\n",
    "matt_tree_hm=matthews_corrcoef(HM_y_test, tree_hm_predict)\n",
    "\n",
    "print(tree_hm.classes_)\n",
    "print(tree_hm.predict_proba(HM_x_test))\n",
    "print('accuracy for HM model:',acc_hm)\n",
    "print('mcc for the CART for HM:', matt_tree_hm)\n",
    "#mcc of the literature value for only the CART model is 0.55"
   ]
  },
  {
   "cell_type": "code",
   "execution_count": 63,
   "metadata": {
    "collapsed": false
   },
   "outputs": [
    {
     "data": {
      "text/plain": [
       "(0.388359621804997, 0.61164037819500305)"
      ]
     },
     "execution_count": 63,
     "metadata": {},
     "output_type": "execute_result"
    }
   ],
   "source": [
    "z=tree_hm.predict_proba(HM_x_test)\n",
    "z[:,0].mean(), z[:,1].mean()"
   ]
  },
  {
   "cell_type": "code",
   "execution_count": 64,
   "metadata": {
    "collapsed": false
   },
   "outputs": [
    {
     "data": {
      "text/plain": [
       "array([[211,  52],\n",
       "       [ 28, 393]])"
      ]
     },
     "execution_count": 64,
     "metadata": {},
     "output_type": "execute_result"
    }
   ],
   "source": [
    "#computing the confusion matrix for tree in HM\n",
    "confusion_matrix(HM_y_test, tree_hm_predict)"
   ]
  },
  {
   "cell_type": "code",
   "execution_count": 65,
   "metadata": {
    "collapsed": false
   },
   "outputs": [
    {
     "data": {
      "text/plain": [
       "array([ 0.80228137,  0.93349169])"
      ]
     },
     "execution_count": 65,
     "metadata": {},
     "output_type": "execute_result"
    }
   ],
   "source": [
    "cmatrix_tree_hm=confusion_matrix(HM_y_test, tree_hm_predict)\n",
    "cmatrix_tree_hm.diagonal()/cmatrix_tree_hm.sum(axis=1)\n",
    "#LITERATURE VALUE OF THE CONSENSUS MODEL\n",
    "#H:0.78\n",
    "#M:0.80"
   ]
  },
  {
   "cell_type": "code",
   "execution_count": 66,
   "metadata": {
    "collapsed": false
   },
   "outputs": [],
   "source": [
    "#plotting the receiver operating characteristic curve\n",
    "fpr=dict()\n",
    "tpr=dict()\n",
    "roc_auc=dict()\n",
    "HM_y_test_col=HM_y_test[:,None]\n",
    "tree_hm_predict_col=tree_hm_predict[:,None]\n",
    "#y_tree_ml=tree_hm.fit(HM_x_train, HM_y_train)\n",
    "for i in range(0,1):\n",
    "    fpr[i], tpr[i], _=roc_curve(label_binarize(HM_y_test_col[:,i], classes=['H', 'M']),\n",
    "                                label_binarize(tree_hm_predict_col[:,i], classes=['H','M']))\n",
    "    roc_auc[i]=auc(fpr[i], tpr[i])"
   ]
  },
  {
   "cell_type": "code",
   "execution_count": 67,
   "metadata": {
    "collapsed": false
   },
   "outputs": [
    {
     "data": {
      "image/png": "[encoded data removed]",
      "text/plain": [
       "<matplotlib.figure.Figure at 0x1fa945e4550>"
      ]
     },
     "metadata": {},
     "output_type": "display_data"
    }
   ],
   "source": [
    "plt.figure()\n",
    "lw=2\n",
    "plt.plot(fpr[0], tpr[0], color='darkorange', lw=lw, label='ROC curve(area=%f)' % roc_auc[0])\n",
    "plt.plot([0,1.0], [0, 1.0], color='blue', linestyle='--')\n",
    "plt.xlim([0, 1.0])\n",
    "plt.ylim([0, 1.05])\n",
    "plt.xlabel('False Positive Rate')\n",
    "plt.ylabel('True Positive Rate')\n",
    "plt.title('ROC for CART for HM')\n",
    "plt.legend(loc='lower right')\n",
    "\n",
    "plt.show()"
   ]
  },
  {
   "cell_type": "markdown",
   "metadata": {},
   "source": [
    "**Chiad tree model**"
   ]
  },
  {
   "cell_type": "code",
   "execution_count": 68,
   "metadata": {
    "collapsed": false
   },
   "outputs": [],
   "source": [
    "from CHAID import Tree\n",
    "\n",
    "#CHAID input parameters\n",
    "indep_variable_cols=['Molecule','QikProp_.stars','QikProp_.amine','QikProp_.amidine','QikProp_.acid',\n",
    " 'QikProp_.amide','QikProp_.rotor','QikProp_.rtvFG','QikProp_CNS','QikProp_mol_MW','QikProp_dipole','QikProp_SASA','QikProp_FOSA',\n",
    " 'QikProp_FISA','QikProp_PISA','QikProp_WPSA', 'QikProp_volume','QikProp_donorHB','QikProp_accptHB','QikProp_dip.2.V','QikProp_ACxDN..5.SA',\n",
    " 'QikProp_glob','QikProp_QPpolrz','QikProp_QPlogPC16','QikProp_QPlogPoct','QikProp_QPlogPw','QikProp_QPlogPo.w',\n",
    "'QikProp_QPlogS','QikProp_CIQPlogS','QikProp_QPlogHERG','QikProp_QPPCaco','QikProp_QPlogBB','QikProp_QPPMDCK','QikProp_QPlogKp',\n",
    " 'QikProp_IP.eV.','QikProp_EA.eV.','QikProp_.metab','QikProp_QPlogKhsa','QikProp_HumanOralAbsorption','QikProp_PercentHumanOralAbsorption','QikProp_SAfluorine',\n",
    " 'QikProp_SAamideO','QikProp_PSA', 'QikProp_.NandO','QikProp_RuleOfFive','QikProp_.ringatoms','QikProp_.in34','QikProp_.in56','QikProp_.noncon',\n",
    " 'QikProp_.nonHatm','QikProp_RuleOfThree','QikProp_ACxDN..5.SAxSASA.MW']\n",
    "dep_variable=[\"Class\"]"
   ]
  },
  {
   "cell_type": "code",
   "execution_count": 69,
   "metadata": {
    "collapsed": false
   },
   "outputs": [],
   "source": [
    "#zip(indep_variable_cols,['nominal']*3)"
   ]
  },
  {
   "cell_type": "code",
   "execution_count": 70,
   "metadata": {
    "collapsed": false
   },
   "outputs": [],
   "source": [
    "#tree from pandas\n",
    "tree_chaid= Tree.from_pandas_df(HM, dict(zip(indep_variable_cols, ['nominal']*3)), dep_variable, \n",
    "                          max_depth=4, min_parent_node_size=80, min_child_node_size=35)\n",
    "#tree.to_tree"
   ]
  },
  {
   "cell_type": "markdown",
   "metadata": {},
   "source": [
    "**Random Forest classifier for HM**"
   ]
  },
  {
   "cell_type": "code",
   "execution_count": 71,
   "metadata": {
    "collapsed": false
   },
   "outputs": [
    {
     "name": "stdout",
     "output_type": "stream",
     "text": [
      "['H' 'M']\n",
      "[[ 0.          1.        ]\n",
      " [ 0.          1.        ]\n",
      " [ 0.24736842  0.75263158]\n",
      " ..., \n",
      " [ 1.          0.        ]\n",
      " [ 0.05263158  0.94736842]\n",
      " [ 0.07368421  0.92631579]]\n",
      "accuracy of Random forest for HM model is: 0.950292397661\n",
      "mcc: 0.894659524352\n"
     ]
    },
    {
     "data": {
      "text/plain": [
       "<bound method BaseEstimator.get_params of RandomForestClassifier(bootstrap=True, class_weight=None, criterion='gini',\n",
       "            max_depth=None, max_features='auto', max_leaf_nodes=None,\n",
       "            min_impurity_split=1e-07, min_samples_leaf=1,\n",
       "            min_samples_split=2, min_weight_fraction_leaf=0.0,\n",
       "            n_estimators=95, n_jobs=1, oob_score=False, random_state=1,\n",
       "            verbose=0, warm_start=False)>"
      ]
     },
     "execution_count": 71,
     "metadata": {},
     "output_type": "execute_result"
    }
   ],
   "source": [
    "RF_hm=RandomForestClassifier(n_estimators=95, random_state=1)\n",
    "RF_hm.fit(HM_x_train, HM_y_train)\n",
    "RF_hm_predict= RF_hm.predict(HM_x_test)\n",
    "acc_RF_HM=RF_hm.score(HM_x_test, HM_y_test)\n",
    "\n",
    "print(RF_hm.classes_)\n",
    "print(RF_hm.predict_proba(HM_x_test))\n",
    "print('accuracy of Random forest for HM model is:', acc_RF_HM)\n",
    "\n",
    "\n",
    "#matthews correlation coefficient\n",
    "matt_corr_HM=matthews_corrcoef(HM_y_test, RF_hm_predict)\n",
    "print('mcc:',matt_corr_HM)\n",
    "\n",
    "RF_hm.get_params\n",
    "\n",
    "#MCC OF THE LITERATURE VALUE FOR THE HM RF IS 0.57"
   ]
  },
  {
   "cell_type": "code",
   "execution_count": 72,
   "metadata": {
    "collapsed": false
   },
   "outputs": [
    {
     "data": {
      "text/plain": [
       "array([[241,  22],\n",
       "       [ 12, 409]])"
      ]
     },
     "execution_count": 72,
     "metadata": {},
     "output_type": "execute_result"
    }
   ],
   "source": [
    "confusion_matrix(HM_y_test, RF_hm_predict)"
   ]
  },
  {
   "cell_type": "code",
   "execution_count": 73,
   "metadata": {
    "collapsed": false,
    "scrolled": true
   },
   "outputs": [
    {
     "data": {
      "text/plain": [
       "array([ 0.91634981,  0.97149644])"
      ]
     },
     "execution_count": 73,
     "metadata": {},
     "output_type": "execute_result"
    }
   ],
   "source": [
    "cmatrix_rf_hm=confusion_matrix(HM_y_test, RF_hm_predict)\n",
    "cmatrix_rf_hm.diagonal()/cmatrix_rf_hm.sum(axis=1)\n",
    "#LITERATURE VALUE FOR consensus model\n",
    "#H:0.78\n",
    "#M:0.80"
   ]
  },
  {
   "cell_type": "code",
   "execution_count": 74,
   "metadata": {
    "collapsed": false
   },
   "outputs": [],
   "source": [
    "#RF_hm_predict, HM_y_test"
   ]
  },
  {
   "cell_type": "code",
   "execution_count": 75,
   "metadata": {
    "collapsed": false
   },
   "outputs": [],
   "source": [
    "y=label_binarize(y_HM, classes=['H', 'M'])\n",
    "n_classes=y.shape[1]\n",
    "#roc\n",
    "fpr=dict()\n",
    "tpr=dict()\n",
    "roc_auc=dict()\n",
    "HM_y_test_col=HM_y_test[:, None]\n",
    "RF_hm_predict_col=RF_hm_predict[:,None]\n",
    "for i in range(n_classes):\n",
    "    fpr[i], tpr[i], _= roc_curve(label_binarize(HM_y_test_col[:,i], classes=['H','M']), \n",
    "                                 label_binarize(RF_hm_predict_col[:,i], classes=['H','M']))\n",
    "    roc_auc[i]= auc(fpr[i], tpr[i])\n",
    "    "
   ]
  },
  {
   "cell_type": "code",
   "execution_count": 76,
   "metadata": {
    "collapsed": false
   },
   "outputs": [
    {
     "data": {
      "image/png": "[encoded data removed]",
      "text/plain": [
       "<matplotlib.figure.Figure at 0x1fa85af8438>"
      ]
     },
     "metadata": {},
     "output_type": "display_data"
    }
   ],
   "source": [
    "#plotting the ROC curve\n",
    "plt.figure()\n",
    "lw=2\n",
    "plt.plot(fpr[0], tpr[0], color='darkorange', lw=lw, label='ROC curve (area=%f)' % roc_auc[0])\n",
    "plt.plot([0,1],[0,1], color='navy', lw=lw, linestyle='--')\n",
    "plt.xlim([0.0, 1.0])\n",
    "plt.ylim([0.0, 1.05])\n",
    "plt.xlabel('False Positive Rate')\n",
    "plt.ylabel('True Positive Rate')\n",
    "plt.title('Receiver operating characteristic for RF for HM')\n",
    "plt.legend(loc=\"lower right\")\n",
    "plt.show()\n"
   ]
  },
  {
   "cell_type": "code",
   "execution_count": 77,
   "metadata": {
    "collapsed": false
   },
   "outputs": [
    {
     "data": {
      "text/plain": [
       "array([[  2,   0,   2],\n",
       "       [ 59, 334, 218],\n",
       "       [ 12,  76,  57]])"
      ]
     },
     "execution_count": 77,
     "metadata": {},
     "output_type": "execute_result"
    }
   ],
   "source": [
    "#calculation of confustion matrix\n",
    "confusion_matrix(y_predict_svc, y_test_final, labels=['L', 'M', 'H'])"
   ]
  },
  {
   "cell_type": "code",
   "execution_count": 78,
   "metadata": {
    "collapsed": false
   },
   "outputs": [
    {
     "data": {
      "text/plain": [
       "(684, 1)"
      ]
     },
     "execution_count": 78,
     "metadata": {},
     "output_type": "execute_result"
    }
   ],
   "source": [
    "RF_hm_predict_col.shape"
   ]
  },
  {
   "cell_type": "code",
   "execution_count": 79,
   "metadata": {
    "collapsed": false
   },
   "outputs": [],
   "source": [
    "#RF_hm_predict"
   ]
  },
  {
   "cell_type": "code",
   "execution_count": 80,
   "metadata": {
    "collapsed": false
   },
   "outputs": [
    {
     "name": "stdout",
     "output_type": "stream",
     "text": [
      "accuracy of svc: 0.907894736842\n",
      "mcc of svc_hm: 0.813308836127\n",
      "order of classes ['H' 'M']\n"
     ]
    },
    {
     "data": {
      "text/plain": [
       "<bound method BaseEstimator.get_params of SVC(C=1.0, cache_size=200, class_weight=None, coef0=0.0,\n",
       "  decision_function_shape=None, degree=3, gamma='auto', kernel='rbf',\n",
       "  max_iter=-1, probability=False, random_state=None, shrinking=True,\n",
       "  tol=0.001, verbose=False)>"
      ]
     },
     "execution_count": 80,
     "metadata": {},
     "output_type": "execute_result"
    }
   ],
   "source": [
    "svc_hm=SVC()\n",
    "svc_hm.fit(HM_x_train, HM_y_train)\n",
    "predict_svc_hm=svc_hm.predict(HM_x_test)\n",
    "acc_svc_hm=svc_hm.score(HM_x_test, HM_y_test)\n",
    "#matthews correlation coefficient\n",
    "matt_corr_svc_hm=matthews_corrcoef(HM_y_test, predict_svc_hm)\n",
    "\n",
    "print('accuracy of svc:', acc_svc_hm)\n",
    "print('mcc of svc_hm:', matt_corr_svc_hm)\n",
    "print('order of classes', svc_hm.classes_)\n",
    "svc_hm.get_params"
   ]
  },
  {
   "cell_type": "code",
   "execution_count": 81,
   "metadata": {
    "collapsed": false
   },
   "outputs": [
    {
     "data": {
      "text/plain": [
       "array([[200,  63],\n",
       "       [  0, 421]])"
      ]
     },
     "execution_count": 81,
     "metadata": {},
     "output_type": "execute_result"
    }
   ],
   "source": [
    "#writing the confusion matrix for the HM binary class\n",
    "confusion_matrix(HM_y_test, predict_svc_hm)"
   ]
  },
  {
   "cell_type": "code",
   "execution_count": 82,
   "metadata": {
    "collapsed": false
   },
   "outputs": [
    {
     "data": {
      "text/plain": [
       "array([ 0.76045627,  1.        ])"
      ]
     },
     "execution_count": 82,
     "metadata": {},
     "output_type": "execute_result"
    }
   ],
   "source": [
    "cmatrix_svc_hm=confusion_matrix(HM_y_test, predict_svc_hm)\n",
    "cmatrix_svc_hm.diagonal()/cmatrix_svc_hm.sum(axis=1)"
   ]
  },
  {
   "cell_type": "code",
   "execution_count": 83,
   "metadata": {
    "collapsed": true
   },
   "outputs": [],
   "source": [
    "Vote1=RF_hm_predict"
   ]
  },
  {
   "cell_type": "code",
   "execution_count": 84,
   "metadata": {
    "collapsed": false
   },
   "outputs": [],
   "source": [
    "#tree_hm_predict"
   ]
  },
  {
   "cell_type": "code",
   "execution_count": 85,
   "metadata": {
    "collapsed": true
   },
   "outputs": [],
   "source": [
    "Vote2=tree_hm_predict"
   ]
  },
  {
   "cell_type": "code",
   "execution_count": 86,
   "metadata": {
    "collapsed": true
   },
   "outputs": [],
   "source": [
    "Vote3=predict_svc_hm"
   ]
  },
  {
   "cell_type": "code",
   "execution_count": 87,
   "metadata": {
    "collapsed": false
   },
   "outputs": [],
   "source": [
    "#voting for a binary model\n",
    "consensus=[]\n",
    "for i in range(0, 684):\n",
    "    if Vote1[i]==Vote2[i]:\n",
    "        consensus.append(Vote1[i])\n",
    "    elif Vote1[i]==Vote3[i]:\n",
    "        consensus.append(Vote1[i])\n",
    "    elif Vote2[i]==Vote3[i]:\n",
    "        consensus.append(Vote2[i])\n",
    "    else:\n",
    "        consensus.append('NOTCLASSIFIED')\n",
    "        "
   ]
  },
  {
   "cell_type": "code",
   "execution_count": 88,
   "metadata": {
    "collapsed": false
   },
   "outputs": [
    {
     "data": {
      "text/plain": [
       "array([[216,  47],\n",
       "       [  2, 419]])"
      ]
     },
     "execution_count": 88,
     "metadata": {},
     "output_type": "execute_result"
    }
   ],
   "source": [
    "consensus_predict=np.array(consensus)\n",
    "#len(consensus)\n",
    "confusion_matrix(HM_y_test, consensus_predict)"
   ]
  },
  {
   "cell_type": "code",
   "execution_count": 89,
   "metadata": {
    "collapsed": false
   },
   "outputs": [],
   "source": [
    "cmatrix_tvote=confusion_matrix(HM_y_test, consensus_predict)"
   ]
  },
  {
   "cell_type": "code",
   "execution_count": 90,
   "metadata": {
    "collapsed": false
   },
   "outputs": [
    {
     "data": {
      "text/plain": [
       "array([ 0.82129278,  0.99524941])"
      ]
     },
     "execution_count": 90,
     "metadata": {},
     "output_type": "execute_result"
    }
   ],
   "source": [
    "cmatrix_tvote.diagonal()/cmatrix_tvote.sum(axis=1)"
   ]
  },
  {
   "cell_type": "code",
   "execution_count": 91,
   "metadata": {
    "collapsed": false
   },
   "outputs": [
    {
     "name": "stdout",
     "output_type": "stream",
     "text": [
      "             precision    recall  f1-score   support\n",
      "\n",
      "          H       0.99      0.82      0.90       263\n",
      "          M       0.90      1.00      0.94       421\n",
      "\n",
      "avg / total       0.93      0.93      0.93       684\n",
      "\n"
     ]
    }
   ],
   "source": [
    "print(classification_report(HM_y_test, consensus_predict, target_names=['H','M']))"
   ]
  },
  {
   "cell_type": "code",
   "execution_count": 92,
   "metadata": {
    "collapsed": false
   },
   "outputs": [],
   "source": [
    "y=label_binarize(y_HM, classes=['H', 'M'])\n",
    "n_classes=y.shape[1]\n",
    "#roc\n",
    "fpr=dict()\n",
    "tpr=dict()\n",
    "roc_auc=dict()\n",
    "HM_y_test_col=HM_y_test[:, None]\n",
    "consensus_predict_col=consensus_predict[:,None]\n",
    "for i in range(n_classes):\n",
    "    fpr[i], tpr[i], _= roc_curve(label_binarize(HM_y_test_col[:,i], classes=['H','M']), \n",
    "                                 label_binarize(consensus_predict_col[:,i], classes=['H','M']))\n",
    "    roc_auc[i]= auc(fpr[i], tpr[i])\n",
    "    "
   ]
  },
  {
   "cell_type": "code",
   "execution_count": 93,
   "metadata": {
    "collapsed": false
   },
   "outputs": [
    {
     "data": {
      "image/png": "[encoded data removed]",
      "text/plain": [
       "<matplotlib.figure.Figure at 0x1fa857af9e8>"
      ]
     },
     "metadata": {},
     "output_type": "display_data"
    }
   ],
   "source": [
    "#plotting the ROC curve\n",
    "plt.figure()\n",
    "lw=2\n",
    "plt.plot(fpr[0], tpr[0], color='darkorange', lw=lw, label='ROC curve (area=%f)' % roc_auc[0])\n",
    "plt.plot([0,1],[0,1], color='navy', lw=lw, linestyle='--')\n",
    "plt.xlim([0.0, 1.0])\n",
    "plt.ylim([0.0, 1.05])\n",
    "plt.xlabel('False Positive Rate')\n",
    "plt.ylabel('True Positive Rate')\n",
    "plt.title('Receiver operating characteristic for consensus model for HM class')\n",
    "plt.legend(loc=\"lower right\")\n",
    "plt.show()"
   ]
  },
  {
   "cell_type": "markdown",
   "metadata": {},
   "source": [
    "**NN FOR CLASSIFICATION**"
   ]
  },
  {
   "cell_type": "code",
   "execution_count": 94,
   "metadata": {
    "collapsed": false
   },
   "outputs": [
    {
     "data": {
      "text/plain": [
       "((684, 2), (2735, 2))"
      ]
     },
     "execution_count": 94,
     "metadata": {},
     "output_type": "execute_result"
    }
   ],
   "source": [
    "#one hot encoding\n",
    "y_encoder=LabelEncoder()\n",
    "y_encoded_tr_HM=y_encoder.fit_transform(HM_y_train)\n",
    "y_en_tr_HM=np_utils.to_categorical(y_encoded_tr_HM)\n",
    "y_en_tr_HM.shape\n",
    "y_encoded_test_HM=y_encoder.fit_transform(HM_y_test)\n",
    "y_en_test_HM=np_utils.to_categorical(y_encoded_test_HM)\n",
    "y_en_test_HM.shape, y_en_tr_HM.shape"
   ]
  },
  {
   "cell_type": "code",
   "execution_count": 95,
   "metadata": {
    "collapsed": false
   },
   "outputs": [
    {
     "data": {
      "text/plain": [
       "((2735, 2), (684, 2))"
      ]
     },
     "execution_count": 95,
     "metadata": {},
     "output_type": "execute_result"
    }
   ],
   "source": [
    "y_scaler=StandardScaler()\n",
    "y_scaler.fit(y_en_tr_HM)\n",
    "HM_y_train_norm=y_scaler.transform(y_en_tr_HM)\n",
    "HM_y_test_norm=y_scaler.transform(y_en_test_HM)\n",
    "HM_y_train_norm.shape, HM_y_test_norm.shape"
   ]
  },
  {
   "cell_type": "code",
   "execution_count": 96,
   "metadata": {
    "collapsed": false
   },
   "outputs": [
    {
     "data": {
      "text/plain": [
       "((2735, 50), (684, 50))"
      ]
     },
     "execution_count": 96,
     "metadata": {},
     "output_type": "execute_result"
    }
   ],
   "source": [
    "HM_x_train.shape, HM_x_test.shape"
   ]
  },
  {
   "cell_type": "code",
   "execution_count": 97,
   "metadata": {
    "collapsed": false
   },
   "outputs": [
    {
     "data": {
      "image/png": "[encoded data removed]",
      "text/plain": [
       "<matplotlib.figure.Figure at 0x1fa85e963c8>"
      ]
     },
     "metadata": {},
     "output_type": "display_data"
    }
   ],
   "source": [
    "pca=PCA().fit(HM_x_train)\n",
    "plt.plot(np.cumsum(pca.explained_variance_ratio_))\n",
    "plt.xlabel('components')\n",
    "plt.ylabel('variance')\n",
    "#plt.xlim([-0.05, 1.0])\n",
    "#plt.ylim([0.0, 1.05])\n",
    "plt.show()"
   ]
  },
  {
   "cell_type": "code",
   "execution_count": 98,
   "metadata": {
    "collapsed": false
   },
   "outputs": [
    {
     "data": {
      "text/plain": [
       "(2735, 5)"
      ]
     },
     "execution_count": 98,
     "metadata": {},
     "output_type": "execute_result"
    }
   ],
   "source": [
    "pca=PCA(n_components=5)\n",
    "HM_x_train_pca=pca.fit_transform(HM_x_train)\n",
    "HM_x_test_pca=pca.fit_transform(HM_x_test)\n",
    "HM_x_train_pca.shape"
   ]
  },
  {
   "cell_type": "code",
   "execution_count": 99,
   "metadata": {
    "collapsed": false
   },
   "outputs": [
    {
     "data": {
      "text/plain": [
       "(2735, 5)"
      ]
     },
     "execution_count": 99,
     "metadata": {},
     "output_type": "execute_result"
    }
   ],
   "source": [
    "x_scaler=StandardScaler()\n",
    "x_scaler.fit(HM_x_train_pca)\n",
    "HM_x_train_norm=x_scaler.transform(HM_x_train_pca)\n",
    "HM_x_test_norm=x_scaler.transform(HM_x_test_pca)\n",
    "HM_x_train_norm.shape"
   ]
  },
  {
   "cell_type": "code",
   "execution_count": 100,
   "metadata": {
    "collapsed": false
   },
   "outputs": [],
   "source": [
    "def baseline_model():\n",
    "    model=Sequential()\n",
    "    model.add(Dense(51, input_dim=51, init='normal', activation='relu'))\n",
    "    model.add(Dropout(0.2))\n",
    "    model.add(Dense(26, init='normal', activation='relu'))\n",
    "    model.add(Dropout(0.2))\n",
    "    model.add(Dense(13, init='normal', activation='relu'))\n",
    "    model.add(Dropout(0.2))\n",
    "    model.add(Dense(6, init='normal', activation='relu'))\n",
    "    model.add(Dropout(0.2))\n",
    "    model.add(Dense(3, init='normal', activation='relu'))\n",
    "    model.add(Dropout(0.2))\n",
    "    model.add(Dense(2, init='normal', activation='relu'))\n",
    "    model.add(Dropout(0.2))\n",
    "    model.add(Dense(1, init='normal', activation='sigmoid'))\n",
    "    model.compile(loss='binary_crossentropy', optimizer='adam', metrics=['accuracy'])\n",
    "    return model"
   ]
  },
  {
   "cell_type": "code",
   "execution_count": 101,
   "metadata": {
    "collapsed": false
   },
   "outputs": [
    {
     "name": "stderr",
     "output_type": "stream",
     "text": [
      "C:\\Users\\saiva\\Miniconda3\\lib\\site-packages\\ipykernel\\__main__.py:3: UserWarning: Update your `Dense` call to the Keras 2 API: `Dense(51, activation=\"relu\", kernel_initializer=\"normal\", input_dim=51)`\n",
      "  app.launch_new_instance()\n",
      "C:\\Users\\saiva\\Miniconda3\\lib\\site-packages\\ipykernel\\__main__.py:5: UserWarning: Update your `Dense` call to the Keras 2 API: `Dense(26, activation=\"relu\", kernel_initializer=\"normal\")`\n",
      "C:\\Users\\saiva\\Miniconda3\\lib\\site-packages\\ipykernel\\__main__.py:7: UserWarning: Update your `Dense` call to the Keras 2 API: `Dense(13, activation=\"relu\", kernel_initializer=\"normal\")`\n",
      "C:\\Users\\saiva\\Miniconda3\\lib\\site-packages\\ipykernel\\__main__.py:9: UserWarning: Update your `Dense` call to the Keras 2 API: `Dense(6, activation=\"relu\", kernel_initializer=\"normal\")`\n",
      "C:\\Users\\saiva\\Miniconda3\\lib\\site-packages\\ipykernel\\__main__.py:11: UserWarning: Update your `Dense` call to the Keras 2 API: `Dense(3, activation=\"relu\", kernel_initializer=\"normal\")`\n",
      "C:\\Users\\saiva\\Miniconda3\\lib\\site-packages\\ipykernel\\__main__.py:13: UserWarning: Update your `Dense` call to the Keras 2 API: `Dense(2, activation=\"relu\", kernel_initializer=\"normal\")`\n",
      "C:\\Users\\saiva\\Miniconda3\\lib\\site-packages\\ipykernel\\__main__.py:15: UserWarning: Update your `Dense` call to the Keras 2 API: `Dense(1, activation=\"sigmoid\", kernel_initializer=\"normal\")`\n"
     ]
    },
    {
     "ename": "ValueError",
     "evalue": "Error when checking input: expected dense_1_input to have shape (None, 51) but got array with shape (2461, 5)",
     "output_type": "error",
     "traceback": [
      "\u001b[0;31m---------------------------------------------------------------------------\u001b[0m",
      "\u001b[0;31mValueError\u001b[0m                                Traceback (most recent call last)",
      "\u001b[0;32m<ipython-input-101-1a86c52f9e05>\u001b[0m in \u001b[0;36m<module>\u001b[0;34m()\u001b[0m\n\u001b[1;32m      4\u001b[0m \u001b[0mpipeline\u001b[0m\u001b[1;33m=\u001b[0m\u001b[0mPipeline\u001b[0m\u001b[1;33m(\u001b[0m\u001b[0mestimators\u001b[0m\u001b[1;33m)\u001b[0m\u001b[1;33m\u001b[0m\u001b[0m\n\u001b[1;32m      5\u001b[0m \u001b[0mkfold\u001b[0m\u001b[1;33m=\u001b[0m\u001b[0mKFold\u001b[0m\u001b[1;33m(\u001b[0m\u001b[0mn_splits\u001b[0m\u001b[1;33m=\u001b[0m\u001b[1;36m10\u001b[0m\u001b[1;33m,\u001b[0m \u001b[0mshuffle\u001b[0m\u001b[1;33m=\u001b[0m\u001b[1;32mTrue\u001b[0m\u001b[1;33m,\u001b[0m \u001b[0mrandom_state\u001b[0m\u001b[1;33m=\u001b[0m\u001b[0mseed\u001b[0m\u001b[1;33m)\u001b[0m\u001b[1;33m\u001b[0m\u001b[0m\n\u001b[0;32m----> 6\u001b[0;31m \u001b[0mresults\u001b[0m\u001b[1;33m=\u001b[0m\u001b[0mcross_val_score\u001b[0m\u001b[1;33m(\u001b[0m\u001b[0mpipeline\u001b[0m\u001b[1;33m,\u001b[0m \u001b[0mHM_x_train_norm\u001b[0m\u001b[1;33m,\u001b[0m \u001b[0mHM_y_train_norm\u001b[0m\u001b[1;33m,\u001b[0m \u001b[0mcv\u001b[0m\u001b[1;33m=\u001b[0m\u001b[0mkfold\u001b[0m\u001b[1;33m)\u001b[0m\u001b[1;33m\u001b[0m\u001b[0m\n\u001b[0m\u001b[1;32m      7\u001b[0m \u001b[1;31m#print('accuracy:', results.mean()*100)\u001b[0m\u001b[1;33m\u001b[0m\u001b[1;33m\u001b[0m\u001b[0m\n",
      "\u001b[0;32mC:\\Users\\saiva\\Miniconda3\\lib\\site-packages\\sklearn\\model_selection\\_validation.py\u001b[0m in \u001b[0;36mcross_val_score\u001b[0;34m(estimator, X, y, groups, scoring, cv, n_jobs, verbose, fit_params, pre_dispatch)\u001b[0m\n\u001b[1;32m    138\u001b[0m                                               \u001b[0mtrain\u001b[0m\u001b[1;33m,\u001b[0m \u001b[0mtest\u001b[0m\u001b[1;33m,\u001b[0m \u001b[0mverbose\u001b[0m\u001b[1;33m,\u001b[0m \u001b[1;32mNone\u001b[0m\u001b[1;33m,\u001b[0m\u001b[1;33m\u001b[0m\u001b[0m\n\u001b[1;32m    139\u001b[0m                                               fit_params)\n\u001b[0;32m--> 140\u001b[0;31m                       for train, test in cv_iter)\n\u001b[0m\u001b[1;32m    141\u001b[0m     \u001b[1;32mreturn\u001b[0m \u001b[0mnp\u001b[0m\u001b[1;33m.\u001b[0m\u001b[0marray\u001b[0m\u001b[1;33m(\u001b[0m\u001b[0mscores\u001b[0m\u001b[1;33m)\u001b[0m\u001b[1;33m[\u001b[0m\u001b[1;33m:\u001b[0m\u001b[1;33m,\u001b[0m \u001b[1;36m0\u001b[0m\u001b[1;33m]\u001b[0m\u001b[1;33m\u001b[0m\u001b[0m\n\u001b[1;32m    142\u001b[0m \u001b[1;33m\u001b[0m\u001b[0m\n",
      "\u001b[0;32mC:\\Users\\saiva\\Miniconda3\\lib\\site-packages\\sklearn\\externals\\joblib\\parallel.py\u001b[0m in \u001b[0;36m__call__\u001b[0;34m(self, iterable)\u001b[0m\n\u001b[1;32m    756\u001b[0m             \u001b[1;31m# was dispatched. In particular this covers the edge\u001b[0m\u001b[1;33m\u001b[0m\u001b[1;33m\u001b[0m\u001b[0m\n\u001b[1;32m    757\u001b[0m             \u001b[1;31m# case of Parallel used with an exhausted iterator.\u001b[0m\u001b[1;33m\u001b[0m\u001b[1;33m\u001b[0m\u001b[0m\n\u001b[0;32m--> 758\u001b[0;31m             \u001b[1;32mwhile\u001b[0m \u001b[0mself\u001b[0m\u001b[1;33m.\u001b[0m\u001b[0mdispatch_one_batch\u001b[0m\u001b[1;33m(\u001b[0m\u001b[0miterator\u001b[0m\u001b[1;33m)\u001b[0m\u001b[1;33m:\u001b[0m\u001b[1;33m\u001b[0m\u001b[0m\n\u001b[0m\u001b[1;32m    759\u001b[0m                 \u001b[0mself\u001b[0m\u001b[1;33m.\u001b[0m\u001b[0m_iterating\u001b[0m \u001b[1;33m=\u001b[0m \u001b[1;32mTrue\u001b[0m\u001b[1;33m\u001b[0m\u001b[0m\n\u001b[1;32m    760\u001b[0m             \u001b[1;32melse\u001b[0m\u001b[1;33m:\u001b[0m\u001b[1;33m\u001b[0m\u001b[0m\n",
      "\u001b[0;32mC:\\Users\\saiva\\Miniconda3\\lib\\site-packages\\sklearn\\externals\\joblib\\parallel.py\u001b[0m in \u001b[0;36mdispatch_one_batch\u001b[0;34m(self, iterator)\u001b[0m\n\u001b[1;32m    606\u001b[0m                 \u001b[1;32mreturn\u001b[0m \u001b[1;32mFalse\u001b[0m\u001b[1;33m\u001b[0m\u001b[0m\n\u001b[1;32m    607\u001b[0m             \u001b[1;32melse\u001b[0m\u001b[1;33m:\u001b[0m\u001b[1;33m\u001b[0m\u001b[0m\n\u001b[0;32m--> 608\u001b[0;31m                 \u001b[0mself\u001b[0m\u001b[1;33m.\u001b[0m\u001b[0m_dispatch\u001b[0m\u001b[1;33m(\u001b[0m\u001b[0mtasks\u001b[0m\u001b[1;33m)\u001b[0m\u001b[1;33m\u001b[0m\u001b[0m\n\u001b[0m\u001b[1;32m    609\u001b[0m                 \u001b[1;32mreturn\u001b[0m \u001b[1;32mTrue\u001b[0m\u001b[1;33m\u001b[0m\u001b[0m\n\u001b[1;32m    610\u001b[0m \u001b[1;33m\u001b[0m\u001b[0m\n",
      "\u001b[0;32mC:\\Users\\saiva\\Miniconda3\\lib\\site-packages\\sklearn\\externals\\joblib\\parallel.py\u001b[0m in \u001b[0;36m_dispatch\u001b[0;34m(self, batch)\u001b[0m\n\u001b[1;32m    569\u001b[0m         \u001b[0mdispatch_timestamp\u001b[0m \u001b[1;33m=\u001b[0m \u001b[0mtime\u001b[0m\u001b[1;33m.\u001b[0m\u001b[0mtime\u001b[0m\u001b[1;33m(\u001b[0m\u001b[1;33m)\u001b[0m\u001b[1;33m\u001b[0m\u001b[0m\n\u001b[1;32m    570\u001b[0m         \u001b[0mcb\u001b[0m \u001b[1;33m=\u001b[0m \u001b[0mBatchCompletionCallBack\u001b[0m\u001b[1;33m(\u001b[0m\u001b[0mdispatch_timestamp\u001b[0m\u001b[1;33m,\u001b[0m \u001b[0mlen\u001b[0m\u001b[1;33m(\u001b[0m\u001b[0mbatch\u001b[0m\u001b[1;33m)\u001b[0m\u001b[1;33m,\u001b[0m \u001b[0mself\u001b[0m\u001b[1;33m)\u001b[0m\u001b[1;33m\u001b[0m\u001b[0m\n\u001b[0;32m--> 571\u001b[0;31m         \u001b[0mjob\u001b[0m \u001b[1;33m=\u001b[0m \u001b[0mself\u001b[0m\u001b[1;33m.\u001b[0m\u001b[0m_backend\u001b[0m\u001b[1;33m.\u001b[0m\u001b[0mapply_async\u001b[0m\u001b[1;33m(\u001b[0m\u001b[0mbatch\u001b[0m\u001b[1;33m,\u001b[0m \u001b[0mcallback\u001b[0m\u001b[1;33m=\u001b[0m\u001b[0mcb\u001b[0m\u001b[1;33m)\u001b[0m\u001b[1;33m\u001b[0m\u001b[0m\n\u001b[0m\u001b[1;32m    572\u001b[0m         \u001b[0mself\u001b[0m\u001b[1;33m.\u001b[0m\u001b[0m_jobs\u001b[0m\u001b[1;33m.\u001b[0m\u001b[0mappend\u001b[0m\u001b[1;33m(\u001b[0m\u001b[0mjob\u001b[0m\u001b[1;33m)\u001b[0m\u001b[1;33m\u001b[0m\u001b[0m\n\u001b[1;32m    573\u001b[0m \u001b[1;33m\u001b[0m\u001b[0m\n",
      "\u001b[0;32mC:\\Users\\saiva\\Miniconda3\\lib\\site-packages\\sklearn\\externals\\joblib\\_parallel_backends.py\u001b[0m in \u001b[0;36mapply_async\u001b[0;34m(self, func, callback)\u001b[0m\n\u001b[1;32m    107\u001b[0m     \u001b[1;32mdef\u001b[0m \u001b[0mapply_async\u001b[0m\u001b[1;33m(\u001b[0m\u001b[0mself\u001b[0m\u001b[1;33m,\u001b[0m \u001b[0mfunc\u001b[0m\u001b[1;33m,\u001b[0m \u001b[0mcallback\u001b[0m\u001b[1;33m=\u001b[0m\u001b[1;32mNone\u001b[0m\u001b[1;33m)\u001b[0m\u001b[1;33m:\u001b[0m\u001b[1;33m\u001b[0m\u001b[0m\n\u001b[1;32m    108\u001b[0m         \u001b[1;34m\"\"\"Schedule a func to be run\"\"\"\u001b[0m\u001b[1;33m\u001b[0m\u001b[0m\n\u001b[0;32m--> 109\u001b[0;31m         \u001b[0mresult\u001b[0m \u001b[1;33m=\u001b[0m \u001b[0mImmediateResult\u001b[0m\u001b[1;33m(\u001b[0m\u001b[0mfunc\u001b[0m\u001b[1;33m)\u001b[0m\u001b[1;33m\u001b[0m\u001b[0m\n\u001b[0m\u001b[1;32m    110\u001b[0m         \u001b[1;32mif\u001b[0m \u001b[0mcallback\u001b[0m\u001b[1;33m:\u001b[0m\u001b[1;33m\u001b[0m\u001b[0m\n\u001b[1;32m    111\u001b[0m             \u001b[0mcallback\u001b[0m\u001b[1;33m(\u001b[0m\u001b[0mresult\u001b[0m\u001b[1;33m)\u001b[0m\u001b[1;33m\u001b[0m\u001b[0m\n",
      "\u001b[0;32mC:\\Users\\saiva\\Miniconda3\\lib\\site-packages\\sklearn\\externals\\joblib\\_parallel_backends.py\u001b[0m in \u001b[0;36m__init__\u001b[0;34m(self, batch)\u001b[0m\n\u001b[1;32m    324\u001b[0m         \u001b[1;31m# Don't delay the application, to avoid keeping the input\u001b[0m\u001b[1;33m\u001b[0m\u001b[1;33m\u001b[0m\u001b[0m\n\u001b[1;32m    325\u001b[0m         \u001b[1;31m# arguments in memory\u001b[0m\u001b[1;33m\u001b[0m\u001b[1;33m\u001b[0m\u001b[0m\n\u001b[0;32m--> 326\u001b[0;31m         \u001b[0mself\u001b[0m\u001b[1;33m.\u001b[0m\u001b[0mresults\u001b[0m \u001b[1;33m=\u001b[0m \u001b[0mbatch\u001b[0m\u001b[1;33m(\u001b[0m\u001b[1;33m)\u001b[0m\u001b[1;33m\u001b[0m\u001b[0m\n\u001b[0m\u001b[1;32m    327\u001b[0m \u001b[1;33m\u001b[0m\u001b[0m\n\u001b[1;32m    328\u001b[0m     \u001b[1;32mdef\u001b[0m \u001b[0mget\u001b[0m\u001b[1;33m(\u001b[0m\u001b[0mself\u001b[0m\u001b[1;33m)\u001b[0m\u001b[1;33m:\u001b[0m\u001b[1;33m\u001b[0m\u001b[0m\n",
      "\u001b[0;32mC:\\Users\\saiva\\Miniconda3\\lib\\site-packages\\sklearn\\externals\\joblib\\parallel.py\u001b[0m in \u001b[0;36m__call__\u001b[0;34m(self)\u001b[0m\n\u001b[1;32m    129\u001b[0m \u001b[1;33m\u001b[0m\u001b[0m\n\u001b[1;32m    130\u001b[0m     \u001b[1;32mdef\u001b[0m \u001b[0m__call__\u001b[0m\u001b[1;33m(\u001b[0m\u001b[0mself\u001b[0m\u001b[1;33m)\u001b[0m\u001b[1;33m:\u001b[0m\u001b[1;33m\u001b[0m\u001b[0m\n\u001b[0;32m--> 131\u001b[0;31m         \u001b[1;32mreturn\u001b[0m \u001b[1;33m[\u001b[0m\u001b[0mfunc\u001b[0m\u001b[1;33m(\u001b[0m\u001b[1;33m*\u001b[0m\u001b[0margs\u001b[0m\u001b[1;33m,\u001b[0m \u001b[1;33m**\u001b[0m\u001b[0mkwargs\u001b[0m\u001b[1;33m)\u001b[0m \u001b[1;32mfor\u001b[0m \u001b[0mfunc\u001b[0m\u001b[1;33m,\u001b[0m \u001b[0margs\u001b[0m\u001b[1;33m,\u001b[0m \u001b[0mkwargs\u001b[0m \u001b[1;32min\u001b[0m \u001b[0mself\u001b[0m\u001b[1;33m.\u001b[0m\u001b[0mitems\u001b[0m\u001b[1;33m]\u001b[0m\u001b[1;33m\u001b[0m\u001b[0m\n\u001b[0m\u001b[1;32m    132\u001b[0m \u001b[1;33m\u001b[0m\u001b[0m\n\u001b[1;32m    133\u001b[0m     \u001b[1;32mdef\u001b[0m \u001b[0m__len__\u001b[0m\u001b[1;33m(\u001b[0m\u001b[0mself\u001b[0m\u001b[1;33m)\u001b[0m\u001b[1;33m:\u001b[0m\u001b[1;33m\u001b[0m\u001b[0m\n",
      "\u001b[0;32mC:\\Users\\saiva\\Miniconda3\\lib\\site-packages\\sklearn\\externals\\joblib\\parallel.py\u001b[0m in \u001b[0;36m<listcomp>\u001b[0;34m(.0)\u001b[0m\n\u001b[1;32m    129\u001b[0m \u001b[1;33m\u001b[0m\u001b[0m\n\u001b[1;32m    130\u001b[0m     \u001b[1;32mdef\u001b[0m \u001b[0m__call__\u001b[0m\u001b[1;33m(\u001b[0m\u001b[0mself\u001b[0m\u001b[1;33m)\u001b[0m\u001b[1;33m:\u001b[0m\u001b[1;33m\u001b[0m\u001b[0m\n\u001b[0;32m--> 131\u001b[0;31m         \u001b[1;32mreturn\u001b[0m \u001b[1;33m[\u001b[0m\u001b[0mfunc\u001b[0m\u001b[1;33m(\u001b[0m\u001b[1;33m*\u001b[0m\u001b[0margs\u001b[0m\u001b[1;33m,\u001b[0m \u001b[1;33m**\u001b[0m\u001b[0mkwargs\u001b[0m\u001b[1;33m)\u001b[0m \u001b[1;32mfor\u001b[0m \u001b[0mfunc\u001b[0m\u001b[1;33m,\u001b[0m \u001b[0margs\u001b[0m\u001b[1;33m,\u001b[0m \u001b[0mkwargs\u001b[0m \u001b[1;32min\u001b[0m \u001b[0mself\u001b[0m\u001b[1;33m.\u001b[0m\u001b[0mitems\u001b[0m\u001b[1;33m]\u001b[0m\u001b[1;33m\u001b[0m\u001b[0m\n\u001b[0m\u001b[1;32m    132\u001b[0m \u001b[1;33m\u001b[0m\u001b[0m\n\u001b[1;32m    133\u001b[0m     \u001b[1;32mdef\u001b[0m \u001b[0m__len__\u001b[0m\u001b[1;33m(\u001b[0m\u001b[0mself\u001b[0m\u001b[1;33m)\u001b[0m\u001b[1;33m:\u001b[0m\u001b[1;33m\u001b[0m\u001b[0m\n",
      "\u001b[0;32mC:\\Users\\saiva\\Miniconda3\\lib\\site-packages\\sklearn\\model_selection\\_validation.py\u001b[0m in \u001b[0;36m_fit_and_score\u001b[0;34m(estimator, X, y, scorer, train, test, verbose, parameters, fit_params, return_train_score, return_parameters, return_n_test_samples, return_times, error_score)\u001b[0m\n\u001b[1;32m    236\u001b[0m             \u001b[0mestimator\u001b[0m\u001b[1;33m.\u001b[0m\u001b[0mfit\u001b[0m\u001b[1;33m(\u001b[0m\u001b[0mX_train\u001b[0m\u001b[1;33m,\u001b[0m \u001b[1;33m**\u001b[0m\u001b[0mfit_params\u001b[0m\u001b[1;33m)\u001b[0m\u001b[1;33m\u001b[0m\u001b[0m\n\u001b[1;32m    237\u001b[0m         \u001b[1;32melse\u001b[0m\u001b[1;33m:\u001b[0m\u001b[1;33m\u001b[0m\u001b[0m\n\u001b[0;32m--> 238\u001b[0;31m             \u001b[0mestimator\u001b[0m\u001b[1;33m.\u001b[0m\u001b[0mfit\u001b[0m\u001b[1;33m(\u001b[0m\u001b[0mX_train\u001b[0m\u001b[1;33m,\u001b[0m \u001b[0my_train\u001b[0m\u001b[1;33m,\u001b[0m \u001b[1;33m**\u001b[0m\u001b[0mfit_params\u001b[0m\u001b[1;33m)\u001b[0m\u001b[1;33m\u001b[0m\u001b[0m\n\u001b[0m\u001b[1;32m    239\u001b[0m \u001b[1;33m\u001b[0m\u001b[0m\n\u001b[1;32m    240\u001b[0m     \u001b[1;32mexcept\u001b[0m \u001b[0mException\u001b[0m \u001b[1;32mas\u001b[0m \u001b[0me\u001b[0m\u001b[1;33m:\u001b[0m\u001b[1;33m\u001b[0m\u001b[0m\n",
      "\u001b[0;32mC:\\Users\\saiva\\Miniconda3\\lib\\site-packages\\sklearn\\pipeline.py\u001b[0m in \u001b[0;36mfit\u001b[0;34m(self, X, y, **fit_params)\u001b[0m\n\u001b[1;32m    268\u001b[0m         \u001b[0mXt\u001b[0m\u001b[1;33m,\u001b[0m \u001b[0mfit_params\u001b[0m \u001b[1;33m=\u001b[0m \u001b[0mself\u001b[0m\u001b[1;33m.\u001b[0m\u001b[0m_fit\u001b[0m\u001b[1;33m(\u001b[0m\u001b[0mX\u001b[0m\u001b[1;33m,\u001b[0m \u001b[0my\u001b[0m\u001b[1;33m,\u001b[0m \u001b[1;33m**\u001b[0m\u001b[0mfit_params\u001b[0m\u001b[1;33m)\u001b[0m\u001b[1;33m\u001b[0m\u001b[0m\n\u001b[1;32m    269\u001b[0m         \u001b[1;32mif\u001b[0m \u001b[0mself\u001b[0m\u001b[1;33m.\u001b[0m\u001b[0m_final_estimator\u001b[0m \u001b[1;32mis\u001b[0m \u001b[1;32mnot\u001b[0m \u001b[1;32mNone\u001b[0m\u001b[1;33m:\u001b[0m\u001b[1;33m\u001b[0m\u001b[0m\n\u001b[0;32m--> 270\u001b[0;31m             \u001b[0mself\u001b[0m\u001b[1;33m.\u001b[0m\u001b[0m_final_estimator\u001b[0m\u001b[1;33m.\u001b[0m\u001b[0mfit\u001b[0m\u001b[1;33m(\u001b[0m\u001b[0mXt\u001b[0m\u001b[1;33m,\u001b[0m \u001b[0my\u001b[0m\u001b[1;33m,\u001b[0m \u001b[1;33m**\u001b[0m\u001b[0mfit_params\u001b[0m\u001b[1;33m)\u001b[0m\u001b[1;33m\u001b[0m\u001b[0m\n\u001b[0m\u001b[1;32m    271\u001b[0m         \u001b[1;32mreturn\u001b[0m \u001b[0mself\u001b[0m\u001b[1;33m\u001b[0m\u001b[0m\n\u001b[1;32m    272\u001b[0m \u001b[1;33m\u001b[0m\u001b[0m\n",
      "\u001b[0;32mC:\\Users\\saiva\\Miniconda3\\lib\\site-packages\\keras\\wrappers\\scikit_learn.py\u001b[0m in \u001b[0;36mfit\u001b[0;34m(self, x, y, **kwargs)\u001b[0m\n\u001b[1;32m    201\u001b[0m             \u001b[1;32mraise\u001b[0m \u001b[0mValueError\u001b[0m\u001b[1;33m(\u001b[0m\u001b[1;34m'Invalid shape for y: '\u001b[0m \u001b[1;33m+\u001b[0m \u001b[0mstr\u001b[0m\u001b[1;33m(\u001b[0m\u001b[0my\u001b[0m\u001b[1;33m.\u001b[0m\u001b[0mshape\u001b[0m\u001b[1;33m)\u001b[0m\u001b[1;33m)\u001b[0m\u001b[1;33m\u001b[0m\u001b[0m\n\u001b[1;32m    202\u001b[0m         \u001b[0mself\u001b[0m\u001b[1;33m.\u001b[0m\u001b[0mn_classes_\u001b[0m \u001b[1;33m=\u001b[0m \u001b[0mlen\u001b[0m\u001b[1;33m(\u001b[0m\u001b[0mself\u001b[0m\u001b[1;33m.\u001b[0m\u001b[0mclasses_\u001b[0m\u001b[1;33m)\u001b[0m\u001b[1;33m\u001b[0m\u001b[0m\n\u001b[0;32m--> 203\u001b[0;31m         \u001b[1;32mreturn\u001b[0m \u001b[0msuper\u001b[0m\u001b[1;33m(\u001b[0m\u001b[0mKerasClassifier\u001b[0m\u001b[1;33m,\u001b[0m \u001b[0mself\u001b[0m\u001b[1;33m)\u001b[0m\u001b[1;33m.\u001b[0m\u001b[0mfit\u001b[0m\u001b[1;33m(\u001b[0m\u001b[0mx\u001b[0m\u001b[1;33m,\u001b[0m \u001b[0my\u001b[0m\u001b[1;33m,\u001b[0m \u001b[1;33m**\u001b[0m\u001b[0mkwargs\u001b[0m\u001b[1;33m)\u001b[0m\u001b[1;33m\u001b[0m\u001b[0m\n\u001b[0m\u001b[1;32m    204\u001b[0m \u001b[1;33m\u001b[0m\u001b[0m\n\u001b[1;32m    205\u001b[0m     \u001b[1;32mdef\u001b[0m \u001b[0mpredict\u001b[0m\u001b[1;33m(\u001b[0m\u001b[0mself\u001b[0m\u001b[1;33m,\u001b[0m \u001b[0mx\u001b[0m\u001b[1;33m,\u001b[0m \u001b[1;33m**\u001b[0m\u001b[0mkwargs\u001b[0m\u001b[1;33m)\u001b[0m\u001b[1;33m:\u001b[0m\u001b[1;33m\u001b[0m\u001b[0m\n",
      "\u001b[0;32mC:\\Users\\saiva\\Miniconda3\\lib\\site-packages\\keras\\wrappers\\scikit_learn.py\u001b[0m in \u001b[0;36mfit\u001b[0;34m(self, x, y, **kwargs)\u001b[0m\n\u001b[1;32m    145\u001b[0m         \u001b[0mfit_args\u001b[0m\u001b[1;33m.\u001b[0m\u001b[0mupdate\u001b[0m\u001b[1;33m(\u001b[0m\u001b[0mkwargs\u001b[0m\u001b[1;33m)\u001b[0m\u001b[1;33m\u001b[0m\u001b[0m\n\u001b[1;32m    146\u001b[0m \u001b[1;33m\u001b[0m\u001b[0m\n\u001b[0;32m--> 147\u001b[0;31m         \u001b[0mhistory\u001b[0m \u001b[1;33m=\u001b[0m \u001b[0mself\u001b[0m\u001b[1;33m.\u001b[0m\u001b[0mmodel\u001b[0m\u001b[1;33m.\u001b[0m\u001b[0mfit\u001b[0m\u001b[1;33m(\u001b[0m\u001b[0mx\u001b[0m\u001b[1;33m,\u001b[0m \u001b[0my\u001b[0m\u001b[1;33m,\u001b[0m \u001b[1;33m**\u001b[0m\u001b[0mfit_args\u001b[0m\u001b[1;33m)\u001b[0m\u001b[1;33m\u001b[0m\u001b[0m\n\u001b[0m\u001b[1;32m    148\u001b[0m \u001b[1;33m\u001b[0m\u001b[0m\n\u001b[1;32m    149\u001b[0m         \u001b[1;32mreturn\u001b[0m \u001b[0mhistory\u001b[0m\u001b[1;33m\u001b[0m\u001b[0m\n",
      "\u001b[0;32mC:\\Users\\saiva\\Miniconda3\\lib\\site-packages\\keras\\models.py\u001b[0m in \u001b[0;36mfit\u001b[0;34m(self, x, y, batch_size, epochs, verbose, callbacks, validation_split, validation_data, shuffle, class_weight, sample_weight, initial_epoch, **kwargs)\u001b[0m\n\u001b[1;32m    865\u001b[0m                               \u001b[0mclass_weight\u001b[0m\u001b[1;33m=\u001b[0m\u001b[0mclass_weight\u001b[0m\u001b[1;33m,\u001b[0m\u001b[1;33m\u001b[0m\u001b[0m\n\u001b[1;32m    866\u001b[0m                               \u001b[0msample_weight\u001b[0m\u001b[1;33m=\u001b[0m\u001b[0msample_weight\u001b[0m\u001b[1;33m,\u001b[0m\u001b[1;33m\u001b[0m\u001b[0m\n\u001b[0;32m--> 867\u001b[0;31m                               initial_epoch=initial_epoch)\n\u001b[0m\u001b[1;32m    868\u001b[0m \u001b[1;33m\u001b[0m\u001b[0m\n\u001b[1;32m    869\u001b[0m     def evaluate(self, x, y, batch_size=32, verbose=1,\n",
      "\u001b[0;32mC:\\Users\\saiva\\Miniconda3\\lib\\site-packages\\keras\\engine\\training.py\u001b[0m in \u001b[0;36mfit\u001b[0;34m(self, x, y, batch_size, epochs, verbose, callbacks, validation_split, validation_data, shuffle, class_weight, sample_weight, initial_epoch, steps_per_epoch, validation_steps, **kwargs)\u001b[0m\n\u001b[1;32m   1520\u001b[0m             \u001b[0mclass_weight\u001b[0m\u001b[1;33m=\u001b[0m\u001b[0mclass_weight\u001b[0m\u001b[1;33m,\u001b[0m\u001b[1;33m\u001b[0m\u001b[0m\n\u001b[1;32m   1521\u001b[0m             \u001b[0mcheck_batch_axis\u001b[0m\u001b[1;33m=\u001b[0m\u001b[1;32mFalse\u001b[0m\u001b[1;33m,\u001b[0m\u001b[1;33m\u001b[0m\u001b[0m\n\u001b[0;32m-> 1522\u001b[0;31m             batch_size=batch_size)\n\u001b[0m\u001b[1;32m   1523\u001b[0m         \u001b[1;31m# Prepare validation data.\u001b[0m\u001b[1;33m\u001b[0m\u001b[1;33m\u001b[0m\u001b[0m\n\u001b[1;32m   1524\u001b[0m         \u001b[0mdo_validation\u001b[0m \u001b[1;33m=\u001b[0m \u001b[1;32mFalse\u001b[0m\u001b[1;33m\u001b[0m\u001b[0m\n",
      "\u001b[0;32mC:\\Users\\saiva\\Miniconda3\\lib\\site-packages\\keras\\engine\\training.py\u001b[0m in \u001b[0;36m_standardize_user_data\u001b[0;34m(self, x, y, sample_weight, class_weight, check_batch_axis, batch_size)\u001b[0m\n\u001b[1;32m   1376\u001b[0m                                     \u001b[0mself\u001b[0m\u001b[1;33m.\u001b[0m\u001b[0m_feed_input_shapes\u001b[0m\u001b[1;33m,\u001b[0m\u001b[1;33m\u001b[0m\u001b[0m\n\u001b[1;32m   1377\u001b[0m                                     \u001b[0mcheck_batch_axis\u001b[0m\u001b[1;33m=\u001b[0m\u001b[1;32mFalse\u001b[0m\u001b[1;33m,\u001b[0m\u001b[1;33m\u001b[0m\u001b[0m\n\u001b[0;32m-> 1378\u001b[0;31m                                     exception_prefix='input')\n\u001b[0m\u001b[1;32m   1379\u001b[0m         y = _standardize_input_data(y, self._feed_output_names,\n\u001b[1;32m   1380\u001b[0m                                     \u001b[0moutput_shapes\u001b[0m\u001b[1;33m,\u001b[0m\u001b[1;33m\u001b[0m\u001b[0m\n",
      "\u001b[0;32mC:\\Users\\saiva\\Miniconda3\\lib\\site-packages\\keras\\engine\\training.py\u001b[0m in \u001b[0;36m_standardize_input_data\u001b[0;34m(data, names, shapes, check_batch_axis, exception_prefix)\u001b[0m\n\u001b[1;32m    142\u001b[0m                             \u001b[1;34m' to have shape '\u001b[0m \u001b[1;33m+\u001b[0m \u001b[0mstr\u001b[0m\u001b[1;33m(\u001b[0m\u001b[0mshapes\u001b[0m\u001b[1;33m[\u001b[0m\u001b[0mi\u001b[0m\u001b[1;33m]\u001b[0m\u001b[1;33m)\u001b[0m \u001b[1;33m+\u001b[0m\u001b[1;33m\u001b[0m\u001b[0m\n\u001b[1;32m    143\u001b[0m                             \u001b[1;34m' but got array with shape '\u001b[0m \u001b[1;33m+\u001b[0m\u001b[1;33m\u001b[0m\u001b[0m\n\u001b[0;32m--> 144\u001b[0;31m                             str(array.shape))\n\u001b[0m\u001b[1;32m    145\u001b[0m     \u001b[1;32mreturn\u001b[0m \u001b[0marrays\u001b[0m\u001b[1;33m\u001b[0m\u001b[0m\n\u001b[1;32m    146\u001b[0m \u001b[1;33m\u001b[0m\u001b[0m\n",
      "\u001b[0;31mValueError\u001b[0m: Error when checking input: expected dense_1_input to have shape (None, 51) but got array with shape (2461, 5)"
     ]
    }
   ],
   "source": [
    "#fit and evaluate the model\n",
    "estimators=[]\n",
    "estimators.append(('mlp', KerasClassifier(build_fn=baseline_model, nb_epoch=100, batch_size=20, verbose=0)))\n",
    "pipeline=Pipeline(estimators)\n",
    "kfold=KFold(n_splits=10, shuffle=True, random_state=seed)\n",
    "results=cross_val_score(pipeline, HM_x_train_norm, HM_y_train_norm, cv=kfold)\n",
    "#print('accuracy:', results.mean()*100)"
   ]
  },
  {
   "cell_type": "markdown",
   "metadata": {},
   "source": [
    "**Decision tree classifier for ML**"
   ]
  },
  {
   "cell_type": "code",
   "execution_count": 102,
   "metadata": {
    "collapsed": false
   },
   "outputs": [
    {
     "name": "stdout",
     "output_type": "stream",
     "text": [
      "order of classes: ['L' 'M']\n",
      "<bound method BaseEstimator.get_params of DecisionTreeClassifier(class_weight=None, criterion='gini', max_depth=None,\n",
      "            max_features=None, max_leaf_nodes=10, min_impurity_split=1e-07,\n",
      "            min_samples_leaf=1, min_samples_split=2,\n",
      "            min_weight_fraction_leaf=0.05, presort=False,\n",
      "            random_state=None, splitter='best')>\n",
      "accuracy for the CT for ML model: 0.941908713693\n",
      "probability predictions for ML model: [[ 0.11731844  0.88268156]\n",
      " [ 0.          1.        ]\n",
      " [ 0.02631579  0.97368421]\n",
      " [ 0.          1.        ]\n",
      " [ 0.          1.        ]\n",
      " [ 0.04587156  0.95412844]\n",
      " [ 0.          1.        ]\n",
      " [ 0.          1.        ]\n",
      " [ 0.08849558  0.91150442]\n",
      " [ 0.3960396   0.6039604 ]\n",
      " [ 0.          1.        ]\n",
      " [ 0.26126126  0.73873874]\n",
      " [ 0.          1.        ]\n",
      " [ 0.          1.        ]\n",
      " [ 0.02631579  0.97368421]\n",
      " [ 0.          1.        ]\n",
      " [ 0.          1.        ]\n",
      " [ 0.96899225  0.03100775]\n",
      " [ 0.08849558  0.91150442]\n",
      " [ 0.          1.        ]\n",
      " [ 0.          1.        ]\n",
      " [ 0.          1.        ]\n",
      " [ 0.96899225  0.03100775]\n",
      " [ 0.          1.        ]\n",
      " [ 0.08849558  0.91150442]\n",
      " [ 0.02631579  0.97368421]\n",
      " [ 0.02631579  0.97368421]\n",
      " [ 0.11731844  0.88268156]\n",
      " [ 0.02631579  0.97368421]\n",
      " [ 0.          1.        ]\n",
      " [ 0.3960396   0.6039604 ]\n",
      " [ 0.          1.        ]\n",
      " [ 0.11731844  0.88268156]\n",
      " [ 0.04587156  0.95412844]\n",
      " [ 0.          1.        ]\n",
      " [ 0.          1.        ]\n",
      " [ 0.04587156  0.95412844]\n",
      " [ 0.          1.        ]\n",
      " [ 0.          1.        ]\n",
      " [ 0.73469388  0.26530612]\n",
      " [ 0.          1.        ]\n",
      " [ 0.04587156  0.95412844]\n",
      " [ 0.          1.        ]\n",
      " [ 0.73469388  0.26530612]\n",
      " [ 0.          1.        ]\n",
      " [ 0.3960396   0.6039604 ]\n",
      " [ 0.73469388  0.26530612]\n",
      " [ 0.          1.        ]\n",
      " [ 0.          1.        ]\n",
      " [ 0.          1.        ]\n",
      " [ 0.73469388  0.26530612]\n",
      " [ 0.          1.        ]\n",
      " [ 0.          1.        ]\n",
      " [ 0.08849558  0.91150442]\n",
      " [ 0.3960396   0.6039604 ]\n",
      " [ 0.          1.        ]\n",
      " [ 0.          1.        ]\n",
      " [ 0.          1.        ]\n",
      " [ 0.          1.        ]\n",
      " [ 0.3960396   0.6039604 ]\n",
      " [ 0.          1.        ]\n",
      " [ 0.          1.        ]\n",
      " [ 0.          1.        ]\n",
      " [ 0.          1.        ]\n",
      " [ 0.26126126  0.73873874]\n",
      " [ 0.          1.        ]\n",
      " [ 0.          1.        ]\n",
      " [ 0.04587156  0.95412844]\n",
      " [ 0.          1.        ]\n",
      " [ 0.26126126  0.73873874]\n",
      " [ 0.          1.        ]\n",
      " [ 0.          1.        ]\n",
      " [ 0.11731844  0.88268156]\n",
      " [ 0.          1.        ]\n",
      " [ 0.          1.        ]\n",
      " [ 0.          1.        ]\n",
      " [ 0.          1.        ]\n",
      " [ 0.96899225  0.03100775]\n",
      " [ 0.          1.        ]\n",
      " [ 0.          1.        ]\n",
      " [ 0.11731844  0.88268156]\n",
      " [ 0.          1.        ]\n",
      " [ 0.26126126  0.73873874]\n",
      " [ 0.04587156  0.95412844]\n",
      " [ 0.3960396   0.6039604 ]\n",
      " [ 0.11731844  0.88268156]\n",
      " [ 0.          1.        ]\n",
      " [ 0.          1.        ]\n",
      " [ 0.          1.        ]\n",
      " [ 0.02631579  0.97368421]\n",
      " [ 0.08849558  0.91150442]\n",
      " [ 0.          1.        ]\n",
      " [ 0.          1.        ]\n",
      " [ 0.          1.        ]\n",
      " [ 0.          1.        ]\n",
      " [ 0.02631579  0.97368421]\n",
      " [ 0.26126126  0.73873874]\n",
      " [ 0.02631579  0.97368421]\n",
      " [ 0.          1.        ]\n",
      " [ 0.26126126  0.73873874]\n",
      " [ 0.96899225  0.03100775]\n",
      " [ 0.04587156  0.95412844]\n",
      " [ 0.73469388  0.26530612]\n",
      " [ 0.73469388  0.26530612]\n",
      " [ 0.          1.        ]\n",
      " [ 0.08849558  0.91150442]\n",
      " [ 0.          1.        ]\n",
      " [ 0.02631579  0.97368421]\n",
      " [ 0.04587156  0.95412844]\n",
      " [ 0.          1.        ]\n",
      " [ 0.          1.        ]\n",
      " [ 0.3960396   0.6039604 ]\n",
      " [ 0.          1.        ]\n",
      " [ 0.          1.        ]\n",
      " [ 0.          1.        ]\n",
      " [ 0.          1.        ]\n",
      " [ 0.          1.        ]\n",
      " [ 0.02631579  0.97368421]\n",
      " [ 0.26126126  0.73873874]\n",
      " [ 0.          1.        ]\n",
      " [ 0.          1.        ]\n",
      " [ 0.08849558  0.91150442]\n",
      " [ 0.          1.        ]\n",
      " [ 0.08849558  0.91150442]\n",
      " [ 0.11731844  0.88268156]\n",
      " [ 0.          1.        ]\n",
      " [ 0.02631579  0.97368421]\n",
      " [ 0.04587156  0.95412844]\n",
      " [ 0.02631579  0.97368421]\n",
      " [ 0.          1.        ]\n",
      " [ 0.          1.        ]\n",
      " [ 0.          1.        ]\n",
      " [ 0.3960396   0.6039604 ]\n",
      " [ 0.          1.        ]\n",
      " [ 0.          1.        ]\n",
      " [ 0.26126126  0.73873874]\n",
      " [ 0.          1.        ]\n",
      " [ 0.73469388  0.26530612]\n",
      " [ 0.04587156  0.95412844]\n",
      " [ 0.          1.        ]\n",
      " [ 0.          1.        ]\n",
      " [ 0.04587156  0.95412844]\n",
      " [ 0.          1.        ]\n",
      " [ 0.96899225  0.03100775]\n",
      " [ 0.          1.        ]\n",
      " [ 0.          1.        ]\n",
      " [ 0.          1.        ]\n",
      " [ 0.11731844  0.88268156]\n",
      " [ 0.          1.        ]\n",
      " [ 0.          1.        ]\n",
      " [ 0.96899225  0.03100775]\n",
      " [ 0.          1.        ]\n",
      " [ 0.08849558  0.91150442]\n",
      " [ 0.04587156  0.95412844]\n",
      " [ 0.          1.        ]\n",
      " [ 0.          1.        ]\n",
      " [ 0.          1.        ]\n",
      " [ 0.          1.        ]\n",
      " [ 0.          1.        ]\n",
      " [ 0.          1.        ]\n",
      " [ 0.          1.        ]\n",
      " [ 0.          1.        ]\n",
      " [ 0.3960396   0.6039604 ]\n",
      " [ 0.          1.        ]\n",
      " [ 0.          1.        ]\n",
      " [ 0.          1.        ]\n",
      " [ 0.02631579  0.97368421]\n",
      " [ 0.          1.        ]\n",
      " [ 0.11731844  0.88268156]\n",
      " [ 0.96899225  0.03100775]\n",
      " [ 0.3960396   0.6039604 ]\n",
      " [ 0.          1.        ]\n",
      " [ 0.          1.        ]\n",
      " [ 0.3960396   0.6039604 ]\n",
      " [ 0.96899225  0.03100775]\n",
      " [ 0.73469388  0.26530612]\n",
      " [ 0.11731844  0.88268156]\n",
      " [ 0.          1.        ]\n",
      " [ 0.          1.        ]\n",
      " [ 0.08849558  0.91150442]\n",
      " [ 0.11731844  0.88268156]\n",
      " [ 0.          1.        ]\n",
      " [ 0.          1.        ]\n",
      " [ 0.          1.        ]\n",
      " [ 0.02631579  0.97368421]\n",
      " [ 0.96899225  0.03100775]\n",
      " [ 0.08849558  0.91150442]\n",
      " [ 0.11731844  0.88268156]\n",
      " [ 0.          1.        ]\n",
      " [ 0.3960396   0.6039604 ]\n",
      " [ 0.3960396   0.6039604 ]\n",
      " [ 0.3960396   0.6039604 ]\n",
      " [ 0.          1.        ]\n",
      " [ 0.96899225  0.03100775]\n",
      " [ 0.          1.        ]\n",
      " [ 0.08849558  0.91150442]\n",
      " [ 0.          1.        ]\n",
      " [ 0.          1.        ]\n",
      " [ 0.          1.        ]\n",
      " [ 0.          1.        ]\n",
      " [ 0.          1.        ]\n",
      " [ 0.04587156  0.95412844]\n",
      " [ 0.          1.        ]\n",
      " [ 0.3960396   0.6039604 ]\n",
      " [ 0.          1.        ]\n",
      " [ 0.3960396   0.6039604 ]\n",
      " [ 0.          1.        ]\n",
      " [ 0.11731844  0.88268156]\n",
      " [ 0.11731844  0.88268156]\n",
      " [ 0.02631579  0.97368421]\n",
      " [ 0.          1.        ]\n",
      " [ 0.          1.        ]\n",
      " [ 0.02631579  0.97368421]\n",
      " [ 0.          1.        ]\n",
      " [ 0.08849558  0.91150442]\n",
      " [ 0.          1.        ]\n",
      " [ 0.          1.        ]\n",
      " [ 0.11731844  0.88268156]\n",
      " [ 0.          1.        ]\n",
      " [ 0.73469388  0.26530612]\n",
      " [ 0.          1.        ]\n",
      " [ 0.08849558  0.91150442]\n",
      " [ 0.96899225  0.03100775]\n",
      " [ 0.26126126  0.73873874]\n",
      " [ 0.73469388  0.26530612]\n",
      " [ 0.          1.        ]\n",
      " [ 0.11731844  0.88268156]\n",
      " [ 0.          1.        ]\n",
      " [ 0.04587156  0.95412844]\n",
      " [ 0.          1.        ]\n",
      " [ 0.          1.        ]\n",
      " [ 0.          1.        ]\n",
      " [ 0.04587156  0.95412844]\n",
      " [ 0.08849558  0.91150442]\n",
      " [ 0.04587156  0.95412844]\n",
      " [ 0.          1.        ]\n",
      " [ 0.          1.        ]\n",
      " [ 0.73469388  0.26530612]\n",
      " [ 0.08849558  0.91150442]\n",
      " [ 0.          1.        ]\n",
      " [ 0.          1.        ]\n",
      " [ 0.          1.        ]\n",
      " [ 0.3960396   0.6039604 ]\n",
      " [ 0.          1.        ]\n",
      " [ 0.26126126  0.73873874]\n",
      " [ 0.11731844  0.88268156]\n",
      " [ 0.          1.        ]\n",
      " [ 0.3960396   0.6039604 ]\n",
      " [ 0.          1.        ]\n",
      " [ 0.          1.        ]\n",
      " [ 0.08849558  0.91150442]\n",
      " [ 0.04587156  0.95412844]\n",
      " [ 0.          1.        ]\n",
      " [ 0.          1.        ]\n",
      " [ 0.96899225  0.03100775]\n",
      " [ 0.          1.        ]\n",
      " [ 0.11731844  0.88268156]\n",
      " [ 0.73469388  0.26530612]\n",
      " [ 0.08849558  0.91150442]\n",
      " [ 0.26126126  0.73873874]\n",
      " [ 0.          1.        ]\n",
      " [ 0.02631579  0.97368421]\n",
      " [ 0.26126126  0.73873874]\n",
      " [ 0.73469388  0.26530612]\n",
      " [ 0.          1.        ]\n",
      " [ 0.          1.        ]\n",
      " [ 0.          1.        ]\n",
      " [ 0.          1.        ]\n",
      " [ 0.96899225  0.03100775]\n",
      " [ 0.          1.        ]\n",
      " [ 0.          1.        ]\n",
      " [ 0.          1.        ]\n",
      " [ 0.96899225  0.03100775]\n",
      " [ 0.02631579  0.97368421]\n",
      " [ 0.          1.        ]\n",
      " [ 0.          1.        ]\n",
      " [ 0.          1.        ]\n",
      " [ 0.          1.        ]\n",
      " [ 0.          1.        ]\n",
      " [ 0.          1.        ]\n",
      " [ 0.96899225  0.03100775]\n",
      " [ 0.          1.        ]\n",
      " [ 0.02631579  0.97368421]\n",
      " [ 0.08849558  0.91150442]\n",
      " [ 0.          1.        ]\n",
      " [ 0.08849558  0.91150442]\n",
      " [ 0.08849558  0.91150442]\n",
      " [ 0.          1.        ]\n",
      " [ 0.11731844  0.88268156]\n",
      " [ 0.          1.        ]\n",
      " [ 0.          1.        ]\n",
      " [ 0.          1.        ]\n",
      " [ 0.11731844  0.88268156]\n",
      " [ 0.96899225  0.03100775]\n",
      " [ 0.          1.        ]\n",
      " [ 0.73469388  0.26530612]\n",
      " [ 0.          1.        ]\n",
      " [ 0.11731844  0.88268156]\n",
      " [ 0.73469388  0.26530612]\n",
      " [ 0.08849558  0.91150442]\n",
      " [ 0.          1.        ]\n",
      " [ 0.          1.        ]\n",
      " [ 0.          1.        ]\n",
      " [ 0.73469388  0.26530612]\n",
      " [ 0.26126126  0.73873874]\n",
      " [ 0.          1.        ]\n",
      " [ 0.96899225  0.03100775]\n",
      " [ 0.          1.        ]\n",
      " [ 0.          1.        ]\n",
      " [ 0.26126126  0.73873874]\n",
      " [ 0.          1.        ]\n",
      " [ 0.          1.        ]\n",
      " [ 0.11731844  0.88268156]\n",
      " [ 0.02631579  0.97368421]\n",
      " [ 0.08849558  0.91150442]\n",
      " [ 0.          1.        ]\n",
      " [ 0.          1.        ]\n",
      " [ 0.02631579  0.97368421]\n",
      " [ 0.11731844  0.88268156]\n",
      " [ 0.          1.        ]\n",
      " [ 0.11731844  0.88268156]\n",
      " [ 0.3960396   0.6039604 ]\n",
      " [ 0.96899225  0.03100775]\n",
      " [ 0.          1.        ]\n",
      " [ 0.11731844  0.88268156]\n",
      " [ 0.          1.        ]\n",
      " [ 0.          1.        ]\n",
      " [ 0.96899225  0.03100775]\n",
      " [ 0.73469388  0.26530612]\n",
      " [ 0.04587156  0.95412844]\n",
      " [ 0.96899225  0.03100775]\n",
      " [ 0.08849558  0.91150442]\n",
      " [ 0.          1.        ]\n",
      " [ 0.          1.        ]\n",
      " [ 0.11731844  0.88268156]\n",
      " [ 0.11731844  0.88268156]\n",
      " [ 0.96899225  0.03100775]\n",
      " [ 0.          1.        ]\n",
      " [ 0.          1.        ]\n",
      " [ 0.04587156  0.95412844]\n",
      " [ 0.          1.        ]\n",
      " [ 0.11731844  0.88268156]\n",
      " [ 0.          1.        ]\n",
      " [ 0.26126126  0.73873874]\n",
      " [ 0.04587156  0.95412844]\n",
      " [ 0.          1.        ]\n",
      " [ 0.04587156  0.95412844]\n",
      " [ 0.          1.        ]\n",
      " [ 0.26126126  0.73873874]\n",
      " [ 0.04587156  0.95412844]\n",
      " [ 0.26126126  0.73873874]\n",
      " [ 0.          1.        ]\n",
      " [ 0.04587156  0.95412844]\n",
      " [ 0.          1.        ]\n",
      " [ 0.          1.        ]\n",
      " [ 0.3960396   0.6039604 ]\n",
      " [ 0.3960396   0.6039604 ]\n",
      " [ 0.96899225  0.03100775]\n",
      " [ 0.          1.        ]\n",
      " [ 0.04587156  0.95412844]\n",
      " [ 0.11731844  0.88268156]\n",
      " [ 0.26126126  0.73873874]\n",
      " [ 0.11731844  0.88268156]\n",
      " [ 0.02631579  0.97368421]\n",
      " [ 0.          1.        ]\n",
      " [ 0.          1.        ]\n",
      " [ 0.08849558  0.91150442]\n",
      " [ 0.02631579  0.97368421]\n",
      " [ 0.          1.        ]\n",
      " [ 0.          1.        ]\n",
      " [ 0.          1.        ]\n",
      " [ 0.73469388  0.26530612]\n",
      " [ 0.          1.        ]\n",
      " [ 0.          1.        ]\n",
      " [ 0.96899225  0.03100775]\n",
      " [ 0.3960396   0.6039604 ]\n",
      " [ 0.04587156  0.95412844]\n",
      " [ 0.          1.        ]\n",
      " [ 0.          1.        ]\n",
      " [ 0.04587156  0.95412844]\n",
      " [ 0.3960396   0.6039604 ]\n",
      " [ 0.73469388  0.26530612]\n",
      " [ 0.          1.        ]\n",
      " [ 0.3960396   0.6039604 ]\n",
      " [ 0.          1.        ]\n",
      " [ 0.73469388  0.26530612]\n",
      " [ 0.          1.        ]\n",
      " [ 0.          1.        ]\n",
      " [ 0.02631579  0.97368421]\n",
      " [ 0.11731844  0.88268156]\n",
      " [ 0.11731844  0.88268156]\n",
      " [ 0.08849558  0.91150442]\n",
      " [ 0.          1.        ]\n",
      " [ 0.02631579  0.97368421]\n",
      " [ 0.02631579  0.97368421]\n",
      " [ 0.          1.        ]\n",
      " [ 0.          1.        ]\n",
      " [ 0.96899225  0.03100775]\n",
      " [ 0.          1.        ]\n",
      " [ 0.          1.        ]\n",
      " [ 0.          1.        ]\n",
      " [ 0.          1.        ]\n",
      " [ 0.          1.        ]\n",
      " [ 0.11731844  0.88268156]\n",
      " [ 0.          1.        ]\n",
      " [ 0.          1.        ]\n",
      " [ 0.          1.        ]\n",
      " [ 0.          1.        ]\n",
      " [ 0.          1.        ]\n",
      " [ 0.          1.        ]\n",
      " [ 0.11731844  0.88268156]\n",
      " [ 0.02631579  0.97368421]\n",
      " [ 0.11731844  0.88268156]\n",
      " [ 0.          1.        ]\n",
      " [ 0.96899225  0.03100775]\n",
      " [ 0.          1.        ]\n",
      " [ 0.02631579  0.97368421]\n",
      " [ 0.          1.        ]\n",
      " [ 0.26126126  0.73873874]\n",
      " [ 0.          1.        ]\n",
      " [ 0.          1.        ]\n",
      " [ 0.          1.        ]\n",
      " [ 0.          1.        ]\n",
      " [ 0.04587156  0.95412844]\n",
      " [ 0.          1.        ]\n",
      " [ 0.          1.        ]\n",
      " [ 0.08849558  0.91150442]\n",
      " [ 0.26126126  0.73873874]\n",
      " [ 0.          1.        ]\n",
      " [ 0.96899225  0.03100775]\n",
      " [ 0.96899225  0.03100775]\n",
      " [ 0.          1.        ]\n",
      " [ 0.          1.        ]\n",
      " [ 0.26126126  0.73873874]\n",
      " [ 0.11731844  0.88268156]\n",
      " [ 0.          1.        ]\n",
      " [ 0.26126126  0.73873874]\n",
      " [ 0.          1.        ]\n",
      " [ 0.          1.        ]\n",
      " [ 0.          1.        ]\n",
      " [ 0.          1.        ]\n",
      " [ 0.02631579  0.97368421]\n",
      " [ 0.08849558  0.91150442]\n",
      " [ 0.          1.        ]\n",
      " [ 0.3960396   0.6039604 ]\n",
      " [ 0.          1.        ]\n",
      " [ 0.3960396   0.6039604 ]\n",
      " [ 0.02631579  0.97368421]\n",
      " [ 0.73469388  0.26530612]\n",
      " [ 0.          1.        ]\n",
      " [ 0.08849558  0.91150442]\n",
      " [ 0.          1.        ]\n",
      " [ 0.          1.        ]\n",
      " [ 0.08849558  0.91150442]\n",
      " [ 0.26126126  0.73873874]\n",
      " [ 0.08849558  0.91150442]\n",
      " [ 0.3960396   0.6039604 ]\n",
      " [ 0.          1.        ]\n",
      " [ 0.          1.        ]\n",
      " [ 0.          1.        ]\n",
      " [ 0.02631579  0.97368421]\n",
      " [ 0.04587156  0.95412844]\n",
      " [ 0.          1.        ]\n",
      " [ 0.02631579  0.97368421]\n",
      " [ 0.          1.        ]\n",
      " [ 0.          1.        ]\n",
      " [ 0.04587156  0.95412844]\n",
      " [ 0.11731844  0.88268156]\n",
      " [ 0.          1.        ]\n",
      " [ 0.          1.        ]\n",
      " [ 0.96899225  0.03100775]\n",
      " [ 0.96899225  0.03100775]\n",
      " [ 0.          1.        ]\n",
      " [ 0.11731844  0.88268156]\n",
      " [ 0.          1.        ]\n",
      " [ 0.11731844  0.88268156]\n",
      " [ 0.          1.        ]\n",
      " [ 0.          1.        ]\n",
      " [ 0.          1.        ]\n",
      " [ 0.          1.        ]\n",
      " [ 0.          1.        ]\n",
      " [ 0.          1.        ]]\n",
      "matthews correlation coeff: 0.754572734927\n"
     ]
    }
   ],
   "source": [
    "tree_ml=DecisionTreeClassifier(min_weight_fraction_leaf=0.05, max_leaf_nodes=10)\n",
    "tree_ml.fit(ML_x_train, ML_y_train)\n",
    "acc_tree_ml=tree_ml.score(ML_x_test, ML_y_test)\n",
    "prob_tree_ml=tree_ml.predict_proba(ML_x_test)\n",
    "predict_tree_ml=tree_ml.predict(ML_x_test)\n",
    "\n",
    "print('order of classes:',tree_ml.classes_)\n",
    "print(tree_ml.get_params)\n",
    "print('accuracy for the CT for ML model:', acc_tree_ml)\n",
    "print('probability predictions for ML model:', prob_tree_ml)\n",
    "\n",
    "#matthews correlation coefficient\n",
    "mat_corr_ML=matthews_corrcoef(ML_y_test, predict_tree_ml)\n",
    "print('matthews correlation coeff:',mat_corr_ML)\n",
    "\n",
    "#len(acc_tree_ml),len(ML_x_test)"
   ]
  },
  {
   "cell_type": "code",
   "execution_count": 103,
   "metadata": {
    "collapsed": false
   },
   "outputs": [
    {
     "data": {
      "text/plain": [
       "array([[ 47,  25],\n",
       "       [  3, 407]])"
      ]
     },
     "execution_count": 103,
     "metadata": {},
     "output_type": "execute_result"
    }
   ],
   "source": [
    "#computing the confusion matrix\n",
    "confusion_matrix(ML_y_test, predict_tree_ml)"
   ]
  },
  {
   "cell_type": "code",
   "execution_count": 104,
   "metadata": {
    "collapsed": false
   },
   "outputs": [
    {
     "data": {
      "text/plain": [
       "array([ 0.65277778,  0.99268293])"
      ]
     },
     "execution_count": 104,
     "metadata": {},
     "output_type": "execute_result"
    }
   ],
   "source": [
    "#computing the accuracies of the predictions of the individual classes\n",
    "cmatrix_ML_tree=confusion_matrix(ML_y_test, predict_tree_ml)\n",
    "cmatrix_ML_tree.diagonal()/cmatrix_ML_tree.sum(axis=1)\n",
    "#literature values of L and M class respectively, ONLY FOR CART MODELS\n",
    "#L:0.83\n",
    "#M:0.70\n",
    "#literature values of L and M on the consensus system\n",
    "#L:0.79\n",
    "#M:0.84"
   ]
  },
  {
   "cell_type": "code",
   "execution_count": 105,
   "metadata": {
    "collapsed": false
   },
   "outputs": [],
   "source": [
    "#plotting the receiver operating characteristic\n",
    "fpr=dict()\n",
    "tpr=dict()\n",
    "roc_auc=dict()\n",
    "ML_y_test_col=ML_y_test[:,None]\n",
    "predict_tree_ml_col=predict_tree_ml[:, None]\n",
    "for i in range(0, 1):\n",
    "    fpr[i], tpr[i], _=roc_curve(label_binarize(ML_y_test_col[:, i], classes=['M', 'L']),\n",
    "                                label_binarize(predict_tree_ml_col[:,i], classes=['M','L']))\n",
    "    roc_auc[i]=auc(fpr[i], tpr[i])"
   ]
  },
  {
   "cell_type": "code",
   "execution_count": 106,
   "metadata": {
    "collapsed": false
   },
   "outputs": [
    {
     "data": {
      "image/png": "[encoded data removed]",
      "text/plain": [
       "<matplotlib.figure.Figure at 0x1fa85e747f0>"
      ]
     },
     "metadata": {},
     "output_type": "display_data"
    }
   ],
   "source": [
    "plt.figure()\n",
    "lw=3\n",
    "plt.plot(fpr[0], tpr[0], color='darkorange', lw=lw,label='ROC curve (area is %f)' % roc_auc[0])\n",
    "plt.plot([0,1.0], [0, 1.0], color='navy', linestyle='--')\n",
    "plt.xlim([0.0, 1.0])\n",
    "plt.ylim([0.0,1.05])\n",
    "plt.xlabel('False Positive Rate')\n",
    "plt.ylabel('True Positive Rate')\n",
    "plt.title('ROC for ML binary class using CART')\n",
    "plt.legend(loc='lower right')\n",
    "plt.show()"
   ]
  },
  {
   "cell_type": "markdown",
   "metadata": {},
   "source": [
    "**Random Forest Classifier for ML**"
   ]
  },
  {
   "cell_type": "code",
   "execution_count": 107,
   "metadata": {
    "collapsed": false
   },
   "outputs": [
    {
     "name": "stdout",
     "output_type": "stream",
     "text": [
      "order of classes: ['L' 'M']\n",
      "accuracy of model: 0.95020746888\n",
      "probabilities of the respective classes: [[ 0.          1.        ]\n",
      " [ 0.          1.        ]\n",
      " [ 0.          1.        ]\n",
      " [ 0.          1.        ]\n",
      " [ 0.          1.        ]\n",
      " [ 0.          1.        ]\n",
      " [ 0.          1.        ]\n",
      " [ 0.          1.        ]\n",
      " [ 0.          1.        ]\n",
      " [ 0.          1.        ]\n",
      " [ 0.08695652  0.91304348]\n",
      " [ 0.          1.        ]\n",
      " [ 0.          1.        ]\n",
      " [ 0.          1.        ]\n",
      " [ 0.          1.        ]\n",
      " [ 0.          1.        ]\n",
      " [ 0.          1.        ]\n",
      " [ 1.          0.        ]\n",
      " [ 0.60869565  0.39130435]\n",
      " [ 0.          1.        ]\n",
      " [ 0.          1.        ]\n",
      " [ 0.          1.        ]\n",
      " [ 1.          0.        ]\n",
      " [ 0.          1.        ]\n",
      " [ 0.          1.        ]\n",
      " [ 0.          1.        ]\n",
      " [ 0.          1.        ]\n",
      " [ 0.          1.        ]\n",
      " [ 0.          1.        ]\n",
      " [ 0.          1.        ]\n",
      " [ 0.          1.        ]\n",
      " [ 0.          1.        ]\n",
      " [ 0.          1.        ]\n",
      " [ 0.          1.        ]\n",
      " [ 0.          1.        ]\n",
      " [ 0.          1.        ]\n",
      " [ 0.          1.        ]\n",
      " [ 0.          1.        ]\n",
      " [ 0.26086957  0.73913043]\n",
      " [ 1.          0.        ]\n",
      " [ 0.39130435  0.60869565]\n",
      " [ 0.04347826  0.95652174]\n",
      " [ 0.          1.        ]\n",
      " [ 0.2173913   0.7826087 ]\n",
      " [ 0.          1.        ]\n",
      " [ 0.82608696  0.17391304]\n",
      " [ 0.56521739  0.43478261]\n",
      " [ 0.          1.        ]\n",
      " [ 0.          1.        ]\n",
      " [ 0.          1.        ]\n",
      " [ 0.13043478  0.86956522]\n",
      " [ 0.          1.        ]\n",
      " [ 0.          1.        ]\n",
      " [ 0.          1.        ]\n",
      " [ 0.56521739  0.43478261]\n",
      " [ 0.          1.        ]\n",
      " [ 0.          1.        ]\n",
      " [ 0.          1.        ]\n",
      " [ 0.          1.        ]\n",
      " [ 0.          1.        ]\n",
      " [ 0.          1.        ]\n",
      " [ 0.          1.        ]\n",
      " [ 0.          1.        ]\n",
      " [ 0.          1.        ]\n",
      " [ 0.30434783  0.69565217]\n",
      " [ 0.          1.        ]\n",
      " [ 0.          1.        ]\n",
      " [ 0.          1.        ]\n",
      " [ 0.17391304  0.82608696]\n",
      " [ 0.60869565  0.39130435]\n",
      " [ 0.          1.        ]\n",
      " [ 0.          1.        ]\n",
      " [ 0.          1.        ]\n",
      " [ 0.          1.        ]\n",
      " [ 0.          1.        ]\n",
      " [ 0.          1.        ]\n",
      " [ 0.          1.        ]\n",
      " [ 1.          0.        ]\n",
      " [ 0.          1.        ]\n",
      " [ 0.          1.        ]\n",
      " [ 0.08695652  0.91304348]\n",
      " [ 0.          1.        ]\n",
      " [ 0.2173913   0.7826087 ]\n",
      " [ 0.          1.        ]\n",
      " [ 0.          1.        ]\n",
      " [ 1.          0.        ]\n",
      " [ 0.13043478  0.86956522]\n",
      " [ 0.          1.        ]\n",
      " [ 0.          1.        ]\n",
      " [ 0.          1.        ]\n",
      " [ 0.          1.        ]\n",
      " [ 0.          1.        ]\n",
      " [ 0.          1.        ]\n",
      " [ 0.          1.        ]\n",
      " [ 0.          1.        ]\n",
      " [ 0.          1.        ]\n",
      " [ 0.34782609  0.65217391]\n",
      " [ 0.          1.        ]\n",
      " [ 0.          1.        ]\n",
      " [ 0.          1.        ]\n",
      " [ 1.          0.        ]\n",
      " [ 0.          1.        ]\n",
      " [ 1.          0.        ]\n",
      " [ 1.          0.        ]\n",
      " [ 0.          1.        ]\n",
      " [ 0.          1.        ]\n",
      " [ 0.04347826  0.95652174]\n",
      " [ 0.          1.        ]\n",
      " [ 0.17391304  0.82608696]\n",
      " [ 0.          1.        ]\n",
      " [ 0.          1.        ]\n",
      " [ 0.65217391  0.34782609]\n",
      " [ 0.          1.        ]\n",
      " [ 0.          1.        ]\n",
      " [ 0.          1.        ]\n",
      " [ 0.          1.        ]\n",
      " [ 0.          1.        ]\n",
      " [ 0.          1.        ]\n",
      " [ 0.04347826  0.95652174]\n",
      " [ 0.          1.        ]\n",
      " [ 0.          1.        ]\n",
      " [ 0.30434783  0.69565217]\n",
      " [ 0.          1.        ]\n",
      " [ 0.          1.        ]\n",
      " [ 0.73913043  0.26086957]\n",
      " [ 0.          1.        ]\n",
      " [ 0.          1.        ]\n",
      " [ 0.          1.        ]\n",
      " [ 0.          1.        ]\n",
      " [ 0.          1.        ]\n",
      " [ 0.          1.        ]\n",
      " [ 0.          1.        ]\n",
      " [ 0.15217391  0.84782609]\n",
      " [ 0.          1.        ]\n",
      " [ 0.          1.        ]\n",
      " [ 0.17391304  0.82608696]\n",
      " [ 0.          1.        ]\n",
      " [ 0.34782609  0.65217391]\n",
      " [ 0.          1.        ]\n",
      " [ 0.          1.        ]\n",
      " [ 0.          1.        ]\n",
      " [ 0.          1.        ]\n",
      " [ 0.          1.        ]\n",
      " [ 1.          0.        ]\n",
      " [ 0.          1.        ]\n",
      " [ 0.          1.        ]\n",
      " [ 0.          1.        ]\n",
      " [ 1.          0.        ]\n",
      " [ 0.          1.        ]\n",
      " [ 0.          1.        ]\n",
      " [ 1.          0.        ]\n",
      " [ 0.56521739  0.43478261]\n",
      " [ 0.          1.        ]\n",
      " [ 0.08695652  0.91304348]\n",
      " [ 0.          1.        ]\n",
      " [ 0.          1.        ]\n",
      " [ 0.13043478  0.86956522]\n",
      " [ 0.          1.        ]\n",
      " [ 0.          1.        ]\n",
      " [ 0.          1.        ]\n",
      " [ 0.          1.        ]\n",
      " [ 0.          1.        ]\n",
      " [ 0.          1.        ]\n",
      " [ 0.          1.        ]\n",
      " [ 0.          1.        ]\n",
      " [ 0.          1.        ]\n",
      " [ 0.          1.        ]\n",
      " [ 0.          1.        ]\n",
      " [ 0.30434783  0.69565217]\n",
      " [ 0.82608696  0.17391304]\n",
      " [ 0.43478261  0.56521739]\n",
      " [ 0.04347826  0.95652174]\n",
      " [ 0.          1.        ]\n",
      " [ 0.          1.        ]\n",
      " [ 1.          0.        ]\n",
      " [ 1.          0.        ]\n",
      " [ 0.26086957  0.73913043]\n",
      " [ 0.          1.        ]\n",
      " [ 0.          1.        ]\n",
      " [ 0.          1.        ]\n",
      " [ 0.34782609  0.65217391]\n",
      " [ 0.          1.        ]\n",
      " [ 0.          1.        ]\n",
      " [ 0.          1.        ]\n",
      " [ 0.          1.        ]\n",
      " [ 1.          0.        ]\n",
      " [ 0.2173913   0.7826087 ]\n",
      " [ 0.          1.        ]\n",
      " [ 0.          1.        ]\n",
      " [ 0.91304348  0.08695652]\n",
      " [ 0.30434783  0.69565217]\n",
      " [ 0.          1.        ]\n",
      " [ 0.2173913   0.7826087 ]\n",
      " [ 1.          0.        ]\n",
      " [ 0.          1.        ]\n",
      " [ 0.0942029   0.9057971 ]\n",
      " [ 0.          1.        ]\n",
      " [ 0.          1.        ]\n",
      " [ 0.          1.        ]\n",
      " [ 0.          1.        ]\n",
      " [ 0.          1.        ]\n",
      " [ 0.17391304  0.82608696]\n",
      " [ 0.          1.        ]\n",
      " [ 0.47826087  0.52173913]\n",
      " [ 0.          1.        ]\n",
      " [ 0.26086957  0.73913043]\n",
      " [ 0.          1.        ]\n",
      " [ 1.          0.        ]\n",
      " [ 0.          1.        ]\n",
      " [ 0.          1.        ]\n",
      " [ 0.          1.        ]\n",
      " [ 0.          1.        ]\n",
      " [ 0.          1.        ]\n",
      " [ 0.          1.        ]\n",
      " [ 0.          1.        ]\n",
      " [ 0.          1.        ]\n",
      " [ 0.          1.        ]\n",
      " [ 0.08695652  0.91304348]\n",
      " [ 0.          1.        ]\n",
      " [ 0.73913043  0.26086957]\n",
      " [ 0.          1.        ]\n",
      " [ 0.          1.        ]\n",
      " [ 1.          0.        ]\n",
      " [ 0.60869565  0.39130435]\n",
      " [ 1.          0.        ]\n",
      " [ 0.          1.        ]\n",
      " [ 0.17391304  0.82608696]\n",
      " [ 0.          1.        ]\n",
      " [ 0.          1.        ]\n",
      " [ 0.          1.        ]\n",
      " [ 0.          1.        ]\n",
      " [ 0.          1.        ]\n",
      " [ 0.          1.        ]\n",
      " [ 0.          1.        ]\n",
      " [ 0.          1.        ]\n",
      " [ 0.          1.        ]\n",
      " [ 0.          1.        ]\n",
      " [ 1.          0.        ]\n",
      " [ 0.          1.        ]\n",
      " [ 0.          1.        ]\n",
      " [ 0.          1.        ]\n",
      " [ 0.          1.        ]\n",
      " [ 0.60869565  0.39130435]\n",
      " [ 0.          1.        ]\n",
      " [ 0.34782609  0.65217391]\n",
      " [ 0.          1.        ]\n",
      " [ 0.          1.        ]\n",
      " [ 0.          1.        ]\n",
      " [ 0.          1.        ]\n",
      " [ 0.          1.        ]\n",
      " [ 0.          1.        ]\n",
      " [ 0.          1.        ]\n",
      " [ 0.          1.        ]\n",
      " [ 0.          1.        ]\n",
      " [ 1.          0.        ]\n",
      " [ 0.          1.        ]\n",
      " [ 0.04347826  0.95652174]\n",
      " [ 1.          0.        ]\n",
      " [ 0.          1.        ]\n",
      " [ 0.39130435  0.60869565]\n",
      " [ 0.          1.        ]\n",
      " [ 0.          1.        ]\n",
      " [ 0.39130435  0.60869565]\n",
      " [ 1.          0.        ]\n",
      " [ 0.          1.        ]\n",
      " [ 0.          1.        ]\n",
      " [ 0.          1.        ]\n",
      " [ 0.          1.        ]\n",
      " [ 1.          0.        ]\n",
      " [ 0.17391304  0.82608696]\n",
      " [ 0.          1.        ]\n",
      " [ 0.          1.        ]\n",
      " [ 1.          0.        ]\n",
      " [ 0.          1.        ]\n",
      " [ 0.          1.        ]\n",
      " [ 0.          1.        ]\n",
      " [ 0.17391304  0.82608696]\n",
      " [ 0.          1.        ]\n",
      " [ 0.          1.        ]\n",
      " [ 0.          1.        ]\n",
      " [ 1.          0.        ]\n",
      " [ 0.          1.        ]\n",
      " [ 0.          1.        ]\n",
      " [ 0.52173913  0.47826087]\n",
      " [ 0.          1.        ]\n",
      " [ 0.08695652  0.91304348]\n",
      " [ 0.          1.        ]\n",
      " [ 0.          1.        ]\n",
      " [ 0.04347826  0.95652174]\n",
      " [ 0.          1.        ]\n",
      " [ 0.          1.        ]\n",
      " [ 0.          1.        ]\n",
      " [ 0.          1.        ]\n",
      " [ 1.          0.        ]\n",
      " [ 0.          1.        ]\n",
      " [ 0.30434783  0.69565217]\n",
      " [ 0.          1.        ]\n",
      " [ 0.          1.        ]\n",
      " [ 1.          0.        ]\n",
      " [ 0.          1.        ]\n",
      " [ 0.          1.        ]\n",
      " [ 0.          1.        ]\n",
      " [ 0.          1.        ]\n",
      " [ 1.          0.        ]\n",
      " [ 0.34782609  0.65217391]\n",
      " [ 0.          1.        ]\n",
      " [ 1.          0.        ]\n",
      " [ 0.          1.        ]\n",
      " [ 0.          1.        ]\n",
      " [ 0.34782609  0.65217391]\n",
      " [ 0.          1.        ]\n",
      " [ 0.          1.        ]\n",
      " [ 0.          1.        ]\n",
      " [ 0.          1.        ]\n",
      " [ 0.          1.        ]\n",
      " [ 0.          1.        ]\n",
      " [ 0.          1.        ]\n",
      " [ 0.          1.        ]\n",
      " [ 0.          1.        ]\n",
      " [ 0.          1.        ]\n",
      " [ 1.          0.        ]\n",
      " [ 0.          1.        ]\n",
      " [ 1.          0.        ]\n",
      " [ 0.          1.        ]\n",
      " [ 0.13043478  0.86956522]\n",
      " [ 0.          1.        ]\n",
      " [ 0.          1.        ]\n",
      " [ 1.          0.        ]\n",
      " [ 1.          0.        ]\n",
      " [ 0.08695652  0.91304348]\n",
      " [ 1.          0.        ]\n",
      " [ 0.          1.        ]\n",
      " [ 0.          1.        ]\n",
      " [ 0.          1.        ]\n",
      " [ 0.          1.        ]\n",
      " [ 0.          1.        ]\n",
      " [ 1.          0.        ]\n",
      " [ 0.          1.        ]\n",
      " [ 0.          1.        ]\n",
      " [ 0.2173913   0.7826087 ]\n",
      " [ 0.          1.        ]\n",
      " [ 0.08695652  0.91304348]\n",
      " [ 0.04347826  0.95652174]\n",
      " [ 0.          1.        ]\n",
      " [ 0.          1.        ]\n",
      " [ 0.          1.        ]\n",
      " [ 0.          1.        ]\n",
      " [ 0.04347826  0.95652174]\n",
      " [ 0.43478261  0.56521739]\n",
      " [ 0.13043478  0.86956522]\n",
      " [ 0.08695652  0.91304348]\n",
      " [ 0.          1.        ]\n",
      " [ 0.          1.        ]\n",
      " [ 0.          1.        ]\n",
      " [ 0.          1.        ]\n",
      " [ 1.          0.        ]\n",
      " [ 1.          0.        ]\n",
      " [ 1.          0.        ]\n",
      " [ 0.          1.        ]\n",
      " [ 0.          1.        ]\n",
      " [ 0.          1.        ]\n",
      " [ 0.52173913  0.47826087]\n",
      " [ 0.          1.        ]\n",
      " [ 0.          1.        ]\n",
      " [ 0.          1.        ]\n",
      " [ 0.          1.        ]\n",
      " [ 0.          1.        ]\n",
      " [ 0.          1.        ]\n",
      " [ 0.          1.        ]\n",
      " [ 0.          1.        ]\n",
      " [ 0.          1.        ]\n",
      " [ 1.          0.        ]\n",
      " [ 0.          1.        ]\n",
      " [ 0.          1.        ]\n",
      " [ 1.          0.        ]\n",
      " [ 0.43478261  0.56521739]\n",
      " [ 0.52173913  0.47826087]\n",
      " [ 0.          1.        ]\n",
      " [ 0.          1.        ]\n",
      " [ 0.          1.        ]\n",
      " [ 0.          1.        ]\n",
      " [ 1.          0.        ]\n",
      " [ 0.          1.        ]\n",
      " [ 1.          0.        ]\n",
      " [ 0.04347826  0.95652174]\n",
      " [ 1.          0.        ]\n",
      " [ 0.          1.        ]\n",
      " [ 0.          1.        ]\n",
      " [ 0.          1.        ]\n",
      " [ 0.30434783  0.69565217]\n",
      " [ 0.08695652  0.91304348]\n",
      " [ 0.          1.        ]\n",
      " [ 0.          1.        ]\n",
      " [ 0.          1.        ]\n",
      " [ 0.          1.        ]\n",
      " [ 0.          1.        ]\n",
      " [ 0.          1.        ]\n",
      " [ 1.          0.        ]\n",
      " [ 0.          1.        ]\n",
      " [ 0.          1.        ]\n",
      " [ 0.          1.        ]\n",
      " [ 0.          1.        ]\n",
      " [ 0.          1.        ]\n",
      " [ 0.          1.        ]\n",
      " [ 0.          1.        ]\n",
      " [ 0.          1.        ]\n",
      " [ 0.          1.        ]\n",
      " [ 0.          1.        ]\n",
      " [ 0.          1.        ]\n",
      " [ 0.          1.        ]\n",
      " [ 0.          1.        ]\n",
      " [ 0.          1.        ]\n",
      " [ 0.          1.        ]\n",
      " [ 0.          1.        ]\n",
      " [ 1.          0.        ]\n",
      " [ 0.          1.        ]\n",
      " [ 0.          1.        ]\n",
      " [ 0.          1.        ]\n",
      " [ 0.56521739  0.43478261]\n",
      " [ 0.          1.        ]\n",
      " [ 0.          1.        ]\n",
      " [ 0.          1.        ]\n",
      " [ 0.          1.        ]\n",
      " [ 0.          1.        ]\n",
      " [ 0.          1.        ]\n",
      " [ 0.          1.        ]\n",
      " [ 0.          1.        ]\n",
      " [ 0.17391304  0.82608696]\n",
      " [ 0.          1.        ]\n",
      " [ 1.          0.        ]\n",
      " [ 1.          0.        ]\n",
      " [ 0.          1.        ]\n",
      " [ 0.          1.        ]\n",
      " [ 0.56521739  0.43478261]\n",
      " [ 0.          1.        ]\n",
      " [ 0.          1.        ]\n",
      " [ 0.          1.        ]\n",
      " [ 0.08695652  0.91304348]\n",
      " [ 0.          1.        ]\n",
      " [ 0.          1.        ]\n",
      " [ 0.          1.        ]\n",
      " [ 0.          1.        ]\n",
      " [ 0.          1.        ]\n",
      " [ 0.          1.        ]\n",
      " [ 0.          1.        ]\n",
      " [ 0.          1.        ]\n",
      " [ 0.69565217  0.30434783]\n",
      " [ 0.          1.        ]\n",
      " [ 1.          0.        ]\n",
      " [ 0.          1.        ]\n",
      " [ 0.          1.        ]\n",
      " [ 0.          1.        ]\n",
      " [ 0.          1.        ]\n",
      " [ 0.          1.        ]\n",
      " [ 0.26086957  0.73913043]\n",
      " [ 0.          1.        ]\n",
      " [ 0.          1.        ]\n",
      " [ 0.          1.        ]\n",
      " [ 0.          1.        ]\n",
      " [ 0.          1.        ]\n",
      " [ 0.          1.        ]\n",
      " [ 0.52173913  0.47826087]\n",
      " [ 0.          1.        ]\n",
      " [ 0.          1.        ]\n",
      " [ 0.          1.        ]\n",
      " [ 0.          1.        ]\n",
      " [ 0.          1.        ]\n",
      " [ 0.          1.        ]\n",
      " [ 0.          1.        ]\n",
      " [ 0.          1.        ]\n",
      " [ 1.          0.        ]\n",
      " [ 1.          0.        ]\n",
      " [ 0.          1.        ]\n",
      " [ 0.39130435  0.60869565]\n",
      " [ 0.04347826  0.95652174]\n",
      " [ 0.2173913   0.7826087 ]\n",
      " [ 0.          1.        ]\n",
      " [ 0.          1.        ]\n",
      " [ 0.          1.        ]\n",
      " [ 0.          1.        ]\n",
      " [ 0.          1.        ]\n",
      " [ 0.          1.        ]]\n",
      "matthews correlation coefficient: 0.801905019685\n",
      "<bound method BaseEstimator.get_params of RandomForestClassifier(bootstrap=True, class_weight=None, criterion='gini',\n",
      "            max_depth=None, max_features='auto', max_leaf_nodes=None,\n",
      "            min_impurity_split=1e-07, min_samples_leaf=1,\n",
      "            min_samples_split=2, min_weight_fraction_leaf=0.0,\n",
      "            n_estimators=23, n_jobs=1, oob_score=False, random_state=2,\n",
      "            verbose=0, warm_start=False)>\n"
     ]
    }
   ],
   "source": [
    "RF_ml=RandomForestClassifier(n_estimators=23, random_state=2)\n",
    "RF_ml.fit(ML_x_train, ML_y_train)\n",
    "accu_RF_ml=RF_ml.score(ML_x_test, ML_y_test)\n",
    "prob_RF_ml=RF_ml.predict_proba(ML_x_test)\n",
    "predict_RF_ml=RF_ml.predict(ML_x_test)\n",
    "#matthews correlation coefficients\n",
    "matt_coeff_ml=matthews_corrcoef(ML_y_test, predict_RF_ml)\n",
    "\n",
    "print('order of classes:',RF_ml.classes_)\n",
    "print('accuracy of model:', accu_RF_ml)\n",
    "print('probabilities of the respective classes:', prob_RF_ml)\n",
    "print('matthews correlation coefficient:', matt_coeff_ml )\n",
    "print(RF_ml.get_params)"
   ]
  },
  {
   "cell_type": "code",
   "execution_count": 108,
   "metadata": {
    "collapsed": false
   },
   "outputs": [
    {
     "data": {
      "text/plain": [
       "array([[ 59,  13],\n",
       "       [ 11, 399]])"
      ]
     },
     "execution_count": 108,
     "metadata": {},
     "output_type": "execute_result"
    }
   ],
   "source": [
    "#computing the confusion matrix for random forest\n",
    "confusion_matrix(ML_y_test, predict_RF_ml)"
   ]
  },
  {
   "cell_type": "code",
   "execution_count": 109,
   "metadata": {
    "collapsed": false
   },
   "outputs": [
    {
     "data": {
      "text/plain": [
       "array([ 0.81944444,  0.97317073])"
      ]
     },
     "execution_count": 109,
     "metadata": {},
     "output_type": "execute_result"
    }
   ],
   "source": [
    "cmatrix_rf_ml=confusion_matrix(ML_y_test, predict_RF_ml)\n",
    "cmatrix_rf_ml.diagonal()/cmatrix_rf_ml.sum(axis=1)\n",
    "\n",
    "#literature values of the consensus system for L and M classes respectively\n",
    "#L:0.79\n",
    "#M:0.84"
   ]
  },
  {
   "cell_type": "code",
   "execution_count": 110,
   "metadata": {
    "collapsed": true
   },
   "outputs": [],
   "source": [
    "#plotting the ROC\n",
    "fpr=dict()\n",
    "tpr=dict()\n",
    "roc_auc=dict()\n",
    "predict_RF_ml_col=predict_RF_ml[:, None]\n",
    "for i in range(0,1):\n",
    "    fpr[i], tpr[i], _=roc_curve(label_binarize(ML_y_test_col[:, i], classes=['M','L']),\n",
    "                                label_binarize(predict_RF_ml_col[:, i], classes=['M','L']))\n",
    "    roc_auc[i]=auc(fpr[i], tpr[i])"
   ]
  },
  {
   "cell_type": "code",
   "execution_count": 111,
   "metadata": {
    "collapsed": false
   },
   "outputs": [
    {
     "data": {
      "image/png": "[encoded data removed]",
      "text/plain": [
       "<matplotlib.figure.Figure at 0x1fa86098a58>"
      ]
     },
     "metadata": {},
     "output_type": "display_data"
    }
   ],
   "source": [
    "plt.figure()\n",
    "lw=4\n",
    "plt.plot(fpr[0], tpr[0], color='darkorange', lw=lw, label='ROC curve (area is %f)' % roc_auc[0])\n",
    "plt.plot([0, 1.0], [0, 1.0], color='navy', linestyle='--')\n",
    "plt.xlim([0.0, 1.0])\n",
    "plt.ylim([0.0, 1.05])\n",
    "plt.xlabel('False Positive Rate')\n",
    "plt.ylabel('True Positive Rate')\n",
    "plt.legend(loc='lower right')\n",
    "plt.title('ROC for ML binary classes using RF ensemble')\n",
    "plt.show()"
   ]
  },
  {
   "cell_type": "code",
   "execution_count": 112,
   "metadata": {
    "collapsed": false
   },
   "outputs": [
    {
     "name": "stdout",
     "output_type": "stream",
     "text": [
      "accuracy of svc: 0.952282157676\n",
      "mcc of svc_hm: 0.801943828373\n",
      "order of classes ['L' 'M']\n"
     ]
    },
    {
     "data": {
      "text/plain": [
       "<bound method BaseEstimator.get_params of SVC(C=1.0, cache_size=200, class_weight=None, coef0=0.0,\n",
       "  decision_function_shape=None, degree=3, gamma='auto', kernel='rbf',\n",
       "  max_iter=-1, probability=False, random_state=None, shrinking=True,\n",
       "  tol=0.001, verbose=False)>"
      ]
     },
     "execution_count": 112,
     "metadata": {},
     "output_type": "execute_result"
    }
   ],
   "source": [
    "svc_ml=SVC()\n",
    "svc_ml.fit(ML_x_train, ML_y_train)\n",
    "predict_svc_ml=svc_ml.predict(ML_x_test)\n",
    "acc_svc_ml=svc_ml.score(ML_x_test, ML_y_test)\n",
    "#matthews correlation coefficient\n",
    "matt_corr_svc_ml=matthews_corrcoef(ML_y_test, predict_svc_ml)\n",
    "\n",
    "print('accuracy of svc:', acc_svc_ml)\n",
    "print('mcc of svc_hm:', matt_corr_svc_ml)\n",
    "print('order of classes', svc_ml.classes_)\n",
    "svc_hm.get_params"
   ]
  },
  {
   "cell_type": "code",
   "execution_count": 113,
   "metadata": {
    "collapsed": false
   },
   "outputs": [
    {
     "data": {
      "text/plain": [
       "((482,), (482,), (482,))"
      ]
     },
     "execution_count": 113,
     "metadata": {},
     "output_type": "execute_result"
    }
   ],
   "source": [
    "Vote1_ml_tree=predict_tree_ml\n",
    "Vote2_ml_rf=predict_RF_ml\n",
    "Vote3_ml_svc=predict_svc_ml\n",
    "Vote1_ml_tree.shape, Vote2_ml_rf.shape, Vote3_ml_svc.shape"
   ]
  },
  {
   "cell_type": "code",
   "execution_count": 114,
   "metadata": {
    "collapsed": true
   },
   "outputs": [],
   "source": [
    "#consensus model\n",
    "consensus_ml=[]\n",
    "for i in range(0, 482):\n",
    "    if Vote1_ml_tree[i]==Vote2_ml_rf[i]:\n",
    "        consensus_ml.append(Vote1_ml_tree[i])\n",
    "    elif Vote1_ml_tree[i]==Vote3_ml_svc[i]:\n",
    "        consensus_ml.append(Vote1_ml_tree[i])\n",
    "    elif Vote2_ml_rf[i]==Vote3_ml_svc[i]:\n",
    "        consensus_ml.append(Vote2_ml_rf[i])\n",
    "    else:\n",
    "        consensus_ml.append('NOTCLASSIFIED')"
   ]
  },
  {
   "cell_type": "code",
   "execution_count": 115,
   "metadata": {
    "collapsed": false
   },
   "outputs": [],
   "source": [
    "predict_consensus_ml=np.array(consensus_ml)"
   ]
  },
  {
   "cell_type": "code",
   "execution_count": 116,
   "metadata": {
    "collapsed": false
   },
   "outputs": [
    {
     "data": {
      "text/plain": [
       "array([[ 53,  19],\n",
       "       [  2, 408]])"
      ]
     },
     "execution_count": 116,
     "metadata": {},
     "output_type": "execute_result"
    }
   ],
   "source": [
    "confusion_matrix(ML_y_test, predict_consensus_ml)"
   ]
  },
  {
   "cell_type": "code",
   "execution_count": 117,
   "metadata": {
    "collapsed": false
   },
   "outputs": [
    {
     "data": {
      "text/plain": [
       "array([ 0.73611111,  0.99512195])"
      ]
     },
     "execution_count": 117,
     "metadata": {},
     "output_type": "execute_result"
    }
   ],
   "source": [
    "cmatrix_ml=confusion_matrix(ML_y_test, predict_consensus_ml)\n",
    "cmatrix_ml.diagonal()/cmatrix_ml.sum(axis=1)"
   ]
  },
  {
   "cell_type": "code",
   "execution_count": 118,
   "metadata": {
    "collapsed": false
   },
   "outputs": [],
   "source": [
    "y=label_binarize(y_ML, classes=['L', 'M'])\n",
    "n_classes=y.shape[1]\n",
    "#roc\n",
    "fpr=dict()\n",
    "tpr=dict()\n",
    "roc_auc=dict()\n",
    "ML_y_test_col=ML_y_test[:, None]\n",
    "predict_consensus_ml_col=predict_consensus_ml[:,None]\n",
    "for i in range(n_classes):\n",
    "    fpr[i], tpr[i], _= roc_curve(label_binarize(ML_y_test_col[:,i], classes=['L','M']), \n",
    "                                 label_binarize(predict_consensus_ml_col[:,i], classes=['L','M']))\n",
    "    roc_auc[i]= auc(fpr[i], tpr[i])\n",
    "    "
   ]
  },
  {
   "cell_type": "code",
   "execution_count": 120,
   "metadata": {
    "collapsed": false
   },
   "outputs": [
    {
     "data": {
      "image/png": "[encoded data removed]",
      "text/plain": [
       "<matplotlib.figure.Figure at 0x1fa8698bfd0>"
      ]
     },
     "metadata": {},
     "output_type": "display_data"
    }
   ],
   "source": [
    "#plotting the ROC curve\n",
    "plt.figure()\n",
    "lw=2\n",
    "plt.plot(fpr[0], tpr[0], color='darkorange', lw=lw, label='ROC curve (area=%f)' % roc_auc[0])\n",
    "plt.plot([0,1],[0,1], color='navy', lw=lw, linestyle='--')\n",
    "plt.xlim([0.0, 1.0])\n",
    "plt.ylim([0.0, 1.05])\n",
    "plt.xlabel('False Positive Rate')\n",
    "plt.ylabel('True Positive Rate')\n",
    "plt.title('Receiver operating characteristic for consensus model for ML class')\n",
    "plt.legend(loc=\"lower right\")\n",
    "plt.show()\n"
   ]
  },
  {
   "cell_type": "markdown",
   "metadata": {},
   "source": [
    "**Decision Tree for the LH model**"
   ]
  },
  {
   "cell_type": "code",
   "execution_count": 121,
   "metadata": {
    "collapsed": false
   },
   "outputs": [
    {
     "name": "stdout",
     "output_type": "stream",
     "text": [
      "order of classes: ['H' 'L']\n",
      "accuracy of the model 0.935028248588\n",
      "probabilities of the classes: [[ 0.83333333  0.16666667]\n",
      " [ 1.          0.        ]\n",
      " [ 0.83333333  0.16666667]\n",
      " [ 1.          0.        ]\n",
      " [ 0.06944444  0.93055556]\n",
      " [ 1.          0.        ]\n",
      " [ 1.          0.        ]\n",
      " [ 0.83333333  0.16666667]\n",
      " [ 1.          0.        ]\n",
      " [ 1.          0.        ]\n",
      " [ 0.90140845  0.09859155]\n",
      " [ 1.          0.        ]\n",
      " [ 0.06944444  0.93055556]\n",
      " [ 1.          0.        ]\n",
      " [ 0.83333333  0.16666667]\n",
      " [ 0.4084507   0.5915493 ]\n",
      " [ 1.          0.        ]\n",
      " [ 1.          0.        ]\n",
      " [ 0.83333333  0.16666667]\n",
      " [ 0.          1.        ]\n",
      " [ 0.90140845  0.09859155]\n",
      " [ 1.          0.        ]\n",
      " [ 1.          0.        ]\n",
      " [ 0.88732394  0.11267606]\n",
      " [ 0.83333333  0.16666667]\n",
      " [ 0.83333333  0.16666667]\n",
      " [ 1.          0.        ]\n",
      " [ 0.4084507   0.5915493 ]\n",
      " [ 1.          0.        ]\n",
      " [ 1.          0.        ]\n",
      " [ 0.          1.        ]\n",
      " [ 0.          1.        ]\n",
      " [ 1.          0.        ]\n",
      " [ 1.          0.        ]\n",
      " [ 1.          0.        ]\n",
      " [ 1.          0.        ]\n",
      " [ 1.          0.        ]\n",
      " [ 0.06944444  0.93055556]\n",
      " [ 0.06944444  0.93055556]\n",
      " [ 1.          0.        ]\n",
      " [ 0.06944444  0.93055556]\n",
      " [ 0.90140845  0.09859155]\n",
      " [ 0.88732394  0.11267606]\n",
      " [ 1.          0.        ]\n",
      " [ 1.          0.        ]\n",
      " [ 0.90140845  0.09859155]\n",
      " [ 1.          0.        ]\n",
      " [ 1.          0.        ]\n",
      " [ 1.          0.        ]\n",
      " [ 1.          0.        ]\n",
      " [ 1.          0.        ]\n",
      " [ 0.83333333  0.16666667]\n",
      " [ 0.4084507   0.5915493 ]\n",
      " [ 0.88732394  0.11267606]\n",
      " [ 0.88732394  0.11267606]\n",
      " [ 1.          0.        ]\n",
      " [ 1.          0.        ]\n",
      " [ 1.          0.        ]\n",
      " [ 0.83333333  0.16666667]\n",
      " [ 1.          0.        ]\n",
      " [ 0.          1.        ]\n",
      " [ 0.83333333  0.16666667]\n",
      " [ 1.          0.        ]\n",
      " [ 0.83333333  0.16666667]\n",
      " [ 1.          0.        ]\n",
      " [ 0.06944444  0.93055556]\n",
      " [ 0.88732394  0.11267606]\n",
      " [ 1.          0.        ]\n",
      " [ 1.          0.        ]\n",
      " [ 1.          0.        ]\n",
      " [ 0.          1.        ]\n",
      " [ 1.          0.        ]\n",
      " [ 0.4084507   0.5915493 ]\n",
      " [ 1.          0.        ]\n",
      " [ 1.          0.        ]\n",
      " [ 1.          0.        ]\n",
      " [ 1.          0.        ]\n",
      " [ 1.          0.        ]\n",
      " [ 1.          0.        ]\n",
      " [ 0.          1.        ]\n",
      " [ 0.          1.        ]\n",
      " [ 0.83333333  0.16666667]\n",
      " [ 1.          0.        ]\n",
      " [ 1.          0.        ]\n",
      " [ 1.          0.        ]\n",
      " [ 0.4084507   0.5915493 ]\n",
      " [ 0.          1.        ]\n",
      " [ 1.          0.        ]\n",
      " [ 1.          0.        ]\n",
      " [ 1.          0.        ]\n",
      " [ 1.          0.        ]\n",
      " [ 0.90140845  0.09859155]\n",
      " [ 0.83333333  0.16666667]\n",
      " [ 1.          0.        ]\n",
      " [ 1.          0.        ]\n",
      " [ 1.          0.        ]\n",
      " [ 1.          0.        ]\n",
      " [ 1.          0.        ]\n",
      " [ 1.          0.        ]\n",
      " [ 0.88732394  0.11267606]\n",
      " [ 0.83333333  0.16666667]\n",
      " [ 0.          1.        ]\n",
      " [ 1.          0.        ]\n",
      " [ 0.06944444  0.93055556]\n",
      " [ 0.83333333  0.16666667]\n",
      " [ 1.          0.        ]\n",
      " [ 1.          0.        ]\n",
      " [ 0.          1.        ]\n",
      " [ 1.          0.        ]\n",
      " [ 1.          0.        ]\n",
      " [ 1.          0.        ]\n",
      " [ 0.83333333  0.16666667]\n",
      " [ 1.          0.        ]\n",
      " [ 0.83333333  0.16666667]\n",
      " [ 1.          0.        ]\n",
      " [ 1.          0.        ]\n",
      " [ 1.          0.        ]\n",
      " [ 0.83333333  0.16666667]\n",
      " [ 0.          1.        ]\n",
      " [ 0.          1.        ]\n",
      " [ 0.83333333  0.16666667]\n",
      " [ 0.90140845  0.09859155]\n",
      " [ 0.06944444  0.93055556]\n",
      " [ 0.90140845  0.09859155]\n",
      " [ 1.          0.        ]\n",
      " [ 0.          1.        ]\n",
      " [ 1.          0.        ]\n",
      " [ 1.          0.        ]\n",
      " [ 0.90140845  0.09859155]\n",
      " [ 1.          0.        ]\n",
      " [ 1.          0.        ]\n",
      " [ 1.          0.        ]\n",
      " [ 1.          0.        ]\n",
      " [ 0.88732394  0.11267606]\n",
      " [ 0.88732394  0.11267606]\n",
      " [ 1.          0.        ]\n",
      " [ 1.          0.        ]\n",
      " [ 1.          0.        ]\n",
      " [ 1.          0.        ]\n",
      " [ 0.06944444  0.93055556]\n",
      " [ 0.          1.        ]\n",
      " [ 1.          0.        ]\n",
      " [ 1.          0.        ]\n",
      " [ 0.88732394  0.11267606]\n",
      " [ 1.          0.        ]\n",
      " [ 1.          0.        ]\n",
      " [ 1.          0.        ]\n",
      " [ 1.          0.        ]\n",
      " [ 1.          0.        ]\n",
      " [ 0.06944444  0.93055556]\n",
      " [ 0.          1.        ]\n",
      " [ 0.83333333  0.16666667]\n",
      " [ 1.          0.        ]\n",
      " [ 1.          0.        ]\n",
      " [ 1.          0.        ]\n",
      " [ 0.4084507   0.5915493 ]\n",
      " [ 1.          0.        ]\n",
      " [ 0.          1.        ]\n",
      " [ 0.          1.        ]\n",
      " [ 1.          0.        ]\n",
      " [ 1.          0.        ]\n",
      " [ 0.90140845  0.09859155]\n",
      " [ 1.          0.        ]\n",
      " [ 0.83333333  0.16666667]\n",
      " [ 0.          1.        ]\n",
      " [ 0.88732394  0.11267606]\n",
      " [ 1.          0.        ]\n",
      " [ 0.83333333  0.16666667]\n",
      " [ 1.          0.        ]\n",
      " [ 0.06944444  0.93055556]\n",
      " [ 1.          0.        ]\n",
      " [ 1.          0.        ]\n",
      " [ 1.          0.        ]\n",
      " [ 1.          0.        ]\n",
      " [ 0.90140845  0.09859155]\n",
      " [ 0.88732394  0.11267606]\n",
      " [ 1.          0.        ]\n",
      " [ 0.83333333  0.16666667]\n",
      " [ 1.          0.        ]\n",
      " [ 0.83333333  0.16666667]\n",
      " [ 1.          0.        ]\n",
      " [ 1.          0.        ]\n",
      " [ 0.06944444  0.93055556]\n",
      " [ 1.          0.        ]\n",
      " [ 0.88732394  0.11267606]\n",
      " [ 1.          0.        ]\n",
      " [ 1.          0.        ]\n",
      " [ 1.          0.        ]\n",
      " [ 0.83333333  0.16666667]\n",
      " [ 1.          0.        ]\n",
      " [ 1.          0.        ]\n",
      " [ 1.          0.        ]\n",
      " [ 1.          0.        ]\n",
      " [ 1.          0.        ]\n",
      " [ 0.          1.        ]\n",
      " [ 1.          0.        ]\n",
      " [ 1.          0.        ]\n",
      " [ 0.          1.        ]\n",
      " [ 0.88732394  0.11267606]\n",
      " [ 0.          1.        ]\n",
      " [ 0.90140845  0.09859155]\n",
      " [ 0.4084507   0.5915493 ]\n",
      " [ 0.06944444  0.93055556]\n",
      " [ 0.          1.        ]\n",
      " [ 1.          0.        ]\n",
      " [ 1.          0.        ]\n",
      " [ 0.4084507   0.5915493 ]\n",
      " [ 1.          0.        ]\n",
      " [ 0.          1.        ]\n",
      " [ 1.          0.        ]\n",
      " [ 1.          0.        ]\n",
      " [ 0.          1.        ]\n",
      " [ 1.          0.        ]\n",
      " [ 1.          0.        ]\n",
      " [ 1.          0.        ]\n",
      " [ 1.          0.        ]\n",
      " [ 0.06944444  0.93055556]\n",
      " [ 1.          0.        ]\n",
      " [ 1.          0.        ]\n",
      " [ 1.          0.        ]\n",
      " [ 1.          0.        ]\n",
      " [ 1.          0.        ]\n",
      " [ 1.          0.        ]\n",
      " [ 0.          1.        ]\n",
      " [ 1.          0.        ]\n",
      " [ 0.83333333  0.16666667]\n",
      " [ 1.          0.        ]\n",
      " [ 0.83333333  0.16666667]\n",
      " [ 0.          1.        ]\n",
      " [ 0.4084507   0.5915493 ]\n",
      " [ 1.          0.        ]\n",
      " [ 0.83333333  0.16666667]\n",
      " [ 1.          0.        ]\n",
      " [ 1.          0.        ]\n",
      " [ 0.4084507   0.5915493 ]\n",
      " [ 1.          0.        ]\n",
      " [ 1.          0.        ]\n",
      " [ 1.          0.        ]\n",
      " [ 1.          0.        ]\n",
      " [ 1.          0.        ]\n",
      " [ 1.          0.        ]\n",
      " [ 1.          0.        ]\n",
      " [ 1.          0.        ]\n",
      " [ 1.          0.        ]\n",
      " [ 1.          0.        ]\n",
      " [ 0.83333333  0.16666667]\n",
      " [ 1.          0.        ]\n",
      " [ 1.          0.        ]\n",
      " [ 1.          0.        ]\n",
      " [ 0.          1.        ]\n",
      " [ 1.          0.        ]\n",
      " [ 0.88732394  0.11267606]\n",
      " [ 1.          0.        ]\n",
      " [ 0.83333333  0.16666667]\n",
      " [ 0.83333333  0.16666667]\n",
      " [ 1.          0.        ]\n",
      " [ 0.83333333  0.16666667]\n",
      " [ 1.          0.        ]\n",
      " [ 1.          0.        ]\n",
      " [ 1.          0.        ]\n",
      " [ 0.88732394  0.11267606]\n",
      " [ 0.90140845  0.09859155]\n",
      " [ 0.88732394  0.11267606]\n",
      " [ 1.          0.        ]\n",
      " [ 0.06944444  0.93055556]\n",
      " [ 0.4084507   0.5915493 ]\n",
      " [ 0.4084507   0.5915493 ]\n",
      " [ 1.          0.        ]\n",
      " [ 0.83333333  0.16666667]\n",
      " [ 1.          0.        ]\n",
      " [ 1.          0.        ]\n",
      " [ 0.06944444  0.93055556]\n",
      " [ 0.88732394  0.11267606]\n",
      " [ 1.          0.        ]\n",
      " [ 1.          0.        ]\n",
      " [ 0.83333333  0.16666667]\n",
      " [ 0.88732394  0.11267606]\n",
      " [ 0.          1.        ]\n",
      " [ 0.          1.        ]\n",
      " [ 1.          0.        ]\n",
      " [ 1.          0.        ]\n",
      " [ 1.          0.        ]\n",
      " [ 1.          0.        ]\n",
      " [ 0.90140845  0.09859155]\n",
      " [ 0.90140845  0.09859155]\n",
      " [ 0.90140845  0.09859155]\n",
      " [ 1.          0.        ]\n",
      " [ 1.          0.        ]\n",
      " [ 1.          0.        ]\n",
      " [ 1.          0.        ]\n",
      " [ 1.          0.        ]\n",
      " [ 0.90140845  0.09859155]\n",
      " [ 1.          0.        ]\n",
      " [ 0.          1.        ]\n",
      " [ 1.          0.        ]\n",
      " [ 1.          0.        ]\n",
      " [ 0.88732394  0.11267606]\n",
      " [ 1.          0.        ]\n",
      " [ 0.06944444  0.93055556]\n",
      " [ 0.06944444  0.93055556]\n",
      " [ 1.          0.        ]\n",
      " [ 0.06944444  0.93055556]\n",
      " [ 1.          0.        ]\n",
      " [ 1.          0.        ]\n",
      " [ 1.          0.        ]\n",
      " [ 1.          0.        ]\n",
      " [ 1.          0.        ]\n",
      " [ 0.88732394  0.11267606]\n",
      " [ 1.          0.        ]\n",
      " [ 0.88732394  0.11267606]\n",
      " [ 1.          0.        ]\n",
      " [ 1.          0.        ]\n",
      " [ 1.          0.        ]\n",
      " [ 0.90140845  0.09859155]\n",
      " [ 1.          0.        ]\n",
      " [ 1.          0.        ]\n",
      " [ 0.4084507   0.5915493 ]\n",
      " [ 0.4084507   0.5915493 ]\n",
      " [ 0.          1.        ]\n",
      " [ 1.          0.        ]\n",
      " [ 1.          0.        ]\n",
      " [ 1.          0.        ]\n",
      " [ 1.          0.        ]\n",
      " [ 1.          0.        ]\n",
      " [ 0.83333333  0.16666667]\n",
      " [ 1.          0.        ]\n",
      " [ 1.          0.        ]\n",
      " [ 1.          0.        ]\n",
      " [ 0.06944444  0.93055556]\n",
      " [ 0.06944444  0.93055556]\n",
      " [ 0.4084507   0.5915493 ]\n",
      " [ 0.88732394  0.11267606]\n",
      " [ 1.          0.        ]\n",
      " [ 1.          0.        ]\n",
      " [ 1.          0.        ]\n",
      " [ 0.88732394  0.11267606]\n",
      " [ 1.          0.        ]\n",
      " [ 0.83333333  0.16666667]\n",
      " [ 1.          0.        ]\n",
      " [ 1.          0.        ]\n",
      " [ 0.88732394  0.11267606]\n",
      " [ 1.          0.        ]\n",
      " [ 1.          0.        ]\n",
      " [ 1.          0.        ]\n",
      " [ 0.          1.        ]\n",
      " [ 0.83333333  0.16666667]\n",
      " [ 1.          0.        ]\n",
      " [ 0.88732394  0.11267606]\n",
      " [ 0.83333333  0.16666667]\n",
      " [ 1.          0.        ]\n",
      " [ 1.          0.        ]\n",
      " [ 0.88732394  0.11267606]\n",
      " [ 1.          0.        ]\n",
      " [ 0.4084507   0.5915493 ]]\n",
      "prediction of classes: ['H' 'H' 'H' 'H' 'L' 'H' 'H' 'H' 'H' 'H' 'H' 'H' 'L' 'H' 'H' 'L' 'H' 'H'\n",
      " 'H' 'L' 'H' 'H' 'H' 'H' 'H' 'H' 'H' 'L' 'H' 'H' 'L' 'L' 'H' 'H' 'H' 'H'\n",
      " 'H' 'L' 'L' 'H' 'L' 'H' 'H' 'H' 'H' 'H' 'H' 'H' 'H' 'H' 'H' 'H' 'L' 'H'\n",
      " 'H' 'H' 'H' 'H' 'H' 'H' 'L' 'H' 'H' 'H' 'H' 'L' 'H' 'H' 'H' 'H' 'L' 'H'\n",
      " 'L' 'H' 'H' 'H' 'H' 'H' 'H' 'L' 'L' 'H' 'H' 'H' 'H' 'L' 'L' 'H' 'H' 'H'\n",
      " 'H' 'H' 'H' 'H' 'H' 'H' 'H' 'H' 'H' 'H' 'H' 'L' 'H' 'L' 'H' 'H' 'H' 'L'\n",
      " 'H' 'H' 'H' 'H' 'H' 'H' 'H' 'H' 'H' 'H' 'L' 'L' 'H' 'H' 'L' 'H' 'H' 'L'\n",
      " 'H' 'H' 'H' 'H' 'H' 'H' 'H' 'H' 'H' 'H' 'H' 'H' 'H' 'L' 'L' 'H' 'H' 'H'\n",
      " 'H' 'H' 'H' 'H' 'H' 'L' 'L' 'H' 'H' 'H' 'H' 'L' 'H' 'L' 'L' 'H' 'H' 'H'\n",
      " 'H' 'H' 'L' 'H' 'H' 'H' 'H' 'L' 'H' 'H' 'H' 'H' 'H' 'H' 'H' 'H' 'H' 'H'\n",
      " 'H' 'H' 'L' 'H' 'H' 'H' 'H' 'H' 'H' 'H' 'H' 'H' 'H' 'H' 'L' 'H' 'H' 'L'\n",
      " 'H' 'L' 'H' 'L' 'L' 'L' 'H' 'H' 'L' 'H' 'L' 'H' 'H' 'L' 'H' 'H' 'H' 'H'\n",
      " 'L' 'H' 'H' 'H' 'H' 'H' 'H' 'L' 'H' 'H' 'H' 'H' 'L' 'L' 'H' 'H' 'H' 'H'\n",
      " 'L' 'H' 'H' 'H' 'H' 'H' 'H' 'H' 'H' 'H' 'H' 'H' 'H' 'H' 'H' 'L' 'H' 'H'\n",
      " 'H' 'H' 'H' 'H' 'H' 'H' 'H' 'H' 'H' 'H' 'H' 'H' 'L' 'L' 'L' 'H' 'H' 'H'\n",
      " 'H' 'L' 'H' 'H' 'H' 'H' 'H' 'L' 'L' 'H' 'H' 'H' 'H' 'H' 'H' 'H' 'H' 'H'\n",
      " 'H' 'H' 'H' 'H' 'H' 'L' 'H' 'H' 'H' 'H' 'L' 'L' 'H' 'L' 'H' 'H' 'H' 'H'\n",
      " 'H' 'H' 'H' 'H' 'H' 'H' 'H' 'H' 'H' 'H' 'L' 'L' 'L' 'H' 'H' 'H' 'H' 'H'\n",
      " 'H' 'H' 'H' 'H' 'L' 'L' 'L' 'H' 'H' 'H' 'H' 'H' 'H' 'H' 'H' 'H' 'H' 'H'\n",
      " 'H' 'H' 'L' 'H' 'H' 'H' 'H' 'H' 'H' 'H' 'H' 'L']\n",
      "matthews correlation coeff: 0.794145003161\n"
     ]
    },
    {
     "data": {
      "text/plain": [
       "<bound method BaseEstimator.get_params of DecisionTreeClassifier(class_weight=None, criterion='gini', max_depth=None,\n",
       "            max_features=None, max_leaf_nodes=10, min_impurity_split=1e-07,\n",
       "            min_samples_leaf=1, min_samples_split=2,\n",
       "            min_weight_fraction_leaf=0.05, presort=False,\n",
       "            random_state=None, splitter='best')>"
      ]
     },
     "execution_count": 121,
     "metadata": {},
     "output_type": "execute_result"
    }
   ],
   "source": [
    "tree_LH=DecisionTreeClassifier(min_weight_fraction_leaf=0.05, max_leaf_nodes=10)\n",
    "tree_LH.fit(HL_x_train, HL_y_train)\n",
    "acc_tree_LH=tree_LH.score(HL_x_test, HL_y_test)\n",
    "predict_tree_LH=tree_LH.predict(HL_x_test)\n",
    "prob_tree_LH=tree_LH.predict_proba(HL_x_test)\n",
    "#matthews correlation coeff\n",
    "matt_corrcoef= matthews_corrcoef(HL_y_test, predict_tree_LH)\n",
    "print('order of classes:', tree_LH.classes_)\n",
    "print(\"accuracy of the model\", acc_tree_LH)\n",
    "print('probabilities of the classes:', prob_tree_LH)\n",
    "print('prediction of classes:', predict_tree_LH)\n",
    "print('matthews correlation coeff:', matt_corrcoef)\n",
    "\n",
    "tree_LH.get_params"
   ]
  },
  {
   "cell_type": "code",
   "execution_count": 122,
   "metadata": {
    "collapsed": false
   },
   "outputs": [
    {
     "data": {
      "text/plain": [
       "array([[273,  11],\n",
       "       [ 12,  58]])"
      ]
     },
     "execution_count": 122,
     "metadata": {},
     "output_type": "execute_result"
    }
   ],
   "source": [
    "#computing the confusion matrix\n",
    "confusion_matrix(HL_y_test, predict_tree_LH)"
   ]
  },
  {
   "cell_type": "code",
   "execution_count": 123,
   "metadata": {
    "collapsed": false
   },
   "outputs": [
    {
     "data": {
      "text/plain": [
       "array([ 0.96126761,  0.82857143])"
      ]
     },
     "execution_count": 123,
     "metadata": {},
     "output_type": "execute_result"
    }
   ],
   "source": [
    "cmatrix_HL_tree=confusion_matrix(HL_y_test, predict_tree_LH)\n",
    "cmatrix_HL_tree.diagonal()/cmatrix_HL_tree.sum(axis=1)"
   ]
  },
  {
   "cell_type": "code",
   "execution_count": 124,
   "metadata": {
    "collapsed": true
   },
   "outputs": [],
   "source": [
    "#plotting the ROC\n",
    "fpr=dict()\n",
    "tpr=dict()\n",
    "roc_auc=dict()\n",
    "HL_y_test_col=HL_y_test[:, None]\n",
    "predict_tree_LH_col=predict_tree_LH[:, None]\n",
    "for i in range(0,1):\n",
    "    fpr[i], tpr[i], _ =roc_curve(label_binarize(HL_y_test_col[:, i], classes=['H', 'L']),\n",
    "                                 label_binarize(predict_tree_LH_col[:, i], classes=['H','L']))\n",
    "    roc_auc[i]=auc(fpr[i], tpr[i])"
   ]
  },
  {
   "cell_type": "code",
   "execution_count": 125,
   "metadata": {
    "collapsed": false
   },
   "outputs": [
    {
     "data": {
      "image/png": "[encoded data removed]",
      "text/plain": [
       "<matplotlib.figure.Figure at 0x1fa86ab7390>"
      ]
     },
     "metadata": {},
     "output_type": "display_data"
    }
   ],
   "source": [
    "plt.figure()\n",
    "lw=2\n",
    "plt.plot(fpr[0], tpr[0], color='darkorange', lw=lw, label='ROC curve (area is %f)' % roc_auc[0])\n",
    "plt.plot([0, 1.0], [0, 1.0], color='navy', linestyle='--')\n",
    "plt.xlim([0, 1.0])\n",
    "plt.ylim([0, 1.05])\n",
    "plt.xlabel('False Positive Rate')\n",
    "plt.ylabel('True Positive Rate')\n",
    "plt.legend(loc='lower right')\n",
    "plt.title('ROC for LH binary classes using CART')\n",
    "plt.show()"
   ]
  },
  {
   "cell_type": "code",
   "execution_count": null,
   "metadata": {
    "collapsed": true
   },
   "outputs": [],
   "source": []
  },
  {
   "cell_type": "markdown",
   "metadata": {},
   "source": [
    "**Random Forest for LH model**"
   ]
  },
  {
   "cell_type": "code",
   "execution_count": 126,
   "metadata": {
    "collapsed": false
   },
   "outputs": [
    {
     "name": "stdout",
     "output_type": "stream",
     "text": [
      "order of classes: ['H' 'L']\n",
      "accuracy of model: 0.949152542373\n",
      "probabilities of the respective classes: [[ 1.          0.        ]\n",
      " [ 1.          0.        ]\n",
      " [ 0.78723404  0.21276596]\n",
      " [ 1.          0.        ]\n",
      " [ 0.          1.        ]\n",
      " [ 1.          0.        ]\n",
      " [ 1.          0.        ]\n",
      " [ 1.          0.        ]\n",
      " [ 1.          0.        ]\n",
      " [ 1.          0.        ]\n",
      " [ 0.89361702  0.10638298]\n",
      " [ 1.          0.        ]\n",
      " [ 0.          1.        ]\n",
      " [ 1.          0.        ]\n",
      " [ 1.          0.        ]\n",
      " [ 0.21276596  0.78723404]\n",
      " [ 1.          0.        ]\n",
      " [ 1.          0.        ]\n",
      " [ 1.          0.        ]\n",
      " [ 0.06382979  0.93617021]\n",
      " [ 0.89361702  0.10638298]\n",
      " [ 0.95744681  0.04255319]\n",
      " [ 1.          0.        ]\n",
      " [ 0.91489362  0.08510638]\n",
      " [ 0.80851064  0.19148936]\n",
      " [ 1.          0.        ]\n",
      " [ 1.          0.        ]\n",
      " [ 0.08510638  0.91489362]\n",
      " [ 1.          0.        ]\n",
      " [ 1.          0.        ]\n",
      " [ 0.          1.        ]\n",
      " [ 0.          1.        ]\n",
      " [ 1.          0.        ]\n",
      " [ 1.          0.        ]\n",
      " [ 1.          0.        ]\n",
      " [ 1.          0.        ]\n",
      " [ 1.          0.        ]\n",
      " [ 0.          1.        ]\n",
      " [ 0.06382979  0.93617021]\n",
      " [ 1.          0.        ]\n",
      " [ 0.          1.        ]\n",
      " [ 0.55319149  0.44680851]\n",
      " [ 1.          0.        ]\n",
      " [ 1.          0.        ]\n",
      " [ 1.          0.        ]\n",
      " [ 0.80851064  0.19148936]\n",
      " [ 1.          0.        ]\n",
      " [ 1.          0.        ]\n",
      " [ 0.95744681  0.04255319]\n",
      " [ 1.          0.        ]\n",
      " [ 0.93617021  0.06382979]\n",
      " [ 0.68085106  0.31914894]\n",
      " [ 0.19148936  0.80851064]\n",
      " [ 0.9787234   0.0212766 ]\n",
      " [ 1.          0.        ]\n",
      " [ 1.          0.        ]\n",
      " [ 1.          0.        ]\n",
      " [ 1.          0.        ]\n",
      " [ 1.          0.        ]\n",
      " [ 1.          0.        ]\n",
      " [ 0.          1.        ]\n",
      " [ 0.85106383  0.14893617]\n",
      " [ 1.          0.        ]\n",
      " [ 0.74468085  0.25531915]\n",
      " [ 1.          0.        ]\n",
      " [ 0.04255319  0.95744681]\n",
      " [ 1.          0.        ]\n",
      " [ 1.          0.        ]\n",
      " [ 1.          0.        ]\n",
      " [ 1.          0.        ]\n",
      " [ 0.          1.        ]\n",
      " [ 1.          0.        ]\n",
      " [ 0.06382979  0.93617021]\n",
      " [ 1.          0.        ]\n",
      " [ 1.          0.        ]\n",
      " [ 1.          0.        ]\n",
      " [ 1.          0.        ]\n",
      " [ 1.          0.        ]\n",
      " [ 0.63829787  0.36170213]\n",
      " [ 0.          1.        ]\n",
      " [ 0.          1.        ]\n",
      " [ 1.          0.        ]\n",
      " [ 1.          0.        ]\n",
      " [ 1.          0.        ]\n",
      " [ 1.          0.        ]\n",
      " [ 0.55319149  0.44680851]\n",
      " [ 0.          1.        ]\n",
      " [ 1.          0.        ]\n",
      " [ 1.          0.        ]\n",
      " [ 1.          0.        ]\n",
      " [ 1.          0.        ]\n",
      " [ 1.          0.        ]\n",
      " [ 1.          0.        ]\n",
      " [ 1.          0.        ]\n",
      " [ 1.          0.        ]\n",
      " [ 1.          0.        ]\n",
      " [ 1.          0.        ]\n",
      " [ 1.          0.        ]\n",
      " [ 1.          0.        ]\n",
      " [ 0.87234043  0.12765957]\n",
      " [ 1.          0.        ]\n",
      " [ 0.          1.        ]\n",
      " [ 1.          0.        ]\n",
      " [ 0.04255319  0.95744681]\n",
      " [ 0.70212766  0.29787234]\n",
      " [ 1.          0.        ]\n",
      " [ 1.          0.        ]\n",
      " [ 0.          1.        ]\n",
      " [ 1.          0.        ]\n",
      " [ 1.          0.        ]\n",
      " [ 1.          0.        ]\n",
      " [ 0.89361702  0.10638298]\n",
      " [ 0.95744681  0.04255319]\n",
      " [ 0.80851064  0.19148936]\n",
      " [ 1.          0.        ]\n",
      " [ 1.          0.        ]\n",
      " [ 1.          0.        ]\n",
      " [ 1.          0.        ]\n",
      " [ 0.0212766   0.9787234 ]\n",
      " [ 0.          1.        ]\n",
      " [ 1.          0.        ]\n",
      " [ 1.          0.        ]\n",
      " [ 0.          1.        ]\n",
      " [ 0.93617021  0.06382979]\n",
      " [ 1.          0.        ]\n",
      " [ 0.04255319  0.95744681]\n",
      " [ 1.          0.        ]\n",
      " [ 1.          0.        ]\n",
      " [ 0.9787234   0.0212766 ]\n",
      " [ 1.          0.        ]\n",
      " [ 1.          0.        ]\n",
      " [ 1.          0.        ]\n",
      " [ 0.91489362  0.08510638]\n",
      " [ 0.9787234   0.0212766 ]\n",
      " [ 1.          0.        ]\n",
      " [ 1.          0.        ]\n",
      " [ 0.76595745  0.23404255]\n",
      " [ 1.          0.        ]\n",
      " [ 1.          0.        ]\n",
      " [ 0.04255319  0.95744681]\n",
      " [ 0.          1.        ]\n",
      " [ 1.          0.        ]\n",
      " [ 1.          0.        ]\n",
      " [ 1.          0.        ]\n",
      " [ 1.          0.        ]\n",
      " [ 1.          0.        ]\n",
      " [ 0.9787234   0.0212766 ]\n",
      " [ 0.95744681  0.04255319]\n",
      " [ 1.          0.        ]\n",
      " [ 0.          1.        ]\n",
      " [ 0.          1.        ]\n",
      " [ 0.82978723  0.17021277]\n",
      " [ 1.          0.        ]\n",
      " [ 1.          0.        ]\n",
      " [ 1.          0.        ]\n",
      " [ 1.          0.        ]\n",
      " [ 1.          0.        ]\n",
      " [ 0.          1.        ]\n",
      " [ 0.          1.        ]\n",
      " [ 1.          0.        ]\n",
      " [ 1.          0.        ]\n",
      " [ 1.          0.        ]\n",
      " [ 1.          0.        ]\n",
      " [ 0.5106383   0.4893617 ]\n",
      " [ 0.          1.        ]\n",
      " [ 1.          0.        ]\n",
      " [ 1.          0.        ]\n",
      " [ 1.          0.        ]\n",
      " [ 1.          0.        ]\n",
      " [ 0.10638298  0.89361702]\n",
      " [ 1.          0.        ]\n",
      " [ 1.          0.        ]\n",
      " [ 1.          0.        ]\n",
      " [ 1.          0.        ]\n",
      " [ 1.          0.        ]\n",
      " [ 1.          0.        ]\n",
      " [ 1.          0.        ]\n",
      " [ 1.          0.        ]\n",
      " [ 1.          0.        ]\n",
      " [ 0.70212766  0.29787234]\n",
      " [ 1.          0.        ]\n",
      " [ 1.          0.        ]\n",
      " [ 0.25531915  0.74468085]\n",
      " [ 1.          0.        ]\n",
      " [ 1.          0.        ]\n",
      " [ 1.          0.        ]\n",
      " [ 1.          0.        ]\n",
      " [ 1.          0.        ]\n",
      " [ 0.78723404  0.21276596]\n",
      " [ 1.          0.        ]\n",
      " [ 1.          0.        ]\n",
      " [ 1.          0.        ]\n",
      " [ 1.          0.        ]\n",
      " [ 1.          0.        ]\n",
      " [ 0.          1.        ]\n",
      " [ 0.9787234   0.0212766 ]\n",
      " [ 1.          0.        ]\n",
      " [ 0.          1.        ]\n",
      " [ 1.          0.        ]\n",
      " [ 0.          1.        ]\n",
      " [ 1.          0.        ]\n",
      " [ 0.40425532  0.59574468]\n",
      " [ 0.08510638  0.91489362]\n",
      " [ 0.          1.        ]\n",
      " [ 1.          0.        ]\n",
      " [ 0.93617021  0.06382979]\n",
      " [ 0.36170213  0.63829787]\n",
      " [ 1.          0.        ]\n",
      " [ 0.          1.        ]\n",
      " [ 1.          0.        ]\n",
      " [ 1.          0.        ]\n",
      " [ 0.          1.        ]\n",
      " [ 1.          0.        ]\n",
      " [ 1.          0.        ]\n",
      " [ 1.          0.        ]\n",
      " [ 1.          0.        ]\n",
      " [ 0.04255319  0.95744681]\n",
      " [ 1.          0.        ]\n",
      " [ 1.          0.        ]\n",
      " [ 1.          0.        ]\n",
      " [ 1.          0.        ]\n",
      " [ 1.          0.        ]\n",
      " [ 1.          0.        ]\n",
      " [ 0.          1.        ]\n",
      " [ 1.          0.        ]\n",
      " [ 1.          0.        ]\n",
      " [ 1.          0.        ]\n",
      " [ 1.          0.        ]\n",
      " [ 0.          1.        ]\n",
      " [ 0.57446809  0.42553191]\n",
      " [ 1.          0.        ]\n",
      " [ 1.          0.        ]\n",
      " [ 1.          0.        ]\n",
      " [ 1.          0.        ]\n",
      " [ 0.5106383   0.4893617 ]\n",
      " [ 1.          0.        ]\n",
      " [ 1.          0.        ]\n",
      " [ 1.          0.        ]\n",
      " [ 1.          0.        ]\n",
      " [ 1.          0.        ]\n",
      " [ 1.          0.        ]\n",
      " [ 1.          0.        ]\n",
      " [ 1.          0.        ]\n",
      " [ 1.          0.        ]\n",
      " [ 1.          0.        ]\n",
      " [ 1.          0.        ]\n",
      " [ 1.          0.        ]\n",
      " [ 1.          0.        ]\n",
      " [ 1.          0.        ]\n",
      " [ 0.0212766   0.9787234 ]\n",
      " [ 1.          0.        ]\n",
      " [ 1.          0.        ]\n",
      " [ 1.          0.        ]\n",
      " [ 0.65957447  0.34042553]\n",
      " [ 1.          0.        ]\n",
      " [ 0.91489362  0.08510638]\n",
      " [ 0.42553191  0.57446809]\n",
      " [ 0.91489362  0.08510638]\n",
      " [ 1.          0.        ]\n",
      " [ 1.          0.        ]\n",
      " [ 1.          0.        ]\n",
      " [ 1.          0.        ]\n",
      " [ 0.91489362  0.08510638]\n",
      " [ 1.          0.        ]\n",
      " [ 0.          1.        ]\n",
      " [ 0.93617021  0.06382979]\n",
      " [ 0.34042553  0.65957447]\n",
      " [ 1.          0.        ]\n",
      " [ 0.5106383   0.4893617 ]\n",
      " [ 1.          0.        ]\n",
      " [ 1.          0.        ]\n",
      " [ 0.          1.        ]\n",
      " [ 1.          0.        ]\n",
      " [ 1.          0.        ]\n",
      " [ 1.          0.        ]\n",
      " [ 1.          0.        ]\n",
      " [ 0.89361702  0.10638298]\n",
      " [ 0.          1.        ]\n",
      " [ 0.          1.        ]\n",
      " [ 1.          0.        ]\n",
      " [ 1.          0.        ]\n",
      " [ 1.          0.        ]\n",
      " [ 1.          0.        ]\n",
      " [ 0.9787234   0.0212766 ]\n",
      " [ 0.9787234   0.0212766 ]\n",
      " [ 0.70212766  0.29787234]\n",
      " [ 0.9787234   0.0212766 ]\n",
      " [ 1.          0.        ]\n",
      " [ 1.          0.        ]\n",
      " [ 1.          0.        ]\n",
      " [ 1.          0.        ]\n",
      " [ 1.          0.        ]\n",
      " [ 1.          0.        ]\n",
      " [ 0.17021277  0.82978723]\n",
      " [ 1.          0.        ]\n",
      " [ 1.          0.        ]\n",
      " [ 1.          0.        ]\n",
      " [ 1.          0.        ]\n",
      " [ 0.          1.        ]\n",
      " [ 0.          1.        ]\n",
      " [ 1.          0.        ]\n",
      " [ 0.          1.        ]\n",
      " [ 1.          0.        ]\n",
      " [ 1.          0.        ]\n",
      " [ 1.          0.        ]\n",
      " [ 1.          0.        ]\n",
      " [ 1.          0.        ]\n",
      " [ 0.61702128  0.38297872]\n",
      " [ 1.          0.        ]\n",
      " [ 1.          0.        ]\n",
      " [ 1.          0.        ]\n",
      " [ 1.          0.        ]\n",
      " [ 1.          0.        ]\n",
      " [ 1.          0.        ]\n",
      " [ 1.          0.        ]\n",
      " [ 1.          0.        ]\n",
      " [ 1.          0.        ]\n",
      " [ 0.          1.        ]\n",
      " [ 0.          1.        ]\n",
      " [ 0.93617021  0.06382979]\n",
      " [ 0.9787234   0.0212766 ]\n",
      " [ 1.          0.        ]\n",
      " [ 1.          0.        ]\n",
      " [ 1.          0.        ]\n",
      " [ 0.57446809  0.42553191]\n",
      " [ 1.          0.        ]\n",
      " [ 1.          0.        ]\n",
      " [ 1.          0.        ]\n",
      " [ 0.17021277  0.82978723]\n",
      " [ 0.          1.        ]\n",
      " [ 0.34042553  0.65957447]\n",
      " [ 1.          0.        ]\n",
      " [ 1.          0.        ]\n",
      " [ 1.          0.        ]\n",
      " [ 1.          0.        ]\n",
      " [ 1.          0.        ]\n",
      " [ 1.          0.        ]\n",
      " [ 0.63829787  0.36170213]\n",
      " [ 1.          0.        ]\n",
      " [ 1.          0.        ]\n",
      " [ 1.          0.        ]\n",
      " [ 1.          0.        ]\n",
      " [ 1.          0.        ]\n",
      " [ 1.          0.        ]\n",
      " [ 0.          1.        ]\n",
      " [ 1.          0.        ]\n",
      " [ 0.9787234   0.0212766 ]\n",
      " [ 1.          0.        ]\n",
      " [ 1.          0.        ]\n",
      " [ 1.          0.        ]\n",
      " [ 0.95744681  0.04255319]\n",
      " [ 0.5106383   0.4893617 ]\n",
      " [ 1.          0.        ]\n",
      " [ 0.          1.        ]]\n",
      "predictions of the model: ['H' 'H' 'H' 'H' 'L' 'H' 'H' 'H' 'H' 'H' 'H' 'H' 'L' 'H' 'H' 'L' 'H' 'H'\n",
      " 'H' 'L' 'H' 'H' 'H' 'H' 'H' 'H' 'H' 'L' 'H' 'H' 'L' 'L' 'H' 'H' 'H' 'H'\n",
      " 'H' 'L' 'L' 'H' 'L' 'H' 'H' 'H' 'H' 'H' 'H' 'H' 'H' 'H' 'H' 'H' 'L' 'H'\n",
      " 'H' 'H' 'H' 'H' 'H' 'H' 'L' 'H' 'H' 'H' 'H' 'L' 'H' 'H' 'H' 'H' 'L' 'H'\n",
      " 'L' 'H' 'H' 'H' 'H' 'H' 'H' 'L' 'L' 'H' 'H' 'H' 'H' 'H' 'L' 'H' 'H' 'H'\n",
      " 'H' 'H' 'H' 'H' 'H' 'H' 'H' 'H' 'H' 'H' 'H' 'L' 'H' 'L' 'H' 'H' 'H' 'L'\n",
      " 'H' 'H' 'H' 'H' 'H' 'H' 'H' 'H' 'H' 'H' 'L' 'L' 'H' 'H' 'L' 'H' 'H' 'L'\n",
      " 'H' 'H' 'H' 'H' 'H' 'H' 'H' 'H' 'H' 'H' 'H' 'H' 'H' 'L' 'L' 'H' 'H' 'H'\n",
      " 'H' 'H' 'H' 'H' 'H' 'L' 'L' 'H' 'H' 'H' 'H' 'H' 'H' 'L' 'L' 'H' 'H' 'H'\n",
      " 'H' 'H' 'L' 'H' 'H' 'H' 'H' 'L' 'H' 'H' 'H' 'H' 'H' 'H' 'H' 'H' 'H' 'H'\n",
      " 'H' 'H' 'L' 'H' 'H' 'H' 'H' 'H' 'H' 'H' 'H' 'H' 'H' 'H' 'L' 'H' 'H' 'L'\n",
      " 'H' 'L' 'H' 'L' 'L' 'L' 'H' 'H' 'L' 'H' 'L' 'H' 'H' 'L' 'H' 'H' 'H' 'H'\n",
      " 'L' 'H' 'H' 'H' 'H' 'H' 'H' 'L' 'H' 'H' 'H' 'H' 'L' 'H' 'H' 'H' 'H' 'H'\n",
      " 'H' 'H' 'H' 'H' 'H' 'H' 'H' 'H' 'H' 'H' 'H' 'H' 'H' 'H' 'H' 'L' 'H' 'H'\n",
      " 'H' 'H' 'H' 'H' 'L' 'H' 'H' 'H' 'H' 'H' 'H' 'H' 'L' 'H' 'L' 'H' 'H' 'H'\n",
      " 'H' 'L' 'H' 'H' 'H' 'H' 'H' 'L' 'L' 'H' 'H' 'H' 'H' 'H' 'H' 'H' 'H' 'H'\n",
      " 'H' 'H' 'H' 'H' 'H' 'L' 'H' 'H' 'H' 'H' 'L' 'L' 'H' 'L' 'H' 'H' 'H' 'H'\n",
      " 'H' 'H' 'H' 'H' 'H' 'H' 'H' 'H' 'H' 'H' 'H' 'L' 'L' 'H' 'H' 'H' 'H' 'H'\n",
      " 'H' 'H' 'H' 'H' 'L' 'L' 'L' 'H' 'H' 'H' 'H' 'H' 'H' 'H' 'H' 'H' 'H' 'H'\n",
      " 'H' 'H' 'L' 'H' 'H' 'H' 'H' 'H' 'H' 'H' 'H' 'L']\n",
      "matthews correlation coefficient: 0.835664542073\n"
     ]
    }
   ],
   "source": [
    "RF_LH=RandomForestClassifier(n_estimators=47, random_state=3)\n",
    "RF_LH.fit(HL_x_train, HL_y_train)\n",
    "acc_RF_HL=RF_LH.score(HL_x_test, HL_y_test)\n",
    "predict_RF_HL=RF_LH.predict(HL_x_test)\n",
    "prob_RF_HL=RF_LH.predict_proba(HL_x_test)\n",
    "#matthews correlation coefficient\n",
    "matt_corrcoeff_lh=matthews_corrcoef(HL_y_test, predict_RF_HL)\n",
    "\n",
    "print('order of classes:', RF_LH.classes_)\n",
    "print('accuracy of model:', acc_RF_HL)\n",
    "print('probabilities of the respective classes:', prob_RF_HL)\n",
    "print('predictions of the model:', predict_RF_HL )\n",
    "print('matthews correlation coefficient:', matt_corrcoeff_lh)"
   ]
  },
  {
   "cell_type": "code",
   "execution_count": 127,
   "metadata": {
    "collapsed": false
   },
   "outputs": [
    {
     "data": {
      "text/plain": [
       "array([[278,   6],\n",
       "       [ 12,  58]])"
      ]
     },
     "execution_count": 127,
     "metadata": {},
     "output_type": "execute_result"
    }
   ],
   "source": [
    "#computing the confusion matrix for HL rf\n",
    "confusion_matrix(HL_y_test, predict_RF_HL)"
   ]
  },
  {
   "cell_type": "code",
   "execution_count": 128,
   "metadata": {
    "collapsed": false
   },
   "outputs": [
    {
     "data": {
      "text/plain": [
       "array([ 0.97887324,  0.82857143])"
      ]
     },
     "execution_count": 128,
     "metadata": {},
     "output_type": "execute_result"
    }
   ],
   "source": [
    "cmatrix_rf_HL=confusion_matrix(HL_y_test, predict_RF_HL)\n",
    "cmatrix_rf_HL.diagonal()/cmatrix_rf_HL.sum(axis=1)\n",
    "\n",
    "#LITERATURE VALUE FOR THE LH MODEL FOR ONLY RF\n",
    "#H:0.95\n",
    "#L:0.93"
   ]
  },
  {
   "cell_type": "code",
   "execution_count": 129,
   "metadata": {
    "collapsed": false
   },
   "outputs": [],
   "source": [
    "#plotting the ROC\n",
    "fpr=dict()\n",
    "tpr=dict()\n",
    "roc_auc=dict()\n",
    "HL_y_test_col=HL_y_test[:, None]\n",
    "predict_RF_HL_col=predict_RF_HL[:, None]\n",
    "for i in range(0,1):\n",
    "    fpr[i], tpr[i], _ =roc_curve(label_binarize(HL_y_test_col[:, i], classes=['H', 'L']),\n",
    "                                 label_binarize(predict_RF_HL_col[:, i], classes=['H','L']))\n",
    "    roc_auc[i]=auc(fpr[i], tpr[i])"
   ]
  },
  {
   "cell_type": "code",
   "execution_count": 130,
   "metadata": {
    "collapsed": false
   },
   "outputs": [
    {
     "data": {
      "image/png": "[encoded data removed]",
      "text/plain": [
       "<matplotlib.figure.Figure at 0x1fa86b82320>"
      ]
     },
     "metadata": {},
     "output_type": "display_data"
    }
   ],
   "source": [
    "plt.figure()\n",
    "lw=2\n",
    "plt.plot(fpr[0], tpr[0], color='darkorange', lw=lw, label='ROC curve (area is %f)' % roc_auc[0])\n",
    "plt.plot([0, 1.0], [0, 1.0], color='navy', linestyle='--')\n",
    "plt.xlim([0, 1.0])\n",
    "plt.ylim([0, 1.05])\n",
    "plt.xlabel('False Positive Rate')\n",
    "plt.ylabel('True Positive Rate')\n",
    "plt.legend(loc='lower right')\n",
    "plt.title('ROC for LH binary classes using RF ensemble')\n",
    "plt.show()"
   ]
  },
  {
   "cell_type": "code",
   "execution_count": 131,
   "metadata": {
    "collapsed": false
   },
   "outputs": [
    {
     "name": "stdout",
     "output_type": "stream",
     "text": [
      "accuracy of svc: 0.90395480226\n",
      "mcc of svc_hm: 0.675575300171\n",
      "order of classes ['H' 'L']\n"
     ]
    },
    {
     "data": {
      "text/plain": [
       "<bound method BaseEstimator.get_params of SVC(C=1.0, cache_size=200, class_weight=None, coef0=0.0,\n",
       "  decision_function_shape=None, degree=3, gamma='auto', kernel='rbf',\n",
       "  max_iter=-1, probability=False, random_state=None, shrinking=True,\n",
       "  tol=0.001, verbose=False)>"
      ]
     },
     "execution_count": 131,
     "metadata": {},
     "output_type": "execute_result"
    }
   ],
   "source": [
    "svc_lh=SVC()\n",
    "svc_lh.fit(HL_x_train, HL_y_train)\n",
    "predict_svc_lh=svc_lh.predict(HL_x_test)\n",
    "acc_svc_lh=svc_lh.score(HL_x_test, HL_y_test)\n",
    "#matthews correlation coefficient\n",
    "matt_corr_svc_lh=matthews_corrcoef(HL_y_test, predict_svc_lh)\n",
    "\n",
    "print('accuracy of svc:', acc_svc_lh)\n",
    "print('mcc of svc_hm:', matt_corr_svc_lh)\n",
    "print('order of classes', svc_lh.classes_)\n",
    "svc_lh.get_params"
   ]
  },
  {
   "cell_type": "code",
   "execution_count": 132,
   "metadata": {
    "collapsed": false
   },
   "outputs": [
    {
     "data": {
      "text/plain": [
       "((354,), (354,), (354,))"
      ]
     },
     "execution_count": 132,
     "metadata": {},
     "output_type": "execute_result"
    }
   ],
   "source": [
    "Vote1_lh_tree=predict_tree_LH\n",
    "Vote2_lh_rf=predict_RF_HL\n",
    "Vote3_lh_svc=predict_svc_lh\n",
    "Vote1_lh_tree.shape, Vote2_lh_rf.shape, Vote3_lh_svc.shape"
   ]
  },
  {
   "cell_type": "code",
   "execution_count": 133,
   "metadata": {
    "collapsed": false
   },
   "outputs": [],
   "source": [
    "#consensus voting model\n",
    "consensus_lh=[]\n",
    "for i in range(0, 354):\n",
    "    if Vote1_lh_tree[i]==Vote2_lh_rf[i]:\n",
    "        consensus_lh.append(Vote1_lh_tree[i])\n",
    "    elif Vote1_lh_tree[i]==Vote3_lh_svc[i]:\n",
    "        consensus_lh.append(Vote1_lh_tree[i])\n",
    "    elif Vote2_lh_rf[i]==Vote3_lh_svc[i]:\n",
    "        consensus_lh.append(Vote2_lh_rf[i])\n",
    "    else:\n",
    "        consensus_lh.append('NOTCLASSIFIED')"
   ]
  },
  {
   "cell_type": "code",
   "execution_count": 134,
   "metadata": {
    "collapsed": false
   },
   "outputs": [],
   "source": [
    "predict_consensus_lh=np.array(consensus_lh)"
   ]
  },
  {
   "cell_type": "code",
   "execution_count": 135,
   "metadata": {
    "collapsed": false
   },
   "outputs": [
    {
     "data": {
      "text/plain": [
       "array([[278,   6],\n",
       "       [ 13,  57]])"
      ]
     },
     "execution_count": 135,
     "metadata": {},
     "output_type": "execute_result"
    }
   ],
   "source": [
    "confusion_matrix(HL_y_test, predict_consensus_lh)"
   ]
  },
  {
   "cell_type": "code",
   "execution_count": 136,
   "metadata": {
    "collapsed": false
   },
   "outputs": [
    {
     "data": {
      "text/plain": [
       "array([ 0.97887324,  0.81428571])"
      ]
     },
     "execution_count": 136,
     "metadata": {},
     "output_type": "execute_result"
    }
   ],
   "source": [
    "cmatrix_hl=confusion_matrix(HL_y_test, predict_consensus_lh)\n",
    "cmatrix_hl.diagonal()/cmatrix_hl.sum(axis=1)"
   ]
  },
  {
   "cell_type": "code",
   "execution_count": 137,
   "metadata": {
    "collapsed": true
   },
   "outputs": [],
   "source": [
    "y=label_binarize(y_HL, classes=['L', 'H'])\n",
    "n_classes=y.shape[1]\n",
    "#roc\n",
    "fpr=dict()\n",
    "tpr=dict()\n",
    "roc_auc=dict()\n",
    "HL_y_test_col=HL_y_test[:, None]\n",
    "predict_consensus_lh_col=predict_consensus_lh[:,None]\n",
    "for i in range(n_classes):\n",
    "    fpr[i], tpr[i], _= roc_curve(label_binarize(HL_y_test_col[:,i], classes=['L','H']), \n",
    "                                 label_binarize(predict_consensus_lh_col[:,i], classes=['L','H']))\n",
    "    roc_auc[i]= auc(fpr[i], tpr[i])\n",
    "    "
   ]
  },
  {
   "cell_type": "code",
   "execution_count": 138,
   "metadata": {
    "collapsed": false
   },
   "outputs": [
    {
     "data": {
      "image/png": "[encoded data removed]",
      "text/plain": [
       "<matplotlib.figure.Figure at 0x1fa86b874e0>"
      ]
     },
     "metadata": {},
     "output_type": "display_data"
    }
   ],
   "source": [
    "#plotting the ROC curve\n",
    "plt.figure()\n",
    "lw=2\n",
    "plt.plot(fpr[0], tpr[0], color='darkorange', lw=lw, label='ROC curve (area=%f)' % roc_auc[0])\n",
    "plt.plot([0,1],[0,1], color='navy', lw=lw, linestyle='--')\n",
    "plt.xlim([0.0, 1.0])\n",
    "plt.ylim([0.0, 1.05])\n",
    "plt.xlabel('False Positive Rate')\n",
    "plt.ylabel('True Positive Rate')\n",
    "plt.title('Receiver operating characteristic for consensus model for LH class')\n",
    "plt.legend(loc=\"lower right\")\n",
    "plt.show()\n"
   ]
  },
  {
   "cell_type": "markdown",
   "metadata": {
    "collapsed": true
   },
   "source": [
    "**BUILDING A CLASSIFICATION MODEL IN TENSORFLOW FOR LH model**"
   ]
  },
  {
   "cell_type": "code",
   "execution_count": 139,
   "metadata": {
    "collapsed": true
   },
   "outputs": [],
   "source": [
    "import tensorflow as tf"
   ]
  },
  {
   "cell_type": "code",
   "execution_count": 140,
   "metadata": {
    "collapsed": false
   },
   "outputs": [
    {
     "data": {
      "text/plain": [
       "((1413, 53), (354, 53))"
      ]
     },
     "execution_count": 140,
     "metadata": {},
     "output_type": "execute_result"
    }
   ],
   "source": [
    "training_set, test_set=train_test_split(HL, test_size=0.2)\n",
    "training_set.shape, test_set.shape"
   ]
  },
  {
   "cell_type": "code",
   "execution_count": 141,
   "metadata": {
    "collapsed": false,
    "scrolled": true
   },
   "outputs": [],
   "source": [
    "COLUMNS=['Molecule','QikProp_.stars','QikProp_.amine','QikProp_.amidine','QikProp_.acid',\n",
    " 'QikProp_.amide','QikProp_.rotor','QikProp_.rtvFG','QikProp_CNS','QikProp_mol_MW','QikProp_dipole','QikProp_SASA','QikProp_FOSA',\n",
    " 'QikProp_FISA','QikProp_PISA','QikProp_WPSA', 'QikProp_volume','QikProp_donorHB','QikProp_accptHB','QikProp_dip.2.V','QikProp_ACxDN..5.SA',\n",
    " 'QikProp_glob','QikProp_QPpolrz','QikProp_QPlogPC16','QikProp_QPlogPoct','QikProp_QPlogPw','QikProp_QPlogPo.w',\n",
    "'QikProp_QPlogS','QikProp_CIQPlogS','QikProp_QPlogHERG','QikProp_QPPCaco','QikProp_QPlogBB','QikProp_QPPMDCK','QikProp_QPlogKp',\n",
    " 'QikProp_IP.eV.','QikProp_EA.eV.','QikProp_.metab','QikProp_QPlogKhsa','QikProp_HumanOralAbsorption','QikProp_PercentHumanOralAbsorption','QikProp_SAfluorine',\n",
    " 'QikProp_SAamideO','QikProp_PSA', 'QikProp_.NandO','QikProp_RuleOfFive','QikProp_.ringatoms','QikProp_.in34','QikProp_.in56','QikProp_.noncon',\n",
    " 'QikProp_.nonHatm','QikProp_RuleOfThree','QikProp_ACxDN..5.SAxSASA.MW','Class']\n",
    "FEATURES=['Molecule','QikProp_.stars','QikProp_.amine','QikProp_.amidine','QikProp_.acid',\n",
    " 'QikProp_.amide','QikProp_.rotor','QikProp_.rtvFG','QikProp_CNS','QikProp_mol_MW','QikProp_dipole','QikProp_SASA','QikProp_FOSA',\n",
    " 'QikProp_FISA','QikProp_PISA','QikProp_WPSA', 'QikProp_volume','QikProp_donorHB','QikProp_accptHB','QikProp_dip.2.V','QikProp_ACxDN..5.SA',\n",
    " 'QikProp_glob','QikProp_QPpolrz','QikProp_QPlogPC16','QikProp_QPlogPoct','QikProp_QPlogPw','QikProp_QPlogPo.w',\n",
    "'QikProp_QPlogS','QikProp_CIQPlogS','QikProp_QPlogHERG','QikProp_QPPCaco','QikProp_QPlogBB','QikProp_QPPMDCK','QikProp_QPlogKp',\n",
    " 'QikProp_IP.eV.','QikProp_EA.eV.','QikProp_.metab','QikProp_QPlogKhsa','QikProp_HumanOralAbsorption','QikProp_PercentHumanOralAbsorption','QikProp_SAfluorine',\n",
    " 'QikProp_SAamideO','QikProp_PSA', 'QikProp_.NandO','QikProp_RuleOfFive','QikProp_.ringatoms','QikProp_.in34','QikProp_.in56','QikProp_.noncon',\n",
    " 'QikProp_.nonHatm','QikProp_RuleOfThree','QikProp_ACxDN..5.SAxSASA.MW']\n",
    "LABEL=['Class']\n"
   ]
  },
  {
   "cell_type": "code",
   "execution_count": null,
   "metadata": {
    "collapsed": false
   },
   "outputs": [],
   "source": [
    "feature_cols=[tf.feature_column.numeric_column(k) for k in FEATURES]\n",
    "feature_cols"
   ]
  },
  {
   "cell_type": "code",
   "execution_count": null,
   "metadata": {
    "collapsed": true
   },
   "outputs": [],
   "source": [
    "def get_input_fn(data_set, num_epochs=None, shuffle=True):\n",
    "    return tf.estimator.inputs.pandas_input_fn(x=pd.DataFrame({j:data_set[j] for j in FEATURES}),\n",
    "                                              y=pd.DataFrame(data_set[LABEL].values),\n",
    "                                              num_epochs=num_epochs, shuffle=shuffle)"
   ]
  },
  {
   "cell_type": "code",
   "execution_count": null,
   "metadata": {
    "collapsed": false
   },
   "outputs": [],
   "source": [
    "Classifier=tf.estimator.DNNClassifier(feature_columns=feature_cols, hidden_units=[51,51,30,20,10], n_classes=2)"
   ]
  },
  {
   "cell_type": "code",
   "execution_count": null,
   "metadata": {
    "collapsed": false
   },
   "outputs": [],
   "source": [
    "Classifier.train(input_fn=get_input_fn(ML), steps=1000)"
   ]
  },
  {
   "cell_type": "markdown",
   "metadata": {
    "collapsed": true
   },
   "source": [
    "**COMBINING THE THREE VOTING SYSTEMS OF THE BINARY CLASSES**"
   ]
  },
  {
   "cell_type": "code",
   "execution_count": null,
   "metadata": {
    "collapsed": false
   },
   "outputs": [],
   "source": [
    "Vote1_ens=consensus_predict\n",
    "Vote2_ens=predict_consensus_ml\n",
    "Vote3_ens=predict_consensus_lh\n",
    "Vote1_ens.shape, Vote2_ens.shape, Vote3_ens.shape"
   ]
  },
  {
   "cell_type": "code",
   "execution_count": null,
   "metadata": {
    "collapsed": false
   },
   "outputs": [],
   "source": [
    "ensemble=np.concatenate((Vote1_ens, Vote2_ens, Vote3_ens))\n",
    "ensemble.shape"
   ]
  },
  {
   "cell_type": "code",
   "execution_count": null,
   "metadata": {
    "collapsed": false
   },
   "outputs": [],
   "source": [
    "ensemble_unique, indices, counts=np.unique(ensemble, return_counts=True, return_index=True)\n",
    "ensemble_unique"
   ]
  },
  {
   "cell_type": "code",
   "execution_count": null,
   "metadata": {
    "collapsed": false
   },
   "outputs": [],
   "source": [
    "print(counts)"
   ]
  },
  {
   "cell_type": "code",
   "execution_count": null,
   "metadata": {
    "collapsed": true
   },
   "outputs": [],
   "source": []
  }
 ],
 "metadata": {
  "anaconda-cloud": {},
  "kernelspec": {
   "display_name": "Python [default]",
   "language": "python",
   "name": "python3"
  },
  "language_info": {
   "codemirror_mode": {
    "name": "ipython",
    "version": 3
   },
   "file_extension": ".py",
   "mimetype": "text/x-python",
   "name": "python",
   "nbconvert_exporter": "python",
   "pygments_lexer": "ipython3",
   "version": "3.5.2"
  }
 },
 "nbformat": 4,
 "nbformat_minor": 2
}
