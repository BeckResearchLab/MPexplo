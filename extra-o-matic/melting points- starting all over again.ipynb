{
 "cells": [
  {
   "cell_type": "code",
   "execution_count": 1,
   "metadata": {
    "collapsed": false
   },
   "outputs": [
    {
     "name": "stderr",
     "output_type": "stream",
     "text": [
      "Using TensorFlow backend.\n"
     ]
    }
   ],
   "source": [
    "import pandas as pd\n",
    "import numpy as np\n",
    "from keras.wrappers.scikit_learn import KerasRegressor\n",
    "from keras.layers import Dense, Dropout\n",
    "from keras.models import Sequential\n",
    "from sklearn.model_selection import KFold, cross_val_score\n",
    "from sklearn.preprocessing import StandardScaler, MinMaxScaler\n",
    "from sklearn.pipeline import Pipeline\n",
    "import matplotlib.pyplot as plt\n",
    "from sklearn.metrics import r2_score, mean_squared_error, mean_absolute_error\n",
    "from sklearn.linear_model import SGDRegressor, LassoCV, LassoLarsCV, LassoLarsIC\n",
    "from sklearn.decomposition import PCA\n",
    "from sklearn import linear_model\n",
    "from sklearn import tree\n",
    "from sklearn.kernel_ridge import KernelRidge\n",
    "from sklearn.svm import SVR\n",
    "from math import *\n",
    "from keras.optimizers import SGD"
   ]
  },
  {
   "cell_type": "code",
   "execution_count": 2,
   "metadata": {
    "collapsed": true
   },
   "outputs": [],
   "source": [
    "#load the tsv files of the features and respective responses\n",
    "df=pd.read_csv('MP_Data.tsv', sep='\\t', index_col=False)\n",
    "tt_df=df.rename(columns={'x':'test_train'})"
   ]
  },
  {
   "cell_type": "code",
   "execution_count": 3,
   "metadata": {
    "collapsed": true
   },
   "outputs": [],
   "source": [
    "x_df=pd.read_csv('MP_Descriptors.tsv', sep='\\t', index_col=False)"
   ]
  },
  {
   "cell_type": "code",
   "execution_count": 4,
   "metadata": {
    "collapsed": false
   },
   "outputs": [],
   "source": [
    "y_df_init=pd.read_csv('MP_Outcome.tsv', sep='\\t')\n",
    "y_df=y_df_init.rename(columns={'x':'outcome'})"
   ]
  },
  {
   "cell_type": "code",
   "execution_count": 5,
   "metadata": {
    "collapsed": false
   },
   "outputs": [],
   "source": [
    "#sort the data according to test and train sets\n",
    "x_train_df=x_df[tt_df['test_train']=='Train']\n",
    "x_test_df=x_df[tt_df['test_train']=='Test']\n",
    "\n",
    "y_train_df=y_df[tt_df['test_train']=='Train']\n",
    "y_test_df=y_df[tt_df['test_train']=='Test']"
   ]
  },
  {
   "cell_type": "code",
   "execution_count": 6,
   "metadata": {
    "collapsed": false
   },
   "outputs": [
    {
     "data": {
      "text/plain": [
       "((4126, 202), (4126, 1), (275, 202), (275, 1))"
      ]
     },
     "execution_count": 6,
     "metadata": {},
     "output_type": "execute_result"
    }
   ],
   "source": [
    "x_train_df.shape, y_train_df.shape, x_test_df.shape, y_test_df.shape"
   ]
  },
  {
   "cell_type": "code",
   "execution_count": 7,
   "metadata": {
    "collapsed": true
   },
   "outputs": [],
   "source": [
    "#normalize the observations\n",
    "y_scaler=StandardScaler()\n",
    "y_scaler.fit(y_train_df)\n",
    "y_train_norm=y_scaler.transform(y_train_df)\n",
    "y_test_norm=y_scaler.transform(y_test_df)"
   ]
  },
  {
   "cell_type": "code",
   "execution_count": 8,
   "metadata": {
    "collapsed": true
   },
   "outputs": [],
   "source": [
    "#minmax standardization\n",
    "y_minmax=MinMaxScaler()\n",
    "y_minmax.fit(y_train_df)\n",
    "y_train_mm=y_minmax.transform(y_train_df)\n",
    "y_test_mm=y_minmax.transform(y_test_df)"
   ]
  },
  {
   "cell_type": "code",
   "execution_count": 9,
   "metadata": {
    "collapsed": false
   },
   "outputs": [
    {
     "data": {
      "image/png": "[encoded data removed]",
      "text/plain": [
       "<matplotlib.figure.Figure at 0x1de965a4ba8>"
      ]
     },
     "metadata": {},
     "output_type": "display_data"
    }
   ],
   "source": [
    "#feature selection\n",
    "pca=PCA().fit(x_train_df)\n",
    "plt.plot(np.cumsum(pca.explained_variance_ratio_))\n",
    "plt.xlabel('number of components')\n",
    "plt.ylabel('cumulative explained variance')\n",
    "plt.show()"
   ]
  },
  {
   "cell_type": "code",
   "execution_count": 10,
   "metadata": {
    "collapsed": false
   },
   "outputs": [
    {
     "data": {
      "text/plain": [
       "((4126, 30), (275, 30))"
      ]
     },
     "execution_count": 10,
     "metadata": {},
     "output_type": "execute_result"
    }
   ],
   "source": [
    "pca=PCA(n_components=30)#from the literature\n",
    "x_train_pca=pca.fit_transform(x_train_df)\n",
    "x_test_pca=pca.fit_transform(x_test_df)\n",
    "x_train_pca.shape, x_test_pca.shape"
   ]
  },
  {
   "cell_type": "code",
   "execution_count": 11,
   "metadata": {
    "collapsed": false
   },
   "outputs": [
    {
     "data": {
      "text/plain": [
       "((4126, 30), (275, 30))"
      ]
     },
     "execution_count": 11,
     "metadata": {},
     "output_type": "execute_result"
    }
   ],
   "source": [
    "#normalize the inputs#IS IT REQUIRED TO STANDARDIZE THE TEST DATA\n",
    "x_scaler=StandardScaler()\n",
    "x_scaler.fit(x_train_pca)\n",
    "x_train_norm=x_scaler.transform(x_train_pca)\n",
    "x_test_norm=x_scaler.transform(x_test_pca)\n",
    "x_train_norm.shape, x_test_norm.shape"
   ]
  },
  {
   "cell_type": "code",
   "execution_count": 12,
   "metadata": {
    "collapsed": false
   },
   "outputs": [],
   "source": [
    "#minmax standardization\n",
    "x_minmax=MinMaxScaler()\n",
    "x_minmax.fit(x_train_pca)\n",
    "x_train_mm=x_minmax.transform(x_train_pca)\n",
    "x_test_mm=x_minmax.transform(x_test_pca)"
   ]
  },
  {
   "cell_type": "code",
   "execution_count": 13,
   "metadata": {
    "collapsed": false
   },
   "outputs": [
    {
     "name": "stdout",
     "output_type": "stream",
     "text": [
      "r2 for mm: -0.447375178607\n",
      "mse for mm : 0.0305887883781\n",
      "rmse for mm: 0.17489650762108497\n",
      "mae for mm: 0.140394286886\n"
     ]
    }
   ],
   "source": [
    "#model building-linear regression using MINMAX STANDARDIZATION\n",
    "regr=linear_model.LinearRegression()\n",
    "regr.fit(x_train_mm, y_train_mm)\n",
    "y_predict_mm=regr.predict(x_test_mm)\n",
    "#normalize the y_predict\n",
    "#y_predict_mm=y_minmax.fit_transform(y_predict)\n",
    "#evaluate the model\n",
    "#r2_linear_mm=r2_score(y_predict_mm, y_test_mm)\n",
    "r2_linear_mm=r2_score(y_test_mm, y_predict_mm)\n",
    "print('r2 for mm:',r2_linear_mm)\n",
    "mse_linear_mm=mean_squared_error(y_test_mm, y_predict_mm)\n",
    "print('mse for mm :',mse_linear_mm)\n",
    "rmse_mm=sqrt(mse_linear_mm)\n",
    "print('rmse for mm:', rmse_mm)\n",
    "mae_mm=mean_absolute_error(y_test_mm, y_predict_mm)\n",
    "print('mae for mm:', mae_mm)"
   ]
  },
  {
   "cell_type": "code",
   "execution_count": 14,
   "metadata": {
    "collapsed": false
   },
   "outputs": [
    {
     "data": {
      "text/plain": [
       "(275, 1)"
      ]
     },
     "execution_count": 14,
     "metadata": {},
     "output_type": "execute_result"
    }
   ],
   "source": [
    "y_minmax.inverse_transform(y_predict_mm).shape"
   ]
  },
  {
   "cell_type": "code",
   "execution_count": 15,
   "metadata": {
    "collapsed": false
   },
   "outputs": [
    {
     "name": "stdout",
     "output_type": "stream",
     "text": [
      "mse: -5.05160215297e-32\n"
     ]
    }
   ],
   "source": [
    "#model building-linear regression WITH CROSS_VAL_SCORE \n",
    "regr=linear_model.LinearRegression()\n",
    "regr.fit(x_train_mm, y_train_mm)\n",
    "y_predict_mm=regr.predict(x_test_mm)\n",
    "#normalize the y_predict\n",
    "#y_predict_mm=y_minmax.fit_transform(y_predict)\n",
    "#evaluate the model\n",
    "kfold=KFold(n_splits=10, random_state=7, shuffle=True)\n",
    "results=cross_val_score(regr, x_test_mm, y_predict_mm, cv=kfold, scoring='neg_mean_squared_error')\n",
    "print('mse:', results.mean())"
   ]
  },
  {
   "cell_type": "code",
   "execution_count": 16,
   "metadata": {
    "collapsed": false
   },
   "outputs": [
    {
     "name": "stdout",
     "output_type": "stream",
     "text": [
      "r2: -0.447375178607\n",
      "mse : 1.04954447307\n",
      "rmse: 1.0244727781005807\n",
      "mae: 0.822372768169\n"
     ]
    }
   ],
   "source": [
    "#model building-linear regression\n",
    "regr=linear_model.LinearRegression()\n",
    "regr.fit(x_train_norm, y_train_norm)\n",
    "y_predict_norm=regr.predict(x_test_norm)\n",
    "#normalize the y_predict\n",
    "#y_predict_norm=y_scaler.fit_transform(y_predict)\n",
    "#evaluate the model\n",
    "#r2_linear=r2_score(y_predict_norm, y_test_norm)\n",
    "r2_linear=r2_score(y_test_norm, y_predict_norm)\n",
    "print('r2:',r2_linear)\n",
    "mse_linear=mean_squared_error(y_test_norm, y_predict_norm)\n",
    "print('mse :',mse_linear)\n",
    "rmse=sqrt(mse_linear)\n",
    "print('rmse:', rmse)\n",
    "mae=mean_absolute_error(y_test_norm, y_predict_norm)\n",
    "print('mae:', mae)"
   ]
  },
  {
   "cell_type": "code",
   "execution_count": 17,
   "metadata": {
    "collapsed": false
   },
   "outputs": [
    {
     "name": "stdout",
     "output_type": "stream",
     "text": [
      "r2 for linear in true space: -0.447375178607\n",
      "mse for linear in true space: 4382.21864781\n",
      "rmse for linear in true space: 66.19832813458052\n",
      "mae for linear in true space: 53.1392375863\n"
     ]
    }
   ],
   "source": [
    "y_predict_true=y_scaler.inverse_transform(y_predict_norm)\n",
    "#mse in the true space\n",
    "r2_linear=r2_score(y_test_df, y_predict_true)\n",
    "print('r2 for linear in true space:', r2_linear)\n",
    "mse_linear=mean_squared_error(y_test_df, y_predict_true)\n",
    "print('mse for linear in true space:', mse_linear)\n",
    "rmse_linear=sqrt(mse_linear)\n",
    "print('rmse for linear in true space:', rmse_linear)\n",
    "mae_linear=mean_absolute_error(y_test_df, y_predict_true)\n",
    "print('mae for linear in true space:', mae_linear)"
   ]
  },
  {
   "cell_type": "code",
   "execution_count": null,
   "metadata": {
    "collapsed": true
   },
   "outputs": [],
   "source": []
  },
  {
   "cell_type": "code",
   "execution_count": 18,
   "metadata": {
    "collapsed": false
   },
   "outputs": [
    {
     "data": {
      "text/plain": [
       "(0.22942153346457567,\n",
       " 0.99999999999999933,\n",
       " 0.62091086932037232,\n",
       " 0.99999999999999956,\n",
       " 0.7251364321996312)"
      ]
     },
     "execution_count": 18,
     "metadata": {},
     "output_type": "execute_result"
    }
   ],
   "source": [
    "np.var(y_predict_norm), np.var(x_train_norm), np.var(x_test_norm), np.var(y_train_norm), np.var(y_test_norm)"
   ]
  },
  {
   "cell_type": "code",
   "execution_count": 19,
   "metadata": {
    "collapsed": false
   },
   "outputs": [
    {
     "data": {
      "text/plain": [
       "0.36719921602902406"
      ]
     },
     "execution_count": 19,
     "metadata": {},
     "output_type": "execute_result"
    }
   ],
   "source": [
    "regr.score(x_train_norm, y_train_norm)"
   ]
  },
  {
   "cell_type": "code",
   "execution_count": 20,
   "metadata": {
    "collapsed": false
   },
   "outputs": [
    {
     "name": "stdout",
     "output_type": "stream",
     "text": [
      "r2 for lasso: -0.0862747910793\n",
      "rmse for lasso 57.34906102135678\n",
      "mae for lasso 46.1790537329\n"
     ]
    }
   ],
   "source": [
    "#Lasso\n",
    "regr_lasso=linear_model.Lasso(alpha=0.2)\n",
    "regr_lasso.fit(x_train_norm, y_train_norm)\n",
    "y_predict_lasso=regr_lasso.predict(x_test_norm)\n",
    "#scale back to true space\n",
    "y_predict_lasso_true=y_scaler.inverse_transform(y_predict_lasso)\n",
    "#evaluate\n",
    "mse_lasso=mean_squared_error(y_test_df, y_predict_lasso_true)\n",
    "rmse_lasso=sqrt(mse_lasso)\n",
    "mae_lasso=mean_absolute_error(y_test_df, y_predict_lasso_true)\n",
    "r2_lasso=r2_score(y_test_df, y_predict_lasso_true)\n",
    "print('r2 for lasso:',r2_lasso)\n",
    "print('rmse for lasso', rmse_lasso)\n",
    "print('mae for lasso', mae_lasso)"
   ]
  },
  {
   "cell_type": "code",
   "execution_count": 21,
   "metadata": {
    "collapsed": false
   },
   "outputs": [
    {
     "data": {
      "text/plain": [
       "0.042529392939505861"
      ]
     },
     "execution_count": 21,
     "metadata": {},
     "output_type": "execute_result"
    }
   ],
   "source": [
    "regr_lasso.score(x_train_norm, y_train_norm)"
   ]
  },
  {
   "cell_type": "code",
   "execution_count": 22,
   "metadata": {
    "collapsed": false
   },
   "outputs": [
    {
     "name": "stderr",
     "output_type": "stream",
     "text": [
      "C:\\Users\\saiva\\Miniconda3\\lib\\site-packages\\sklearn\\linear_model\\coordinate_descent.py:1082: DataConversionWarning: A column-vector y was passed when a 1d array was expected. Please change the shape of y to (n_samples, ), for example using ravel().\n",
      "  y = column_or_1d(y, warn=True)\n"
     ]
    },
    {
     "name": "stdout",
     "output_type": "stream",
     "text": [
      "r2 for lassoCV: -0.445881074094\n",
      "rmse for lassoCV 66.16415152282032\n",
      "mae for lassoCV 53.1100616871\n"
     ]
    }
   ],
   "source": [
    "#LassoCV\n",
    "model_CV=LassoCV(cv=20).fit(x_train_norm, y_train_norm)\n",
    "y_predict_CV = model_CV.predict(x_test_norm)\n",
    "#scale back to true space\n",
    "y_predict_CV_true=y_scaler.inverse_transform(y_predict_CV)\n",
    "#evaluate\n",
    "mse_lassoCV=mean_squared_error(y_test_df, y_predict_CV_true)\n",
    "rmse_lassoCV=sqrt(mse_lassoCV)\n",
    "r2_lassoCV=r2_score(y_test_df, y_predict_CV_true)\n",
    "mae_lassoCV=mean_absolute_error(y_test_df, y_predict_CV_true)\n",
    "print('r2 for lassoCV:',r2_lassoCV)\n",
    "print('rmse for lassoCV',rmse_lassoCV )\n",
    "print('mae for lassoCV', mae_lassoCV)"
   ]
  },
  {
   "cell_type": "code",
   "execution_count": 23,
   "metadata": {
    "collapsed": false
   },
   "outputs": [
    {
     "name": "stderr",
     "output_type": "stream",
     "text": [
      "C:\\Users\\saiva\\Miniconda3\\lib\\site-packages\\sklearn\\utils\\validation.py:526: DataConversionWarning: A column-vector y was passed when a 1d array was expected. Please change the shape of y to (n_samples, ), for example using ravel().\n",
      "  y = column_or_1d(y, warn=True)\n"
     ]
    },
    {
     "name": "stdout",
     "output_type": "stream",
     "text": [
      "rmse for lassCV: 66.1983281345805\n",
      "r2 for lasso larsCV: -0.447375178607\n",
      "mae for larsCV: 53.1392375863\n"
     ]
    }
   ],
   "source": [
    "#LassoLarsCV\n",
    "model_larsCV=LassoLarsCV(cv=20).fit(x_train_norm, y_train_norm)\n",
    "y_predict_larsCV=model_larsCV.predict(x_test_norm)\n",
    "#scale back to true space\n",
    "y_predict_larsCV_true=y_scaler.inverse_transform(y_predict_larsCV)\n",
    "#evaluate\n",
    "r2_larsCV=r2_score(y_test_df, y_predict_larsCV_true)\n",
    "mse_larsCV=mean_squared_error(y_test_df, y_predict_larsCV_true)\n",
    "rmse_larsCV=sqrt(mse_larsCV)\n",
    "mae_larsCV=mean_absolute_error(y_test_df, y_predict_larsCV_true)\n",
    "print('rmse for lassCV:', rmse_larsCV)\n",
    "print('r2 for lasso larsCV:',r2_larsCV)\n",
    "print('mae for larsCV:', mae_larsCV)"
   ]
  },
  {
   "cell_type": "code",
   "execution_count": 24,
   "metadata": {
    "collapsed": false
   },
   "outputs": [
    {
     "name": "stdout",
     "output_type": "stream",
     "text": [
      "r2 for bayesian in true space: -0.438634383683\n",
      "rmse for bayesian in true space: 65.9981373833629\n",
      "mae for bayesian in true space: 52.9714189195\n"
     ]
    },
    {
     "name": "stderr",
     "output_type": "stream",
     "text": [
      "C:\\Users\\saiva\\Miniconda3\\lib\\site-packages\\sklearn\\utils\\validation.py:526: DataConversionWarning: A column-vector y was passed when a 1d array was expected. Please change the shape of y to (n_samples, ), for example using ravel().\n",
      "  y = column_or_1d(y, warn=True)\n"
     ]
    }
   ],
   "source": [
    "#Bayesian Ridge\n",
    "regr_b=linear_model.BayesianRidge()\n",
    "model_b=regr_b.fit(x_train_norm, y_train_norm)\n",
    "y_predict_b=model_b.predict(x_test_norm)\n",
    "#scale back to original space\n",
    "y_predict_b_true=y_scaler.inverse_transform(y_predict_b)\n",
    "#evaluate\n",
    "mse_b=mean_squared_error(y_test_df, y_predict_b_true)\n",
    "rmse_b=sqrt(mse_b)\n",
    "mae_b=mean_absolute_error(y_test_df, y_predict_b_true)\n",
    "r2_b=r2_score(y_test_df, y_predict_b_true)\n",
    "print('r2 for bayesian in true space:',r2_b)\n",
    "print('rmse for bayesian in true space:', rmse_b)\n",
    "print('mae for bayesian in true space:', mae_b)"
   ]
  },
  {
   "cell_type": "code",
   "execution_count": 25,
   "metadata": {
    "collapsed": false
   },
   "outputs": [
    {
     "name": "stdout",
     "output_type": "stream",
     "text": [
      "r2 for sgd in true space: -0.436332063558\n",
      "rmse for sgd in true space: 65.94530614174853\n",
      "mae for sgd in true space: 52.9466099654\n"
     ]
    },
    {
     "name": "stderr",
     "output_type": "stream",
     "text": [
      "C:\\Users\\saiva\\Miniconda3\\lib\\site-packages\\sklearn\\utils\\validation.py:526: DataConversionWarning: A column-vector y was passed when a 1d array was expected. Please change the shape of y to (n_samples, ), for example using ravel().\n",
      "  y = column_or_1d(y, warn=True)\n"
     ]
    }
   ],
   "source": [
    "#stochastic gradient descent\n",
    "regr_sgd=SGDRegressor(loss='squared_loss', penalty=None, alpha=0.001, epsilon=0.0001)\n",
    "model_sgd=regr_sgd.fit(x_train_norm, y_train_norm)\n",
    "y_predict_sgd=model_sgd.predict(x_test_norm)\n",
    "#scale back to original space\n",
    "y_predict_sgd_true=y_scaler.inverse_transform(y_predict_sgd)\n",
    "#evaluate\n",
    "mse_sgd=mean_squared_error(y_test_df, y_predict_sgd_true)\n",
    "rmse_sgd=sqrt(mse_sgd)\n",
    "mae_sgd=mean_absolute_error(y_test_df, y_predict_sgd_true)\n",
    "r2_sgd=r2_score(y_test_df, y_predict_sgd_true)\n",
    "print('r2 for sgd in true space:',r2_sgd)\n",
    "print('rmse for sgd in true space:', rmse_sgd)\n",
    "print('mae for sgd in true space:', mae_sgd)"
   ]
  },
  {
   "cell_type": "code",
   "execution_count": 26,
   "metadata": {
    "collapsed": false
   },
   "outputs": [
    {
     "name": "stdout",
     "output_type": "stream",
     "text": [
      "r2 for sgd2 in true space: -0.385510758668\n",
      "rmse for sgd2 in true space: 64.76813806598496\n",
      "mae for sgd2 in true space: 52.0917503512\n"
     ]
    },
    {
     "name": "stderr",
     "output_type": "stream",
     "text": [
      "C:\\Users\\saiva\\Miniconda3\\lib\\site-packages\\sklearn\\utils\\validation.py:526: DataConversionWarning: A column-vector y was passed when a 1d array was expected. Please change the shape of y to (n_samples, ), for example using ravel().\n",
      "  y = column_or_1d(y, warn=True)\n"
     ]
    }
   ],
   "source": [
    "regr_sgd2=linear_model.SGDRegressor(loss='huber', penalty=None)\n",
    "model_sgd2=regr_sgd2.fit(x_train_norm, y_train_norm)\n",
    "y_predict_sgd2=model_sgd2.predict(x_test_norm)\n",
    "#scale back to original space\n",
    "y_predict_sgd2_true=y_scaler.inverse_transform(y_predict_sgd2)\n",
    "#evaluate\n",
    "mse_sgd2=mean_squared_error(y_test_df, y_predict_sgd2_true)\n",
    "rmse_sgd2=sqrt(mse_sgd2)\n",
    "mae_sgd2=mean_absolute_error(y_test_df, y_predict_sgd2_true)\n",
    "r2_sgd2=r2_score(y_test_df, y_predict_sgd2_true)\n",
    "print('r2 for sgd2 in true space:',r2_sgd2)\n",
    "print('rmse for sgd2 in true space:', rmse_sgd2)\n",
    "print('mae for sgd2 in true space:', mae_sgd2)"
   ]
  },
  {
   "cell_type": "code",
   "execution_count": 27,
   "metadata": {
    "collapsed": false
   },
   "outputs": [
    {
     "name": "stdout",
     "output_type": "stream",
     "text": [
      "r2 for sgd3 in true space: -0.473699908531\n",
      "rmse for sgd3 in true space: 66.7976200737096\n",
      "mae for sgd3 in true space: 53.2482900085\n"
     ]
    },
    {
     "name": "stderr",
     "output_type": "stream",
     "text": [
      "C:\\Users\\saiva\\Miniconda3\\lib\\site-packages\\sklearn\\utils\\validation.py:526: DataConversionWarning: A column-vector y was passed when a 1d array was expected. Please change the shape of y to (n_samples, ), for example using ravel().\n",
      "  y = column_or_1d(y, warn=True)\n"
     ]
    }
   ],
   "source": [
    "regr_sgd3=linear_model.SGDRegressor(loss='epsilon_insensitive', penalty='none', alpha=0.0001)\n",
    "model_sgd3=regr_sgd3.fit(x_train_norm, y_train_norm)\n",
    "y_predict_sgd3=model_sgd3.predict(x_test_norm)\n",
    "#scale back to original space\n",
    "y_predict_sgd3_true=y_scaler.inverse_transform(y_predict_sgd3)\n",
    "#evaluate\n",
    "mse_sgd3=mean_squared_error(y_test_df, y_predict_sgd3_true)\n",
    "rmse_sgd3=sqrt(mse_sgd3)\n",
    "mae_sgd3=mean_absolute_error(y_test_df, y_predict_sgd3_true)\n",
    "r2_sgd3=r2_score(y_test_df, y_predict_sgd3_true)\n",
    "print('r2 for sgd3 in true space:',r2_sgd3)\n",
    "print('rmse for sgd3 in true space:', rmse_sgd3)\n",
    "print('mae for sgd3 in true space:', mae_sgd3)"
   ]
  },
  {
   "cell_type": "code",
   "execution_count": 28,
   "metadata": {
    "collapsed": false
   },
   "outputs": [
    {
     "name": "stdout",
     "output_type": "stream",
     "text": [
      "r2 for tree in true space: -1.39483037138\n",
      "rmse for tree in true space: 85.15180134009232\n",
      "mae for tree in true space: 69.8658181891\n"
     ]
    }
   ],
   "source": [
    "#using tree\n",
    "regr_tree=tree.DecisionTreeRegressor()\n",
    "model_tree=regr_tree.fit(x_train_norm, y_train_norm)\n",
    "y_predict_tree=model_tree.predict(x_test_norm)\n",
    "#scale back to original space\n",
    "y_predict_tree_true=y_scaler.inverse_transform(y_predict_tree)\n",
    "#evaluate\n",
    "mse_tree=mean_squared_error(y_test_df, y_predict_tree_true)\n",
    "rmse_tree=sqrt(mse_tree)\n",
    "mae_tree=mean_absolute_error(y_test_df, y_predict_tree_true)\n",
    "r2_tree=r2_score(y_test_df, y_predict_tree_true)\n",
    "print('r2 for tree in true space:',r2_tree)\n",
    "print('rmse for tree in true space:', rmse_tree)\n",
    "print('mae for tree in true space:', mae_tree)"
   ]
  },
  {
   "cell_type": "code",
   "execution_count": 29,
   "metadata": {
    "collapsed": false
   },
   "outputs": [
    {
     "name": "stdout",
     "output_type": "stream",
     "text": [
      "r2 for ridge in true space: -0.447248586125\n",
      "rmse for ridge in true space: 66.19543310293533\n",
      "mae for ridge in true space: 53.1368208086\n"
     ]
    }
   ],
   "source": [
    "regr_ridge=linear_model.Ridge(alpha=0.75)\n",
    "model_ridge=regr_ridge.fit(x_train_norm, y_train_norm)\n",
    "y_predict_ridge=model_ridge.predict(x_test_norm)\n",
    "#scale back to original space\n",
    "y_predict_ridge_true=y_scaler.inverse_transform(y_predict_ridge)\n",
    "#evaluate\n",
    "mse_ridge=mean_squared_error(y_test_df, y_predict_ridge_true)\n",
    "rmse_ridge=sqrt(mse_ridge)\n",
    "mae_ridge=mean_absolute_error(y_test_df, y_predict_ridge_true)\n",
    "r2_ridge=r2_score(y_test_df, y_predict_ridge_true)\n",
    "print('r2 for ridge in true space:',r2_ridge)\n",
    "print('rmse for ridge in true space:', rmse_ridge)\n",
    "print('mae for ridge in true space:', mae_ridge)"
   ]
  },
  {
   "cell_type": "code",
   "execution_count": 30,
   "metadata": {
    "collapsed": false
   },
   "outputs": [
    {
     "name": "stdout",
     "output_type": "stream",
     "text": [
      "r2 for kernel ridge in true space: -0.447206403499\n",
      "rmse for kernel ridge in true space: 66.19446840427238\n",
      "mae for kernel ridge in true space: 53.1360154112\n"
     ]
    }
   ],
   "source": [
    "regr_kr=KernelRidge(alpha=1.0)\n",
    "model_kr=regr_kr.fit(x_train_norm, y_train_norm)\n",
    "y_predict_kr=model_kr.predict(x_test_norm)\n",
    "#scale back to original space\n",
    "y_predict_kr_true=y_scaler.inverse_transform(y_predict_kr)\n",
    "#evaluate\n",
    "mse_kr=mean_squared_error(y_test_df, y_predict_kr_true)\n",
    "rmse_kr=sqrt(mse_kr)\n",
    "mae_kr=mean_absolute_error(y_test_df, y_predict_kr_true)\n",
    "r2_kr=r2_score(y_test_df, y_predict_kr_true)\n",
    "print('r2 for kernel ridge in true space:',r2_kr)\n",
    "print('rmse for kernel ridge in true space:', rmse_kr)\n",
    "print('mae for kernel ridge in true space:', mae_kr)"
   ]
  },
  {
   "cell_type": "code",
   "execution_count": 31,
   "metadata": {
    "collapsed": false
   },
   "outputs": [
    {
     "name": "stderr",
     "output_type": "stream",
     "text": [
      "C:\\Users\\saiva\\Miniconda3\\lib\\site-packages\\sklearn\\utils\\validation.py:526: DataConversionWarning: A column-vector y was passed when a 1d array was expected. Please change the shape of y to (n_samples, ), for example using ravel().\n",
      "  y = column_or_1d(y, warn=True)\n"
     ]
    },
    {
     "name": "stdout",
     "output_type": "stream",
     "text": [
      "r2 for svm.rbf in true space: -2.99899561589\n",
      "rmse for svm.rbf in true space: 110.03527293815259\n",
      "mae for svm.rbf in true space: 87.0748887691\n"
     ]
    }
   ],
   "source": [
    "#support vector machines\n",
    "svr_rbf=SVR(kernel='rbf', C=1e3)\n",
    "model_rbf=svr_rbf.fit(x_train_norm, y_train_norm)\n",
    "y_predict_rbf=model_rbf.predict(x_test_norm)\n",
    "#scale back to original space\n",
    "y_predict_rbf_true=y_scaler.inverse_transform(y_predict_rbf)\n",
    "#evaluate\n",
    "mse_rbf=mean_squared_error(y_test_df, y_predict_rbf_true)\n",
    "rmse_rbf=sqrt(mse_rbf)\n",
    "mae_rbf=mean_absolute_error(y_test_df, y_predict_rbf_true)\n",
    "r2_rbf=r2_score(y_test_df, y_predict_rbf_true)\n",
    "print('r2 for svm.rbf in true space:',r2_rbf)\n",
    "print('rmse for svm.rbf in true space:', rmse_rbf)\n",
    "print('mae for svm.rbf in true space:', mae_rbf)"
   ]
  },
  {
   "cell_type": "code",
   "execution_count": 32,
   "metadata": {
    "collapsed": false
   },
   "outputs": [
    {
     "name": "stderr",
     "output_type": "stream",
     "text": [
      "C:\\Users\\saiva\\Miniconda3\\lib\\site-packages\\sklearn\\utils\\validation.py:526: DataConversionWarning: A column-vector y was passed when a 1d array was expected. Please change the shape of y to (n_samples, ), for example using ravel().\n",
      "  y = column_or_1d(y, warn=True)\n"
     ]
    },
    {
     "name": "stdout",
     "output_type": "stream",
     "text": [
      "r2 for svm.sig in true space: -6971469.14973\n",
      "rmse for svm.sig in true space: 145284.28724323265\n",
      "mae for svm.sig in true space: 106407.762572\n"
     ]
    }
   ],
   "source": [
    "svr_sig=SVR(kernel='sigmoid', C=1e3)\n",
    "model_sig=svr_sig.fit(x_train_norm, y_train_norm)\n",
    "y_predict_sig=model_sig.predict(x_test_norm)\n",
    "#scale back to original space\n",
    "y_predict_sig_true=y_scaler.inverse_transform(y_predict_sig)\n",
    "#evaluate\n",
    "mse_sig=mean_squared_error(y_test_df, y_predict_sig_true)\n",
    "rmse_sig=sqrt(mse_sig)\n",
    "mae_sig=mean_absolute_error(y_test_df, y_predict_sig_true)\n",
    "r2_sig=r2_score(y_test_df, y_predict_sig_true)\n",
    "print('r2 for svm.sig in true space:',r2_sig)\n",
    "print('rmse for svm.sig in true space:', rmse_sig)\n",
    "print('mae for svm.sig in true space:', mae_sig)"
   ]
  },
  {
   "cell_type": "code",
   "execution_count": 33,
   "metadata": {
    "collapsed": false
   },
   "outputs": [
    {
     "name": "stderr",
     "output_type": "stream",
     "text": [
      "C:\\Users\\saiva\\Miniconda3\\lib\\site-packages\\sklearn\\utils\\validation.py:526: DataConversionWarning: A column-vector y was passed when a 1d array was expected. Please change the shape of y to (n_samples, ), for example using ravel().\n",
      "  y = column_or_1d(y, warn=True)\n"
     ]
    },
    {
     "name": "stdout",
     "output_type": "stream",
     "text": [
      "r2 for svm.poly in true space: -30.7205371927\n",
      "rmse for svm.poly in true space: 309.90367603388313\n",
      "mae for svm.poly in true space: 188.846526566\n"
     ]
    }
   ],
   "source": [
    "svr_poly=SVR(kernel='poly', C=1e3)\n",
    "model_poly=svr_poly.fit(x_train_norm, y_train_norm)\n",
    "y_predict_poly=model_poly.predict(x_test_norm)\n",
    "#scale back to original space\n",
    "y_predict_poly_true=y_scaler.inverse_transform(y_predict_poly)\n",
    "#evaluate\n",
    "mse_poly=mean_squared_error(y_test_df, y_predict_poly_true)\n",
    "rmse_poly=sqrt(mse_poly)\n",
    "mae_poly=mean_absolute_error(y_test_df, y_predict_poly_true)\n",
    "r2_poly=r2_score(y_test_df, y_predict_poly_true)\n",
    "print('r2 for svm.poly in true space:',r2_poly)\n",
    "print('rmse for svm.poly in true space:', rmse_poly)\n",
    "print('mae for svm.poly in true space:', mae_poly)"
   ]
  },
  {
   "cell_type": "code",
   "execution_count": 45,
   "metadata": {
    "collapsed": false
   },
   "outputs": [
    {
     "data": {
      "text/plain": [
       "array([  66.19832813,   57.34906102,   66.16415152,   66.19832813,\n",
       "         65.99813738,   65.94530614,   64.76813807,   66.79762007,\n",
       "         85.15180134,   66.1954331 ,   66.1944684 ,  110.03527294])"
      ]
     },
     "execution_count": 45,
     "metadata": {},
     "output_type": "execute_result"
    }
   ],
   "source": [
    "C=np.array([rmse_linear, rmse_lasso, rmse_lassoCV, rmse_larsCV, rmse_b, rmse_sgd, rmse_sgd2, rmse_sgd3, rmse_tree, rmse_ridge, rmse_kr, rmse_rbf])\n",
    "C"
   ]
  },
  {
   "cell_type": "code",
   "execution_count": 46,
   "metadata": {
    "collapsed": false
   },
   "outputs": [
    {
     "data": {
      "text/plain": [
       "array([  1.,   2.,   3.,   4.,   5.,   6.,   7.,   8.,   9.,  10.,  11.,\n",
       "        12.])"
      ]
     },
     "execution_count": 46,
     "metadata": {},
     "output_type": "execute_result"
    }
   ],
   "source": [
    "D=np.array(np.arange(1, 13.0, 1))\n",
    "D"
   ]
  },
  {
   "cell_type": "code",
   "execution_count": 61,
   "metadata": {
    "collapsed": false
   },
   "outputs": [
    {
     "data": {
      "image/png": "[encoded data removed]",
      "text/plain": [
       "<matplotlib.figure.Figure at 0x1df01ccfcc0>"
      ]
     },
     "metadata": {},
     "output_type": "display_data"
    }
   ],
   "source": [
    "plt.scatter(D[0],C[0], color='r',marker='^', alpha=1)\n",
    "plt.scatter(D[1],C[1], color='b',marker='p', alpha=1)\n",
    "plt.scatter(D[2],C[2], color='g',marker='o', alpha=1)\n",
    "plt.scatter(D[3],C[3], color='m',marker='H', alpha=1)\n",
    "plt.scatter(D[4],C[4], color='c',marker='s', alpha=1)\n",
    "plt.scatter(D[5],C[5], color='r',marker='^', alpha=1)\n",
    "plt.scatter(D[6],C[6], color='b',marker='p', alpha=1)\n",
    "plt.scatter(D[7],C[7], color='g',marker='o', alpha=1)\n",
    "plt.scatter(D[8],C[8], color='m',marker='H', alpha=1)\n",
    "plt.scatter(D[9],C[9], color='c',marker='s', alpha=1)\n",
    "plt.scatter(D[10],C[10], color='r',marker='^', alpha=1)\n",
    "plt.scatter(D[11],C[11], color='b',marker='p', alpha=1)\n",
    "#plt.scatter(D[12],C[12], color='g',marker='o', alpha=1)\n",
    "#plt.scatter(D[13],C[13], color='m',marker='H', alpha=1)\n",
    "#plt.scatter(D[14],C[14], color='m',marker='H', alpha=1)\n",
    "n=['linear','lasso','lassoCV','larsCV','bayesian','sgd_squaredloss','sgd_huber','sgd_epsiloninsensitive','tree','Ridge','Kernel_Ridge','svr_rbf']\n",
    "for i, txt in enumerate(n):\n",
    "    plt.annotate(txt, (D[i],C[i]))\n",
    "plt.ylabel('RMSE')\n",
    "plt.show()"
   ]
  },
  {
   "cell_type": "markdown",
   "metadata": {},
   "source": [
    "**NEURAL NETWORK**"
   ]
  },
  {
   "cell_type": "code",
   "execution_count": 52,
   "metadata": {
    "collapsed": false
   },
   "outputs": [],
   "source": [
    "#DIFFERENT TOPOLOGIES HAVE BEEN GIVEN TO 2D , 3D AND 2D/3D DESCRIPTORS AND ITERATIONS OF CONJUGATED GRADIENT DESCENT GIVEN\n",
    "def baseline_model():\n",
    "    model=Sequential()\n",
    "    model.add(Dropout(0.2, input_shape=(30,)))\n",
    "    model.add(Dense(26, init='normal', activation='relu'))\n",
    "    model.add(Dropout(0.2))\n",
    "    model.add(Dense(17, init='normal', activation='relu'))\n",
    "    model.add(Dropout(0.2))\n",
    "    model.add(Dense(1, init='normal'))\n",
    "    # compile the model \n",
    "    epochs=94\n",
    "    learning_rate=0.01\n",
    "    momemtum=0.3\n",
    "    sgd=SGD(lr=learning_rate, momentum=momemtum, nesterov=False)\n",
    "    model.compile(loss='mean_squared_error', optimizer='adam')\n",
    "    return model"
   ]
  },
  {
   "cell_type": "code",
   "execution_count": 62,
   "metadata": {
    "collapsed": false
   },
   "outputs": [
    {
     "name": "stderr",
     "output_type": "stream",
     "text": [
      "C:\\Users\\saiva\\Miniconda3\\lib\\site-packages\\ipykernel\\__main__.py:5: UserWarning: Update your `Dense` call to the Keras 2 API: `Dense(26, activation=\"relu\", kernel_initializer=\"normal\")`\n",
      "C:\\Users\\saiva\\Miniconda3\\lib\\site-packages\\ipykernel\\__main__.py:7: UserWarning: Update your `Dense` call to the Keras 2 API: `Dense(17, activation=\"relu\", kernel_initializer=\"normal\")`\n",
      "C:\\Users\\saiva\\Miniconda3\\lib\\site-packages\\ipykernel\\__main__.py:9: UserWarning: Update your `Dense` call to the Keras 2 API: `Dense(1, kernel_initializer=\"normal\")`\n",
      "C:\\Users\\saiva\\Miniconda3\\lib\\site-packages\\sklearn\\metrics\\scorer.py:90: DeprecationWarning: Scoring method mean_absolute_error was renamed to neg_mean_absolute_error in version 0.18 and will be removed in 0.20.\n",
      "  sample_weight=sample_weight)\n",
      "C:\\Users\\saiva\\Miniconda3\\lib\\site-packages\\ipykernel\\__main__.py:5: UserWarning: Update your `Dense` call to the Keras 2 API: `Dense(26, activation=\"relu\", kernel_initializer=\"normal\")`\n",
      "C:\\Users\\saiva\\Miniconda3\\lib\\site-packages\\ipykernel\\__main__.py:7: UserWarning: Update your `Dense` call to the Keras 2 API: `Dense(17, activation=\"relu\", kernel_initializer=\"normal\")`\n",
      "C:\\Users\\saiva\\Miniconda3\\lib\\site-packages\\ipykernel\\__main__.py:9: UserWarning: Update your `Dense` call to the Keras 2 API: `Dense(1, kernel_initializer=\"normal\")`\n",
      "C:\\Users\\saiva\\Miniconda3\\lib\\site-packages\\sklearn\\metrics\\scorer.py:90: DeprecationWarning: Scoring method mean_absolute_error was renamed to neg_mean_absolute_error in version 0.18 and will be removed in 0.20.\n",
      "  sample_weight=sample_weight)\n",
      "C:\\Users\\saiva\\Miniconda3\\lib\\site-packages\\ipykernel\\__main__.py:5: UserWarning: Update your `Dense` call to the Keras 2 API: `Dense(26, activation=\"relu\", kernel_initializer=\"normal\")`\n",
      "C:\\Users\\saiva\\Miniconda3\\lib\\site-packages\\ipykernel\\__main__.py:7: UserWarning: Update your `Dense` call to the Keras 2 API: `Dense(17, activation=\"relu\", kernel_initializer=\"normal\")`\n",
      "C:\\Users\\saiva\\Miniconda3\\lib\\site-packages\\ipykernel\\__main__.py:9: UserWarning: Update your `Dense` call to the Keras 2 API: `Dense(1, kernel_initializer=\"normal\")`\n",
      "C:\\Users\\saiva\\Miniconda3\\lib\\site-packages\\sklearn\\metrics\\scorer.py:90: DeprecationWarning: Scoring method mean_absolute_error was renamed to neg_mean_absolute_error in version 0.18 and will be removed in 0.20.\n",
      "  sample_weight=sample_weight)\n",
      "C:\\Users\\saiva\\Miniconda3\\lib\\site-packages\\ipykernel\\__main__.py:5: UserWarning: Update your `Dense` call to the Keras 2 API: `Dense(26, activation=\"relu\", kernel_initializer=\"normal\")`\n",
      "C:\\Users\\saiva\\Miniconda3\\lib\\site-packages\\ipykernel\\__main__.py:7: UserWarning: Update your `Dense` call to the Keras 2 API: `Dense(17, activation=\"relu\", kernel_initializer=\"normal\")`\n",
      "C:\\Users\\saiva\\Miniconda3\\lib\\site-packages\\ipykernel\\__main__.py:9: UserWarning: Update your `Dense` call to the Keras 2 API: `Dense(1, kernel_initializer=\"normal\")`\n",
      "C:\\Users\\saiva\\Miniconda3\\lib\\site-packages\\sklearn\\metrics\\scorer.py:90: DeprecationWarning: Scoring method mean_absolute_error was renamed to neg_mean_absolute_error in version 0.18 and will be removed in 0.20.\n",
      "  sample_weight=sample_weight)\n",
      "C:\\Users\\saiva\\Miniconda3\\lib\\site-packages\\ipykernel\\__main__.py:5: UserWarning: Update your `Dense` call to the Keras 2 API: `Dense(26, activation=\"relu\", kernel_initializer=\"normal\")`\n",
      "C:\\Users\\saiva\\Miniconda3\\lib\\site-packages\\ipykernel\\__main__.py:7: UserWarning: Update your `Dense` call to the Keras 2 API: `Dense(17, activation=\"relu\", kernel_initializer=\"normal\")`\n",
      "C:\\Users\\saiva\\Miniconda3\\lib\\site-packages\\ipykernel\\__main__.py:9: UserWarning: Update your `Dense` call to the Keras 2 API: `Dense(1, kernel_initializer=\"normal\")`\n",
      "C:\\Users\\saiva\\Miniconda3\\lib\\site-packages\\sklearn\\metrics\\scorer.py:90: DeprecationWarning: Scoring method mean_absolute_error was renamed to neg_mean_absolute_error in version 0.18 and will be removed in 0.20.\n",
      "  sample_weight=sample_weight)\n",
      "C:\\Users\\saiva\\Miniconda3\\lib\\site-packages\\ipykernel\\__main__.py:5: UserWarning: Update your `Dense` call to the Keras 2 API: `Dense(26, activation=\"relu\", kernel_initializer=\"normal\")`\n",
      "C:\\Users\\saiva\\Miniconda3\\lib\\site-packages\\ipykernel\\__main__.py:7: UserWarning: Update your `Dense` call to the Keras 2 API: `Dense(17, activation=\"relu\", kernel_initializer=\"normal\")`\n",
      "C:\\Users\\saiva\\Miniconda3\\lib\\site-packages\\ipykernel\\__main__.py:9: UserWarning: Update your `Dense` call to the Keras 2 API: `Dense(1, kernel_initializer=\"normal\")`\n",
      "C:\\Users\\saiva\\Miniconda3\\lib\\site-packages\\sklearn\\metrics\\scorer.py:90: DeprecationWarning: Scoring method mean_absolute_error was renamed to neg_mean_absolute_error in version 0.18 and will be removed in 0.20.\n",
      "  sample_weight=sample_weight)\n",
      "C:\\Users\\saiva\\Miniconda3\\lib\\site-packages\\ipykernel\\__main__.py:5: UserWarning: Update your `Dense` call to the Keras 2 API: `Dense(26, activation=\"relu\", kernel_initializer=\"normal\")`\n",
      "C:\\Users\\saiva\\Miniconda3\\lib\\site-packages\\ipykernel\\__main__.py:7: UserWarning: Update your `Dense` call to the Keras 2 API: `Dense(17, activation=\"relu\", kernel_initializer=\"normal\")`\n",
      "C:\\Users\\saiva\\Miniconda3\\lib\\site-packages\\ipykernel\\__main__.py:9: UserWarning: Update your `Dense` call to the Keras 2 API: `Dense(1, kernel_initializer=\"normal\")`\n",
      "C:\\Users\\saiva\\Miniconda3\\lib\\site-packages\\sklearn\\metrics\\scorer.py:90: DeprecationWarning: Scoring method mean_absolute_error was renamed to neg_mean_absolute_error in version 0.18 and will be removed in 0.20.\n",
      "  sample_weight=sample_weight)\n",
      "C:\\Users\\saiva\\Miniconda3\\lib\\site-packages\\ipykernel\\__main__.py:5: UserWarning: Update your `Dense` call to the Keras 2 API: `Dense(26, activation=\"relu\", kernel_initializer=\"normal\")`\n",
      "C:\\Users\\saiva\\Miniconda3\\lib\\site-packages\\ipykernel\\__main__.py:7: UserWarning: Update your `Dense` call to the Keras 2 API: `Dense(17, activation=\"relu\", kernel_initializer=\"normal\")`\n",
      "C:\\Users\\saiva\\Miniconda3\\lib\\site-packages\\ipykernel\\__main__.py:9: UserWarning: Update your `Dense` call to the Keras 2 API: `Dense(1, kernel_initializer=\"normal\")`\n",
      "C:\\Users\\saiva\\Miniconda3\\lib\\site-packages\\sklearn\\metrics\\scorer.py:90: DeprecationWarning: Scoring method mean_absolute_error was renamed to neg_mean_absolute_error in version 0.18 and will be removed in 0.20.\n",
      "  sample_weight=sample_weight)\n",
      "C:\\Users\\saiva\\Miniconda3\\lib\\site-packages\\ipykernel\\__main__.py:5: UserWarning: Update your `Dense` call to the Keras 2 API: `Dense(26, activation=\"relu\", kernel_initializer=\"normal\")`\n",
      "C:\\Users\\saiva\\Miniconda3\\lib\\site-packages\\ipykernel\\__main__.py:7: UserWarning: Update your `Dense` call to the Keras 2 API: `Dense(17, activation=\"relu\", kernel_initializer=\"normal\")`\n",
      "C:\\Users\\saiva\\Miniconda3\\lib\\site-packages\\ipykernel\\__main__.py:9: UserWarning: Update your `Dense` call to the Keras 2 API: `Dense(1, kernel_initializer=\"normal\")`\n",
      "C:\\Users\\saiva\\Miniconda3\\lib\\site-packages\\sklearn\\metrics\\scorer.py:90: DeprecationWarning: Scoring method mean_absolute_error was renamed to neg_mean_absolute_error in version 0.18 and will be removed in 0.20.\n",
      "  sample_weight=sample_weight)\n",
      "C:\\Users\\saiva\\Miniconda3\\lib\\site-packages\\ipykernel\\__main__.py:5: UserWarning: Update your `Dense` call to the Keras 2 API: `Dense(26, activation=\"relu\", kernel_initializer=\"normal\")`\n",
      "C:\\Users\\saiva\\Miniconda3\\lib\\site-packages\\ipykernel\\__main__.py:7: UserWarning: Update your `Dense` call to the Keras 2 API: `Dense(17, activation=\"relu\", kernel_initializer=\"normal\")`\n",
      "C:\\Users\\saiva\\Miniconda3\\lib\\site-packages\\ipykernel\\__main__.py:9: UserWarning: Update your `Dense` call to the Keras 2 API: `Dense(1, kernel_initializer=\"normal\")`\n",
      "C:\\Users\\saiva\\Miniconda3\\lib\\site-packages\\sklearn\\metrics\\scorer.py:90: DeprecationWarning: Scoring method mean_absolute_error was renamed to neg_mean_absolute_error in version 0.18 and will be removed in 0.20.\n",
      "  sample_weight=sample_weight)\n"
     ]
    },
    {
     "data": {
      "text/plain": [
       "(59.500981850033106, 2.7486076492378766)"
      ]
     },
     "execution_count": 62,
     "metadata": {},
     "output_type": "execute_result"
    }
   ],
   "source": [
    "seed=7\n",
    "#fit and evaluate the NN#USE OF STRATIFIEDKFOLD ONLY FOR BINARY CLASSIFICATION\n",
    "estimators=[]\n",
    "#estimators.append(('standardize', StandardScaler()))\n",
    "estimators.append(('mlp', KerasRegressor(build_fn=baseline_model, nb_epoch=100, batch_size=5, verbose=0)))\n",
    "pipeline=Pipeline(estimators)\n",
    "kfold=KFold(n_splits=10, shuffle=True, random_state=seed)\n",
    "results=cross_val_score(pipeline, x_train_norm, y_train_norm, cv=kfold, scoring='mean_absolute_error')\n",
    "abs(results.mean()*100), results.std()*100"
   ]
  },
  {
   "cell_type": "code",
   "execution_count": 63,
   "metadata": {
    "collapsed": false
   },
   "outputs": [
    {
     "name": "stderr",
     "output_type": "stream",
     "text": [
      "C:\\Users\\saiva\\Miniconda3\\lib\\site-packages\\ipykernel\\__main__.py:5: UserWarning: Update your `Dense` call to the Keras 2 API: `Dense(26, activation=\"relu\", kernel_initializer=\"normal\")`\n",
      "C:\\Users\\saiva\\Miniconda3\\lib\\site-packages\\ipykernel\\__main__.py:7: UserWarning: Update your `Dense` call to the Keras 2 API: `Dense(17, activation=\"relu\", kernel_initializer=\"normal\")`\n",
      "C:\\Users\\saiva\\Miniconda3\\lib\\site-packages\\ipykernel\\__main__.py:9: UserWarning: Update your `Dense` call to the Keras 2 API: `Dense(1, kernel_initializer=\"normal\")`\n",
      "C:\\Users\\saiva\\Miniconda3\\lib\\site-packages\\sklearn\\metrics\\scorer.py:90: DeprecationWarning: Scoring method mean_absolute_error was renamed to neg_mean_absolute_error in version 0.18 and will be removed in 0.20.\n",
      "  sample_weight=sample_weight)\n",
      "C:\\Users\\saiva\\Miniconda3\\lib\\site-packages\\ipykernel\\__main__.py:5: UserWarning: Update your `Dense` call to the Keras 2 API: `Dense(26, activation=\"relu\", kernel_initializer=\"normal\")`\n",
      "C:\\Users\\saiva\\Miniconda3\\lib\\site-packages\\ipykernel\\__main__.py:7: UserWarning: Update your `Dense` call to the Keras 2 API: `Dense(17, activation=\"relu\", kernel_initializer=\"normal\")`\n",
      "C:\\Users\\saiva\\Miniconda3\\lib\\site-packages\\ipykernel\\__main__.py:9: UserWarning: Update your `Dense` call to the Keras 2 API: `Dense(1, kernel_initializer=\"normal\")`\n",
      "C:\\Users\\saiva\\Miniconda3\\lib\\site-packages\\sklearn\\metrics\\scorer.py:90: DeprecationWarning: Scoring method mean_absolute_error was renamed to neg_mean_absolute_error in version 0.18 and will be removed in 0.20.\n",
      "  sample_weight=sample_weight)\n",
      "C:\\Users\\saiva\\Miniconda3\\lib\\site-packages\\ipykernel\\__main__.py:5: UserWarning: Update your `Dense` call to the Keras 2 API: `Dense(26, activation=\"relu\", kernel_initializer=\"normal\")`\n",
      "C:\\Users\\saiva\\Miniconda3\\lib\\site-packages\\ipykernel\\__main__.py:7: UserWarning: Update your `Dense` call to the Keras 2 API: `Dense(17, activation=\"relu\", kernel_initializer=\"normal\")`\n",
      "C:\\Users\\saiva\\Miniconda3\\lib\\site-packages\\ipykernel\\__main__.py:9: UserWarning: Update your `Dense` call to the Keras 2 API: `Dense(1, kernel_initializer=\"normal\")`\n",
      "C:\\Users\\saiva\\Miniconda3\\lib\\site-packages\\sklearn\\metrics\\scorer.py:90: DeprecationWarning: Scoring method mean_absolute_error was renamed to neg_mean_absolute_error in version 0.18 and will be removed in 0.20.\n",
      "  sample_weight=sample_weight)\n",
      "C:\\Users\\saiva\\Miniconda3\\lib\\site-packages\\ipykernel\\__main__.py:5: UserWarning: Update your `Dense` call to the Keras 2 API: `Dense(26, activation=\"relu\", kernel_initializer=\"normal\")`\n",
      "C:\\Users\\saiva\\Miniconda3\\lib\\site-packages\\ipykernel\\__main__.py:7: UserWarning: Update your `Dense` call to the Keras 2 API: `Dense(17, activation=\"relu\", kernel_initializer=\"normal\")`\n",
      "C:\\Users\\saiva\\Miniconda3\\lib\\site-packages\\ipykernel\\__main__.py:9: UserWarning: Update your `Dense` call to the Keras 2 API: `Dense(1, kernel_initializer=\"normal\")`\n",
      "C:\\Users\\saiva\\Miniconda3\\lib\\site-packages\\sklearn\\metrics\\scorer.py:90: DeprecationWarning: Scoring method mean_absolute_error was renamed to neg_mean_absolute_error in version 0.18 and will be removed in 0.20.\n",
      "  sample_weight=sample_weight)\n",
      "C:\\Users\\saiva\\Miniconda3\\lib\\site-packages\\ipykernel\\__main__.py:5: UserWarning: Update your `Dense` call to the Keras 2 API: `Dense(26, activation=\"relu\", kernel_initializer=\"normal\")`\n",
      "C:\\Users\\saiva\\Miniconda3\\lib\\site-packages\\ipykernel\\__main__.py:7: UserWarning: Update your `Dense` call to the Keras 2 API: `Dense(17, activation=\"relu\", kernel_initializer=\"normal\")`\n",
      "C:\\Users\\saiva\\Miniconda3\\lib\\site-packages\\ipykernel\\__main__.py:9: UserWarning: Update your `Dense` call to the Keras 2 API: `Dense(1, kernel_initializer=\"normal\")`\n",
      "C:\\Users\\saiva\\Miniconda3\\lib\\site-packages\\sklearn\\metrics\\scorer.py:90: DeprecationWarning: Scoring method mean_absolute_error was renamed to neg_mean_absolute_error in version 0.18 and will be removed in 0.20.\n",
      "  sample_weight=sample_weight)\n",
      "C:\\Users\\saiva\\Miniconda3\\lib\\site-packages\\ipykernel\\__main__.py:5: UserWarning: Update your `Dense` call to the Keras 2 API: `Dense(26, activation=\"relu\", kernel_initializer=\"normal\")`\n",
      "C:\\Users\\saiva\\Miniconda3\\lib\\site-packages\\ipykernel\\__main__.py:7: UserWarning: Update your `Dense` call to the Keras 2 API: `Dense(17, activation=\"relu\", kernel_initializer=\"normal\")`\n",
      "C:\\Users\\saiva\\Miniconda3\\lib\\site-packages\\ipykernel\\__main__.py:9: UserWarning: Update your `Dense` call to the Keras 2 API: `Dense(1, kernel_initializer=\"normal\")`\n",
      "C:\\Users\\saiva\\Miniconda3\\lib\\site-packages\\sklearn\\metrics\\scorer.py:90: DeprecationWarning: Scoring method mean_absolute_error was renamed to neg_mean_absolute_error in version 0.18 and will be removed in 0.20.\n",
      "  sample_weight=sample_weight)\n",
      "C:\\Users\\saiva\\Miniconda3\\lib\\site-packages\\ipykernel\\__main__.py:5: UserWarning: Update your `Dense` call to the Keras 2 API: `Dense(26, activation=\"relu\", kernel_initializer=\"normal\")`\n",
      "C:\\Users\\saiva\\Miniconda3\\lib\\site-packages\\ipykernel\\__main__.py:7: UserWarning: Update your `Dense` call to the Keras 2 API: `Dense(17, activation=\"relu\", kernel_initializer=\"normal\")`\n",
      "C:\\Users\\saiva\\Miniconda3\\lib\\site-packages\\ipykernel\\__main__.py:9: UserWarning: Update your `Dense` call to the Keras 2 API: `Dense(1, kernel_initializer=\"normal\")`\n",
      "C:\\Users\\saiva\\Miniconda3\\lib\\site-packages\\sklearn\\metrics\\scorer.py:90: DeprecationWarning: Scoring method mean_absolute_error was renamed to neg_mean_absolute_error in version 0.18 and will be removed in 0.20.\n",
      "  sample_weight=sample_weight)\n",
      "C:\\Users\\saiva\\Miniconda3\\lib\\site-packages\\ipykernel\\__main__.py:5: UserWarning: Update your `Dense` call to the Keras 2 API: `Dense(26, activation=\"relu\", kernel_initializer=\"normal\")`\n",
      "C:\\Users\\saiva\\Miniconda3\\lib\\site-packages\\ipykernel\\__main__.py:7: UserWarning: Update your `Dense` call to the Keras 2 API: `Dense(17, activation=\"relu\", kernel_initializer=\"normal\")`\n",
      "C:\\Users\\saiva\\Miniconda3\\lib\\site-packages\\ipykernel\\__main__.py:9: UserWarning: Update your `Dense` call to the Keras 2 API: `Dense(1, kernel_initializer=\"normal\")`\n",
      "C:\\Users\\saiva\\Miniconda3\\lib\\site-packages\\sklearn\\metrics\\scorer.py:90: DeprecationWarning: Scoring method mean_absolute_error was renamed to neg_mean_absolute_error in version 0.18 and will be removed in 0.20.\n",
      "  sample_weight=sample_weight)\n",
      "C:\\Users\\saiva\\Miniconda3\\lib\\site-packages\\ipykernel\\__main__.py:5: UserWarning: Update your `Dense` call to the Keras 2 API: `Dense(26, activation=\"relu\", kernel_initializer=\"normal\")`\n",
      "C:\\Users\\saiva\\Miniconda3\\lib\\site-packages\\ipykernel\\__main__.py:7: UserWarning: Update your `Dense` call to the Keras 2 API: `Dense(17, activation=\"relu\", kernel_initializer=\"normal\")`\n",
      "C:\\Users\\saiva\\Miniconda3\\lib\\site-packages\\ipykernel\\__main__.py:9: UserWarning: Update your `Dense` call to the Keras 2 API: `Dense(1, kernel_initializer=\"normal\")`\n",
      "C:\\Users\\saiva\\Miniconda3\\lib\\site-packages\\sklearn\\metrics\\scorer.py:90: DeprecationWarning: Scoring method mean_absolute_error was renamed to neg_mean_absolute_error in version 0.18 and will be removed in 0.20.\n",
      "  sample_weight=sample_weight)\n",
      "C:\\Users\\saiva\\Miniconda3\\lib\\site-packages\\ipykernel\\__main__.py:5: UserWarning: Update your `Dense` call to the Keras 2 API: `Dense(26, activation=\"relu\", kernel_initializer=\"normal\")`\n",
      "C:\\Users\\saiva\\Miniconda3\\lib\\site-packages\\ipykernel\\__main__.py:7: UserWarning: Update your `Dense` call to the Keras 2 API: `Dense(17, activation=\"relu\", kernel_initializer=\"normal\")`\n",
      "C:\\Users\\saiva\\Miniconda3\\lib\\site-packages\\ipykernel\\__main__.py:9: UserWarning: Update your `Dense` call to the Keras 2 API: `Dense(1, kernel_initializer=\"normal\")`\n",
      "C:\\Users\\saiva\\Miniconda3\\lib\\site-packages\\sklearn\\metrics\\scorer.py:90: DeprecationWarning: Scoring method mean_absolute_error was renamed to neg_mean_absolute_error in version 0.18 and will be removed in 0.20.\n",
      "  sample_weight=sample_weight)\n"
     ]
    },
    {
     "data": {
      "text/plain": [
       "(52.767273074791788, 7.9344124564557585)"
      ]
     },
     "execution_count": 63,
     "metadata": {},
     "output_type": "execute_result"
    }
   ],
   "source": [
    "results_test=cross_val_score(pipeline, x_test_norm, y_test_norm, cv=kfold, scoring='mean_absolute_error')\n",
    "abs(results_test.mean()*100), results_test.std()*100"
   ]
  },
  {
   "cell_type": "code",
   "execution_count": null,
   "metadata": {
    "collapsed": true
   },
   "outputs": [],
   "source": []
  }
 ],
 "metadata": {
  "anaconda-cloud": {},
  "kernelspec": {
   "display_name": "Python [default]",
   "language": "python",
   "name": "python3"
  },
  "language_info": {
   "codemirror_mode": {
    "name": "ipython",
    "version": 3
   },
   "file_extension": ".py",
   "mimetype": "text/x-python",
   "name": "python",
   "nbconvert_exporter": "python",
   "pygments_lexer": "ipython3",
   "version": "3.5.2"
  }
 },
 "nbformat": 4,
 "nbformat_minor": 2
}
